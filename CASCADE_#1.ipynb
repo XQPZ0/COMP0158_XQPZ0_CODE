{
 "cells": [
  {
   "cell_type": "markdown",
   "metadata": {},
   "source": [
    "# **CASCADE #1**"
   ]
  },
  {
   "cell_type": "code",
   "execution_count": 2,
   "metadata": {},
   "outputs": [],
   "source": [
    "from collections import Counter\n",
    "from imblearn.over_sampling import SMOTE\n",
    "from imblearn.pipeline import Pipeline as ImbPipeline\n",
    "from itertools import combinations_with_replacement\n",
    "import matplotlib.pyplot as plt\n",
    "import numpy as np\n",
    "import pandas as pd\n",
    "import shap\n",
    "from sklearn.ensemble import RandomForestClassifier\n",
    "from sklearn.inspection import permutation_importance\n",
    "from sklearn.linear_model import LogisticRegression\n",
    "from sklearn.metrics import (balanced_accuracy_score, confusion_matrix, ConfusionMatrixDisplay, f1_score, \n",
    "make_scorer, precision_score, recall_score, roc_auc_score, roc_curve)\n",
    "from sklearn.model_selection import GridSearchCV, StratifiedKFold, KFold\n",
    "from sklearn.neural_network import MLPClassifier\n",
    "from sklearn.preprocessing import PolynomialFeatures\n",
    "import warnings\n",
    "from xgboost import XGBClassifier\n",
    "\n",
    "warnings.filterwarnings(\"ignore\", message=\".*The 'nopython' keyword.*\")\n"
   ]
  },
  {
   "cell_type": "code",
   "execution_count": 3,
   "metadata": {},
   "outputs": [],
   "source": [
    "def log_likelihood(y_true, y_pred):\n",
    "    \"\"\"Calculate the log-likelihood loss between true labels and predicted labels.\n",
    "    \n",
    "    Args:\n",
    "        y_true (numpy.ndarray): Array of true labels (0 or 1). Shape should be (n_samples,).\n",
    "        y_pred (numpy.ndarray): Array of predicted probabilities for being label 1. Shape should be (n_samples,).\n",
    "    \n",
    "    Returns:\n",
    "        float: Negative log-likelihood loss value.\n",
    "    \"\"\"\n",
    "\n",
    "    # To prevent log(0)\n",
    "    epsilon = 1e-7 \n",
    "    y_pred = np.clip(y_pred, epsilon, 1 - epsilon)\n",
    "\n",
    "    # Compute the log likelihood\n",
    "    log_likelihood = y_true * np.log(y_pred) + (1 - y_true) * np.log(1 - y_pred)\n",
    "    return -np.sum(log_likelihood)"
   ]
  },
  {
   "cell_type": "code",
   "execution_count": 4,
   "metadata": {},
   "outputs": [],
   "source": [
    "def find_optimal_threshold(y_true, y_proba):\n",
    "    \"\"\"Find the optimal threshold for binary classification based on ROC curve.\n",
    "\n",
    "    This function computes the Receiver Operating Characteristic (ROC) curve\n",
    "    and then finds the threshold where the difference between True Positive Rate (TPR)\n",
    "    and False Positive Rate (FPR) is maximized.\n",
    "\n",
    "    Args:\n",
    "        y_true (numpy.ndarray): Array of true labels (0 or 1). Shape should be (n_samples,).\n",
    "        y_proba (numpy.ndarray): Array of predicted probabilities for being label 1. Shape should be (n_samples,).\n",
    "\n",
    "    Returns:\n",
    "        float: The optimal threshold for binary classification.\n",
    "    \"\"\"\n",
    "    fpr, tpr, thresholds = roc_curve(y_true, y_proba)\n",
    "    optimal_idx = np.argmax(tpr - fpr)\n",
    "    optimal_threshold = thresholds[optimal_idx]\n",
    "    return optimal_threshold"
   ]
  },
  {
   "cell_type": "code",
   "execution_count": 5,
   "metadata": {},
   "outputs": [],
   "source": [
    "def apply_smote(X_train, y_train):\n",
    "    \"\"\"Apply Synthetic Minority Over-sampling Technique (SMOTE) to training data.\n",
    "    \n",
    "    This function balances the class distribution in the training set by generating\n",
    "    synthetic samples for the minority class using SMOTE.\n",
    "\n",
    "    Args:\n",
    "        X_train (numpy.ndarray or pandas.DataFrame): Training features. Shape should be (n_samples, n_features).\n",
    "        y_train (numpy.ndarray or pandas.Series): Training labels. Shape should be (n_samples,).\n",
    "\n",
    "    Returns:\n",
    "        Tuple[numpy.ndarray, numpy.ndarray]: Resampled training features and labels.\n",
    "        \n",
    "        - X_train_res (numpy.ndarray): Resampled training features. Shape will be (n_resampled_samples, n_features).\n",
    "        - y_train_res (numpy.ndarray): Resampled training labels. Shape will be (n_resampled_samples,).\n",
    "    \"\"\"\n",
    "    sm = SMOTE(random_state=42)\n",
    "    X_train_res, y_train_res = sm.fit_resample(X_train, y_train)\n",
    "    return X_train_res, y_train_res"
   ]
  },
  {
   "cell_type": "code",
   "execution_count": 6,
   "metadata": {},
   "outputs": [],
   "source": [
    "def create_poly_features(df, include_list=['PATIENT_AGE_AT_TREATMENT',\n",
    "       'TOTAL_NUMBER_OF_PREVIOUS_CYCLES_BOTH_IVF_AND_DI'], degree=2):\n",
    "    \"\"\"\n",
    "    Generates polynomial features with coherent names.\n",
    "\n",
    "    Args:\n",
    "        df (DataFrame): A pandas DataFrame containing the features.\n",
    "        include_list (list): List of original features for which squared terms should be included.\n",
    "        degree (int): The degree of the polynomial features. Default is 2.\n",
    "    \n",
    "    Returns:\n",
    "        DataFrame: A new DataFrame with the polynomial features.\n",
    "    \"\"\"\n",
    "    poly = PolynomialFeatures(degree=degree, include_bias=False)\n",
    "    poly_features = poly.fit_transform(df)\n",
    "\n",
    "    # Generate coherent names\n",
    "    poly_feature_names = []\n",
    "    \n",
    "    for d in range(1, degree+1):\n",
    "        comb = combinations_with_replacement(df.columns, d)\n",
    "        for i in list(comb):\n",
    "            if len(set(i)) == 1:  # all elements in the combination are the same\n",
    "                if d == 1: # no need to show power for d=1\n",
    "                    poly_feature_names.append(i[0])\n",
    "                else:\n",
    "                    poly_feature_names.append(i[0] + \"^\" + str(d))\n",
    "            else:\n",
    "                poly_feature_names.append(\" \".join(i))\n",
    "\n",
    "    # Create a new DataFrame\n",
    "    poly_df = pd.DataFrame(poly_features, columns=poly_feature_names, index=df.index)\n",
    "\n",
    "    if include_list is not None:\n",
    "        # List of columns to drop\n",
    "        drop_columns = [col for col in poly_df.columns if \"^\" in col and col.split(\"^\")[0] not in include_list]\n",
    "        poly_df.drop(columns=drop_columns, inplace=True)\n",
    "    \n",
    "    return poly_df"
   ]
  },
  {
   "cell_type": "code",
   "execution_count": 7,
   "metadata": {},
   "outputs": [],
   "source": [
    "def model_pipeline(X_train, y_train, X_test, y_test, model, metrics_list, params={},\n",
    "k=10, stratified=True, AIC=False, smote=False, SHAP=False,\n",
    "optimal_threshold=True, importances=False, Target=None):\n",
    "    \"\"\"Runs a machine learning model pipeline with various options.\n",
    "\n",
    "    This function constructs a machine learning pipeline with optional techniques such as SMOTE\n",
    "    and stratified k-fold cross-validation. It trains the model, evaluates it with specified metrics,\n",
    "    and can optionally calculate AIC/BIC - to be used when dealing with parametric models, feature \n",
    "    importances, SHAP values, and optimal thresholds.\n",
    "\n",
    "    Args:\n",
    "        X_train (pandas.DataFrame): Training data.\n",
    "        y_train (pandas.Series): Training labels.\n",
    "        X_test (pandas.DataFrame): Test data.\n",
    "        y_test (pandas.Series): Test labels.\n",
    "        model (object): Uninitialized machine learning model.\n",
    "        metrics_list (list of str): List of metrics to evaluate. Must be keys in the 'metrics' dictionary.\n",
    "        params (dict, optional): Parameters to pass to the model. Default is an empty dictionary.\n",
    "        k (int, optional): Number of folds in KFold cross-validation. Default is 10.\n",
    "        stratified (bool, optional): Whether to use StratifiedKFold. Default is True.\n",
    "        AIC (bool, optional): Whether to compute Akaike Information Criterion. Default is False.\n",
    "        smote (bool, optional): Whether to use SMOTE for oversampling. Default is False.\n",
    "        SHAP (bool, optional): Whether to compute SHAP values. Default is False.\n",
    "        optimal_threshold (bool, optional): Whether to find optimal threshold for classification. Default is True.\n",
    "        importances (bool, optional): Whether to compute feature importances. Default is False.\n",
    "        Target (string, optional): The name of the type of target being predicted. Default is None - will display conf. matrix for live birth.\n",
    "\n",
    "    Returns:\n",
    "        dict: Dictionary containing various evaluation results such as cross-validation scores,\n",
    "            test scores, feature importances, and more. The specific keys depend on the input arguments.\n",
    "    \"\"\"\n",
    "\n",
    "    # Map metric names to functions\n",
    "    metrics = {\n",
    "        'accuracy': balanced_accuracy_score,\n",
    "        'precision': precision_score,\n",
    "        'recall': recall_score,\n",
    "        'f1_score': f1_score,\n",
    "        'auc': roc_auc_score,\n",
    "        }\n",
    "\n",
    "    # Create a pipeline with the specified model and parameters\n",
    "    steps = []\n",
    "\n",
    "    # Check if SMOTE is requested and apply it within the pipeline to the training data\n",
    "    if smote:\n",
    "        steps.append(('smote', SMOTE()))\n",
    "        \n",
    "    steps.append(('model', model(**params)))\n",
    "    pipeline = ImbPipeline(steps)\n",
    "\n",
    "    # Initialize KFold cross-validation or Stratified KFold if stratified=True\n",
    "    if stratified:\n",
    "        cv = StratifiedKFold(n_splits=k, shuffle=True, random_state=1)\n",
    "    else:\n",
    "        cv = KFold(n_splits=k, shuffle=True, random_state=1)\n",
    "\n",
    "    # Compute the specified metrics using cross-validation\n",
    "    cv_results = {}\n",
    "    thresholds = []\n",
    "    for metric in metrics_list:\n",
    "        scorer = make_scorer(metrics[metric])\n",
    "        cv_scores = []\n",
    "        for train_index, test_index in cv.split(X_train, y_train):\n",
    "            X_train_fold, X_val_fold = X_train.iloc[train_index], X_train.iloc[test_index]\n",
    "            y_train_fold, y_val_fold = y_train.iloc[train_index], y_train.iloc[test_index]\n",
    "\n",
    "            pipeline.fit(X_train_fold, y_train_fold)\n",
    "            \n",
    "            # Compute the scores for metric which require a classification threshold\n",
    "            if optimal_threshold and metric != 'auc':\n",
    "                y_train_proba_fold = pipeline.predict_proba(X_train_fold)[:, 1]\n",
    "                threshold = find_optimal_threshold(y_train_fold, y_train_proba_fold)\n",
    "                thresholds.append(threshold)\n",
    "            else:\n",
    "                threshold = 0.5\n",
    "                \n",
    "            y_val_pred_proba = pipeline.predict_proba(X_val_fold)[:, 1]\n",
    "\n",
    "            if metric == 'auc':\n",
    "                cv_scores.append(scorer._score_func(y_val_fold, y_val_pred_proba))\n",
    "            else:\n",
    "                y_val_pred = (y_val_pred_proba >= threshold).astype(int)\n",
    "                cv_scores.append(scorer._score_func(y_val_fold, y_val_pred))\n",
    "\n",
    "        # Calculate confidence intervals\n",
    "        cv_results[metric] = (np.mean(cv_scores), np.std(cv_scores))\n",
    "\n",
    "    cv_results = pd.DataFrame(cv_results, columns=metrics_list).T\n",
    "    cv_results.columns = ['Mean', 'Standard Deviation',]\n",
    "    cv_results = cv_results.T\n",
    "\n",
    "    # Compute the average optimal threshold from cross-validation\n",
    "    avg_threshold = np.mean(thresholds) if thresholds else 0.5\n",
    "    print('Average optimal threshold = ' + str(round(avg_threshold, 3)))\n",
    "\n",
    "    # Fit the model on the full training set\n",
    "    pipeline.fit(X_train, y_train)\n",
    "\n",
    "    # Feature importances\n",
    "    if importances:\n",
    "        feature_importances = []\n",
    "        for train_index, test_index in cv.split(X_train, y_train):\n",
    "            X_train_fold, X_test_fold = X_train.iloc[train_index], X_train.iloc[test_index]\n",
    "            y_train_fold, y_test_fold = y_train.iloc[train_index], y_train.iloc[test_index]\n",
    "\n",
    "            pipeline.fit(X_train_fold, y_train_fold)\n",
    "            fitted_model = pipeline.named_steps['model']\n",
    "\n",
    "            if hasattr(fitted_model, 'feature_importances_'):\n",
    "                fold_importance = fitted_model.feature_importances_\n",
    "            elif hasattr(fitted_model, 'coef_'):\n",
    "                fold_importance = np.abs(fitted_model.coef_[0])\n",
    "            else:\n",
    "                perm_importance = permutation_importance(fitted_model, X_test_fold, y_test_fold)\n",
    "                fold_importance = perm_importance.importances_mean\n",
    "\n",
    "            feature_importances.append(fold_importance)\n",
    "\n",
    "        # Compute mean and standard deviation of feature importances\n",
    "        feature_importances_mean = np.mean(feature_importances, axis=0)\n",
    "        feature_importances_std = np.std(feature_importances, axis=0)\n",
    "        \n",
    "        importances_df = pd.DataFrame({\n",
    "            'feature': X_train.columns,\n",
    "            'importance_mean': feature_importances_mean,\n",
    "            'importance_std': feature_importances_std\n",
    "            })\n",
    "        \n",
    "        # Sort by importance_mean in descending order\n",
    "        importances_df = importances_df.sort_values(by='importance_mean', ascending=False)\n",
    "    \n",
    "    else:\n",
    "        importances_df = pd.DataFrame()\n",
    "\n",
    "    # Compute the specified metrics on the test set\n",
    "    test_results = {}\n",
    "    for metric in metrics_list:\n",
    "        scorer = metrics[metric]\n",
    "        y_test_proba = pipeline.predict_proba(X_test)[:, 1]\n",
    "        if metric == 'auc':\n",
    "            test_score = scorer(y_test, y_test_proba)\n",
    "        else:\n",
    "            y_test_pred = (y_test_proba >= avg_threshold).astype(int)\n",
    "            test_score = scorer(y_test, y_test_pred)\n",
    "        test_results[metric] = test_score\n",
    "\n",
    "    test_results = pd.DataFrame(test_results, index=['Value'], columns=metrics_list).T\n",
    "    test_results = test_results.T\n",
    "\n",
    "    # Compute the confusion matrix on the test set\n",
    "    conf_matrix = confusion_matrix(y_test, y_test_pred) \n",
    "\n",
    "    # Output mean and std of cross-validation scores and test set scores\n",
    "    output = {\n",
    "        'cv_results': cv_results,\n",
    "        'test_results': test_results,\n",
    "        'y_test_pred': y_test_pred,\n",
    "        'y_test_proba': y_test_proba, \n",
    "    }\n",
    "\n",
    "    if AIC:\n",
    "        # Copute Akaike Information Criterion (AIC) and Bayesian Information Criterion (BIC)\n",
    "        y_pred_train_prob = pipeline.predict_proba(X_train)[:, 1] # Get predicted probabilities for the positive class\n",
    "        n = X_train.shape[0] # Number of observations\n",
    "        k = len(pipeline.named_steps['model'].coef_[0]) + 1 # Number of parameters in the model, adding 1 for intercept\n",
    "        logL = log_likelihood(y_train, y_pred_train_prob)\n",
    "        aic = 2 * k - 2 * logL\n",
    "        bic = np.log(n) * k - 2 * logL\n",
    "        output['aic'] = aic\n",
    "        print('AIC: '+str(round(aic, 3)))\n",
    "        output['bic'] = bic\n",
    "        print('BIC: '+str(round(bic, 3)))\n",
    "\n",
    "    output['feature_importances'] = importances_df\n",
    "\n",
    "    # Print CV results\n",
    "    print('')\n",
    "    print('CV RESULTS')\n",
    "    display(cv_results)\n",
    "    print('')\n",
    "\n",
    "    #Print Test results\n",
    "    print('TEST RESULTS')\n",
    "    display(test_results)\n",
    "\n",
    "    if Target == 'oocytes':\n",
    "        Negative = 'No Oocytes Collected'\n",
    "        Positive = 'Oocytes Collected'\n",
    "    elif Target == 'embryos':\n",
    "        Negative = 'No Embryos Created'\n",
    "        Positive = 'Embryos Created'\n",
    "    else:\n",
    "        Negative = 'No Live Birth'\n",
    "        Positive = 'Live Birth'\n",
    "\n",
    "    disp = ConfusionMatrixDisplay(confusion_matrix=conf_matrix, display_labels=[Negative, Positive])\n",
    "    disp.plot(cmap=\"Oranges\",  colorbar=False)\n",
    "    plt.title('Test Set Confusion Matrix')\n",
    "    plt.grid(False)\n",
    "    plt.tight_layout()\n",
    "    plt.savefig('confusion_matrix_lb.png', bbox_inches='tight', dpi=600)\n",
    "    plt.show()\n",
    "    print('')\n",
    "\n",
    "    #Print Features analysis\n",
    "    if importances:\n",
    "        print('FEATURES ANALYSIS')\n",
    "        display(importances_df.head(20))\n",
    "\n",
    "    if SHAP:\n",
    "        # Compute SHAP values\n",
    "        if hasattr(pipeline.named_steps['model'], 'feature_importances_'):\n",
    "            explainer = shap.TreeExplainer(pipeline.named_steps['model'])\n",
    "            shap_values = explainer.shap_values(X_train)\n",
    "\n",
    "            # Create a SHAP summary plot\n",
    "            shap.summary_plot(shap_values, X_train, plot_size=[20,10], max_display=20)\n",
    "\n",
    "        elif hasattr(pipeline.named_steps['model'], 'coef_'):\n",
    "            explainer = shap.LinearExplainer(pipeline.named_steps['model'], X_train)\n",
    "            shap_values = explainer.shap_values(X_train)\n",
    "\n",
    "            # Create a SHAP summary plot\n",
    "            shap.summary_plot(shap_values, X_train, plot_size=[20,10], max_display=20)\n",
    "\n",
    "    return output"
   ]
  },
  {
   "cell_type": "code",
   "execution_count": 8,
   "metadata": {},
   "outputs": [],
   "source": [
    "def compute_grid_search(model, param_grid, X_train, y_train):\n",
    "    \"\"\"\n",
    "    Perform a grid search on a model using Stratified K-Fold cross-validation.\n",
    "    \n",
    "    Parameters:\n",
    "    - model: Estimator or model to be used.\n",
    "    - param_grid: Dictionary of parameters for grid search.\n",
    "    - X_train: Training data features.\n",
    "    - y_train: Training data labels.\n",
    "    \n",
    "    Returns:\n",
    "    - grid_search: Fitted GridSearchCV object.\n",
    "    \"\"\"\n",
    "\n",
    "    # Create StratifiedKFold instance\n",
    "    skf = StratifiedKFold(n_splits=10, shuffle=True, random_state=42)\n",
    "    \n",
    "    # Set up the grid search with 'balanced_accuracy' as the scoring metric\n",
    "    grid_search = GridSearchCV(\n",
    "        estimator=model, \n",
    "        param_grid=param_grid, \n",
    "        cv=skf, \n",
    "        scoring='balanced_accuracy',  # Using balanced accuracy directly as the scoring metric\n",
    "        verbose=1,  \n",
    "        n_jobs=-1   \n",
    "    )\n",
    "    \n",
    "    # Fit the grid search to the data\n",
    "    grid_search.fit(X_train, y_train)\n",
    "\n",
    "    print(grid_search.best_params_)\n",
    "    \n",
    "    return grid_search\n"
   ]
  },
  {
   "cell_type": "markdown",
   "metadata": {},
   "source": [
    "## **Target Creation and Train Data Filtering**"
   ]
  },
  {
   "cell_type": "code",
   "execution_count": 9,
   "metadata": {},
   "outputs": [],
   "source": [
    "TRAIN = pd.read_parquet('TRAIN_2016.parquet')\n",
    "TEST = pd.read_parquet('TEST_2016.parquet')"
   ]
  },
  {
   "cell_type": "code",
   "execution_count": 10,
   "metadata": {},
   "outputs": [
    {
     "name": "stdout",
     "output_type": "stream",
     "text": [
      "Stage 1 TRAIN set size: 33595\n"
     ]
    }
   ],
   "source": [
    "# Convert FRESH_EGGS_COLLECTED to binary\n",
    "TRAIN['FRESH_EGGS_COLLECTED'] = (TRAIN['FRESH_EGGS_COLLECTED'] > 0).astype(int)\n",
    "TRAIN.rename(columns={'FRESH_EGGS_COLLECTED': 'FRESH_EGGS_BINARY'}, inplace=True)\n",
    "\n",
    "TEST['FRESH_EGGS_COLLECTED'] = (TEST['FRESH_EGGS_COLLECTED'] > 0).astype(int)\n",
    "TEST.rename(columns={'FRESH_EGGS_COLLECTED': 'FRESH_EGGS_BINARY'}, inplace=True)\n",
    "\n",
    "print('Stage 1 TRAIN set size: '+str(TRAIN.shape[0]))"
   ]
  },
  {
   "cell_type": "code",
   "execution_count": 11,
   "metadata": {},
   "outputs": [
    {
     "name": "stdout",
     "output_type": "stream",
     "text": [
      "Stage 2 TRAIN set size: 31405\n"
     ]
    },
    {
     "name": "stderr",
     "output_type": "stream",
     "text": [
      "\n",
      "A value is trying to be set on a copy of a slice from a DataFrame.\n",
      "Try using .loc[row_indexer,col_indexer] = value instead\n",
      "\n",
      "See the caveats in the documentation: https://pandas.pydata.org/pandas-docs/stable/user_guide/indexing.html#returning-a-view-versus-a-copy\n",
      "\n",
      "A value is trying to be set on a copy of a slice from a DataFrame\n",
      "\n",
      "See the caveats in the documentation: https://pandas.pydata.org/pandas-docs/stable/user_guide/indexing.html#returning-a-view-versus-a-copy\n"
     ]
    }
   ],
   "source": [
    "# Filter training set for stage 2\n",
    "TRAIN_STAGE2 = TRAIN[TRAIN['FRESH_EGGS_BINARY'] == 1]\n",
    "print('Stage 2 TRAIN set size: '+str(TRAIN_STAGE2.shape[0]))\n",
    "\n",
    "# Convert TOTAL_EMBRYOS_CREATED to binary\n",
    "TRAIN_STAGE2['TOTAL_EMBRYOS_CREATED'] = (TRAIN_STAGE2['TOTAL_EMBRYOS_CREATED'] > 0).astype(int)\n",
    "TRAIN_STAGE2.rename(columns={'TOTAL_EMBRYOS_CREATED': 'EMBRYOS_CREATED_BINARY'}, inplace=True)\n",
    "\n",
    "TEST['TOTAL_EMBRYOS_CREATED'] = (TEST['TOTAL_EMBRYOS_CREATED'] > 0).astype(int)\n",
    "TEST.rename(columns={'TOTAL_EMBRYOS_CREATED': 'EMBRYOS_CREATED_BINARY'}, inplace=True)"
   ]
  },
  {
   "cell_type": "code",
   "execution_count": 12,
   "metadata": {},
   "outputs": [
    {
     "name": "stdout",
     "output_type": "stream",
     "text": [
      "Stage 3 TRAIN set size: 29856\n"
     ]
    }
   ],
   "source": [
    "# Filter training set for stage 3\n",
    "TRAIN_STAGE3 = TRAIN[TRAIN['TOTAL_EMBRYOS_CREATED']  > 0]\n",
    "print('Stage 3 TRAIN set size: '+str(TRAIN_STAGE3.shape[0]))"
   ]
  },
  {
   "cell_type": "code",
   "execution_count": 13,
   "metadata": {},
   "outputs": [],
   "source": [
    "# Separate the targets from the data\n",
    "\n",
    "# Stage 1\n",
    "y_train_eggs = TRAIN['FRESH_EGGS_BINARY']\n",
    "y_test_eggs = TEST['FRESH_EGGS_BINARY']\n",
    "X_train_eggs = TRAIN.drop(['FRESH_EGGS_BINARY', 'TOTAL_EMBRYOS_CREATED', 'LIVE_BIRTH_OCCURRENCE', 'SPECIFIC_TREATMENT_TYPE_IVF'], axis=1)\n",
    "X_test_eggs = TEST.drop(['FRESH_EGGS_BINARY', 'EMBRYOS_CREATED_BINARY', 'LIVE_BIRTH_OCCURRENCE', 'SPECIFIC_TREATMENT_TYPE_IVF'], axis=1)\n",
    "\n",
    "# Stage 2\n",
    "y_train_embryos = TRAIN_STAGE2['EMBRYOS_CREATED_BINARY']\n",
    "X_train_embryos = TRAIN_STAGE2.drop(['FRESH_EGGS_BINARY', 'EMBRYOS_CREATED_BINARY', 'LIVE_BIRTH_OCCURRENCE'], axis=1)\n",
    "X_test_embryos = TEST.drop(['FRESH_EGGS_BINARY', 'LIVE_BIRTH_OCCURRENCE'], axis=1)\n",
    "\n",
    "# Stage 3 \n",
    "y_train_live_birth = TRAIN_STAGE3['LIVE_BIRTH_OCCURRENCE']\n",
    "#y_test_live_birth = TEST['LIVE_BIRTH_OCCURRENCE']\n",
    "\n",
    "X_train_live_birth = TRAIN_STAGE3.drop(['FRESH_EGGS_BINARY', 'TOTAL_EMBRYOS_CREATED', 'LIVE_BIRTH_OCCURRENCE'], axis=1)\n",
    "X_test_live_birth = TEST.drop(['FRESH_EGGS_BINARY', 'EMBRYOS_CREATED_BINARY'], axis=1)"
   ]
  },
  {
   "cell_type": "code",
   "execution_count": 14,
   "metadata": {},
   "outputs": [
    {
     "data": {
      "text/plain": [
       "1    31405\n",
       "0     2190\n",
       "Name: FRESH_EGGS_BINARY, dtype: int64"
      ]
     },
     "execution_count": 14,
     "metadata": {},
     "output_type": "execute_result"
    }
   ],
   "source": [
    "y_train_eggs.value_counts()"
   ]
  },
  {
   "cell_type": "code",
   "execution_count": 15,
   "metadata": {},
   "outputs": [
    {
     "data": {
      "text/plain": [
       "1    29758\n",
       "0     1647\n",
       "Name: EMBRYOS_CREATED_BINARY, dtype: int64"
      ]
     },
     "execution_count": 15,
     "metadata": {},
     "output_type": "execute_result"
    }
   ],
   "source": [
    "y_train_embryos.value_counts()"
   ]
  },
  {
   "cell_type": "code",
   "execution_count": 16,
   "metadata": {},
   "outputs": [
    {
     "data": {
      "text/plain": [
       "0    20800\n",
       "1     9056\n",
       "Name: LIVE_BIRTH_OCCURRENCE, dtype: int64"
      ]
     },
     "execution_count": 16,
     "metadata": {},
     "output_type": "execute_result"
    }
   ],
   "source": [
    "y_train_live_birth.value_counts()"
   ]
  },
  {
   "cell_type": "markdown",
   "metadata": {},
   "source": [
    "## **STAGE 1 MODELS**"
   ]
  },
  {
   "cell_type": "markdown",
   "metadata": {},
   "source": [
    "### Logistic Regression (LR)"
   ]
  },
  {
   "cell_type": "code",
   "execution_count": 17,
   "metadata": {},
   "outputs": [
    {
     "name": "stdout",
     "output_type": "stream",
     "text": [
      "Average optimal threshold = 0.503\n",
      "AIC: -43375.16\n",
      "BIC: -43274.095\n",
      "\n",
      "CV RESULTS\n"
     ]
    },
    {
     "data": {
      "text/html": [
       "<div>\n",
       "<style scoped>\n",
       "    .dataframe tbody tr th:only-of-type {\n",
       "        vertical-align: middle;\n",
       "    }\n",
       "\n",
       "    .dataframe tbody tr th {\n",
       "        vertical-align: top;\n",
       "    }\n",
       "\n",
       "    .dataframe thead th {\n",
       "        text-align: right;\n",
       "    }\n",
       "</style>\n",
       "<table border=\"1\" class=\"dataframe\">\n",
       "  <thead>\n",
       "    <tr style=\"text-align: right;\">\n",
       "      <th></th>\n",
       "      <th>accuracy</th>\n",
       "      <th>precision</th>\n",
       "      <th>recall</th>\n",
       "      <th>f1_score</th>\n",
       "      <th>auc</th>\n",
       "    </tr>\n",
       "  </thead>\n",
       "  <tbody>\n",
       "    <tr>\n",
       "      <th>Mean</th>\n",
       "      <td>0.612711</td>\n",
       "      <td>0.956105</td>\n",
       "      <td>0.662408</td>\n",
       "      <td>0.782077</td>\n",
       "      <td>0.658581</td>\n",
       "    </tr>\n",
       "    <tr>\n",
       "      <th>Standard Deviation</th>\n",
       "      <td>0.017565</td>\n",
       "      <td>0.003489</td>\n",
       "      <td>0.034179</td>\n",
       "      <td>0.023321</td>\n",
       "      <td>0.022816</td>\n",
       "    </tr>\n",
       "  </tbody>\n",
       "</table>\n",
       "</div>"
      ],
      "text/plain": [
       "                    accuracy  precision    recall  f1_score       auc\n",
       "Mean                0.612711   0.956105  0.662408  0.782077  0.658581\n",
       "Standard Deviation  0.017565   0.003489  0.034179  0.023321  0.022816"
      ]
     },
     "metadata": {},
     "output_type": "display_data"
    },
    {
     "name": "stdout",
     "output_type": "stream",
     "text": [
      "\n",
      "TEST RESULTS\n"
     ]
    },
    {
     "data": {
      "text/html": [
       "<div>\n",
       "<style scoped>\n",
       "    .dataframe tbody tr th:only-of-type {\n",
       "        vertical-align: middle;\n",
       "    }\n",
       "\n",
       "    .dataframe tbody tr th {\n",
       "        vertical-align: top;\n",
       "    }\n",
       "\n",
       "    .dataframe thead th {\n",
       "        text-align: right;\n",
       "    }\n",
       "</style>\n",
       "<table border=\"1\" class=\"dataframe\">\n",
       "  <thead>\n",
       "    <tr style=\"text-align: right;\">\n",
       "      <th></th>\n",
       "      <th>accuracy</th>\n",
       "      <th>precision</th>\n",
       "      <th>recall</th>\n",
       "      <th>f1_score</th>\n",
       "      <th>auc</th>\n",
       "    </tr>\n",
       "  </thead>\n",
       "  <tbody>\n",
       "    <tr>\n",
       "      <th>Value</th>\n",
       "      <td>0.623652</td>\n",
       "      <td>0.959409</td>\n",
       "      <td>0.620492</td>\n",
       "      <td>0.753599</td>\n",
       "      <td>0.66688</td>\n",
       "    </tr>\n",
       "  </tbody>\n",
       "</table>\n",
       "</div>"
      ],
      "text/plain": [
       "       accuracy  precision    recall  f1_score      auc\n",
       "Value  0.623652   0.959409  0.620492  0.753599  0.66688"
      ]
     },
     "metadata": {},
     "output_type": "display_data"
    },
    {
     "data": {
      "image/png": "[encoded data removed]",
      "text/plain": [
       "<Figure size 640x480 with 1 Axes>"
      ]
     },
     "metadata": {},
     "output_type": "display_data"
    },
    {
     "name": "stdout",
     "output_type": "stream",
     "text": [
      "\n"
     ]
    }
   ],
   "source": [
    "# Simple Logistic Regression with OPTIMAL THRESHOLD\n",
    "model = LogisticRegression\n",
    "metrics_list = ['accuracy', 'precision', 'recall', 'f1_score', 'auc']\n",
    "params = {'max_iter':1000, 'random_state': 42, 'class_weight': 'balanced'}\n",
    "results_LR = model_pipeline(X_train_eggs, y_train_eggs, X_test_eggs, y_test_eggs, model, metrics_list, params, \n",
    "k=10, stratified=True, AIC=True, smote=False, SHAP=False, optimal_threshold=True, Target='oocytes')"
   ]
  },
  {
   "cell_type": "markdown",
   "metadata": {},
   "source": [
    "### Squared Logistic Regression (SLR)"
   ]
  },
  {
   "cell_type": "code",
   "execution_count": 18,
   "metadata": {},
   "outputs": [
    {
     "name": "stdout",
     "output_type": "stream",
     "text": [
      "Average optimal threshold = 0.938\n",
      "AIC: -14994.419\n",
      "BIC: -14413.292\n",
      "\n",
      "CV RESULTS\n"
     ]
    },
    {
     "data": {
      "text/html": [
       "<div>\n",
       "<style scoped>\n",
       "    .dataframe tbody tr th:only-of-type {\n",
       "        vertical-align: middle;\n",
       "    }\n",
       "\n",
       "    .dataframe tbody tr th {\n",
       "        vertical-align: top;\n",
       "    }\n",
       "\n",
       "    .dataframe thead th {\n",
       "        text-align: right;\n",
       "    }\n",
       "</style>\n",
       "<table border=\"1\" class=\"dataframe\">\n",
       "  <thead>\n",
       "    <tr style=\"text-align: right;\">\n",
       "      <th></th>\n",
       "      <th>accuracy</th>\n",
       "      <th>precision</th>\n",
       "      <th>recall</th>\n",
       "      <th>f1_score</th>\n",
       "      <th>auc</th>\n",
       "    </tr>\n",
       "  </thead>\n",
       "  <tbody>\n",
       "    <tr>\n",
       "      <th>Mean</th>\n",
       "      <td>0.623396</td>\n",
       "      <td>0.957502</td>\n",
       "      <td>0.679669</td>\n",
       "      <td>0.794953</td>\n",
       "      <td>0.667934</td>\n",
       "    </tr>\n",
       "    <tr>\n",
       "      <th>Standard Deviation</th>\n",
       "      <td>0.017974</td>\n",
       "      <td>0.003500</td>\n",
       "      <td>0.010940</td>\n",
       "      <td>0.007277</td>\n",
       "      <td>0.022812</td>\n",
       "    </tr>\n",
       "  </tbody>\n",
       "</table>\n",
       "</div>"
      ],
      "text/plain": [
       "                    accuracy  precision    recall  f1_score       auc\n",
       "Mean                0.623396   0.957502  0.679669  0.794953  0.667934\n",
       "Standard Deviation  0.017974   0.003500  0.010940  0.007277  0.022812"
      ]
     },
     "metadata": {},
     "output_type": "display_data"
    },
    {
     "name": "stdout",
     "output_type": "stream",
     "text": [
      "\n",
      "TEST RESULTS\n"
     ]
    },
    {
     "data": {
      "text/html": [
       "<div>\n",
       "<style scoped>\n",
       "    .dataframe tbody tr th:only-of-type {\n",
       "        vertical-align: middle;\n",
       "    }\n",
       "\n",
       "    .dataframe tbody tr th {\n",
       "        vertical-align: top;\n",
       "    }\n",
       "\n",
       "    .dataframe thead th {\n",
       "        text-align: right;\n",
       "    }\n",
       "</style>\n",
       "<table border=\"1\" class=\"dataframe\">\n",
       "  <thead>\n",
       "    <tr style=\"text-align: right;\">\n",
       "      <th></th>\n",
       "      <th>accuracy</th>\n",
       "      <th>precision</th>\n",
       "      <th>recall</th>\n",
       "      <th>f1_score</th>\n",
       "      <th>auc</th>\n",
       "    </tr>\n",
       "  </thead>\n",
       "  <tbody>\n",
       "    <tr>\n",
       "      <th>Value</th>\n",
       "      <td>0.628766</td>\n",
       "      <td>0.95847</td>\n",
       "      <td>0.670575</td>\n",
       "      <td>0.789083</td>\n",
       "      <td>0.676691</td>\n",
       "    </tr>\n",
       "  </tbody>\n",
       "</table>\n",
       "</div>"
      ],
      "text/plain": [
       "       accuracy  precision    recall  f1_score       auc\n",
       "Value  0.628766    0.95847  0.670575  0.789083  0.676691"
      ]
     },
     "metadata": {},
     "output_type": "display_data"
    },
    {
     "data": {
      "image/png": "[encoded data removed]",
      "text/plain": [
       "<Figure size 640x480 with 1 Axes>"
      ]
     },
     "metadata": {},
     "output_type": "display_data"
    },
    {
     "name": "stdout",
     "output_type": "stream",
     "text": [
      "\n"
     ]
    }
   ],
   "source": [
    "# Squared Logistic Regression with OPTIMAL THRESHOLD\n",
    "X_train_eggs_poly = create_poly_features(X_train_eggs)\n",
    "X_test_eggs_poly = create_poly_features(X_test_eggs)\n",
    "model = LogisticRegression\n",
    "metrics_list = ['accuracy', 'precision', 'recall', 'f1_score', 'auc']\n",
    "params = {'max_iter':2000, 'random_state': 42}\n",
    "results_LR2 = model_pipeline(X_train_eggs_poly, y_train_eggs, X_test_eggs_poly, y_test_eggs, model, metrics_list, params,\n",
    "k=10, stratified=True, AIC=True, smote=False, SHAP=False, optimal_threshold=True, Target='oocytes')"
   ]
  },
  {
   "cell_type": "markdown",
   "metadata": {},
   "source": [
    "### Random Forest (RF)"
   ]
  },
  {
   "cell_type": "code",
   "execution_count": 63,
   "metadata": {},
   "outputs": [
    {
     "name": "stdout",
     "output_type": "stream",
     "text": [
      "Average optimal threshold = 0.932\n",
      "\n",
      "CV RESULTS\n"
     ]
    },
    {
     "data": {
      "text/html": [
       "<div>\n",
       "<style scoped>\n",
       "    .dataframe tbody tr th:only-of-type {\n",
       "        vertical-align: middle;\n",
       "    }\n",
       "\n",
       "    .dataframe tbody tr th {\n",
       "        vertical-align: top;\n",
       "    }\n",
       "\n",
       "    .dataframe thead th {\n",
       "        text-align: right;\n",
       "    }\n",
       "</style>\n",
       "<table border=\"1\" class=\"dataframe\">\n",
       "  <thead>\n",
       "    <tr style=\"text-align: right;\">\n",
       "      <th></th>\n",
       "      <th>accuracy</th>\n",
       "      <th>precision</th>\n",
       "      <th>recall</th>\n",
       "      <th>f1_score</th>\n",
       "      <th>auc</th>\n",
       "    </tr>\n",
       "  </thead>\n",
       "  <tbody>\n",
       "    <tr>\n",
       "      <th>Mean</th>\n",
       "      <td>0.597325</td>\n",
       "      <td>0.951914</td>\n",
       "      <td>0.706066</td>\n",
       "      <td>0.810681</td>\n",
       "      <td>0.622687</td>\n",
       "    </tr>\n",
       "    <tr>\n",
       "      <th>Standard Deviation</th>\n",
       "      <td>0.015622</td>\n",
       "      <td>0.002701</td>\n",
       "      <td>0.014670</td>\n",
       "      <td>0.009946</td>\n",
       "      <td>0.017007</td>\n",
       "    </tr>\n",
       "  </tbody>\n",
       "</table>\n",
       "</div>"
      ],
      "text/plain": [
       "                    accuracy  precision    recall  f1_score       auc\n",
       "Mean                0.597325   0.951914  0.706066  0.810681  0.622687\n",
       "Standard Deviation  0.015622   0.002701  0.014670  0.009946  0.017007"
      ]
     },
     "metadata": {},
     "output_type": "display_data"
    },
    {
     "name": "stdout",
     "output_type": "stream",
     "text": [
      "\n",
      "TEST RESULTS\n"
     ]
    },
    {
     "data": {
      "text/html": [
       "<div>\n",
       "<style scoped>\n",
       "    .dataframe tbody tr th:only-of-type {\n",
       "        vertical-align: middle;\n",
       "    }\n",
       "\n",
       "    .dataframe tbody tr th {\n",
       "        vertical-align: top;\n",
       "    }\n",
       "\n",
       "    .dataframe thead th {\n",
       "        text-align: right;\n",
       "    }\n",
       "</style>\n",
       "<table border=\"1\" class=\"dataframe\">\n",
       "  <thead>\n",
       "    <tr style=\"text-align: right;\">\n",
       "      <th></th>\n",
       "      <th>accuracy</th>\n",
       "      <th>precision</th>\n",
       "      <th>recall</th>\n",
       "      <th>f1_score</th>\n",
       "      <th>auc</th>\n",
       "    </tr>\n",
       "  </thead>\n",
       "  <tbody>\n",
       "    <tr>\n",
       "      <th>Value</th>\n",
       "      <td>0.61013</td>\n",
       "      <td>0.954369</td>\n",
       "      <td>0.687651</td>\n",
       "      <td>0.799348</td>\n",
       "      <td>0.640713</td>\n",
       "    </tr>\n",
       "  </tbody>\n",
       "</table>\n",
       "</div>"
      ],
      "text/plain": [
       "       accuracy  precision    recall  f1_score       auc\n",
       "Value   0.61013   0.954369  0.687651  0.799348  0.640713"
      ]
     },
     "metadata": {},
     "output_type": "display_data"
    },
    {
     "data": {
      "image/png": "[encoded data removed]",
      "text/plain": [
       "<Figure size 640x480 with 1 Axes>"
      ]
     },
     "metadata": {},
     "output_type": "display_data"
    },
    {
     "name": "stdout",
     "output_type": "stream",
     "text": [
      "\n"
     ]
    }
   ],
   "source": [
    "# Random Forest\n",
    "model = RandomForestClassifier\n",
    "metrics_list = ['accuracy', 'precision', 'recall', 'f1_score', 'auc']\n",
    "params = {'random_state': 42, 'n_estimators': 100}\n",
    "results_RF = model_pipeline(X_train_eggs, y_train_eggs, X_test_eggs, y_test_eggs, model, metrics_list, params, \n",
    "k=10, stratified=True, AIC=False, smote=False, SHAP=False, optimal_threshold=True, Target='oocytes')"
   ]
  },
  {
   "cell_type": "markdown",
   "metadata": {},
   "source": [
    "### XGBoost (XGB)"
   ]
  },
  {
   "cell_type": "code",
   "execution_count": 39,
   "metadata": {},
   "outputs": [
    {
     "name": "stdout",
     "output_type": "stream",
     "text": [
      "Average optimal threshold = 0.933\n",
      "\n",
      "CV RESULTS\n"
     ]
    },
    {
     "data": {
      "text/html": [
       "<div>\n",
       "<style scoped>\n",
       "    .dataframe tbody tr th:only-of-type {\n",
       "        vertical-align: middle;\n",
       "    }\n",
       "\n",
       "    .dataframe tbody tr th {\n",
       "        vertical-align: top;\n",
       "    }\n",
       "\n",
       "    .dataframe thead th {\n",
       "        text-align: right;\n",
       "    }\n",
       "</style>\n",
       "<table border=\"1\" class=\"dataframe\">\n",
       "  <thead>\n",
       "    <tr style=\"text-align: right;\">\n",
       "      <th></th>\n",
       "      <th>accuracy</th>\n",
       "      <th>precision</th>\n",
       "      <th>recall</th>\n",
       "      <th>f1_score</th>\n",
       "      <th>auc</th>\n",
       "    </tr>\n",
       "  </thead>\n",
       "  <tbody>\n",
       "    <tr>\n",
       "      <th>Mean</th>\n",
       "      <td>0.603831</td>\n",
       "      <td>0.953221</td>\n",
       "      <td>0.700812</td>\n",
       "      <td>0.807684</td>\n",
       "      <td>0.644642</td>\n",
       "    </tr>\n",
       "    <tr>\n",
       "      <th>Standard Deviation</th>\n",
       "      <td>0.015966</td>\n",
       "      <td>0.002805</td>\n",
       "      <td>0.013928</td>\n",
       "      <td>0.009373</td>\n",
       "      <td>0.019735</td>\n",
       "    </tr>\n",
       "  </tbody>\n",
       "</table>\n",
       "</div>"
      ],
      "text/plain": [
       "                    accuracy  precision    recall  f1_score       auc\n",
       "Mean                0.603831   0.953221  0.700812  0.807684  0.644642\n",
       "Standard Deviation  0.015966   0.002805  0.013928  0.009373  0.019735"
      ]
     },
     "metadata": {},
     "output_type": "display_data"
    },
    {
     "name": "stdout",
     "output_type": "stream",
     "text": [
      "\n",
      "TEST RESULTS\n"
     ]
    },
    {
     "data": {
      "text/html": [
       "<div>\n",
       "<style scoped>\n",
       "    .dataframe tbody tr th:only-of-type {\n",
       "        vertical-align: middle;\n",
       "    }\n",
       "\n",
       "    .dataframe tbody tr th {\n",
       "        vertical-align: top;\n",
       "    }\n",
       "\n",
       "    .dataframe thead th {\n",
       "        text-align: right;\n",
       "    }\n",
       "</style>\n",
       "<table border=\"1\" class=\"dataframe\">\n",
       "  <thead>\n",
       "    <tr style=\"text-align: right;\">\n",
       "      <th></th>\n",
       "      <th>accuracy</th>\n",
       "      <th>precision</th>\n",
       "      <th>recall</th>\n",
       "      <th>f1_score</th>\n",
       "      <th>auc</th>\n",
       "    </tr>\n",
       "  </thead>\n",
       "  <tbody>\n",
       "    <tr>\n",
       "      <th>Value</th>\n",
       "      <td>0.630249</td>\n",
       "      <td>0.958119</td>\n",
       "      <td>0.688034</td>\n",
       "      <td>0.80092</td>\n",
       "      <td>0.672093</td>\n",
       "    </tr>\n",
       "  </tbody>\n",
       "</table>\n",
       "</div>"
      ],
      "text/plain": [
       "       accuracy  precision    recall  f1_score       auc\n",
       "Value  0.630249   0.958119  0.688034   0.80092  0.672093"
      ]
     },
     "metadata": {},
     "output_type": "display_data"
    },
    {
     "data": {
      "image/png": "[encoded data removed]",
      "text/plain": [
       "<Figure size 640x480 with 1 Axes>"
      ]
     },
     "metadata": {},
     "output_type": "display_data"
    },
    {
     "name": "stdout",
     "output_type": "stream",
     "text": [
      "\n"
     ]
    }
   ],
   "source": [
    "# XGBoost\n",
    "model = XGBClassifier\n",
    "metrics_list = ['accuracy', 'precision', 'recall', 'f1_score', 'auc']\n",
    "params = {'random_state': 42}\n",
    "results_XGB = model_pipeline(X_train_eggs, y_train_eggs, X_test_eggs, y_test_eggs, model, metrics_list, params, \n",
    "k=10, stratified=True, AIC=False, smote=False, SHAP=False, optimal_threshold=True, Target='oocytes')"
   ]
  },
  {
   "cell_type": "markdown",
   "metadata": {},
   "source": [
    "### Multilayer Perceptron (MLP)"
   ]
  },
  {
   "cell_type": "code",
   "execution_count": 40,
   "metadata": {},
   "outputs": [
    {
     "name": "stdout",
     "output_type": "stream",
     "text": [
      "Average optimal threshold = 0.937\n",
      "\n",
      "CV RESULTS\n"
     ]
    },
    {
     "data": {
      "text/html": [
       "<div>\n",
       "<style scoped>\n",
       "    .dataframe tbody tr th:only-of-type {\n",
       "        vertical-align: middle;\n",
       "    }\n",
       "\n",
       "    .dataframe tbody tr th {\n",
       "        vertical-align: top;\n",
       "    }\n",
       "\n",
       "    .dataframe thead th {\n",
       "        text-align: right;\n",
       "    }\n",
       "</style>\n",
       "<table border=\"1\" class=\"dataframe\">\n",
       "  <thead>\n",
       "    <tr style=\"text-align: right;\">\n",
       "      <th></th>\n",
       "      <th>accuracy</th>\n",
       "      <th>precision</th>\n",
       "      <th>recall</th>\n",
       "      <th>f1_score</th>\n",
       "      <th>auc</th>\n",
       "    </tr>\n",
       "  </thead>\n",
       "  <tbody>\n",
       "    <tr>\n",
       "      <th>Mean</th>\n",
       "      <td>0.619816</td>\n",
       "      <td>0.956622</td>\n",
       "      <td>0.687120</td>\n",
       "      <td>0.799655</td>\n",
       "      <td>0.667657</td>\n",
       "    </tr>\n",
       "    <tr>\n",
       "      <th>Standard Deviation</th>\n",
       "      <td>0.020184</td>\n",
       "      <td>0.003973</td>\n",
       "      <td>0.015647</td>\n",
       "      <td>0.009880</td>\n",
       "      <td>0.022823</td>\n",
       "    </tr>\n",
       "  </tbody>\n",
       "</table>\n",
       "</div>"
      ],
      "text/plain": [
       "                    accuracy  precision    recall  f1_score       auc\n",
       "Mean                0.619816   0.956622  0.687120  0.799655  0.667657\n",
       "Standard Deviation  0.020184   0.003973  0.015647  0.009880  0.022823"
      ]
     },
     "metadata": {},
     "output_type": "display_data"
    },
    {
     "name": "stdout",
     "output_type": "stream",
     "text": [
      "\n",
      "TEST RESULTS\n"
     ]
    },
    {
     "data": {
      "text/html": [
       "<div>\n",
       "<style scoped>\n",
       "    .dataframe tbody tr th:only-of-type {\n",
       "        vertical-align: middle;\n",
       "    }\n",
       "\n",
       "    .dataframe tbody tr th {\n",
       "        vertical-align: top;\n",
       "    }\n",
       "\n",
       "    .dataframe thead th {\n",
       "        text-align: right;\n",
       "    }\n",
       "</style>\n",
       "<table border=\"1\" class=\"dataframe\">\n",
       "  <thead>\n",
       "    <tr style=\"text-align: right;\">\n",
       "      <th></th>\n",
       "      <th>accuracy</th>\n",
       "      <th>precision</th>\n",
       "      <th>recall</th>\n",
       "      <th>f1_score</th>\n",
       "      <th>auc</th>\n",
       "    </tr>\n",
       "  </thead>\n",
       "  <tbody>\n",
       "    <tr>\n",
       "      <th>Value</th>\n",
       "      <td>0.628991</td>\n",
       "      <td>0.956639</td>\n",
       "      <td>0.725373</td>\n",
       "      <td>0.825107</td>\n",
       "      <td>0.679376</td>\n",
       "    </tr>\n",
       "  </tbody>\n",
       "</table>\n",
       "</div>"
      ],
      "text/plain": [
       "       accuracy  precision    recall  f1_score       auc\n",
       "Value  0.628991   0.956639  0.725373  0.825107  0.679376"
      ]
     },
     "metadata": {},
     "output_type": "display_data"
    },
    {
     "data": {
      "image/png": "[encoded data removed]",
      "text/plain": [
       "<Figure size 640x480 with 1 Axes>"
      ]
     },
     "metadata": {},
     "output_type": "display_data"
    },
    {
     "name": "stdout",
     "output_type": "stream",
     "text": [
      "\n"
     ]
    }
   ],
   "source": [
    "# Multilayer Perceptron\n",
    "model = MLPClassifier\n",
    "metrics_list = ['accuracy', 'precision', 'recall', 'f1_score', 'auc']\n",
    "params = {'random_state': 42, 'max_iter': 1000}\n",
    "results_MLP = model_pipeline(X_train_eggs, y_train_eggs, X_test_eggs, y_test_eggs, model, metrics_list, params, \n",
    "k=10, stratified=True, AIC=False, smote=False, SHAP=False, optimal_threshold=True, Target='oocytes')"
   ]
  },
  {
   "cell_type": "markdown",
   "metadata": {},
   "source": [
    "### Tuning the Squared Logistic Regression"
   ]
  },
  {
   "cell_type": "code",
   "execution_count": 19,
   "metadata": {},
   "outputs": [
    {
     "name": "stdout",
     "output_type": "stream",
     "text": [
      "Average optimal threshold = 0.504\n",
      "AIC: -42164.354\n",
      "BIC: -41583.227\n",
      "\n",
      "CV RESULTS\n"
     ]
    },
    {
     "data": {
      "text/html": [
       "<div>\n",
       "<style scoped>\n",
       "    .dataframe tbody tr th:only-of-type {\n",
       "        vertical-align: middle;\n",
       "    }\n",
       "\n",
       "    .dataframe tbody tr th {\n",
       "        vertical-align: top;\n",
       "    }\n",
       "\n",
       "    .dataframe thead th {\n",
       "        text-align: right;\n",
       "    }\n",
       "</style>\n",
       "<table border=\"1\" class=\"dataframe\">\n",
       "  <thead>\n",
       "    <tr style=\"text-align: right;\">\n",
       "      <th></th>\n",
       "      <th>accuracy</th>\n",
       "      <th>precision</th>\n",
       "      <th>recall</th>\n",
       "      <th>f1_score</th>\n",
       "      <th>auc</th>\n",
       "    </tr>\n",
       "  </thead>\n",
       "  <tbody>\n",
       "    <tr>\n",
       "      <th>Mean</th>\n",
       "      <td>0.618129</td>\n",
       "      <td>0.955394</td>\n",
       "      <td>0.715299</td>\n",
       "      <td>0.824326</td>\n",
       "      <td>0.661537</td>\n",
       "    </tr>\n",
       "    <tr>\n",
       "      <th>Standard Deviation</th>\n",
       "      <td>0.019752</td>\n",
       "      <td>0.003213</td>\n",
       "      <td>0.026413</td>\n",
       "      <td>0.015092</td>\n",
       "      <td>0.020565</td>\n",
       "    </tr>\n",
       "  </tbody>\n",
       "</table>\n",
       "</div>"
      ],
      "text/plain": [
       "                    accuracy  precision    recall  f1_score       auc\n",
       "Mean                0.618129   0.955394  0.715299  0.824326  0.661537\n",
       "Standard Deviation  0.019752   0.003213  0.026413  0.015092  0.020565"
      ]
     },
     "metadata": {},
     "output_type": "display_data"
    },
    {
     "name": "stdout",
     "output_type": "stream",
     "text": [
      "\n",
      "TEST RESULTS\n"
     ]
    },
    {
     "data": {
      "text/html": [
       "<div>\n",
       "<style scoped>\n",
       "    .dataframe tbody tr th:only-of-type {\n",
       "        vertical-align: middle;\n",
       "    }\n",
       "\n",
       "    .dataframe tbody tr th {\n",
       "        vertical-align: top;\n",
       "    }\n",
       "\n",
       "    .dataframe thead th {\n",
       "        text-align: right;\n",
       "    }\n",
       "</style>\n",
       "<table border=\"1\" class=\"dataframe\">\n",
       "  <thead>\n",
       "    <tr style=\"text-align: right;\">\n",
       "      <th></th>\n",
       "      <th>accuracy</th>\n",
       "      <th>precision</th>\n",
       "      <th>recall</th>\n",
       "      <th>f1_score</th>\n",
       "      <th>auc</th>\n",
       "    </tr>\n",
       "  </thead>\n",
       "  <tbody>\n",
       "    <tr>\n",
       "      <th>Value</th>\n",
       "      <td>0.633129</td>\n",
       "      <td>0.957639</td>\n",
       "      <td>0.717344</td>\n",
       "      <td>0.820255</td>\n",
       "      <td>0.673739</td>\n",
       "    </tr>\n",
       "  </tbody>\n",
       "</table>\n",
       "</div>"
      ],
      "text/plain": [
       "       accuracy  precision    recall  f1_score       auc\n",
       "Value  0.633129   0.957639  0.717344  0.820255  0.673739"
      ]
     },
     "metadata": {},
     "output_type": "display_data"
    },
    {
     "data": {
      "image/png": "[encoded data removed]",
      "text/plain": [
       "<Figure size 640x480 with 1 Axes>"
      ]
     },
     "metadata": {},
     "output_type": "display_data"
    },
    {
     "name": "stdout",
     "output_type": "stream",
     "text": [
      "\n"
     ]
    }
   ],
   "source": [
    "# Seeing if SMOTE improves performance - NO\n",
    "X_train_eggs_poly = create_poly_features(X_train_eggs)\n",
    "X_test_eggs_poly = create_poly_features(X_test_eggs)\n",
    "model = LogisticRegression\n",
    "metrics_list = ['accuracy', 'precision', 'recall', 'f1_score', 'auc']\n",
    "params = {'max_iter':2000, 'random_state': 42}\n",
    "results_LR2 = model_pipeline(X_train_eggs_poly, y_train_eggs, X_test_eggs_poly, y_test_eggs, model, metrics_list, params,\n",
    "k=10, stratified=True, AIC=True, smote=True, SHAP=False, optimal_threshold=True, Target='oocytes')"
   ]
  },
  {
   "cell_type": "markdown",
   "metadata": {},
   "source": [
    "#### Hyperparameter Tuning"
   ]
  },
  {
   "cell_type": "code",
   "execution_count": 40,
   "metadata": {},
   "outputs": [
    {
     "name": "stdout",
     "output_type": "stream",
     "text": [
      "Fitting 10 folds for each of 5 candidates, totalling 50 fits\n",
      "{'C': 10}\n"
     ]
    }
   ],
   "source": [
    "model = LogisticRegression(penalty='l1', solver='saga', max_iter=6000, random_state = 42)\n",
    "\n",
    "# Define the parameter grid for C\n",
    "param_grid = {\n",
    "    'C': [0.001, 0.01, 0.1, 1, 10]\n",
    "}\n",
    "\n",
    "# Call the compute_grid_search function\n",
    "grid_search_result = compute_grid_search(model, param_grid, X_train_eggs_poly, y_train_eggs)"
   ]
  },
  {
   "cell_type": "markdown",
   "metadata": {},
   "source": [
    "#### Training the best model "
   ]
  },
  {
   "cell_type": "code",
   "execution_count": 24,
   "metadata": {},
   "outputs": [
    {
     "name": "stdout",
     "output_type": "stream",
     "text": [
      "Average optimal threshold = 0.938\n",
      "\n",
      "CV RESULTS\n"
     ]
    },
    {
     "data": {
      "text/html": [
       "<div>\n",
       "<style scoped>\n",
       "    .dataframe tbody tr th:only-of-type {\n",
       "        vertical-align: middle;\n",
       "    }\n",
       "\n",
       "    .dataframe tbody tr th {\n",
       "        vertical-align: top;\n",
       "    }\n",
       "\n",
       "    .dataframe thead th {\n",
       "        text-align: right;\n",
       "    }\n",
       "</style>\n",
       "<table border=\"1\" class=\"dataframe\">\n",
       "  <thead>\n",
       "    <tr style=\"text-align: right;\">\n",
       "      <th></th>\n",
       "      <th>accuracy</th>\n",
       "      <th>precision</th>\n",
       "      <th>recall</th>\n",
       "      <th>f1_score</th>\n",
       "      <th>auc</th>\n",
       "    </tr>\n",
       "  </thead>\n",
       "  <tbody>\n",
       "    <tr>\n",
       "      <th>Mean</th>\n",
       "      <td>0.621422</td>\n",
       "      <td>0.957228</td>\n",
       "      <td>0.677090</td>\n",
       "      <td>0.792986</td>\n",
       "      <td>0.667747</td>\n",
       "    </tr>\n",
       "    <tr>\n",
       "      <th>Standard Deviation</th>\n",
       "      <td>0.018752</td>\n",
       "      <td>0.003677</td>\n",
       "      <td>0.018865</td>\n",
       "      <td>0.012908</td>\n",
       "      <td>0.022855</td>\n",
       "    </tr>\n",
       "  </tbody>\n",
       "</table>\n",
       "</div>"
      ],
      "text/plain": [
       "                    accuracy  precision    recall  f1_score       auc\n",
       "Mean                0.621422   0.957228  0.677090  0.792986  0.667747\n",
       "Standard Deviation  0.018752   0.003677  0.018865  0.012908  0.022855"
      ]
     },
     "metadata": {},
     "output_type": "display_data"
    },
    {
     "name": "stdout",
     "output_type": "stream",
     "text": [
      "\n",
      "TEST RESULTS\n"
     ]
    },
    {
     "data": {
      "text/html": [
       "<div>\n",
       "<style scoped>\n",
       "    .dataframe tbody tr th:only-of-type {\n",
       "        vertical-align: middle;\n",
       "    }\n",
       "\n",
       "    .dataframe tbody tr th {\n",
       "        vertical-align: top;\n",
       "    }\n",
       "\n",
       "    .dataframe thead th {\n",
       "        text-align: right;\n",
       "    }\n",
       "</style>\n",
       "<table border=\"1\" class=\"dataframe\">\n",
       "  <thead>\n",
       "    <tr style=\"text-align: right;\">\n",
       "      <th></th>\n",
       "      <th>accuracy</th>\n",
       "      <th>precision</th>\n",
       "      <th>recall</th>\n",
       "      <th>f1_score</th>\n",
       "      <th>auc</th>\n",
       "    </tr>\n",
       "  </thead>\n",
       "  <tbody>\n",
       "    <tr>\n",
       "      <th>Value</th>\n",
       "      <td>0.624347</td>\n",
       "      <td>0.95814</td>\n",
       "      <td>0.656302</td>\n",
       "      <td>0.779005</td>\n",
       "      <td>0.674661</td>\n",
       "    </tr>\n",
       "  </tbody>\n",
       "</table>\n",
       "</div>"
      ],
      "text/plain": [
       "       accuracy  precision    recall  f1_score       auc\n",
       "Value  0.624347    0.95814  0.656302  0.779005  0.674661"
      ]
     },
     "metadata": {},
     "output_type": "display_data"
    },
    {
     "data": {
      "image/png": "[encoded data removed]",
      "text/plain": [
       "<Figure size 640x480 with 1 Axes>"
      ]
     },
     "metadata": {},
     "output_type": "display_data"
    },
    {
     "name": "stdout",
     "output_type": "stream",
     "text": [
      "\n",
      "FEATURES ANALYSIS\n"
     ]
    },
    {
     "data": {
      "text/html": [
       "<div>\n",
       "<style scoped>\n",
       "    .dataframe tbody tr th:only-of-type {\n",
       "        vertical-align: middle;\n",
       "    }\n",
       "\n",
       "    .dataframe tbody tr th {\n",
       "        vertical-align: top;\n",
       "    }\n",
       "\n",
       "    .dataframe thead th {\n",
       "        text-align: right;\n",
       "    }\n",
       "</style>\n",
       "<table border=\"1\" class=\"dataframe\">\n",
       "  <thead>\n",
       "    <tr style=\"text-align: right;\">\n",
       "      <th></th>\n",
       "      <th>feature</th>\n",
       "      <th>importance_mean</th>\n",
       "      <th>importance_std</th>\n",
       "    </tr>\n",
       "  </thead>\n",
       "  <tbody>\n",
       "    <tr>\n",
       "      <th>68</th>\n",
       "      <td>STIMULATION_USED SPERM_FROM</td>\n",
       "      <td>3.030643</td>\n",
       "      <td>0.108272</td>\n",
       "    </tr>\n",
       "    <tr>\n",
       "      <th>69</th>\n",
       "      <td>STIMULATION_USED SCREENING</td>\n",
       "      <td>1.318674</td>\n",
       "      <td>0.291270</td>\n",
       "    </tr>\n",
       "    <tr>\n",
       "      <th>52</th>\n",
       "      <td>CAUSE_OF_INFERTILITY__MALE_FACTOR STIMULATION_...</td>\n",
       "      <td>1.162872</td>\n",
       "      <td>0.092901</td>\n",
       "    </tr>\n",
       "    <tr>\n",
       "      <th>59</th>\n",
       "      <td>CAUSE_OF_INFERTILITY__PATIENT_UNEXPLAINED SPER...</td>\n",
       "      <td>1.151222</td>\n",
       "      <td>0.185854</td>\n",
       "    </tr>\n",
       "    <tr>\n",
       "      <th>45</th>\n",
       "      <td>CAUSE_OF_INFERTILITY__OVULATORY_DISORDER STIMU...</td>\n",
       "      <td>1.125649</td>\n",
       "      <td>0.153230</td>\n",
       "    </tr>\n",
       "    <tr>\n",
       "      <th>7</th>\n",
       "      <td>STIMULATION_USED</td>\n",
       "      <td>1.087677</td>\n",
       "      <td>0.049175</td>\n",
       "    </tr>\n",
       "    <tr>\n",
       "      <th>67</th>\n",
       "      <td>STIMULATION_USED^2</td>\n",
       "      <td>1.087677</td>\n",
       "      <td>0.049175</td>\n",
       "    </tr>\n",
       "    <tr>\n",
       "      <th>58</th>\n",
       "      <td>CAUSE_OF_INFERTILITY__PATIENT_UNEXPLAINED STIM...</td>\n",
       "      <td>0.923913</td>\n",
       "      <td>0.073432</td>\n",
       "    </tr>\n",
       "    <tr>\n",
       "      <th>73</th>\n",
       "      <td>SPERM_FROM PREVIOUS_LIVE_BIRTH_IVF_OR_DI</td>\n",
       "      <td>0.840958</td>\n",
       "      <td>0.182299</td>\n",
       "    </tr>\n",
       "    <tr>\n",
       "      <th>35</th>\n",
       "      <td>CAUSE__OF_INFERTILITY__TUBAL_DISEASE CAUSE_OF_...</td>\n",
       "      <td>0.833190</td>\n",
       "      <td>0.146440</td>\n",
       "    </tr>\n",
       "    <tr>\n",
       "      <th>20</th>\n",
       "      <td>PATIENT_AGE_AT_TREATMENT SCREENING</td>\n",
       "      <td>0.759180</td>\n",
       "      <td>0.108095</td>\n",
       "    </tr>\n",
       "    <tr>\n",
       "      <th>34</th>\n",
       "      <td>CAUSE__OF_INFERTILITY__TUBAL_DISEASE CAUSE_OF_...</td>\n",
       "      <td>0.751846</td>\n",
       "      <td>0.053848</td>\n",
       "    </tr>\n",
       "    <tr>\n",
       "      <th>50</th>\n",
       "      <td>CAUSE_OF_INFERTILITY__MALE_FACTOR CAUSE_OF_INF...</td>\n",
       "      <td>0.749301</td>\n",
       "      <td>0.037754</td>\n",
       "    </tr>\n",
       "    <tr>\n",
       "      <th>57</th>\n",
       "      <td>CAUSE_OF_INFERTILITY__PATIENT_UNEXPLAINED CAUS...</td>\n",
       "      <td>0.699378</td>\n",
       "      <td>0.150785</td>\n",
       "    </tr>\n",
       "    <tr>\n",
       "      <th>9</th>\n",
       "      <td>SCREENING</td>\n",
       "      <td>0.667207</td>\n",
       "      <td>0.049285</td>\n",
       "    </tr>\n",
       "    <tr>\n",
       "      <th>74</th>\n",
       "      <td>SCREENING^2</td>\n",
       "      <td>0.667207</td>\n",
       "      <td>0.049285</td>\n",
       "    </tr>\n",
       "    <tr>\n",
       "      <th>3</th>\n",
       "      <td>CAUSE_OF_INFERTILITY__OVULATORY_DISORDER</td>\n",
       "      <td>0.592729</td>\n",
       "      <td>0.081073</td>\n",
       "    </tr>\n",
       "    <tr>\n",
       "      <th>41</th>\n",
       "      <td>CAUSE_OF_INFERTILITY__OVULATORY_DISORDER^2</td>\n",
       "      <td>0.592729</td>\n",
       "      <td>0.081073</td>\n",
       "    </tr>\n",
       "    <tr>\n",
       "      <th>51</th>\n",
       "      <td>CAUSE_OF_INFERTILITY__MALE_FACTOR CAUSE_OF_INF...</td>\n",
       "      <td>0.570752</td>\n",
       "      <td>0.058967</td>\n",
       "    </tr>\n",
       "    <tr>\n",
       "      <th>42</th>\n",
       "      <td>CAUSE_OF_INFERTILITY__OVULATORY_DISORDER CAUSE...</td>\n",
       "      <td>0.555875</td>\n",
       "      <td>0.055627</td>\n",
       "    </tr>\n",
       "  </tbody>\n",
       "</table>\n",
       "</div>"
      ],
      "text/plain": [
       "                                              feature  importance_mean  \\\n",
       "68                        STIMULATION_USED SPERM_FROM         3.030643   \n",
       "69                         STIMULATION_USED SCREENING         1.318674   \n",
       "52  CAUSE_OF_INFERTILITY__MALE_FACTOR STIMULATION_...         1.162872   \n",
       "59  CAUSE_OF_INFERTILITY__PATIENT_UNEXPLAINED SPER...         1.151222   \n",
       "45  CAUSE_OF_INFERTILITY__OVULATORY_DISORDER STIMU...         1.125649   \n",
       "7                                    STIMULATION_USED         1.087677   \n",
       "67                                 STIMULATION_USED^2         1.087677   \n",
       "58  CAUSE_OF_INFERTILITY__PATIENT_UNEXPLAINED STIM...         0.923913   \n",
       "73           SPERM_FROM PREVIOUS_LIVE_BIRTH_IVF_OR_DI         0.840958   \n",
       "35  CAUSE__OF_INFERTILITY__TUBAL_DISEASE CAUSE_OF_...         0.833190   \n",
       "20                 PATIENT_AGE_AT_TREATMENT SCREENING         0.759180   \n",
       "34  CAUSE__OF_INFERTILITY__TUBAL_DISEASE CAUSE_OF_...         0.751846   \n",
       "50  CAUSE_OF_INFERTILITY__MALE_FACTOR CAUSE_OF_INF...         0.749301   \n",
       "57  CAUSE_OF_INFERTILITY__PATIENT_UNEXPLAINED CAUS...         0.699378   \n",
       "9                                           SCREENING         0.667207   \n",
       "74                                        SCREENING^2         0.667207   \n",
       "3            CAUSE_OF_INFERTILITY__OVULATORY_DISORDER         0.592729   \n",
       "41         CAUSE_OF_INFERTILITY__OVULATORY_DISORDER^2         0.592729   \n",
       "51  CAUSE_OF_INFERTILITY__MALE_FACTOR CAUSE_OF_INF...         0.570752   \n",
       "42  CAUSE_OF_INFERTILITY__OVULATORY_DISORDER CAUSE...         0.555875   \n",
       "\n",
       "    importance_std  \n",
       "68        0.108272  \n",
       "69        0.291270  \n",
       "52        0.092901  \n",
       "59        0.185854  \n",
       "45        0.153230  \n",
       "7         0.049175  \n",
       "67        0.049175  \n",
       "58        0.073432  \n",
       "73        0.182299  \n",
       "35        0.146440  \n",
       "20        0.108095  \n",
       "34        0.053848  \n",
       "50        0.037754  \n",
       "57        0.150785  \n",
       "9         0.049285  \n",
       "74        0.049285  \n",
       "3         0.081073  \n",
       "41        0.081073  \n",
       "51        0.058967  \n",
       "42        0.055627  "
      ]
     },
     "metadata": {},
     "output_type": "display_data"
    }
   ],
   "source": [
    "model = LogisticRegression\n",
    "metrics_list = ['accuracy', 'precision', 'recall', 'f1_score', 'auc']\n",
    "params = {'penalty': 'l1', 'C':10, 'solver':'saga', 'random_state': 42, 'max_iter': 6000}\n",
    "results_BEST = model_pipeline(X_train_eggs_poly, y_train_eggs, X_test_eggs_poly, y_test_eggs, model, metrics_list, params, \n",
    "k=10, stratified=True, AIC=False, smote=False, SHAP=False, optimal_threshold=True, importances=True, Target='oocytes')"
   ]
  },
  {
   "cell_type": "code",
   "execution_count": 59,
   "metadata": {},
   "outputs": [
    {
     "name": "stdout",
     "output_type": "stream",
     "text": [
      "The number of non zero coefficients is: 77\n"
     ]
    }
   ],
   "source": [
    "print('The number of non zero coefficients is: '+str((results_BEST['feature_importances']['importance_mean'] >= 0).sum()))"
   ]
  },
  {
   "cell_type": "code",
   "execution_count": 61,
   "metadata": {},
   "outputs": [],
   "source": [
    "with open('STAGE_1_PREDICTIONS.txt', 'w') as f:\n",
    "    for item in results_BEST['y_test_pred']:\n",
    "        f.write(\"%s\\n\" % item)"
   ]
  },
  {
   "cell_type": "markdown",
   "metadata": {},
   "source": [
    "#"
   ]
  },
  {
   "cell_type": "markdown",
   "metadata": {},
   "source": [
    "## **STAGE 2 MODELS**"
   ]
  },
  {
   "cell_type": "code",
   "execution_count": 20,
   "metadata": {},
   "outputs": [],
   "source": [
    "def read_list_from_file(filename):\n",
    "    # Try to open and read the file\n",
    "\n",
    "    with open(filename, 'r') as f:\n",
    "        list_from_file = f.readlines()\n",
    "\n",
    "    # Remove newline characters\n",
    "    list_from_file = [item.strip() for item in list_from_file]\n",
    "\n",
    "    # Convert strings to floats\n",
    "    list_from_file = [float(item) for item in list_from_file]\n",
    "\n",
    "    return list_from_file"
   ]
  },
  {
   "cell_type": "code",
   "execution_count": 21,
   "metadata": {},
   "outputs": [],
   "source": [
    "STAGE_1_PREDICTIONS = read_list_from_file('STAGE_1_PREDICTIONS.txt')"
   ]
  },
  {
   "cell_type": "code",
   "execution_count": 22,
   "metadata": {},
   "outputs": [],
   "source": [
    "# Update the test data with the stage 1 predictions to filter on\n",
    "X_test_embryos['EGGS_COLLECTED_BINARY'] = STAGE_1_PREDICTIONS\n",
    "X_test_embryos = X_test_embryos[X_test_embryos['EGGS_COLLECTED_BINARY'] != 0]\n",
    "y_test_embryos = X_test_embryos['EMBRYOS_CREATED_BINARY']\n",
    "X_test_embryos = X_test_embryos.drop(['EGGS_COLLECTED_BINARY', 'EMBRYOS_CREATED_BINARY'], axis=1)"
   ]
  },
  {
   "cell_type": "code",
   "execution_count": 23,
   "metadata": {},
   "outputs": [
    {
     "data": {
      "text/plain": [
       "(5375, 12)"
      ]
     },
     "execution_count": 23,
     "metadata": {},
     "output_type": "execute_result"
    }
   ],
   "source": [
    "X_test_embryos.shape"
   ]
  },
  {
   "cell_type": "markdown",
   "metadata": {},
   "source": [
    "### Logistic Regression (LR)"
   ]
  },
  {
   "cell_type": "code",
   "execution_count": 24,
   "metadata": {},
   "outputs": [
    {
     "name": "stdout",
     "output_type": "stream",
     "text": [
      "Average optimal threshold = 0.945\n",
      "AIC: -12373.934\n",
      "BIC: -12265.323\n",
      "\n",
      "CV RESULTS\n"
     ]
    },
    {
     "data": {
      "text/html": [
       "<div>\n",
       "<style scoped>\n",
       "    .dataframe tbody tr th:only-of-type {\n",
       "        vertical-align: middle;\n",
       "    }\n",
       "\n",
       "    .dataframe tbody tr th {\n",
       "        vertical-align: top;\n",
       "    }\n",
       "\n",
       "    .dataframe thead th {\n",
       "        text-align: right;\n",
       "    }\n",
       "</style>\n",
       "<table border=\"1\" class=\"dataframe\">\n",
       "  <thead>\n",
       "    <tr style=\"text-align: right;\">\n",
       "      <th></th>\n",
       "      <th>accuracy</th>\n",
       "      <th>precision</th>\n",
       "      <th>recall</th>\n",
       "      <th>f1_score</th>\n",
       "      <th>auc</th>\n",
       "    </tr>\n",
       "  </thead>\n",
       "  <tbody>\n",
       "    <tr>\n",
       "      <th>Mean</th>\n",
       "      <td>0.609690</td>\n",
       "      <td>0.963545</td>\n",
       "      <td>0.696656</td>\n",
       "      <td>0.808072</td>\n",
       "      <td>0.649107</td>\n",
       "    </tr>\n",
       "    <tr>\n",
       "      <th>Standard Deviation</th>\n",
       "      <td>0.017619</td>\n",
       "      <td>0.002831</td>\n",
       "      <td>0.036558</td>\n",
       "      <td>0.024458</td>\n",
       "      <td>0.023789</td>\n",
       "    </tr>\n",
       "  </tbody>\n",
       "</table>\n",
       "</div>"
      ],
      "text/plain": [
       "                    accuracy  precision    recall  f1_score       auc\n",
       "Mean                0.609690   0.963545  0.696656  0.808072  0.649107\n",
       "Standard Deviation  0.017619   0.002831  0.036558  0.024458  0.023789"
      ]
     },
     "metadata": {},
     "output_type": "display_data"
    },
    {
     "name": "stdout",
     "output_type": "stream",
     "text": [
      "\n",
      "TEST RESULTS\n"
     ]
    },
    {
     "data": {
      "text/html": [
       "<div>\n",
       "<style scoped>\n",
       "    .dataframe tbody tr th:only-of-type {\n",
       "        vertical-align: middle;\n",
       "    }\n",
       "\n",
       "    .dataframe tbody tr th {\n",
       "        vertical-align: top;\n",
       "    }\n",
       "\n",
       "    .dataframe thead th {\n",
       "        text-align: right;\n",
       "    }\n",
       "</style>\n",
       "<table border=\"1\" class=\"dataframe\">\n",
       "  <thead>\n",
       "    <tr style=\"text-align: right;\">\n",
       "      <th></th>\n",
       "      <th>accuracy</th>\n",
       "      <th>precision</th>\n",
       "      <th>recall</th>\n",
       "      <th>f1_score</th>\n",
       "      <th>auc</th>\n",
       "    </tr>\n",
       "  </thead>\n",
       "  <tbody>\n",
       "    <tr>\n",
       "      <th>Value</th>\n",
       "      <td>0.610569</td>\n",
       "      <td>0.939523</td>\n",
       "      <td>0.845267</td>\n",
       "      <td>0.889906</td>\n",
       "      <td>0.687716</td>\n",
       "    </tr>\n",
       "  </tbody>\n",
       "</table>\n",
       "</div>"
      ],
      "text/plain": [
       "       accuracy  precision    recall  f1_score       auc\n",
       "Value  0.610569   0.939523  0.845267  0.889906  0.687716"
      ]
     },
     "metadata": {},
     "output_type": "display_data"
    },
    {
     "data": {
      "image/png": "[encoded data removed]",
      "text/plain": [
       "<Figure size 640x480 with 1 Axes>"
      ]
     },
     "metadata": {},
     "output_type": "display_data"
    },
    {
     "name": "stdout",
     "output_type": "stream",
     "text": [
      "\n"
     ]
    }
   ],
   "source": [
    "# Simple Logistic Regression with OPTIMAL THRESHOLD\n",
    "model = LogisticRegression\n",
    "metrics_list = ['accuracy', 'precision', 'recall', 'f1_score', 'auc']\n",
    "params = {'max_iter':1000, 'random_state': 42}\n",
    "results_LR = model_pipeline(X_train_embryos, y_train_embryos, X_test_embryos, y_test_embryos, model, metrics_list, params, \n",
    "k=10, stratified=True, AIC=True, smote=False, SHAP=False, optimal_threshold=True, Target='embryos')"
   ]
  },
  {
   "cell_type": "markdown",
   "metadata": {},
   "source": [
    "### Squared Logistic Regression (SLR)"
   ]
  },
  {
   "cell_type": "code",
   "execution_count": 25,
   "metadata": {},
   "outputs": [
    {
     "name": "stdout",
     "output_type": "stream",
     "text": [
      "Average optimal threshold = 0.51\n",
      "AIC: -40217.275\n",
      "BIC: -39540.543\n",
      "\n",
      "CV RESULTS\n"
     ]
    },
    {
     "data": {
      "text/html": [
       "<div>\n",
       "<style scoped>\n",
       "    .dataframe tbody tr th:only-of-type {\n",
       "        vertical-align: middle;\n",
       "    }\n",
       "\n",
       "    .dataframe tbody tr th {\n",
       "        vertical-align: top;\n",
       "    }\n",
       "\n",
       "    .dataframe thead th {\n",
       "        text-align: right;\n",
       "    }\n",
       "</style>\n",
       "<table border=\"1\" class=\"dataframe\">\n",
       "  <thead>\n",
       "    <tr style=\"text-align: right;\">\n",
       "      <th></th>\n",
       "      <th>accuracy</th>\n",
       "      <th>precision</th>\n",
       "      <th>recall</th>\n",
       "      <th>f1_score</th>\n",
       "      <th>auc</th>\n",
       "    </tr>\n",
       "  </thead>\n",
       "  <tbody>\n",
       "    <tr>\n",
       "      <th>Mean</th>\n",
       "      <td>0.611102</td>\n",
       "      <td>0.965638</td>\n",
       "      <td>0.626555</td>\n",
       "      <td>0.759001</td>\n",
       "      <td>0.659107</td>\n",
       "    </tr>\n",
       "    <tr>\n",
       "      <th>Standard Deviation</th>\n",
       "      <td>0.017974</td>\n",
       "      <td>0.003311</td>\n",
       "      <td>0.045350</td>\n",
       "      <td>0.032647</td>\n",
       "      <td>0.022945</td>\n",
       "    </tr>\n",
       "  </tbody>\n",
       "</table>\n",
       "</div>"
      ],
      "text/plain": [
       "                    accuracy  precision    recall  f1_score       auc\n",
       "Mean                0.611102   0.965638  0.626555  0.759001  0.659107\n",
       "Standard Deviation  0.017974   0.003311  0.045350  0.032647  0.022945"
      ]
     },
     "metadata": {},
     "output_type": "display_data"
    },
    {
     "name": "stdout",
     "output_type": "stream",
     "text": [
      "\n",
      "TEST RESULTS\n"
     ]
    },
    {
     "data": {
      "text/html": [
       "<div>\n",
       "<style scoped>\n",
       "    .dataframe tbody tr th:only-of-type {\n",
       "        vertical-align: middle;\n",
       "    }\n",
       "\n",
       "    .dataframe tbody tr th {\n",
       "        vertical-align: top;\n",
       "    }\n",
       "\n",
       "    .dataframe thead th {\n",
       "        text-align: right;\n",
       "    }\n",
       "</style>\n",
       "<table border=\"1\" class=\"dataframe\">\n",
       "  <thead>\n",
       "    <tr style=\"text-align: right;\">\n",
       "      <th></th>\n",
       "      <th>accuracy</th>\n",
       "      <th>precision</th>\n",
       "      <th>recall</th>\n",
       "      <th>f1_score</th>\n",
       "      <th>auc</th>\n",
       "    </tr>\n",
       "  </thead>\n",
       "  <tbody>\n",
       "    <tr>\n",
       "      <th>Value</th>\n",
       "      <td>0.626133</td>\n",
       "      <td>0.944041</td>\n",
       "      <td>0.788228</td>\n",
       "      <td>0.859127</td>\n",
       "      <td>0.701008</td>\n",
       "    </tr>\n",
       "  </tbody>\n",
       "</table>\n",
       "</div>"
      ],
      "text/plain": [
       "       accuracy  precision    recall  f1_score       auc\n",
       "Value  0.626133   0.944041  0.788228  0.859127  0.701008"
      ]
     },
     "metadata": {},
     "output_type": "display_data"
    },
    {
     "data": {
      "image/png": "[encoded data removed]",
      "text/plain": [
       "<Figure size 640x480 with 1 Axes>"
      ]
     },
     "metadata": {},
     "output_type": "display_data"
    },
    {
     "name": "stdout",
     "output_type": "stream",
     "text": [
      "\n"
     ]
    }
   ],
   "source": [
    "# Squared Logistic Regression with OPTIMAL THRESHOLD\n",
    "X_train_embryos_poly = create_poly_features(X_train_embryos)\n",
    "X_test_embryos_poly = create_poly_features(X_test_embryos)\n",
    "model = LogisticRegression\n",
    "metrics_list = ['accuracy', 'precision', 'recall', 'f1_score', 'auc']\n",
    "params = {'max_iter':2000, 'random_state': 42, 'class_weight': 'balanced'}\n",
    "results_LR2 = model_pipeline(X_train_embryos_poly, y_train_embryos, X_test_embryos_poly, y_test_embryos, model, metrics_list, params, \n",
    "k=10, stratified=True, AIC=True, smote=False, SHAP=False, optimal_threshold=True, Target='embryos')"
   ]
  },
  {
   "cell_type": "markdown",
   "metadata": {},
   "source": [
    "### Random Forest (RF)"
   ]
  },
  {
   "cell_type": "code",
   "execution_count": 26,
   "metadata": {},
   "outputs": [
    {
     "name": "stdout",
     "output_type": "stream",
     "text": [
      "Average optimal threshold = 0.947\n",
      "\n",
      "CV RESULTS\n"
     ]
    },
    {
     "data": {
      "text/html": [
       "<div>\n",
       "<style scoped>\n",
       "    .dataframe tbody tr th:only-of-type {\n",
       "        vertical-align: middle;\n",
       "    }\n",
       "\n",
       "    .dataframe tbody tr th {\n",
       "        vertical-align: top;\n",
       "    }\n",
       "\n",
       "    .dataframe thead th {\n",
       "        text-align: right;\n",
       "    }\n",
       "</style>\n",
       "<table border=\"1\" class=\"dataframe\">\n",
       "  <thead>\n",
       "    <tr style=\"text-align: right;\">\n",
       "      <th></th>\n",
       "      <th>accuracy</th>\n",
       "      <th>precision</th>\n",
       "      <th>recall</th>\n",
       "      <th>f1_score</th>\n",
       "      <th>auc</th>\n",
       "    </tr>\n",
       "  </thead>\n",
       "  <tbody>\n",
       "    <tr>\n",
       "      <th>Mean</th>\n",
       "      <td>0.587183</td>\n",
       "      <td>0.960435</td>\n",
       "      <td>0.680759</td>\n",
       "      <td>0.796626</td>\n",
       "      <td>0.604831</td>\n",
       "    </tr>\n",
       "    <tr>\n",
       "      <th>Standard Deviation</th>\n",
       "      <td>0.017200</td>\n",
       "      <td>0.002398</td>\n",
       "      <td>0.019116</td>\n",
       "      <td>0.013430</td>\n",
       "      <td>0.025793</td>\n",
       "    </tr>\n",
       "  </tbody>\n",
       "</table>\n",
       "</div>"
      ],
      "text/plain": [
       "                    accuracy  precision    recall  f1_score       auc\n",
       "Mean                0.587183   0.960435  0.680759  0.796626  0.604831\n",
       "Standard Deviation  0.017200   0.002398  0.019116  0.013430  0.025793"
      ]
     },
     "metadata": {},
     "output_type": "display_data"
    },
    {
     "name": "stdout",
     "output_type": "stream",
     "text": [
      "\n",
      "TEST RESULTS\n"
     ]
    },
    {
     "data": {
      "text/html": [
       "<div>\n",
       "<style scoped>\n",
       "    .dataframe tbody tr th:only-of-type {\n",
       "        vertical-align: middle;\n",
       "    }\n",
       "\n",
       "    .dataframe tbody tr th {\n",
       "        vertical-align: top;\n",
       "    }\n",
       "\n",
       "    .dataframe thead th {\n",
       "        text-align: right;\n",
       "    }\n",
       "</style>\n",
       "<table border=\"1\" class=\"dataframe\">\n",
       "  <thead>\n",
       "    <tr style=\"text-align: right;\">\n",
       "      <th></th>\n",
       "      <th>accuracy</th>\n",
       "      <th>precision</th>\n",
       "      <th>recall</th>\n",
       "      <th>f1_score</th>\n",
       "      <th>auc</th>\n",
       "    </tr>\n",
       "  </thead>\n",
       "  <tbody>\n",
       "    <tr>\n",
       "      <th>Value</th>\n",
       "      <td>0.591265</td>\n",
       "      <td>0.937485</td>\n",
       "      <td>0.776497</td>\n",
       "      <td>0.84943</td>\n",
       "      <td>0.633949</td>\n",
       "    </tr>\n",
       "  </tbody>\n",
       "</table>\n",
       "</div>"
      ],
      "text/plain": [
       "       accuracy  precision    recall  f1_score       auc\n",
       "Value  0.591265   0.937485  0.776497   0.84943  0.633949"
      ]
     },
     "metadata": {},
     "output_type": "display_data"
    },
    {
     "data": {
      "image/png": "[encoded data removed]",
      "text/plain": [
       "<Figure size 640x480 with 1 Axes>"
      ]
     },
     "metadata": {},
     "output_type": "display_data"
    },
    {
     "name": "stdout",
     "output_type": "stream",
     "text": [
      "\n"
     ]
    }
   ],
   "source": [
    "# Random Forest\n",
    "model = RandomForestClassifier\n",
    "metrics_list = ['accuracy', 'precision', 'recall', 'f1_score', 'auc']\n",
    "params = {'random_state': 42, 'n_estimators': 100}\n",
    "results_RF = model_pipeline(X_train_embryos, y_train_embryos, X_test_embryos, y_test_embryos, model, metrics_list, params, \n",
    "k=10, stratified=True, AIC=False, smote=False, SHAP=False, optimal_threshold=True, Target='embryos')"
   ]
  },
  {
   "cell_type": "markdown",
   "metadata": {},
   "source": [
    "### XGBoost (XGB)"
   ]
  },
  {
   "cell_type": "code",
   "execution_count": 27,
   "metadata": {},
   "outputs": [
    {
     "name": "stdout",
     "output_type": "stream",
     "text": [
      "Average optimal threshold = 0.997\n",
      "\n",
      "CV RESULTS\n"
     ]
    },
    {
     "data": {
      "text/html": [
       "<div>\n",
       "<style scoped>\n",
       "    .dataframe tbody tr th:only-of-type {\n",
       "        vertical-align: middle;\n",
       "    }\n",
       "\n",
       "    .dataframe tbody tr th {\n",
       "        vertical-align: top;\n",
       "    }\n",
       "\n",
       "    .dataframe thead th {\n",
       "        text-align: right;\n",
       "    }\n",
       "</style>\n",
       "<table border=\"1\" class=\"dataframe\">\n",
       "  <thead>\n",
       "    <tr style=\"text-align: right;\">\n",
       "      <th></th>\n",
       "      <th>accuracy</th>\n",
       "      <th>precision</th>\n",
       "      <th>recall</th>\n",
       "      <th>f1_score</th>\n",
       "      <th>auc</th>\n",
       "    </tr>\n",
       "  </thead>\n",
       "  <tbody>\n",
       "    <tr>\n",
       "      <th>Mean</th>\n",
       "      <td>0.593069</td>\n",
       "      <td>0.960743</td>\n",
       "      <td>0.712579</td>\n",
       "      <td>0.817878</td>\n",
       "      <td>0.630512</td>\n",
       "    </tr>\n",
       "    <tr>\n",
       "      <th>Standard Deviation</th>\n",
       "      <td>0.009997</td>\n",
       "      <td>0.001492</td>\n",
       "      <td>0.030693</td>\n",
       "      <td>0.020103</td>\n",
       "      <td>0.020418</td>\n",
       "    </tr>\n",
       "  </tbody>\n",
       "</table>\n",
       "</div>"
      ],
      "text/plain": [
       "                    accuracy  precision    recall  f1_score       auc\n",
       "Mean                0.593069   0.960743  0.712579  0.817878  0.630512\n",
       "Standard Deviation  0.009997   0.001492  0.030693  0.020103  0.020418"
      ]
     },
     "metadata": {},
     "output_type": "display_data"
    },
    {
     "name": "stdout",
     "output_type": "stream",
     "text": [
      "\n",
      "TEST RESULTS\n"
     ]
    },
    {
     "data": {
      "text/html": [
       "<div>\n",
       "<style scoped>\n",
       "    .dataframe tbody tr th:only-of-type {\n",
       "        vertical-align: middle;\n",
       "    }\n",
       "\n",
       "    .dataframe tbody tr th {\n",
       "        vertical-align: top;\n",
       "    }\n",
       "\n",
       "    .dataframe thead th {\n",
       "        text-align: right;\n",
       "    }\n",
       "</style>\n",
       "<table border=\"1\" class=\"dataframe\">\n",
       "  <thead>\n",
       "    <tr style=\"text-align: right;\">\n",
       "      <th></th>\n",
       "      <th>accuracy</th>\n",
       "      <th>precision</th>\n",
       "      <th>recall</th>\n",
       "      <th>f1_score</th>\n",
       "      <th>auc</th>\n",
       "    </tr>\n",
       "  </thead>\n",
       "  <tbody>\n",
       "    <tr>\n",
       "      <th>Value</th>\n",
       "      <td>0.594095</td>\n",
       "      <td>0.936222</td>\n",
       "      <td>0.861044</td>\n",
       "      <td>0.89706</td>\n",
       "      <td>0.655426</td>\n",
       "    </tr>\n",
       "  </tbody>\n",
       "</table>\n",
       "</div>"
      ],
      "text/plain": [
       "       accuracy  precision    recall  f1_score       auc\n",
       "Value  0.594095   0.936222  0.861044   0.89706  0.655426"
      ]
     },
     "metadata": {},
     "output_type": "display_data"
    },
    {
     "data": {
      "image/png": "[encoded data removed]",
      "text/plain": [
       "<Figure size 640x480 with 1 Axes>"
      ]
     },
     "metadata": {},
     "output_type": "display_data"
    },
    {
     "name": "stdout",
     "output_type": "stream",
     "text": [
      "\n"
     ]
    }
   ],
   "source": [
    "# XGBoost\n",
    "counter = Counter(y_train_embryos)\n",
    "estimate = counter[1] / counter[0]\n",
    "model = XGBClassifier\n",
    "metrics_list = ['accuracy', 'precision', 'recall', 'f1_score', 'auc']\n",
    "params = {'random_state': 42, 'scale_pos_weight': estimate}\n",
    "results_XGB = model_pipeline(X_train_embryos, y_train_embryos, X_test_embryos, y_test_embryos, model, metrics_list, params, \n",
    "k=10, stratified=True, AIC=False, smote=False, SHAP=False, optimal_threshold=True, Target='embryos')"
   ]
  },
  {
   "cell_type": "markdown",
   "metadata": {},
   "source": [
    "### Multilayer Perceptron (MLP)"
   ]
  },
  {
   "cell_type": "code",
   "execution_count": 28,
   "metadata": {},
   "outputs": [
    {
     "name": "stdout",
     "output_type": "stream",
     "text": [
      "Average optimal threshold = 0.95\n",
      "\n",
      "CV RESULTS\n"
     ]
    },
    {
     "data": {
      "text/html": [
       "<div>\n",
       "<style scoped>\n",
       "    .dataframe tbody tr th:only-of-type {\n",
       "        vertical-align: middle;\n",
       "    }\n",
       "\n",
       "    .dataframe tbody tr th {\n",
       "        vertical-align: top;\n",
       "    }\n",
       "\n",
       "    .dataframe thead th {\n",
       "        text-align: right;\n",
       "    }\n",
       "</style>\n",
       "<table border=\"1\" class=\"dataframe\">\n",
       "  <thead>\n",
       "    <tr style=\"text-align: right;\">\n",
       "      <th></th>\n",
       "      <th>accuracy</th>\n",
       "      <th>precision</th>\n",
       "      <th>recall</th>\n",
       "      <th>f1_score</th>\n",
       "      <th>auc</th>\n",
       "    </tr>\n",
       "  </thead>\n",
       "  <tbody>\n",
       "    <tr>\n",
       "      <th>Mean</th>\n",
       "      <td>0.605933</td>\n",
       "      <td>0.963741</td>\n",
       "      <td>0.664194</td>\n",
       "      <td>0.785503</td>\n",
       "      <td>0.653912</td>\n",
       "    </tr>\n",
       "    <tr>\n",
       "      <th>Standard Deviation</th>\n",
       "      <td>0.013248</td>\n",
       "      <td>0.002264</td>\n",
       "      <td>0.044902</td>\n",
       "      <td>0.031688</td>\n",
       "      <td>0.022306</td>\n",
       "    </tr>\n",
       "  </tbody>\n",
       "</table>\n",
       "</div>"
      ],
      "text/plain": [
       "                    accuracy  precision    recall  f1_score       auc\n",
       "Mean                0.605933   0.963741  0.664194  0.785503  0.653912\n",
       "Standard Deviation  0.013248   0.002264  0.044902  0.031688  0.022306"
      ]
     },
     "metadata": {},
     "output_type": "display_data"
    },
    {
     "name": "stdout",
     "output_type": "stream",
     "text": [
      "\n",
      "TEST RESULTS\n"
     ]
    },
    {
     "data": {
      "text/html": [
       "<div>\n",
       "<style scoped>\n",
       "    .dataframe tbody tr th:only-of-type {\n",
       "        vertical-align: middle;\n",
       "    }\n",
       "\n",
       "    .dataframe tbody tr th {\n",
       "        vertical-align: top;\n",
       "    }\n",
       "\n",
       "    .dataframe thead th {\n",
       "        text-align: right;\n",
       "    }\n",
       "</style>\n",
       "<table border=\"1\" class=\"dataframe\">\n",
       "  <thead>\n",
       "    <tr style=\"text-align: right;\">\n",
       "      <th></th>\n",
       "      <th>accuracy</th>\n",
       "      <th>precision</th>\n",
       "      <th>recall</th>\n",
       "      <th>f1_score</th>\n",
       "      <th>auc</th>\n",
       "    </tr>\n",
       "  </thead>\n",
       "  <tbody>\n",
       "    <tr>\n",
       "      <th>Value</th>\n",
       "      <td>0.616205</td>\n",
       "      <td>0.94443</td>\n",
       "      <td>0.715008</td>\n",
       "      <td>0.81386</td>\n",
       "      <td>0.692868</td>\n",
       "    </tr>\n",
       "  </tbody>\n",
       "</table>\n",
       "</div>"
      ],
      "text/plain": [
       "       accuracy  precision    recall  f1_score       auc\n",
       "Value  0.616205    0.94443  0.715008   0.81386  0.692868"
      ]
     },
     "metadata": {},
     "output_type": "display_data"
    },
    {
     "data": {
      "image/png": "[encoded data removed]",
      "text/plain": [
       "<Figure size 640x480 with 1 Axes>"
      ]
     },
     "metadata": {},
     "output_type": "display_data"
    },
    {
     "name": "stdout",
     "output_type": "stream",
     "text": [
      "\n"
     ]
    }
   ],
   "source": [
    "# Multilayer Perceptron\n",
    "model = MLPClassifier\n",
    "metrics_list = ['accuracy', 'precision', 'recall', 'f1_score', 'auc']\n",
    "params = {'random_state': 42, 'max_iter': 1000}\n",
    "# hyperparams={'model__hidden_layer_sizes': [(50,), (100,), (150,)]\n",
    "results_MLP = model_pipeline(X_train_embryos, y_train_embryos, X_test_embryos, y_test_embryos, model, metrics_list, params, \n",
    "k=10, stratified=True, AIC=False, smote=False, SHAP=False, optimal_threshold=True, Target='embryos')"
   ]
  },
  {
   "cell_type": "markdown",
   "metadata": {},
   "source": [
    "### Tuning the Squared Logistic Regression"
   ]
  },
  {
   "cell_type": "code",
   "execution_count": 52,
   "metadata": {},
   "outputs": [
    {
     "name": "stdout",
     "output_type": "stream",
     "text": [
      "Fitting 10 folds for each of 5 candidates, totalling 50 fits\n",
      "{'C': 1}\n"
     ]
    }
   ],
   "source": [
    "model = LogisticRegression(penalty='l1', solver='saga', max_iter=6000, random_state = 42, class_weight='balanced')\n",
    "\n",
    "# Define the parameter grid for C\n",
    "param_grid = {\n",
    "    'C': [0.001, 0.01, 0.1, 1, 10]\n",
    "}\n",
    "\n",
    "# Call the compute_grid_search function\n",
    "grid_search_result = compute_grid_search(model, param_grid, X_train_embryos_poly, y_train_embryos)"
   ]
  },
  {
   "cell_type": "code",
   "execution_count": 29,
   "metadata": {},
   "outputs": [
    {
     "name": "stdout",
     "output_type": "stream",
     "text": [
      "Average optimal threshold = 0.513\n",
      "AIC: -39816.458\n",
      "BIC: -39139.725\n",
      "\n",
      "CV RESULTS\n"
     ]
    },
    {
     "data": {
      "text/html": [
       "<div>\n",
       "<style scoped>\n",
       "    .dataframe tbody tr th:only-of-type {\n",
       "        vertical-align: middle;\n",
       "    }\n",
       "\n",
       "    .dataframe tbody tr th {\n",
       "        vertical-align: top;\n",
       "    }\n",
       "\n",
       "    .dataframe thead th {\n",
       "        text-align: right;\n",
       "    }\n",
       "</style>\n",
       "<table border=\"1\" class=\"dataframe\">\n",
       "  <thead>\n",
       "    <tr style=\"text-align: right;\">\n",
       "      <th></th>\n",
       "      <th>accuracy</th>\n",
       "      <th>precision</th>\n",
       "      <th>recall</th>\n",
       "      <th>f1_score</th>\n",
       "      <th>auc</th>\n",
       "    </tr>\n",
       "  </thead>\n",
       "  <tbody>\n",
       "    <tr>\n",
       "      <th>Mean</th>\n",
       "      <td>0.606569</td>\n",
       "      <td>0.964447</td>\n",
       "      <td>0.639595</td>\n",
       "      <td>0.777295</td>\n",
       "      <td>0.649535</td>\n",
       "    </tr>\n",
       "    <tr>\n",
       "      <th>Standard Deviation</th>\n",
       "      <td>0.023609</td>\n",
       "      <td>0.004155</td>\n",
       "      <td>0.046677</td>\n",
       "      <td>0.020632</td>\n",
       "      <td>0.025014</td>\n",
       "    </tr>\n",
       "  </tbody>\n",
       "</table>\n",
       "</div>"
      ],
      "text/plain": [
       "                    accuracy  precision    recall  f1_score       auc\n",
       "Mean                0.606569   0.964447  0.639595  0.777295  0.649535\n",
       "Standard Deviation  0.023609   0.004155  0.046677  0.020632  0.025014"
      ]
     },
     "metadata": {},
     "output_type": "display_data"
    },
    {
     "name": "stdout",
     "output_type": "stream",
     "text": [
      "\n",
      "TEST RESULTS\n"
     ]
    },
    {
     "data": {
      "text/html": [
       "<div>\n",
       "<style scoped>\n",
       "    .dataframe tbody tr th:only-of-type {\n",
       "        vertical-align: middle;\n",
       "    }\n",
       "\n",
       "    .dataframe tbody tr th {\n",
       "        vertical-align: top;\n",
       "    }\n",
       "\n",
       "    .dataframe thead th {\n",
       "        text-align: right;\n",
       "    }\n",
       "</style>\n",
       "<table border=\"1\" class=\"dataframe\">\n",
       "  <thead>\n",
       "    <tr style=\"text-align: right;\">\n",
       "      <th></th>\n",
       "      <th>accuracy</th>\n",
       "      <th>precision</th>\n",
       "      <th>recall</th>\n",
       "      <th>f1_score</th>\n",
       "      <th>auc</th>\n",
       "    </tr>\n",
       "  </thead>\n",
       "  <tbody>\n",
       "    <tr>\n",
       "      <th>Value</th>\n",
       "      <td>0.619821</td>\n",
       "      <td>0.942969</td>\n",
       "      <td>0.782565</td>\n",
       "      <td>0.855311</td>\n",
       "      <td>0.689189</td>\n",
       "    </tr>\n",
       "  </tbody>\n",
       "</table>\n",
       "</div>"
      ],
      "text/plain": [
       "       accuracy  precision    recall  f1_score       auc\n",
       "Value  0.619821   0.942969  0.782565  0.855311  0.689189"
      ]
     },
     "metadata": {},
     "output_type": "display_data"
    },
    {
     "data": {
      "image/png": "[encoded data removed]",
      "text/plain": [
       "<Figure size 640x480 with 1 Axes>"
      ]
     },
     "metadata": {},
     "output_type": "display_data"
    },
    {
     "name": "stdout",
     "output_type": "stream",
     "text": [
      "\n"
     ]
    }
   ],
   "source": [
    "# Seeing if SMOTE improves performance\n",
    "model = LogisticRegression\n",
    "metrics_list = ['accuracy', 'precision', 'recall', 'f1_score', 'auc']\n",
    "params = {'random_state': 42, 'max_iter': 3000, 'n_jobs':-1}\n",
    "results_BEST2 = model_pipeline(X_train_embryos_poly, y_train_embryos, X_test_embryos_poly, y_test_embryos, model, metrics_list, params, \n",
    "k=10, stratified=True, AIC=True, smote=True, SHAP=False, optimal_threshold=True, importances=False, Target='embryos')"
   ]
  },
  {
   "cell_type": "markdown",
   "metadata": {},
   "source": [
    "#### Training the best model"
   ]
  },
  {
   "cell_type": "code",
   "execution_count": 131,
   "metadata": {},
   "outputs": [
    {
     "name": "stdout",
     "output_type": "stream",
     "text": [
      "Average optimal threshold = 0.514\n",
      "AIC: -40236.668\n",
      "BIC: -39476.388\n",
      "\n",
      "CV RESULTS\n"
     ]
    },
    {
     "data": {
      "text/html": [
       "<div>\n",
       "<style scoped>\n",
       "    .dataframe tbody tr th:only-of-type {\n",
       "        vertical-align: middle;\n",
       "    }\n",
       "\n",
       "    .dataframe tbody tr th {\n",
       "        vertical-align: top;\n",
       "    }\n",
       "\n",
       "    .dataframe thead th {\n",
       "        text-align: right;\n",
       "    }\n",
       "</style>\n",
       "<table border=\"1\" class=\"dataframe\">\n",
       "  <thead>\n",
       "    <tr style=\"text-align: right;\">\n",
       "      <th></th>\n",
       "      <th>accuracy</th>\n",
       "      <th>precision</th>\n",
       "      <th>recall</th>\n",
       "      <th>f1_score</th>\n",
       "      <th>auc</th>\n",
       "    </tr>\n",
       "  </thead>\n",
       "  <tbody>\n",
       "    <tr>\n",
       "      <th>Mean</th>\n",
       "      <td>0.612084</td>\n",
       "      <td>0.966055</td>\n",
       "      <td>0.620638</td>\n",
       "      <td>0.754567</td>\n",
       "      <td>0.659255</td>\n",
       "    </tr>\n",
       "    <tr>\n",
       "      <th>Standard Deviation</th>\n",
       "      <td>0.020541</td>\n",
       "      <td>0.004030</td>\n",
       "      <td>0.049425</td>\n",
       "      <td>0.034873</td>\n",
       "      <td>0.023108</td>\n",
       "    </tr>\n",
       "  </tbody>\n",
       "</table>\n",
       "</div>"
      ],
      "text/plain": [
       "                    accuracy  precision    recall  f1_score       auc\n",
       "Mean                0.612084   0.966055  0.620638  0.754567  0.659255\n",
       "Standard Deviation  0.020541   0.004030  0.049425  0.034873  0.023108"
      ]
     },
     "metadata": {},
     "output_type": "display_data"
    },
    {
     "name": "stdout",
     "output_type": "stream",
     "text": [
      "\n",
      "TEST RESULTS\n"
     ]
    },
    {
     "data": {
      "text/html": [
       "<div>\n",
       "<style scoped>\n",
       "    .dataframe tbody tr th:only-of-type {\n",
       "        vertical-align: middle;\n",
       "    }\n",
       "\n",
       "    .dataframe tbody tr th {\n",
       "        vertical-align: top;\n",
       "    }\n",
       "\n",
       "    .dataframe thead th {\n",
       "        text-align: right;\n",
       "    }\n",
       "</style>\n",
       "<table border=\"1\" class=\"dataframe\">\n",
       "  <thead>\n",
       "    <tr style=\"text-align: right;\">\n",
       "      <th></th>\n",
       "      <th>accuracy</th>\n",
       "      <th>precision</th>\n",
       "      <th>recall</th>\n",
       "      <th>f1_score</th>\n",
       "      <th>auc</th>\n",
       "    </tr>\n",
       "  </thead>\n",
       "  <tbody>\n",
       "    <tr>\n",
       "      <th>Value</th>\n",
       "      <td>0.625252</td>\n",
       "      <td>0.944444</td>\n",
       "      <td>0.770227</td>\n",
       "      <td>0.848485</td>\n",
       "      <td>0.702602</td>\n",
       "    </tr>\n",
       "  </tbody>\n",
       "</table>\n",
       "</div>"
      ],
      "text/plain": [
       "       accuracy  precision    recall  f1_score       auc\n",
       "Value  0.625252   0.944444  0.770227  0.848485  0.702602"
      ]
     },
     "metadata": {},
     "output_type": "display_data"
    },
    {
     "data": {
      "image/png": "[encoded data removed]",
      "text/plain": [
       "<Figure size 640x480 with 1 Axes>"
      ]
     },
     "metadata": {},
     "output_type": "display_data"
    },
    {
     "name": "stdout",
     "output_type": "stream",
     "text": [
      "\n",
      "FEATURES ANALYSIS\n"
     ]
    },
    {
     "data": {
      "text/html": [
       "<div>\n",
       "<style scoped>\n",
       "    .dataframe tbody tr th:only-of-type {\n",
       "        vertical-align: middle;\n",
       "    }\n",
       "\n",
       "    .dataframe tbody tr th {\n",
       "        vertical-align: top;\n",
       "    }\n",
       "\n",
       "    .dataframe thead th {\n",
       "        text-align: right;\n",
       "    }\n",
       "</style>\n",
       "<table border=\"1\" class=\"dataframe\">\n",
       "  <thead>\n",
       "    <tr style=\"text-align: right;\">\n",
       "      <th></th>\n",
       "      <th>feature</th>\n",
       "      <th>importance_mean</th>\n",
       "      <th>importance_std</th>\n",
       "    </tr>\n",
       "  </thead>\n",
       "  <tbody>\n",
       "    <tr>\n",
       "      <th>50</th>\n",
       "      <td>CAUSE_OF_INFERTILITY__OVULATORY_DISORDER SPERM...</td>\n",
       "      <td>2.408199</td>\n",
       "      <td>0.078631</td>\n",
       "    </tr>\n",
       "    <tr>\n",
       "      <th>21</th>\n",
       "      <td>PATIENT_AGE_AT_TREATMENT SCREENING</td>\n",
       "      <td>1.451637</td>\n",
       "      <td>0.017577</td>\n",
       "    </tr>\n",
       "    <tr>\n",
       "      <th>63</th>\n",
       "      <td>CAUSE_OF_INFERTILITY__PATIENT_UNEXPLAINED CAUS...</td>\n",
       "      <td>1.236009</td>\n",
       "      <td>0.598528</td>\n",
       "    </tr>\n",
       "    <tr>\n",
       "      <th>64</th>\n",
       "      <td>CAUSE_OF_INFERTILITY__PATIENT_UNEXPLAINED STIM...</td>\n",
       "      <td>1.146612</td>\n",
       "      <td>0.091955</td>\n",
       "    </tr>\n",
       "    <tr>\n",
       "      <th>47</th>\n",
       "      <td>CAUSE_OF_INFERTILITY__OVULATORY_DISORDER CAUSE...</td>\n",
       "      <td>0.960901</td>\n",
       "      <td>0.273543</td>\n",
       "    </tr>\n",
       "    <tr>\n",
       "      <th>48</th>\n",
       "      <td>CAUSE_OF_INFERTILITY__OVULATORY_DISORDER CAUSE...</td>\n",
       "      <td>0.820984</td>\n",
       "      <td>0.161695</td>\n",
       "    </tr>\n",
       "    <tr>\n",
       "      <th>39</th>\n",
       "      <td>CAUSE__OF_INFERTILITY__TUBAL_DISEASE CAUSE_OF_...</td>\n",
       "      <td>0.806853</td>\n",
       "      <td>0.057565</td>\n",
       "    </tr>\n",
       "    <tr>\n",
       "      <th>41</th>\n",
       "      <td>CAUSE__OF_INFERTILITY__TUBAL_DISEASE SPERM_FROM</td>\n",
       "      <td>0.724324</td>\n",
       "      <td>0.294827</td>\n",
       "    </tr>\n",
       "    <tr>\n",
       "      <th>38</th>\n",
       "      <td>CAUSE__OF_INFERTILITY__TUBAL_DISEASE CAUSE_OF_...</td>\n",
       "      <td>0.714228</td>\n",
       "      <td>0.209676</td>\n",
       "    </tr>\n",
       "    <tr>\n",
       "      <th>40</th>\n",
       "      <td>CAUSE__OF_INFERTILITY__TUBAL_DISEASE STIMULATI...</td>\n",
       "      <td>0.707881</td>\n",
       "      <td>0.141192</td>\n",
       "    </tr>\n",
       "    <tr>\n",
       "      <th>76</th>\n",
       "      <td>STIMULATION_USED SPERM_FROM</td>\n",
       "      <td>0.678288</td>\n",
       "      <td>0.181290</td>\n",
       "    </tr>\n",
       "    <tr>\n",
       "      <th>70</th>\n",
       "      <td>CAUSE_OF_INFERTILITY__ENDOMETRIOSIS STIMULATIO...</td>\n",
       "      <td>0.658297</td>\n",
       "      <td>0.206768</td>\n",
       "    </tr>\n",
       "    <tr>\n",
       "      <th>60</th>\n",
       "      <td>CAUSE_OF_INFERTILITY__MALE_FACTOR SPECIFIC_TRE...</td>\n",
       "      <td>0.610060</td>\n",
       "      <td>0.046879</td>\n",
       "    </tr>\n",
       "    <tr>\n",
       "      <th>87</th>\n",
       "      <td>SPECIFIC_TREATMENT_TYPE_IVF^2</td>\n",
       "      <td>0.562835</td>\n",
       "      <td>0.040981</td>\n",
       "    </tr>\n",
       "    <tr>\n",
       "      <th>10</th>\n",
       "      <td>SPECIFIC_TREATMENT_TYPE_IVF</td>\n",
       "      <td>0.562835</td>\n",
       "      <td>0.040981</td>\n",
       "    </tr>\n",
       "    <tr>\n",
       "      <th>37</th>\n",
       "      <td>CAUSE__OF_INFERTILITY__TUBAL_DISEASE CAUSE_OF_...</td>\n",
       "      <td>0.558604</td>\n",
       "      <td>0.076632</td>\n",
       "    </tr>\n",
       "    <tr>\n",
       "      <th>82</th>\n",
       "      <td>SPERM_FROM SPECIFIC_TREATMENT_TYPE_IVF</td>\n",
       "      <td>0.548879</td>\n",
       "      <td>0.080097</td>\n",
       "    </tr>\n",
       "    <tr>\n",
       "      <th>44</th>\n",
       "      <td>CAUSE__OF_INFERTILITY__TUBAL_DISEASE PREVIOUS_...</td>\n",
       "      <td>0.512992</td>\n",
       "      <td>0.142886</td>\n",
       "    </tr>\n",
       "    <tr>\n",
       "      <th>61</th>\n",
       "      <td>CAUSE_OF_INFERTILITY__MALE_FACTOR PREVIOUS_LIV...</td>\n",
       "      <td>0.504913</td>\n",
       "      <td>0.116416</td>\n",
       "    </tr>\n",
       "    <tr>\n",
       "      <th>84</th>\n",
       "      <td>SCREENING^2</td>\n",
       "      <td>0.501867</td>\n",
       "      <td>0.015352</td>\n",
       "    </tr>\n",
       "  </tbody>\n",
       "</table>\n",
       "</div>"
      ],
      "text/plain": [
       "                                              feature  importance_mean  \\\n",
       "50  CAUSE_OF_INFERTILITY__OVULATORY_DISORDER SPERM...         2.408199   \n",
       "21                 PATIENT_AGE_AT_TREATMENT SCREENING         1.451637   \n",
       "63  CAUSE_OF_INFERTILITY__PATIENT_UNEXPLAINED CAUS...         1.236009   \n",
       "64  CAUSE_OF_INFERTILITY__PATIENT_UNEXPLAINED STIM...         1.146612   \n",
       "47  CAUSE_OF_INFERTILITY__OVULATORY_DISORDER CAUSE...         0.960901   \n",
       "48  CAUSE_OF_INFERTILITY__OVULATORY_DISORDER CAUSE...         0.820984   \n",
       "39  CAUSE__OF_INFERTILITY__TUBAL_DISEASE CAUSE_OF_...         0.806853   \n",
       "41    CAUSE__OF_INFERTILITY__TUBAL_DISEASE SPERM_FROM         0.724324   \n",
       "38  CAUSE__OF_INFERTILITY__TUBAL_DISEASE CAUSE_OF_...         0.714228   \n",
       "40  CAUSE__OF_INFERTILITY__TUBAL_DISEASE STIMULATI...         0.707881   \n",
       "76                        STIMULATION_USED SPERM_FROM         0.678288   \n",
       "70  CAUSE_OF_INFERTILITY__ENDOMETRIOSIS STIMULATIO...         0.658297   \n",
       "60  CAUSE_OF_INFERTILITY__MALE_FACTOR SPECIFIC_TRE...         0.610060   \n",
       "87                      SPECIFIC_TREATMENT_TYPE_IVF^2         0.562835   \n",
       "10                        SPECIFIC_TREATMENT_TYPE_IVF         0.562835   \n",
       "37  CAUSE__OF_INFERTILITY__TUBAL_DISEASE CAUSE_OF_...         0.558604   \n",
       "82             SPERM_FROM SPECIFIC_TREATMENT_TYPE_IVF         0.548879   \n",
       "44  CAUSE__OF_INFERTILITY__TUBAL_DISEASE PREVIOUS_...         0.512992   \n",
       "61  CAUSE_OF_INFERTILITY__MALE_FACTOR PREVIOUS_LIV...         0.504913   \n",
       "84                                        SCREENING^2         0.501867   \n",
       "\n",
       "    importance_std  \n",
       "50        0.078631  \n",
       "21        0.017577  \n",
       "63        0.598528  \n",
       "64        0.091955  \n",
       "47        0.273543  \n",
       "48        0.161695  \n",
       "39        0.057565  \n",
       "41        0.294827  \n",
       "38        0.209676  \n",
       "40        0.141192  \n",
       "76        0.181290  \n",
       "70        0.206768  \n",
       "60        0.046879  \n",
       "87        0.040981  \n",
       "10        0.040981  \n",
       "37        0.076632  \n",
       "82        0.080097  \n",
       "44        0.142886  \n",
       "61        0.116416  \n",
       "84        0.015352  "
      ]
     },
     "metadata": {},
     "output_type": "display_data"
    }
   ],
   "source": [
    "model = LogisticRegression\n",
    "metrics_list = ['accuracy', 'precision', 'recall', 'f1_score', 'auc']\n",
    "params = {'penalty': 'l1', 'C':1, 'solver':'saga', 'random_state': 42, 'max_iter': 6000, 'class_weight': 'balanced', 'n_jobs':-1}\n",
    "results_BEST2 = model_pipeline(X_train_embryos_poly, y_train_embryos, X_test_embryos_poly, y_test_embryos, model, metrics_list, params, \n",
    "k=10, stratified=True, AIC=True, smote=False, SHAP=False, optimal_threshold=True, importances=True, Target='embryos')"
   ]
  },
  {
   "cell_type": "code",
   "execution_count": 56,
   "metadata": {},
   "outputs": [
    {
     "name": "stdout",
     "output_type": "stream",
     "text": [
      "The number of non zero coefficients is: 82\n"
     ]
    }
   ],
   "source": [
    "print('The number of non zero coefficients is: '+str((results_BEST2['feature_importances']['importance_mean'] >= 0.001).sum()))"
   ]
  },
  {
   "cell_type": "code",
   "execution_count": 57,
   "metadata": {},
   "outputs": [],
   "source": [
    "with open('STAGE_2_PREDICTIONS.txt', 'w') as f:\n",
    "    for item in results_BEST2['y_test_pred']:\n",
    "        f.write(\"%s\\n\" % item)"
   ]
  },
  {
   "cell_type": "code",
   "execution_count": 258,
   "metadata": {},
   "outputs": [],
   "source": [
    "STAGE_2_PREDICTIONS = read_list_from_file('STAGE_2_PREDICTIONS.txt')"
   ]
  },
  {
   "cell_type": "markdown",
   "metadata": {},
   "source": [
    "#### Compute overall test metrics over the 2 stages"
   ]
  },
  {
   "cell_type": "code",
   "execution_count": 259,
   "metadata": {},
   "outputs": [],
   "source": [
    "X_test_embryos_predicted = X_test_embryos.copy()\n",
    "X_test_embryos_predicted['EMBRYOS_CREATED_BINARY'] = STAGE_2_PREDICTIONS\n",
    "Stage_2_predictions_indexed = X_test_embryos_predicted['EMBRYOS_CREATED_BINARY']"
   ]
  },
  {
   "cell_type": "code",
   "execution_count": 260,
   "metadata": {},
   "outputs": [],
   "source": [
    "X_test_oocytes_embryos = X_test_eggs.copy()\n",
    "X_test_oocytes_embryos['EMBRYOS_CREATED_BINARY'] = Stage_2_predictions_indexed\n",
    "X_test_oocytes_embryos['EMBRYOS_CREATED_BINARY'].fillna(0, inplace=True)"
   ]
  },
  {
   "cell_type": "code",
   "execution_count": 261,
   "metadata": {},
   "outputs": [],
   "source": [
    "y_test_embryos_true = TEST['EMBRYOS_CREATED_BINARY']\n",
    "y_test_embryos_pred = X_test_oocytes_embryos['EMBRYOS_CREATED_BINARY']"
   ]
  },
  {
   "cell_type": "code",
   "execution_count": 75,
   "metadata": {},
   "outputs": [
    {
     "name": "stdout",
     "output_type": "stream",
     "text": [
      "F1 Score: 0.6613407433136506\n",
      "Precision: 0.9444444444444444\n",
      "Precision: 0.5088188134687333\n",
      "Balanced Accuracy: 0.6320050351496671\n",
      "\n"
     ]
    },
    {
     "data": {
      "image/png": "[encoded data removed]",
      "text/plain": [
       "<Figure size 640x480 with 1 Axes>"
      ]
     },
     "metadata": {},
     "output_type": "display_data"
    }
   ],
   "source": [
    "print('F1 Score: '+str(f1_score(y_test_embryos_true, y_test_embryos_pred)))\n",
    "print('Precision: '+str(precision_score(y_test_embryos_true, y_test_embryos_pred)))\n",
    "print('Precision: '+str(recall_score(y_test_embryos_true, y_test_embryos_pred)))\n",
    "print('Balanced Accuracy: '+str(balanced_accuracy_score(y_test_embryos_true, y_test_embryos_pred)))\n",
    "print('')\n",
    "conf_matrix = confusion_matrix(y_test_embryos_true, y_test_embryos_pred)\n",
    "disp = ConfusionMatrixDisplay(confusion_matrix=conf_matrix, display_labels=['No Embryos Created', 'Embryos Created'])\n",
    "disp.plot(cmap=\"Oranges\",  colorbar=False)\n",
    "plt.title('Test Set Confusion Matrix')\n",
    "plt.grid(False)\n",
    "plt.tight_layout()\n",
    "plt.savefig('confusion_matrix_stage2.png', bbox_inches='tight', dpi=600)\n",
    "plt.show()"
   ]
  },
  {
   "cell_type": "markdown",
   "metadata": {},
   "source": [
    "### Training a baseline SLR model for embryo prediction in a single stage"
   ]
  },
  {
   "cell_type": "code",
   "execution_count": 98,
   "metadata": {},
   "outputs": [],
   "source": [
    "TRAIN_temp = pd.read_parquet('TRAIN_2016.parquet')\n",
    "TEST_temp = pd.read_parquet('TEST_2016.parquet')\n",
    "\n",
    "# Convert TOTAL_EMBRYOS_CREATED to binary\n",
    "TRAIN_temp['TOTAL_EMBRYOS_CREATED'] = (TRAIN_temp['TOTAL_EMBRYOS_CREATED'] > 0).astype(int)\n",
    "TRAIN_temp.rename(columns={'TOTAL_EMBRYOS_CREATED': 'EMBRYOS_CREATED_BINARY'}, inplace=True)\n",
    "\n",
    "TEST_temp['TOTAL_EMBRYOS_CREATED'] = (TEST_temp['TOTAL_EMBRYOS_CREATED'] > 0).astype(int)\n",
    "TEST_temp.rename(columns={'TOTAL_EMBRYOS_CREATED': 'EMBRYOS_CREATED_BINARY'}, inplace=True)"
   ]
  },
  {
   "cell_type": "code",
   "execution_count": 106,
   "metadata": {},
   "outputs": [],
   "source": [
    "X_train_embryos_full = TRAIN_temp.drop(['FRESH_EGGS_COLLECTED', 'EMBRYOS_CREATED_BINARY', 'LIVE_BIRTH_OCCURRENCE'], axis=1)\n",
    "y_train_embryos_full = TRAIN_temp['EMBRYOS_CREATED_BINARY']\n",
    "\n",
    "X_test_embryos_full = TEST_temp.drop(['FRESH_EGGS_COLLECTED', 'EMBRYOS_CREATED_BINARY', 'LIVE_BIRTH_OCCURRENCE'], axis=1)\n",
    "y_test_embryos_full = TEST_temp['EMBRYOS_CREATED_BINARY']"
   ]
  },
  {
   "cell_type": "code",
   "execution_count": 241,
   "metadata": {},
   "outputs": [
    {
     "name": "stdout",
     "output_type": "stream",
     "text": [
      "Average optimal threshold = 0.876\n",
      "\n",
      "CV RESULTS\n"
     ]
    },
    {
     "data": {
      "text/html": [
       "<div>\n",
       "<style scoped>\n",
       "    .dataframe tbody tr th:only-of-type {\n",
       "        vertical-align: middle;\n",
       "    }\n",
       "\n",
       "    .dataframe tbody tr th {\n",
       "        vertical-align: top;\n",
       "    }\n",
       "\n",
       "    .dataframe thead th {\n",
       "        text-align: right;\n",
       "    }\n",
       "</style>\n",
       "<table border=\"1\" class=\"dataframe\">\n",
       "  <thead>\n",
       "    <tr style=\"text-align: right;\">\n",
       "      <th></th>\n",
       "      <th>accuracy</th>\n",
       "      <th>precision</th>\n",
       "      <th>recall</th>\n",
       "      <th>f1_score</th>\n",
       "      <th>auc</th>\n",
       "    </tr>\n",
       "  </thead>\n",
       "  <tbody>\n",
       "    <tr>\n",
       "      <th>Mean</th>\n",
       "      <td>0.696364</td>\n",
       "      <td>0.943202</td>\n",
       "      <td>0.758340</td>\n",
       "      <td>0.839965</td>\n",
       "      <td>0.772315</td>\n",
       "    </tr>\n",
       "    <tr>\n",
       "      <th>Standard Deviation</th>\n",
       "      <td>0.012077</td>\n",
       "      <td>0.004008</td>\n",
       "      <td>0.043605</td>\n",
       "      <td>0.026764</td>\n",
       "      <td>0.011661</td>\n",
       "    </tr>\n",
       "  </tbody>\n",
       "</table>\n",
       "</div>"
      ],
      "text/plain": [
       "                    accuracy  precision    recall  f1_score       auc\n",
       "Mean                0.696364   0.943202  0.758340  0.839965  0.772315\n",
       "Standard Deviation  0.012077   0.004008  0.043605  0.026764  0.011661"
      ]
     },
     "metadata": {},
     "output_type": "display_data"
    },
    {
     "name": "stdout",
     "output_type": "stream",
     "text": [
      "\n",
      "TEST RESULTS\n"
     ]
    },
    {
     "data": {
      "text/html": [
       "<div>\n",
       "<style scoped>\n",
       "    .dataframe tbody tr th:only-of-type {\n",
       "        vertical-align: middle;\n",
       "    }\n",
       "\n",
       "    .dataframe tbody tr th {\n",
       "        vertical-align: top;\n",
       "    }\n",
       "\n",
       "    .dataframe thead th {\n",
       "        text-align: right;\n",
       "    }\n",
       "</style>\n",
       "<table border=\"1\" class=\"dataframe\">\n",
       "  <thead>\n",
       "    <tr style=\"text-align: right;\">\n",
       "      <th></th>\n",
       "      <th>accuracy</th>\n",
       "      <th>precision</th>\n",
       "      <th>recall</th>\n",
       "      <th>f1_score</th>\n",
       "      <th>auc</th>\n",
       "    </tr>\n",
       "  </thead>\n",
       "  <tbody>\n",
       "    <tr>\n",
       "      <th>Value</th>\n",
       "      <td>0.693192</td>\n",
       "      <td>0.943293</td>\n",
       "      <td>0.760155</td>\n",
       "      <td>0.841879</td>\n",
       "      <td>0.765753</td>\n",
       "    </tr>\n",
       "  </tbody>\n",
       "</table>\n",
       "</div>"
      ],
      "text/plain": [
       "       accuracy  precision    recall  f1_score       auc\n",
       "Value  0.693192   0.943293  0.760155  0.841879  0.765753"
      ]
     },
     "metadata": {},
     "output_type": "display_data"
    },
    {
     "data": {
      "image/png": "[encoded data removed]",
      "text/plain": [
       "<Figure size 640x480 with 1 Axes>"
      ]
     },
     "metadata": {},
     "output_type": "display_data"
    },
    {
     "name": "stdout",
     "output_type": "stream",
     "text": [
      "\n"
     ]
    }
   ],
   "source": [
    "model = LogisticRegression\n",
    "\n",
    "X_train_embryos_full_poly = create_poly_features(X_train_embryos_full)\n",
    "X_test_embryos_full_poly = create_poly_features(X_test_embryos_full)\n",
    "\n",
    "metrics_list = ['accuracy', 'precision', 'recall', 'f1_score', 'auc']\n",
    "params = {'random_state': 42, 'max_iter': 6000}\n",
    "results_stage2baseline = model_pipeline(X_train_embryos_full_poly, y_train_embryos_full, X_test_embryos_full_poly, y_test_embryos_full, model, metrics_list, params, \n",
    "k=10, stratified=True, AIC=False, smote=False, SHAP=False, optimal_threshold=True, importances=False, Target='embryos')"
   ]
  },
  {
   "cell_type": "code",
   "execution_count": 242,
   "metadata": {},
   "outputs": [],
   "source": [
    "with open('STAGE_2_BASELINE.txt', 'w') as f:\n",
    "    for item in results_stage2baseline['y_test_pred']:\n",
    "        f.write(\"%s\\n\" % item)"
   ]
  },
  {
   "cell_type": "markdown",
   "metadata": {},
   "source": [
    "#"
   ]
  },
  {
   "cell_type": "markdown",
   "metadata": {},
   "source": [
    "## **STAGE 3 MODELS**"
   ]
  },
  {
   "cell_type": "code",
   "execution_count": 262,
   "metadata": {},
   "outputs": [],
   "source": [
    "# Update the test data with the stage 2 predictions to filter on\n",
    "X_test_live_birth['EMBRYOS_CREATED_BINARY'] = y_test_embryos_pred\n",
    "X_test_live_birth = X_test_live_birth[X_test_live_birth['EMBRYOS_CREATED_BINARY'] != 0]\n",
    "y_test_live_birth = X_test_live_birth['LIVE_BIRTH_OCCURRENCE']\n",
    "X_test_live_birth = X_test_live_birth.drop(['EMBRYOS_CREATED_BINARY', 'LIVE_BIRTH_OCCURRENCE'], axis=1)"
   ]
  },
  {
   "cell_type": "markdown",
   "metadata": {},
   "source": [
    "### Logistic Regression (LR)"
   ]
  },
  {
   "cell_type": "code",
   "execution_count": 263,
   "metadata": {},
   "outputs": [
    {
     "name": "stdout",
     "output_type": "stream",
     "text": [
      "Average optimal threshold = 0.474\n",
      "AIC: -39560.634\n",
      "BIC: -39452.68\n",
      "\n",
      "CV RESULTS\n"
     ]
    },
    {
     "data": {
      "text/html": [
       "<div>\n",
       "<style scoped>\n",
       "    .dataframe tbody tr th:only-of-type {\n",
       "        vertical-align: middle;\n",
       "    }\n",
       "\n",
       "    .dataframe tbody tr th {\n",
       "        vertical-align: top;\n",
       "    }\n",
       "\n",
       "    .dataframe thead th {\n",
       "        text-align: right;\n",
       "    }\n",
       "</style>\n",
       "<table border=\"1\" class=\"dataframe\">\n",
       "  <thead>\n",
       "    <tr style=\"text-align: right;\">\n",
       "      <th></th>\n",
       "      <th>accuracy</th>\n",
       "      <th>precision</th>\n",
       "      <th>recall</th>\n",
       "      <th>f1_score</th>\n",
       "      <th>auc</th>\n",
       "    </tr>\n",
       "  </thead>\n",
       "  <tbody>\n",
       "    <tr>\n",
       "      <th>Mean</th>\n",
       "      <td>0.596336</td>\n",
       "      <td>0.368372</td>\n",
       "      <td>0.759931</td>\n",
       "      <td>0.496117</td>\n",
       "      <td>0.630041</td>\n",
       "    </tr>\n",
       "    <tr>\n",
       "      <th>Standard Deviation</th>\n",
       "      <td>0.006615</td>\n",
       "      <td>0.003764</td>\n",
       "      <td>0.024963</td>\n",
       "      <td>0.007577</td>\n",
       "      <td>0.008383</td>\n",
       "    </tr>\n",
       "  </tbody>\n",
       "</table>\n",
       "</div>"
      ],
      "text/plain": [
       "                    accuracy  precision    recall  f1_score       auc\n",
       "Mean                0.596336   0.368372  0.759931  0.496117  0.630041\n",
       "Standard Deviation  0.006615   0.003764  0.024963  0.007577  0.008383"
      ]
     },
     "metadata": {},
     "output_type": "display_data"
    },
    {
     "name": "stdout",
     "output_type": "stream",
     "text": [
      "\n",
      "TEST RESULTS\n"
     ]
    },
    {
     "data": {
      "text/html": [
       "<div>\n",
       "<style scoped>\n",
       "    .dataframe tbody tr th:only-of-type {\n",
       "        vertical-align: middle;\n",
       "    }\n",
       "\n",
       "    .dataframe tbody tr th {\n",
       "        vertical-align: top;\n",
       "    }\n",
       "\n",
       "    .dataframe thead th {\n",
       "        text-align: right;\n",
       "    }\n",
       "</style>\n",
       "<table border=\"1\" class=\"dataframe\">\n",
       "  <thead>\n",
       "    <tr style=\"text-align: right;\">\n",
       "      <th></th>\n",
       "      <th>accuracy</th>\n",
       "      <th>precision</th>\n",
       "      <th>recall</th>\n",
       "      <th>f1_score</th>\n",
       "      <th>auc</th>\n",
       "    </tr>\n",
       "  </thead>\n",
       "  <tbody>\n",
       "    <tr>\n",
       "      <th>Value</th>\n",
       "      <td>0.521247</td>\n",
       "      <td>0.3452</td>\n",
       "      <td>0.878248</td>\n",
       "      <td>0.495601</td>\n",
       "      <td>0.534058</td>\n",
       "    </tr>\n",
       "  </tbody>\n",
       "</table>\n",
       "</div>"
      ],
      "text/plain": [
       "       accuracy  precision    recall  f1_score       auc\n",
       "Value  0.521247     0.3452  0.878248  0.495601  0.534058"
      ]
     },
     "metadata": {},
     "output_type": "display_data"
    },
    {
     "data": {
      "image/png": "[encoded data removed]",
      "text/plain": [
       "<Figure size 640x480 with 1 Axes>"
      ]
     },
     "metadata": {},
     "output_type": "display_data"
    },
    {
     "name": "stdout",
     "output_type": "stream",
     "text": [
      "\n"
     ]
    }
   ],
   "source": [
    "# Simple Logistic Regression with OPTIMAL THRESHOLD\n",
    "model = LogisticRegression\n",
    "metrics_list = ['accuracy', 'precision', 'recall', 'f1_score', 'auc']\n",
    "params = {'max_iter':1000, 'random_state': 42, 'class_weight':'balanced'}\n",
    "results_LR = model_pipeline(X_train_live_birth, y_train_live_birth, X_test_live_birth, y_test_live_birth, model, metrics_list, params, \n",
    "k=10, stratified=True, AIC=True, smote=False, SHAP=False, optimal_threshold=True)"
   ]
  },
  {
   "cell_type": "markdown",
   "metadata": {},
   "source": [
    "### Squared Logistic Regression (SLR)"
   ]
  },
  {
   "cell_type": "code",
   "execution_count": 214,
   "metadata": {},
   "outputs": [
    {
     "name": "stdout",
     "output_type": "stream",
     "text": [
      "Average optimal threshold = 0.509\n",
      "AIC: -39221.316\n",
      "BIC: -38465.639\n",
      "\n",
      "CV RESULTS\n"
     ]
    },
    {
     "data": {
      "text/html": [
       "<div>\n",
       "<style scoped>\n",
       "    .dataframe tbody tr th:only-of-type {\n",
       "        vertical-align: middle;\n",
       "    }\n",
       "\n",
       "    .dataframe tbody tr th {\n",
       "        vertical-align: top;\n",
       "    }\n",
       "\n",
       "    .dataframe thead th {\n",
       "        text-align: right;\n",
       "    }\n",
       "</style>\n",
       "<table border=\"1\" class=\"dataframe\">\n",
       "  <thead>\n",
       "    <tr style=\"text-align: right;\">\n",
       "      <th></th>\n",
       "      <th>accuracy</th>\n",
       "      <th>precision</th>\n",
       "      <th>recall</th>\n",
       "      <th>f1_score</th>\n",
       "      <th>auc</th>\n",
       "    </tr>\n",
       "  </thead>\n",
       "  <tbody>\n",
       "    <tr>\n",
       "      <th>Mean</th>\n",
       "      <td>0.597675</td>\n",
       "      <td>0.373485</td>\n",
       "      <td>0.725927</td>\n",
       "      <td>0.492974</td>\n",
       "      <td>0.630595</td>\n",
       "    </tr>\n",
       "    <tr>\n",
       "      <th>Standard Deviation</th>\n",
       "      <td>0.007372</td>\n",
       "      <td>0.006518</td>\n",
       "      <td>0.028255</td>\n",
       "      <td>0.007480</td>\n",
       "      <td>0.008806</td>\n",
       "    </tr>\n",
       "  </tbody>\n",
       "</table>\n",
       "</div>"
      ],
      "text/plain": [
       "                    accuracy  precision    recall  f1_score       auc\n",
       "Mean                0.597675   0.373485  0.725927  0.492974  0.630595\n",
       "Standard Deviation  0.007372   0.006518  0.028255  0.007480  0.008806"
      ]
     },
     "metadata": {},
     "output_type": "display_data"
    },
    {
     "name": "stdout",
     "output_type": "stream",
     "text": [
      "\n",
      "TEST RESULTS\n"
     ]
    },
    {
     "data": {
      "text/html": [
       "<div>\n",
       "<style scoped>\n",
       "    .dataframe tbody tr th:only-of-type {\n",
       "        vertical-align: middle;\n",
       "    }\n",
       "\n",
       "    .dataframe tbody tr th {\n",
       "        vertical-align: top;\n",
       "    }\n",
       "\n",
       "    .dataframe thead th {\n",
       "        text-align: right;\n",
       "    }\n",
       "</style>\n",
       "<table border=\"1\" class=\"dataframe\">\n",
       "  <thead>\n",
       "    <tr style=\"text-align: right;\">\n",
       "      <th></th>\n",
       "      <th>accuracy</th>\n",
       "      <th>precision</th>\n",
       "      <th>recall</th>\n",
       "      <th>f1_score</th>\n",
       "      <th>auc</th>\n",
       "    </tr>\n",
       "  </thead>\n",
       "  <tbody>\n",
       "    <tr>\n",
       "      <th>Value</th>\n",
       "      <td>0.525025</td>\n",
       "      <td>0.347773</td>\n",
       "      <td>0.846325</td>\n",
       "      <td>0.492973</td>\n",
       "      <td>0.531243</td>\n",
       "    </tr>\n",
       "  </tbody>\n",
       "</table>\n",
       "</div>"
      ],
      "text/plain": [
       "       accuracy  precision    recall  f1_score       auc\n",
       "Value  0.525025   0.347773  0.846325  0.492973  0.531243"
      ]
     },
     "metadata": {},
     "output_type": "display_data"
    },
    {
     "data": {
      "image/png": "[encoded data removed]",
      "text/plain": [
       "<Figure size 640x480 with 1 Axes>"
      ]
     },
     "metadata": {},
     "output_type": "display_data"
    },
    {
     "name": "stdout",
     "output_type": "stream",
     "text": [
      "\n"
     ]
    }
   ],
   "source": [
    "# Squared Logistic Regression with OPTIMAL THRESHOLD\n",
    "X_train_live_birth_poly = create_poly_features(X_train_live_birth)\n",
    "X_test_live_birth_poly = create_poly_features(X_test_live_birth)\n",
    "model = LogisticRegression\n",
    "metrics_list = ['accuracy', 'precision', 'recall', 'f1_score', 'auc']\n",
    "params = {'max_iter':2000, 'random_state': 42, 'class_weight': 'balanced'}\n",
    "results_LR2 = model_pipeline(X_train_live_birth_poly, y_train_live_birth, X_test_live_birth_poly, y_test_live_birth, model, metrics_list, params, \n",
    "k=10, stratified=True, AIC=True, smote=False, SHAP=False, optimal_threshold=True)"
   ]
  },
  {
   "cell_type": "markdown",
   "metadata": {},
   "source": [
    "### Random Forest (RF)"
   ]
  },
  {
   "cell_type": "code",
   "execution_count": 218,
   "metadata": {},
   "outputs": [
    {
     "name": "stdout",
     "output_type": "stream",
     "text": [
      "Average optimal threshold = 0.485\n",
      "\n",
      "CV RESULTS\n"
     ]
    },
    {
     "data": {
      "text/html": [
       "<div>\n",
       "<style scoped>\n",
       "    .dataframe tbody tr th:only-of-type {\n",
       "        vertical-align: middle;\n",
       "    }\n",
       "\n",
       "    .dataframe tbody tr th {\n",
       "        vertical-align: top;\n",
       "    }\n",
       "\n",
       "    .dataframe thead th {\n",
       "        text-align: right;\n",
       "    }\n",
       "</style>\n",
       "<table border=\"1\" class=\"dataframe\">\n",
       "  <thead>\n",
       "    <tr style=\"text-align: right;\">\n",
       "      <th></th>\n",
       "      <th>accuracy</th>\n",
       "      <th>precision</th>\n",
       "      <th>recall</th>\n",
       "      <th>f1_score</th>\n",
       "      <th>auc</th>\n",
       "    </tr>\n",
       "  </thead>\n",
       "  <tbody>\n",
       "    <tr>\n",
       "      <th>Mean</th>\n",
       "      <td>0.585973</td>\n",
       "      <td>0.364642</td>\n",
       "      <td>0.712668</td>\n",
       "      <td>0.482348</td>\n",
       "      <td>0.607194</td>\n",
       "    </tr>\n",
       "    <tr>\n",
       "      <th>Standard Deviation</th>\n",
       "      <td>0.008802</td>\n",
       "      <td>0.006372</td>\n",
       "      <td>0.022207</td>\n",
       "      <td>0.008957</td>\n",
       "      <td>0.012350</td>\n",
       "    </tr>\n",
       "  </tbody>\n",
       "</table>\n",
       "</div>"
      ],
      "text/plain": [
       "                    accuracy  precision    recall  f1_score       auc\n",
       "Mean                0.585973   0.364642  0.712668  0.482348  0.607194\n",
       "Standard Deviation  0.008802   0.006372  0.022207  0.008957  0.012350"
      ]
     },
     "metadata": {},
     "output_type": "display_data"
    },
    {
     "name": "stdout",
     "output_type": "stream",
     "text": [
      "\n",
      "TEST RESULTS\n"
     ]
    },
    {
     "data": {
      "text/html": [
       "<div>\n",
       "<style scoped>\n",
       "    .dataframe tbody tr th:only-of-type {\n",
       "        vertical-align: middle;\n",
       "    }\n",
       "\n",
       "    .dataframe tbody tr th {\n",
       "        vertical-align: top;\n",
       "    }\n",
       "\n",
       "    .dataframe thead th {\n",
       "        text-align: right;\n",
       "    }\n",
       "</style>\n",
       "<table border=\"1\" class=\"dataframe\">\n",
       "  <thead>\n",
       "    <tr style=\"text-align: right;\">\n",
       "      <th></th>\n",
       "      <th>accuracy</th>\n",
       "      <th>precision</th>\n",
       "      <th>recall</th>\n",
       "      <th>f1_score</th>\n",
       "      <th>auc</th>\n",
       "    </tr>\n",
       "  </thead>\n",
       "  <tbody>\n",
       "    <tr>\n",
       "      <th>Value</th>\n",
       "      <td>0.522805</td>\n",
       "      <td>0.34665</td>\n",
       "      <td>0.837416</td>\n",
       "      <td>0.490328</td>\n",
       "      <td>0.527405</td>\n",
       "    </tr>\n",
       "  </tbody>\n",
       "</table>\n",
       "</div>"
      ],
      "text/plain": [
       "       accuracy  precision    recall  f1_score       auc\n",
       "Value  0.522805    0.34665  0.837416  0.490328  0.527405"
      ]
     },
     "metadata": {},
     "output_type": "display_data"
    },
    {
     "data": {
      "image/png": "[encoded data removed]",
      "text/plain": [
       "<Figure size 640x480 with 1 Axes>"
      ]
     },
     "metadata": {},
     "output_type": "display_data"
    },
    {
     "name": "stdout",
     "output_type": "stream",
     "text": [
      "\n"
     ]
    }
   ],
   "source": [
    "# Random Forest\n",
    "model = RandomForestClassifier\n",
    "metrics_list = ['accuracy', 'precision', 'recall', 'f1_score', 'auc']\n",
    "params = {'random_state': 42, 'n_estimators': 100, 'class_weight': 'balanced'}\n",
    "results_RF = model_pipeline(X_train_live_birth, y_train_live_birth, X_test_live_birth, y_test_live_birth, model, metrics_list, params, \n",
    "k=10, stratified=True, AIC=False, smote=False, SHAP=False, optimal_threshold=True)"
   ]
  },
  {
   "cell_type": "markdown",
   "metadata": {},
   "source": [
    "### XGBoost (XGB)"
   ]
  },
  {
   "cell_type": "code",
   "execution_count": 217,
   "metadata": {},
   "outputs": [
    {
     "name": "stdout",
     "output_type": "stream",
     "text": [
      "Average optimal threshold = 0.024\n",
      "\n",
      "CV RESULTS\n"
     ]
    },
    {
     "data": {
      "text/html": [
       "<div>\n",
       "<style scoped>\n",
       "    .dataframe tbody tr th:only-of-type {\n",
       "        vertical-align: middle;\n",
       "    }\n",
       "\n",
       "    .dataframe tbody tr th {\n",
       "        vertical-align: top;\n",
       "    }\n",
       "\n",
       "    .dataframe thead th {\n",
       "        text-align: right;\n",
       "    }\n",
       "</style>\n",
       "<table border=\"1\" class=\"dataframe\">\n",
       "  <thead>\n",
       "    <tr style=\"text-align: right;\">\n",
       "      <th></th>\n",
       "      <th>accuracy</th>\n",
       "      <th>precision</th>\n",
       "      <th>recall</th>\n",
       "      <th>f1_score</th>\n",
       "      <th>auc</th>\n",
       "    </tr>\n",
       "  </thead>\n",
       "  <tbody>\n",
       "    <tr>\n",
       "      <th>Mean</th>\n",
       "      <td>0.594101</td>\n",
       "      <td>0.370634</td>\n",
       "      <td>0.723058</td>\n",
       "      <td>0.489857</td>\n",
       "      <td>0.624833</td>\n",
       "    </tr>\n",
       "    <tr>\n",
       "      <th>Standard Deviation</th>\n",
       "      <td>0.005757</td>\n",
       "      <td>0.005055</td>\n",
       "      <td>0.027368</td>\n",
       "      <td>0.006377</td>\n",
       "      <td>0.009244</td>\n",
       "    </tr>\n",
       "  </tbody>\n",
       "</table>\n",
       "</div>"
      ],
      "text/plain": [
       "                    accuracy  precision    recall  f1_score       auc\n",
       "Mean                0.594101   0.370634  0.723058  0.489857  0.624833\n",
       "Standard Deviation  0.005757   0.005055  0.027368  0.006377  0.009244"
      ]
     },
     "metadata": {},
     "output_type": "display_data"
    },
    {
     "name": "stdout",
     "output_type": "stream",
     "text": [
      "\n",
      "TEST RESULTS\n"
     ]
    },
    {
     "data": {
      "text/html": [
       "<div>\n",
       "<style scoped>\n",
       "    .dataframe tbody tr th:only-of-type {\n",
       "        vertical-align: middle;\n",
       "    }\n",
       "\n",
       "    .dataframe tbody tr th {\n",
       "        vertical-align: top;\n",
       "    }\n",
       "\n",
       "    .dataframe thead th {\n",
       "        text-align: right;\n",
       "    }\n",
       "</style>\n",
       "<table border=\"1\" class=\"dataframe\">\n",
       "  <thead>\n",
       "    <tr style=\"text-align: right;\">\n",
       "      <th></th>\n",
       "      <th>accuracy</th>\n",
       "      <th>precision</th>\n",
       "      <th>recall</th>\n",
       "      <th>f1_score</th>\n",
       "      <th>auc</th>\n",
       "    </tr>\n",
       "  </thead>\n",
       "  <tbody>\n",
       "    <tr>\n",
       "      <th>Value</th>\n",
       "      <td>0.522044</td>\n",
       "      <td>0.346072</td>\n",
       "      <td>0.847068</td>\n",
       "      <td>0.491387</td>\n",
       "      <td>0.534945</td>\n",
       "    </tr>\n",
       "  </tbody>\n",
       "</table>\n",
       "</div>"
      ],
      "text/plain": [
       "       accuracy  precision    recall  f1_score       auc\n",
       "Value  0.522044   0.346072  0.847068  0.491387  0.534945"
      ]
     },
     "metadata": {},
     "output_type": "display_data"
    },
    {
     "data": {
      "image/png": "[encoded data removed]",
      "text/plain": [
       "<Figure size 640x480 with 1 Axes>"
      ]
     },
     "metadata": {},
     "output_type": "display_data"
    },
    {
     "name": "stdout",
     "output_type": "stream",
     "text": [
      "\n"
     ]
    }
   ],
   "source": [
    "# XGBoost\n",
    "counter = Counter(y_train_embryos)\n",
    "estimate = counter[0] / counter[1]\n",
    "model = XGBClassifier\n",
    "metrics_list = ['accuracy', 'precision', 'recall', 'f1_score', 'auc']\n",
    "params = {'random_state': 42, 'scale_pos_weight': estimate}\n",
    "results_XGB = model_pipeline(X_train_live_birth, y_train_live_birth, X_test_live_birth, y_test_live_birth, model, metrics_list, params, \n",
    "k=10, stratified=True, AIC=False, smote=False, SHAP=False, optimal_threshold=True)"
   ]
  },
  {
   "cell_type": "markdown",
   "metadata": {},
   "source": [
    "### Multilayer Perceptron (MLP)"
   ]
  },
  {
   "cell_type": "code",
   "execution_count": 219,
   "metadata": {},
   "outputs": [
    {
     "name": "stdout",
     "output_type": "stream",
     "text": [
      "Average optimal threshold = 0.308\n",
      "\n",
      "CV RESULTS\n"
     ]
    },
    {
     "data": {
      "text/html": [
       "<div>\n",
       "<style scoped>\n",
       "    .dataframe tbody tr th:only-of-type {\n",
       "        vertical-align: middle;\n",
       "    }\n",
       "\n",
       "    .dataframe tbody tr th {\n",
       "        vertical-align: top;\n",
       "    }\n",
       "\n",
       "    .dataframe thead th {\n",
       "        text-align: right;\n",
       "    }\n",
       "</style>\n",
       "<table border=\"1\" class=\"dataframe\">\n",
       "  <thead>\n",
       "    <tr style=\"text-align: right;\">\n",
       "      <th></th>\n",
       "      <th>accuracy</th>\n",
       "      <th>precision</th>\n",
       "      <th>recall</th>\n",
       "      <th>f1_score</th>\n",
       "      <th>auc</th>\n",
       "    </tr>\n",
       "  </thead>\n",
       "  <tbody>\n",
       "    <tr>\n",
       "      <th>Mean</th>\n",
       "      <td>0.596896</td>\n",
       "      <td>0.372416</td>\n",
       "      <td>0.728793</td>\n",
       "      <td>0.492828</td>\n",
       "      <td>0.626701</td>\n",
       "    </tr>\n",
       "    <tr>\n",
       "      <th>Standard Deviation</th>\n",
       "      <td>0.008716</td>\n",
       "      <td>0.007131</td>\n",
       "      <td>0.019098</td>\n",
       "      <td>0.007904</td>\n",
       "      <td>0.010167</td>\n",
       "    </tr>\n",
       "  </tbody>\n",
       "</table>\n",
       "</div>"
      ],
      "text/plain": [
       "                    accuracy  precision    recall  f1_score       auc\n",
       "Mean                0.596896   0.372416  0.728793  0.492828  0.626701\n",
       "Standard Deviation  0.008716   0.007131  0.019098  0.007904  0.010167"
      ]
     },
     "metadata": {},
     "output_type": "display_data"
    },
    {
     "name": "stdout",
     "output_type": "stream",
     "text": [
      "\n",
      "TEST RESULTS\n"
     ]
    },
    {
     "data": {
      "text/html": [
       "<div>\n",
       "<style scoped>\n",
       "    .dataframe tbody tr th:only-of-type {\n",
       "        vertical-align: middle;\n",
       "    }\n",
       "\n",
       "    .dataframe tbody tr th {\n",
       "        vertical-align: top;\n",
       "    }\n",
       "\n",
       "    .dataframe thead th {\n",
       "        text-align: right;\n",
       "    }\n",
       "</style>\n",
       "<table border=\"1\" class=\"dataframe\">\n",
       "  <thead>\n",
       "    <tr style=\"text-align: right;\">\n",
       "      <th></th>\n",
       "      <th>accuracy</th>\n",
       "      <th>precision</th>\n",
       "      <th>recall</th>\n",
       "      <th>f1_score</th>\n",
       "      <th>auc</th>\n",
       "    </tr>\n",
       "  </thead>\n",
       "  <tbody>\n",
       "    <tr>\n",
       "      <th>Value</th>\n",
       "      <td>0.523535</td>\n",
       "      <td>0.346926</td>\n",
       "      <td>0.846325</td>\n",
       "      <td>0.492122</td>\n",
       "      <td>0.532673</td>\n",
       "    </tr>\n",
       "  </tbody>\n",
       "</table>\n",
       "</div>"
      ],
      "text/plain": [
       "       accuracy  precision    recall  f1_score       auc\n",
       "Value  0.523535   0.346926  0.846325  0.492122  0.532673"
      ]
     },
     "metadata": {},
     "output_type": "display_data"
    },
    {
     "data": {
      "image/png": "[encoded data removed]",
      "text/plain": [
       "<Figure size 640x480 with 1 Axes>"
      ]
     },
     "metadata": {},
     "output_type": "display_data"
    },
    {
     "name": "stdout",
     "output_type": "stream",
     "text": [
      "\n"
     ]
    }
   ],
   "source": [
    "# Multilayer Perceptron\n",
    "model = MLPClassifier\n",
    "metrics_list = ['accuracy', 'precision', 'recall', 'f1_score', 'auc']\n",
    "params = {'random_state': 42, 'max_iter': 1000}\n",
    "# hyperparams={'model__hidden_layer_sizes': [(50,), (100,), (150,)]\n",
    "results_MLP = model_pipeline(X_train_live_birth, y_train_live_birth, X_test_live_birth, y_test_live_birth, model, metrics_list, params, \n",
    "k=10, stratified=True, AIC=False, smote=False, SHAP=False, optimal_threshold=True)"
   ]
  },
  {
   "cell_type": "markdown",
   "metadata": {},
   "source": [
    "### Tuning the Logistic Regression"
   ]
  },
  {
   "cell_type": "code",
   "execution_count": 264,
   "metadata": {},
   "outputs": [
    {
     "name": "stdout",
     "output_type": "stream",
     "text": [
      "Fitting 10 folds for each of 5 candidates, totalling 50 fits\n",
      "{'C': 0.001}\n"
     ]
    }
   ],
   "source": [
    "model = LogisticRegression(penalty='l1', solver='saga', max_iter=6000, random_state = 42, class_weight='balanced')\n",
    "\n",
    "# Define the parameter grid for C\n",
    "param_grid = {\n",
    "    'C': [0.001, 0.01, 0.1, 1, 10]\n",
    "}\n",
    "\n",
    "# Call the compute_grid_search function\n",
    "grid_search_result = compute_grid_search(model, param_grid, X_train_live_birth, y_train_live_birth)"
   ]
  },
  {
   "cell_type": "code",
   "execution_count": 225,
   "metadata": {},
   "outputs": [
    {
     "name": "stdout",
     "output_type": "stream",
     "text": [
      "Average optimal threshold = 0.509\n",
      "AIC: -39259.282\n",
      "BIC: -38503.605\n",
      "\n",
      "CV RESULTS\n"
     ]
    },
    {
     "data": {
      "text/html": [
       "<div>\n",
       "<style scoped>\n",
       "    .dataframe tbody tr th:only-of-type {\n",
       "        vertical-align: middle;\n",
       "    }\n",
       "\n",
       "    .dataframe tbody tr th {\n",
       "        vertical-align: top;\n",
       "    }\n",
       "\n",
       "    .dataframe thead th {\n",
       "        text-align: right;\n",
       "    }\n",
       "</style>\n",
       "<table border=\"1\" class=\"dataframe\">\n",
       "  <thead>\n",
       "    <tr style=\"text-align: right;\">\n",
       "      <th></th>\n",
       "      <th>accuracy</th>\n",
       "      <th>precision</th>\n",
       "      <th>recall</th>\n",
       "      <th>f1_score</th>\n",
       "      <th>auc</th>\n",
       "    </tr>\n",
       "  </thead>\n",
       "  <tbody>\n",
       "    <tr>\n",
       "      <th>Mean</th>\n",
       "      <td>0.595940</td>\n",
       "      <td>0.372778</td>\n",
       "      <td>0.737073</td>\n",
       "      <td>0.492541</td>\n",
       "      <td>0.629240</td>\n",
       "    </tr>\n",
       "    <tr>\n",
       "      <th>Standard Deviation</th>\n",
       "      <td>0.008552</td>\n",
       "      <td>0.007216</td>\n",
       "      <td>0.026399</td>\n",
       "      <td>0.009250</td>\n",
       "      <td>0.009187</td>\n",
       "    </tr>\n",
       "  </tbody>\n",
       "</table>\n",
       "</div>"
      ],
      "text/plain": [
       "                    accuracy  precision    recall  f1_score       auc\n",
       "Mean                0.595940   0.372778  0.737073  0.492541  0.629240\n",
       "Standard Deviation  0.008552   0.007216  0.026399  0.009250  0.009187"
      ]
     },
     "metadata": {},
     "output_type": "display_data"
    },
    {
     "name": "stdout",
     "output_type": "stream",
     "text": [
      "\n",
      "TEST RESULTS\n"
     ]
    },
    {
     "data": {
      "text/html": [
       "<div>\n",
       "<style scoped>\n",
       "    .dataframe tbody tr th:only-of-type {\n",
       "        vertical-align: middle;\n",
       "    }\n",
       "\n",
       "    .dataframe tbody tr th {\n",
       "        vertical-align: top;\n",
       "    }\n",
       "\n",
       "    .dataframe thead th {\n",
       "        text-align: right;\n",
       "    }\n",
       "</style>\n",
       "<table border=\"1\" class=\"dataframe\">\n",
       "  <thead>\n",
       "    <tr style=\"text-align: right;\">\n",
       "      <th></th>\n",
       "      <th>accuracy</th>\n",
       "      <th>precision</th>\n",
       "      <th>recall</th>\n",
       "      <th>f1_score</th>\n",
       "      <th>auc</th>\n",
       "    </tr>\n",
       "  </thead>\n",
       "  <tbody>\n",
       "    <tr>\n",
       "      <th>Value</th>\n",
       "      <td>0.520711</td>\n",
       "      <td>0.345083</td>\n",
       "      <td>0.864885</td>\n",
       "      <td>0.493331</td>\n",
       "      <td>0.532151</td>\n",
       "    </tr>\n",
       "  </tbody>\n",
       "</table>\n",
       "</div>"
      ],
      "text/plain": [
       "       accuracy  precision    recall  f1_score       auc\n",
       "Value  0.520711   0.345083  0.864885  0.493331  0.532151"
      ]
     },
     "metadata": {},
     "output_type": "display_data"
    },
    {
     "data": {
      "image/png": "[encoded data removed]",
      "text/plain": [
       "<Figure size 640x480 with 1 Axes>"
      ]
     },
     "metadata": {},
     "output_type": "display_data"
    },
    {
     "name": "stdout",
     "output_type": "stream",
     "text": [
      "\n"
     ]
    }
   ],
   "source": [
    "# Seeing if SMOTE improves performance - NO\n",
    "model = LogisticRegression\n",
    "metrics_list = ['accuracy', 'precision', 'recall', 'f1_score', 'auc']\n",
    "params = {'random_state': 42, 'max_iter': 3000, 'n_jobs':-1}\n",
    "results_BEST2 = model_pipeline(X_train_live_birth_poly, y_train_live_birth, X_test_live_birth_poly, y_test_live_birth, model, metrics_list, params, \n",
    "k=10, stratified=True, AIC=True, smote=True, SHAP=False, optimal_threshold=True, importances=False)"
   ]
  },
  {
   "cell_type": "markdown",
   "metadata": {},
   "source": [
    "### Training the best model"
   ]
  },
  {
   "cell_type": "code",
   "execution_count": 294,
   "metadata": {},
   "outputs": [
    {
     "name": "stdout",
     "output_type": "stream",
     "text": [
      "Average optimal threshold = 0.5\n",
      "AIC: -39817.765\n",
      "BIC: -39709.811\n",
      "\n",
      "CV RESULTS\n"
     ]
    },
    {
     "data": {
      "text/html": [
       "<div>\n",
       "<style scoped>\n",
       "    .dataframe tbody tr th:only-of-type {\n",
       "        vertical-align: middle;\n",
       "    }\n",
       "\n",
       "    .dataframe tbody tr th {\n",
       "        vertical-align: top;\n",
       "    }\n",
       "\n",
       "    .dataframe thead th {\n",
       "        text-align: right;\n",
       "    }\n",
       "</style>\n",
       "<table border=\"1\" class=\"dataframe\">\n",
       "  <thead>\n",
       "    <tr style=\"text-align: right;\">\n",
       "      <th></th>\n",
       "      <th>accuracy</th>\n",
       "      <th>precision</th>\n",
       "      <th>recall</th>\n",
       "      <th>f1_score</th>\n",
       "      <th>auc</th>\n",
       "    </tr>\n",
       "  </thead>\n",
       "  <tbody>\n",
       "    <tr>\n",
       "      <th>Mean</th>\n",
       "      <td>0.595767</td>\n",
       "      <td>0.363633</td>\n",
       "      <td>0.804658</td>\n",
       "      <td>0.500886</td>\n",
       "      <td>0.618116</td>\n",
       "    </tr>\n",
       "    <tr>\n",
       "      <th>Standard Deviation</th>\n",
       "      <td>0.005263</td>\n",
       "      <td>0.003477</td>\n",
       "      <td>0.010998</td>\n",
       "      <td>0.004698</td>\n",
       "      <td>0.007555</td>\n",
       "    </tr>\n",
       "  </tbody>\n",
       "</table>\n",
       "</div>"
      ],
      "text/plain": [
       "                    accuracy  precision    recall  f1_score       auc\n",
       "Mean                0.595767   0.363633  0.804658  0.500886  0.618116\n",
       "Standard Deviation  0.005263   0.003477  0.010998  0.004698  0.007555"
      ]
     },
     "metadata": {},
     "output_type": "display_data"
    },
    {
     "name": "stdout",
     "output_type": "stream",
     "text": [
      "\n",
      "TEST RESULTS\n"
     ]
    },
    {
     "data": {
      "text/html": [
       "<div>\n",
       "<style scoped>\n",
       "    .dataframe tbody tr th:only-of-type {\n",
       "        vertical-align: middle;\n",
       "    }\n",
       "\n",
       "    .dataframe tbody tr th {\n",
       "        vertical-align: top;\n",
       "    }\n",
       "\n",
       "    .dataframe thead th {\n",
       "        text-align: right;\n",
       "    }\n",
       "</style>\n",
       "<table border=\"1\" class=\"dataframe\">\n",
       "  <thead>\n",
       "    <tr style=\"text-align: right;\">\n",
       "      <th></th>\n",
       "      <th>accuracy</th>\n",
       "      <th>precision</th>\n",
       "      <th>recall</th>\n",
       "      <th>f1_score</th>\n",
       "      <th>auc</th>\n",
       "    </tr>\n",
       "  </thead>\n",
       "  <tbody>\n",
       "    <tr>\n",
       "      <th>Value</th>\n",
       "      <td>0.533125</td>\n",
       "      <td>0.357254</td>\n",
       "      <td>0.68003</td>\n",
       "      <td>0.468422</td>\n",
       "      <td>0.53794</td>\n",
       "    </tr>\n",
       "  </tbody>\n",
       "</table>\n",
       "</div>"
      ],
      "text/plain": [
       "       accuracy  precision   recall  f1_score      auc\n",
       "Value  0.533125   0.357254  0.68003  0.468422  0.53794"
      ]
     },
     "metadata": {},
     "output_type": "display_data"
    },
    {
     "data": {
      "image/png": "[encoded data removed]",
      "text/plain": [
       "<Figure size 640x480 with 1 Axes>"
      ]
     },
     "metadata": {},
     "output_type": "display_data"
    },
    {
     "name": "stdout",
     "output_type": "stream",
     "text": [
      "\n",
      "FEATURES ANALYSIS\n"
     ]
    },
    {
     "data": {
      "text/html": [
       "<div>\n",
       "<style scoped>\n",
       "    .dataframe tbody tr th:only-of-type {\n",
       "        vertical-align: middle;\n",
       "    }\n",
       "\n",
       "    .dataframe tbody tr th {\n",
       "        vertical-align: top;\n",
       "    }\n",
       "\n",
       "    .dataframe thead th {\n",
       "        text-align: right;\n",
       "    }\n",
       "</style>\n",
       "<table border=\"1\" class=\"dataframe\">\n",
       "  <thead>\n",
       "    <tr style=\"text-align: right;\">\n",
       "      <th></th>\n",
       "      <th>feature</th>\n",
       "      <th>importance_mean</th>\n",
       "      <th>importance_std</th>\n",
       "    </tr>\n",
       "  </thead>\n",
       "  <tbody>\n",
       "    <tr>\n",
       "      <th>0</th>\n",
       "      <td>PATIENT_AGE_AT_TREATMENT</td>\n",
       "      <td>0.300984</td>\n",
       "      <td>0.002444</td>\n",
       "    </tr>\n",
       "    <tr>\n",
       "      <th>1</th>\n",
       "      <td>TOTAL_NUMBER_OF_PREVIOUS_CYCLES_BOTH_IVF_AND_DI</td>\n",
       "      <td>0.000000</td>\n",
       "      <td>0.000000</td>\n",
       "    </tr>\n",
       "    <tr>\n",
       "      <th>2</th>\n",
       "      <td>CAUSE__OF_INFERTILITY__TUBAL_DISEASE</td>\n",
       "      <td>0.000000</td>\n",
       "      <td>0.000000</td>\n",
       "    </tr>\n",
       "    <tr>\n",
       "      <th>3</th>\n",
       "      <td>CAUSE_OF_INFERTILITY__OVULATORY_DISORDER</td>\n",
       "      <td>0.000000</td>\n",
       "      <td>0.000000</td>\n",
       "    </tr>\n",
       "    <tr>\n",
       "      <th>4</th>\n",
       "      <td>CAUSE_OF_INFERTILITY__MALE_FACTOR</td>\n",
       "      <td>0.000000</td>\n",
       "      <td>0.000000</td>\n",
       "    </tr>\n",
       "    <tr>\n",
       "      <th>5</th>\n",
       "      <td>CAUSE_OF_INFERTILITY__PATIENT_UNEXPLAINED</td>\n",
       "      <td>0.000000</td>\n",
       "      <td>0.000000</td>\n",
       "    </tr>\n",
       "    <tr>\n",
       "      <th>6</th>\n",
       "      <td>CAUSE_OF_INFERTILITY__ENDOMETRIOSIS</td>\n",
       "      <td>0.000000</td>\n",
       "      <td>0.000000</td>\n",
       "    </tr>\n",
       "    <tr>\n",
       "      <th>7</th>\n",
       "      <td>STIMULATION_USED</td>\n",
       "      <td>0.000000</td>\n",
       "      <td>0.000000</td>\n",
       "    </tr>\n",
       "    <tr>\n",
       "      <th>8</th>\n",
       "      <td>SPERM_FROM</td>\n",
       "      <td>0.000000</td>\n",
       "      <td>0.000000</td>\n",
       "    </tr>\n",
       "    <tr>\n",
       "      <th>9</th>\n",
       "      <td>SCREENING</td>\n",
       "      <td>0.000000</td>\n",
       "      <td>0.000000</td>\n",
       "    </tr>\n",
       "    <tr>\n",
       "      <th>10</th>\n",
       "      <td>SPECIFIC_TREATMENT_TYPE_IVF</td>\n",
       "      <td>0.000000</td>\n",
       "      <td>0.000000</td>\n",
       "    </tr>\n",
       "    <tr>\n",
       "      <th>11</th>\n",
       "      <td>PREVIOUS_LIVE_BIRTH_IVF_OR_DI</td>\n",
       "      <td>0.000000</td>\n",
       "      <td>0.000000</td>\n",
       "    </tr>\n",
       "  </tbody>\n",
       "</table>\n",
       "</div>"
      ],
      "text/plain": [
       "                                            feature  importance_mean  \\\n",
       "0                          PATIENT_AGE_AT_TREATMENT         0.300984   \n",
       "1   TOTAL_NUMBER_OF_PREVIOUS_CYCLES_BOTH_IVF_AND_DI         0.000000   \n",
       "2              CAUSE__OF_INFERTILITY__TUBAL_DISEASE         0.000000   \n",
       "3          CAUSE_OF_INFERTILITY__OVULATORY_DISORDER         0.000000   \n",
       "4                 CAUSE_OF_INFERTILITY__MALE_FACTOR         0.000000   \n",
       "5         CAUSE_OF_INFERTILITY__PATIENT_UNEXPLAINED         0.000000   \n",
       "6               CAUSE_OF_INFERTILITY__ENDOMETRIOSIS         0.000000   \n",
       "7                                  STIMULATION_USED         0.000000   \n",
       "8                                        SPERM_FROM         0.000000   \n",
       "9                                         SCREENING         0.000000   \n",
       "10                      SPECIFIC_TREATMENT_TYPE_IVF         0.000000   \n",
       "11                    PREVIOUS_LIVE_BIRTH_IVF_OR_DI         0.000000   \n",
       "\n",
       "    importance_std  \n",
       "0         0.002444  \n",
       "1         0.000000  \n",
       "2         0.000000  \n",
       "3         0.000000  \n",
       "4         0.000000  \n",
       "5         0.000000  \n",
       "6         0.000000  \n",
       "7         0.000000  \n",
       "8         0.000000  \n",
       "9         0.000000  \n",
       "10        0.000000  \n",
       "11        0.000000  "
      ]
     },
     "metadata": {},
     "output_type": "display_data"
    }
   ],
   "source": [
    "model = LogisticRegression\n",
    "metrics_list = ['accuracy', 'precision', 'recall', 'f1_score', 'auc']\n",
    "params = {'penalty': 'l1', 'C':0.001, 'solver':'saga', 'random_state': 42, 'max_iter': 6000, 'class_weight': 'balanced', 'n_jobs':-1}\n",
    "results_BEST3 = model_pipeline(X_train_live_birth, y_train_live_birth, X_test_live_birth, y_test_live_birth, model, metrics_list, params, \n",
    "k=10, stratified=True, AIC=True, smote=False, SHAP=False, optimal_threshold=True, importances=True)"
   ]
  },
  {
   "cell_type": "code",
   "execution_count": 295,
   "metadata": {},
   "outputs": [],
   "source": [
    "with open('STAGE_3_PREDICTIONS.txt', 'w') as f:\n",
    "    for item in results_BEST3['y_test_pred']:\n",
    "        f.write(\"%s\\n\" % item)"
   ]
  },
  {
   "cell_type": "code",
   "execution_count": 296,
   "metadata": {},
   "outputs": [],
   "source": [
    "STAGE_3_PREDICTIONS = read_list_from_file('STAGE_3_PREDICTIONS.txt')"
   ]
  },
  {
   "cell_type": "markdown",
   "metadata": {},
   "source": [
    "#### Compute overall test metrics over the 3 stages"
   ]
  },
  {
   "cell_type": "code",
   "execution_count": 297,
   "metadata": {},
   "outputs": [],
   "source": [
    "X_test_lb_predicted = X_test_live_birth.copy()\n",
    "X_test_lb_predicted['LIVE_BIRTH_OCCURRENCE'] = STAGE_3_PREDICTIONS\n",
    "Stage_3_predictions_indexed = X_test_lb_predicted['LIVE_BIRTH_OCCURRENCE']\n",
    "\n",
    "X_test_oocytes_embryos_lb = X_test_eggs.copy()\n",
    "X_test_oocytes_embryos_lb['LIVE_BIRTH_OCCURRENCE'] = Stage_3_predictions_indexed\n",
    "X_test_oocytes_embryos_lb['LIVE_BIRTH_OCCURRENCE'].fillna(0, inplace=True)\n",
    "\n",
    "y_test_lb_true = TEST['LIVE_BIRTH_OCCURRENCE']\n",
    "y_test_lb_pred = X_test_oocytes_embryos_lb['LIVE_BIRTH_OCCURRENCE']"
   ]
  },
  {
   "cell_type": "code",
   "execution_count": 298,
   "metadata": {},
   "outputs": [
    {
     "name": "stdout",
     "output_type": "stream",
     "text": [
      "F1 Score: 0.3793746117208532\n",
      "Precision: 0.35725429017160687\n",
      "Precision: 0.4044150110375276\n",
      "Balanced Accuracy: 0.5678742808692692\n",
      "\n"
     ]
    },
    {
     "data": {
      "image/png": "[encoded data removed]",
      "text/plain": [
       "<Figure size 640x480 with 1 Axes>"
      ]
     },
     "metadata": {},
     "output_type": "display_data"
    }
   ],
   "source": [
    "print('F1 Score: '+str(f1_score(y_test_lb_true, y_test_lb_pred)))\n",
    "print('Precision: '+str(precision_score(y_test_lb_true, y_test_lb_pred)))\n",
    "print('Precision: '+str(recall_score(y_test_lb_true, y_test_lb_pred)))\n",
    "print('Balanced Accuracy: '+str(balanced_accuracy_score(y_test_lb_true, y_test_lb_pred)))\n",
    "print('')\n",
    "conf_matrix = confusion_matrix(y_test_lb_true, y_test_lb_pred)\n",
    "disp = ConfusionMatrixDisplay(confusion_matrix=conf_matrix, display_labels=['No Live Birth', 'Live Birth'])\n",
    "disp.plot(cmap=\"Oranges\",  colorbar=False)\n",
    "plt.title('Test Set Confusion Matrix')\n",
    "plt.grid(False)\n",
    "plt.tight_layout()\n",
    "plt.savefig('confusion_matrix_stage3.png', bbox_inches='tight', dpi=600)\n",
    "plt.show()"
   ]
  },
  {
   "cell_type": "markdown",
   "metadata": {},
   "source": [
    "## Two-stage Model (Embryos Created + Live Birth)"
   ]
  },
  {
   "cell_type": "code",
   "execution_count": 277,
   "metadata": {},
   "outputs": [],
   "source": [
    "TEST2 = pd.read_parquet('TEST_2016.parquet')\n",
    "X_test_live_birth2 = TEST2.copy()"
   ]
  },
  {
   "cell_type": "code",
   "execution_count": 278,
   "metadata": {},
   "outputs": [],
   "source": [
    "STAGE_2_BASELINE_PREDICTIONS = read_list_from_file('STAGE_2_BASELINE.txt')"
   ]
  },
  {
   "cell_type": "code",
   "execution_count": 279,
   "metadata": {},
   "outputs": [],
   "source": [
    "# Update the test data with the stage 2 predictions to filter on\n",
    "X_test_live_birth2['EMBRYOS_CREATED_BINARY'] = STAGE_2_BASELINE_PREDICTIONS\n",
    "X_test_live_birth2 = X_test_live_birth2[X_test_live_birth2['EMBRYOS_CREATED_BINARY'] != 0]\n",
    "y_test_live_birth2 = X_test_live_birth2['LIVE_BIRTH_OCCURRENCE']\n",
    "X_test_live_birth2 = X_test_live_birth2.drop(['FRESH_EGGS_COLLECTED', 'TOTAL_EMBRYOS_CREATED', 'EMBRYOS_CREATED_BINARY', 'LIVE_BIRTH_OCCURRENCE'], axis=1)"
   ]
  },
  {
   "cell_type": "code",
   "execution_count": 284,
   "metadata": {},
   "outputs": [
    {
     "name": "stdout",
     "output_type": "stream",
     "text": [
      "Average optimal threshold = 0.509\n",
      "AIC: -39221.316\n",
      "BIC: -38465.639\n",
      "\n",
      "CV RESULTS\n"
     ]
    },
    {
     "data": {
      "text/html": [
       "<div>\n",
       "<style scoped>\n",
       "    .dataframe tbody tr th:only-of-type {\n",
       "        vertical-align: middle;\n",
       "    }\n",
       "\n",
       "    .dataframe tbody tr th {\n",
       "        vertical-align: top;\n",
       "    }\n",
       "\n",
       "    .dataframe thead th {\n",
       "        text-align: right;\n",
       "    }\n",
       "</style>\n",
       "<table border=\"1\" class=\"dataframe\">\n",
       "  <thead>\n",
       "    <tr style=\"text-align: right;\">\n",
       "      <th></th>\n",
       "      <th>accuracy</th>\n",
       "      <th>precision</th>\n",
       "      <th>recall</th>\n",
       "      <th>f1_score</th>\n",
       "      <th>auc</th>\n",
       "    </tr>\n",
       "  </thead>\n",
       "  <tbody>\n",
       "    <tr>\n",
       "      <th>Mean</th>\n",
       "      <td>0.597675</td>\n",
       "      <td>0.373485</td>\n",
       "      <td>0.725927</td>\n",
       "      <td>0.492974</td>\n",
       "      <td>0.630595</td>\n",
       "    </tr>\n",
       "    <tr>\n",
       "      <th>Standard Deviation</th>\n",
       "      <td>0.007372</td>\n",
       "      <td>0.006518</td>\n",
       "      <td>0.028255</td>\n",
       "      <td>0.007480</td>\n",
       "      <td>0.008806</td>\n",
       "    </tr>\n",
       "  </tbody>\n",
       "</table>\n",
       "</div>"
      ],
      "text/plain": [
       "                    accuracy  precision    recall  f1_score       auc\n",
       "Mean                0.597675   0.373485  0.725927  0.492974  0.630595\n",
       "Standard Deviation  0.007372   0.006518  0.028255  0.007480  0.008806"
      ]
     },
     "metadata": {},
     "output_type": "display_data"
    },
    {
     "name": "stdout",
     "output_type": "stream",
     "text": [
      "\n",
      "TEST RESULTS\n"
     ]
    },
    {
     "data": {
      "text/html": [
       "<div>\n",
       "<style scoped>\n",
       "    .dataframe tbody tr th:only-of-type {\n",
       "        vertical-align: middle;\n",
       "    }\n",
       "\n",
       "    .dataframe tbody tr th {\n",
       "        vertical-align: top;\n",
       "    }\n",
       "\n",
       "    .dataframe thead th {\n",
       "        text-align: right;\n",
       "    }\n",
       "</style>\n",
       "<table border=\"1\" class=\"dataframe\">\n",
       "  <thead>\n",
       "    <tr style=\"text-align: right;\">\n",
       "      <th></th>\n",
       "      <th>accuracy</th>\n",
       "      <th>precision</th>\n",
       "      <th>recall</th>\n",
       "      <th>f1_score</th>\n",
       "      <th>auc</th>\n",
       "    </tr>\n",
       "  </thead>\n",
       "  <tbody>\n",
       "    <tr>\n",
       "      <th>Value</th>\n",
       "      <td>0.569797</td>\n",
       "      <td>0.348715</td>\n",
       "      <td>0.761853</td>\n",
       "      <td>0.478439</td>\n",
       "      <td>0.590456</td>\n",
       "    </tr>\n",
       "  </tbody>\n",
       "</table>\n",
       "</div>"
      ],
      "text/plain": [
       "       accuracy  precision    recall  f1_score       auc\n",
       "Value  0.569797   0.348715  0.761853  0.478439  0.590456"
      ]
     },
     "metadata": {},
     "output_type": "display_data"
    },
    {
     "data": {
      "image/png": "[encoded data removed]",
      "text/plain": [
       "<Figure size 640x480 with 1 Axes>"
      ]
     },
     "metadata": {},
     "output_type": "display_data"
    },
    {
     "name": "stdout",
     "output_type": "stream",
     "text": [
      "\n"
     ]
    }
   ],
   "source": [
    "# Squared Logistic Regression with OPTIMAL THRESHOLD\n",
    "X_train_live_birth_poly2 = create_poly_features(X_train_live_birth)\n",
    "X_test_live_birth_poly2 = create_poly_features(X_test_live_birth2)\n",
    "model = LogisticRegression\n",
    "metrics_list = ['accuracy', 'precision', 'recall', 'f1_score', 'auc']\n",
    "params = {'max_iter':2000, 'random_state': 42, 'class_weight': 'balanced'}\n",
    "results_LR2_2 = model_pipeline(X_train_live_birth_poly2, y_train_live_birth, X_test_live_birth_poly2, y_test_live_birth2, model, metrics_list, params, \n",
    "k=10, stratified=True, AIC=True, smote=False, SHAP=False, optimal_threshold=True)"
   ]
  },
  {
   "cell_type": "code",
   "execution_count": 285,
   "metadata": {},
   "outputs": [],
   "source": [
    "with open('STAGE_3_BASELINE.txt', 'w') as f:\n",
    "    for item in results_LR2_2['y_test_pred']:\n",
    "        f.write(\"%s\\n\" % item)"
   ]
  },
  {
   "cell_type": "code",
   "execution_count": 286,
   "metadata": {},
   "outputs": [],
   "source": [
    "STAGE_3_BASELINE_PREDICTIONS = read_list_from_file('STAGE_3_BASELINE.txt')"
   ]
  },
  {
   "cell_type": "code",
   "execution_count": 290,
   "metadata": {},
   "outputs": [],
   "source": [
    "X_test_lb_predicted2 = X_test_live_birth2.copy()\n",
    "X_test_lb_predicted2['LIVE_BIRTH_OCCURRENCE'] = STAGE_3_BASELINE_PREDICTIONS\n",
    "Stage_3_baseline_predictions_indexed = X_test_lb_predicted2['LIVE_BIRTH_OCCURRENCE']\n",
    "\n",
    "X_test_oocytes_embryos_lb2 = X_test_eggs.copy()\n",
    "X_test_oocytes_embryos_lb2['LIVE_BIRTH_OCCURRENCE'] = Stage_3_baseline_predictions_indexed\n",
    "X_test_oocytes_embryos_lb2['LIVE_BIRTH_OCCURRENCE'].fillna(0, inplace=True)\n",
    "\n",
    "y_test_lb_true2 = TEST['LIVE_BIRTH_OCCURRENCE']\n",
    "y_test_lb_pred2 = X_test_oocytes_embryos_lb2['LIVE_BIRTH_OCCURRENCE']"
   ]
  },
  {
   "cell_type": "code",
   "execution_count": 299,
   "metadata": {},
   "outputs": [
    {
     "name": "stdout",
     "output_type": "stream",
     "text": [
      "F1 Score: 0.4456487089576028\n",
      "Precision: 0.34871539037166377\n",
      "Recall: 0.6172185430463576\n",
      "Balanced Accuracy: 0.5957791443630875\n",
      "\n"
     ]
    },
    {
     "data": {
      "image/png": "[encoded data removed]",
      "text/plain": [
       "<Figure size 640x480 with 1 Axes>"
      ]
     },
     "metadata": {},
     "output_type": "display_data"
    }
   ],
   "source": [
    "print('F1 Score: '+str(f1_score(y_test_lb_true2, y_test_lb_pred2)))\n",
    "print('Precision: '+str(precision_score(y_test_lb_true2, y_test_lb_pred2)))\n",
    "print('Recall: '+str(recall_score(y_test_lb_true2, y_test_lb_pred2)))\n",
    "print('Balanced Accuracy: '+str(balanced_accuracy_score(y_test_lb_true2, y_test_lb_pred2)))\n",
    "print('')\n",
    "conf_matrix = confusion_matrix(y_test_lb_true2, y_test_lb_pred2)\n",
    "disp = ConfusionMatrixDisplay(confusion_matrix=conf_matrix, display_labels=['No Live Birth', 'Live Birth'])\n",
    "disp.plot(cmap=\"Blues\",  colorbar=False)\n",
    "plt.title('Test Set Confusion Matrix')\n",
    "plt.grid(False)\n",
    "plt.tight_layout()\n",
    "plt.savefig('confusion_matrix_stage3_baseline.png', bbox_inches='tight', dpi=600)\n",
    "plt.show()"
   ]
  },
  {
   "cell_type": "code",
   "execution_count": null,
   "metadata": {},
   "outputs": [],
   "source": []
  }
 ],
 "metadata": {
  "kernelspec": {
   "display_name": "Python 3",
   "language": "python",
   "name": "python3"
  },
  "language_info": {
   "codemirror_mode": {
    "name": "ipython",
    "version": 3
   },
   "file_extension": ".py",
   "mimetype": "text/x-python",
   "name": "python",
   "nbconvert_exporter": "python",
   "pygments_lexer": "ipython3",
   "version": "3.10.7"
  },
  "orig_nbformat": 4
 },
 "nbformat": 4,
 "nbformat_minor": 2
}
