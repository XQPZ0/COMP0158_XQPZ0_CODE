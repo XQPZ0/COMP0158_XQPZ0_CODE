{
 "cells": [
  {
   "cell_type": "markdown",
   "metadata": {},
   "source": [
    "# **FURTHER EXPERIMENTS**"
   ]
  },
  {
   "cell_type": "code",
   "execution_count": 4,
   "metadata": {},
   "outputs": [],
   "source": [
    "import pandas as pd\n",
    "import numpy as np\n",
    "import seaborn as sns\n",
    "import matplotlib.pyplot as plt\n",
    "import matplotlib.patches as mpatches\n",
    "import plotly.graph_objects as go\n",
    "import plotly.offline as pyo\n",
    "import plotly.express as px\n",
    "import scipy.stats\n",
    "from scipy.stats import mannwhitneyu\n",
    "from scipy.stats import ks_2samp\n",
    "from sklearn import preprocessing\n",
    "from sklearn.preprocessing import PolynomialFeatures\n",
    "from sklearn.decomposition import PCA\n",
    "from sklearn.model_selection import train_test_split\n",
    "from sklearn.model_selection import GridSearchCV, StratifiedKFold, learning_curve, KFold, cross_val_score\n",
    "from sklearn.metrics import make_scorer, accuracy_score, precision_score, recall_score, roc_auc_score, f1_score, confusion_matrix, auc\n",
    "from sklearn.pipeline import Pipeline\n",
    "from scipy.stats import sem\n",
    "from sklearn.linear_model import LogisticRegression\n",
    "from imblearn.over_sampling import SMOTE\n",
    "from imblearn.pipeline import Pipeline as ImbPipeline\n",
    "from sklearn.tree import DecisionTreeClassifier, plot_tree\n",
    "from sklearn.ensemble import RandomForestClassifier, ExtraTreesClassifier\n",
    "from sklearn.neighbors import KNeighborsClassifier\n",
    "from xgboost import XGBClassifier, XGBRegressor\n",
    "from sklearn.svm import SVC\n",
    "from catboost import CatBoostClassifier\n",
    "from collections import Counter\n",
    "from sklearn.inspection import permutation_importance\n",
    "import shap\n",
    "import warnings\n",
    "from sklearn.metrics import ConfusionMatrixDisplay, roc_curve, silhouette_score, calinski_harabasz_score\n",
    "from itertools import combinations_with_replacement\n",
    "from copy import deepcopy\n",
    "from sklearn.neural_network import MLPClassifier, MLPRegressor\n",
    "from kneed import KneeLocator\n",
    "from sklearn.cluster import KMeans\n",
    "from matplotlib.pyplot import figure\n",
    "from kmodes.kmodes import KModes\n",
    "from pyclustering.cluster.kmedoids import kmedoids\n",
    "from pyclustering.cluster.encoder import cluster_encoder\n",
    "from sklearn.metrics import pairwise_distances\n",
    "from sklearn.metrics import balanced_accuracy_score\n",
    "from sklearn.feature_selection import RFECV\n",
    "from scipy.spatial.distance import cdist\n",
    "from sklearn.metrics import mean_absolute_error, mean_squared_error\n",
    "import statsmodels.api as sm\n",
    "from sklearn.base import BaseEstimator, RegressorMixin\n",
    "from math import sqrt\n",
    "from tqdm import tqdm\n",
    "from sklearn.ensemble import RandomForestRegressor\n",
    "from sklearn.svm import SVR\n",
    "from sklearn.preprocessing import StandardScaler\n",
    "from sklearn.compose import ColumnTransformer\n",
    "import plotly.io as pio\n",
    "\n",
    "warnings.filterwarnings(\"ignore\", message=\".*The 'nopython' keyword.*\")"
   ]
  },
  {
   "cell_type": "code",
   "execution_count": 5,
   "metadata": {},
   "outputs": [],
   "source": [
    "def log_likelihood(y_true, y_pred):\n",
    "    \"\"\"Calculate the log-likelihood loss between true labels and predicted labels.\n",
    "    \n",
    "    Args:\n",
    "        y_true (numpy.ndarray): Array of true labels (0 or 1). Shape should be (n_samples,).\n",
    "        y_pred (numpy.ndarray): Array of predicted probabilities for being label 1. Shape should be (n_samples,).\n",
    "    \n",
    "    Returns:\n",
    "        float: Negative log-likelihood loss value.\n",
    "    \"\"\"\n",
    "\n",
    "    # To prevent log(0)\n",
    "    epsilon = 1e-7 \n",
    "    y_pred = np.clip(y_pred, epsilon, 1 - epsilon)\n",
    "\n",
    "    # Compute the log likelihood\n",
    "    log_likelihood = y_true * np.log(y_pred) + (1 - y_true) * np.log(1 - y_pred)\n",
    "    return -np.sum(log_likelihood)"
   ]
  },
  {
   "cell_type": "code",
   "execution_count": 6,
   "metadata": {},
   "outputs": [],
   "source": [
    "def find_optimal_threshold(y_true, y_proba):\n",
    "    \"\"\"Find the optimal threshold for binary classification based on ROC curve.\n",
    "\n",
    "    This function computes the Receiver Operating Characteristic (ROC) curve\n",
    "    and then finds the threshold where the difference between True Positive Rate (TPR)\n",
    "    and False Positive Rate (FPR) is maximized.\n",
    "\n",
    "    Args:\n",
    "        y_true (numpy.ndarray): Array of true labels (0 or 1). Shape should be (n_samples,).\n",
    "        y_proba (numpy.ndarray): Array of predicted probabilities for being label 1. Shape should be (n_samples,).\n",
    "\n",
    "    Returns:\n",
    "        float: The optimal threshold for binary classification.\n",
    "    \"\"\"\n",
    "    fpr, tpr, thresholds = roc_curve(y_true, y_proba)\n",
    "    optimal_idx = np.argmax(tpr - fpr)\n",
    "    optimal_threshold = thresholds[optimal_idx]\n",
    "    return optimal_threshold"
   ]
  },
  {
   "cell_type": "code",
   "execution_count": 7,
   "metadata": {},
   "outputs": [],
   "source": [
    "def apply_smote(X_train, y_train):\n",
    "    \"\"\"Apply Synthetic Minority Over-sampling Technique (SMOTE) to training data.\n",
    "    \n",
    "    This function balances the class distribution in the training set by generating\n",
    "    synthetic samples for the minority class using SMOTE.\n",
    "\n",
    "    Args:\n",
    "        X_train (numpy.ndarray or pandas.DataFrame): Training features. Shape should be (n_samples, n_features).\n",
    "        y_train (numpy.ndarray or pandas.Series): Training labels. Shape should be (n_samples,).\n",
    "\n",
    "    Returns:\n",
    "        Tuple[numpy.ndarray, numpy.ndarray]: Resampled training features and labels.\n",
    "        \n",
    "        - X_train_res (numpy.ndarray): Resampled training features. Shape will be (n_resampled_samples, n_features).\n",
    "        - y_train_res (numpy.ndarray): Resampled training labels. Shape will be (n_resampled_samples,).\n",
    "    \"\"\"\n",
    "    sm = SMOTE(random_state=42)\n",
    "    X_train_res, y_train_res = sm.fit_resample(X_train, y_train)\n",
    "    return X_train_res, y_train_res"
   ]
  },
  {
   "cell_type": "code",
   "execution_count": 8,
   "metadata": {},
   "outputs": [],
   "source": [
    "def create_poly_features(df, include_list=['PATIENT_AGE_AT_TREATMENT',\n",
    "       'TOTAL_NUMBER_OF_PREVIOUS_CYCLES_BOTH_IVF_AND_DI'], degree=2):\n",
    "    \"\"\"\n",
    "    Generates polynomial features with coherent names.\n",
    "\n",
    "    Args:\n",
    "        df (DataFrame): A pandas DataFrame containing the features.\n",
    "        include_list (list): List of original features for which squared terms should be included.\n",
    "        degree (int): The degree of the polynomial features. Default is 2.\n",
    "    \n",
    "    Returns:\n",
    "        DataFrame: A new DataFrame with the polynomial features.\n",
    "    \"\"\"\n",
    "    poly = PolynomialFeatures(degree=degree, include_bias=False)\n",
    "    poly_features = poly.fit_transform(df)\n",
    "\n",
    "    # Generate coherent names\n",
    "    poly_feature_names = []\n",
    "    \n",
    "    for d in range(1, degree+1):\n",
    "        comb = combinations_with_replacement(df.columns, d)\n",
    "        for i in list(comb):\n",
    "            if len(set(i)) == 1:  # all elements in the combination are the same\n",
    "                if d == 1: # no need to show power for d=1\n",
    "                    poly_feature_names.append(i[0])\n",
    "                else:\n",
    "                    poly_feature_names.append(i[0] + \"^\" + str(d))\n",
    "            else:\n",
    "                poly_feature_names.append(\" \".join(i))\n",
    "\n",
    "    # Create a new DataFrame\n",
    "    poly_df = pd.DataFrame(poly_features, columns=poly_feature_names, index=df.index)\n",
    "\n",
    "    if include_list is not None:\n",
    "        # List of columns to drop\n",
    "        drop_columns = [col for col in poly_df.columns if \"^\" in col and col.split(\"^\")[0] not in include_list]\n",
    "        poly_df.drop(columns=drop_columns, inplace=True)\n",
    "    \n",
    "    return poly_df"
   ]
  },
  {
   "cell_type": "code",
   "execution_count": 9,
   "metadata": {},
   "outputs": [],
   "source": [
    "def model_pipeline(X_train, y_train, X_test, y_test, model, metrics_list, params={},\n",
    "k=10, stratified=False, AIC=False, smote=False, SHAP=False,\n",
    "optimal_threshold=True, importances=False):\n",
    "    \"\"\"Runs a machine learning model pipeline with various options.\n",
    "\n",
    "    This function constructs a machine learning pipeline with optional techniques such as SMOTE\n",
    "    and stratified k-fold cross-validation. It trains the model, evaluates it with specified metrics,\n",
    "    and can optionally calculate AIC/BIC - to be used when dealing with parametric models, feature \n",
    "    importances, SHAP values, and optimal thresholds.\n",
    "\n",
    "    Args:\n",
    "        X_train (pandas.DataFrame): Training data.\n",
    "        y_train (pandas.Series): Training labels.\n",
    "        X_test (pandas.DataFrame): Test data.\n",
    "        y_test (pandas.Series): Test labels.\n",
    "        model (object): Uninitialized machine learning model.\n",
    "        metrics_list (list of str): List of metrics to evaluate. Must be keys in the 'metrics' dictionary.\n",
    "        params (dict, optional): Parameters to pass to the model. Default is an empty dictionary.\n",
    "        k (int, optional): Number of folds in KFold cross-validation. Default is 10.\n",
    "        stratified (bool, optional): Whether to use StratifiedKFold. Default is True.\n",
    "        AIC (bool, optional): Whether to compute Akaike Information Criterion. Default is False.\n",
    "        smote (bool, optional): Whether to use SMOTE for oversampling. Default is False.\n",
    "        SHAP (bool, optional): Whether to compute SHAP values. Default is False.\n",
    "        optimal_threshold (bool, optional): Whether to find optimal threshold for classification. Default is True.\n",
    "        importances (bool, optional): Whether to compute feature importances. Default is False.\n",
    "\n",
    "    Returns:\n",
    "        dict: Dictionary containing various evaluation results such as cross-validation scores,\n",
    "            test scores, feature importances, and more. The specific keys depend on the input arguments.\n",
    "    \"\"\"\n",
    "    \n",
    "    # Map metric names to functions\n",
    "    metrics = {\n",
    "        'accuracy': balanced_accuracy_score,\n",
    "        'precision': precision_score,\n",
    "        'recall': recall_score,\n",
    "        'f1_score': f1_score,\n",
    "        'auc': roc_auc_score,\n",
    "        }\n",
    "\n",
    "    # Create a pipeline with the specified model and parameters\n",
    "    steps = []\n",
    "    # Check if polynomial features are requested and add to the pipeline if necessary\n",
    "\n",
    "    if smote:\n",
    "        steps.append(('smote', SMOTE()))\n",
    "        \n",
    "    steps.append(('model', model(**params)))\n",
    "    #pipeline = Pipeline(steps)\n",
    "    pipeline = ImbPipeline(steps)\n",
    "\n",
    "    # Initialize KFold cross-validation or Stratified KFold if stratified=True\n",
    "    if stratified:\n",
    "        cv = StratifiedKFold(n_splits=k, shuffle=True, random_state=1)\n",
    "    else:\n",
    "        cv = KFold(n_splits=k, shuffle=True, random_state=1)\n",
    "\n",
    "    # Compute the specified metrics using cross-validation\n",
    "    cv_results = {}\n",
    "    thresholds = []\n",
    "    for metric in metrics_list:\n",
    "        scorer = make_scorer(metrics[metric])\n",
    "        cv_scores = []\n",
    "        for train_index, test_index in cv.split(X_train, y_train):\n",
    "            X_train_fold, X_val_fold = X_train.iloc[train_index], X_train.iloc[test_index]\n",
    "            y_train_fold, y_val_fold = y_train.iloc[train_index], y_train.iloc[test_index]\n",
    "\n",
    "            pipeline.fit(X_train_fold, y_train_fold)\n",
    "\n",
    "            if optimal_threshold and metric != 'auc':\n",
    "                y_train_proba_fold = pipeline.predict_proba(X_train_fold)[:, 1]\n",
    "                threshold = find_optimal_threshold(y_train_fold, y_train_proba_fold)\n",
    "                thresholds.append(threshold)\n",
    "            else:\n",
    "                threshold = 0.5\n",
    "                \n",
    "            y_val_pred_proba = pipeline.predict_proba(X_val_fold)[:, 1]\n",
    "\n",
    "            if metric == 'auc':\n",
    "                cv_scores.append(scorer._score_func(y_val_fold, y_val_pred_proba))\n",
    "            else:\n",
    "                y_val_pred = (y_val_pred_proba >= threshold).astype(int)\n",
    "                cv_scores.append(scorer._score_func(y_val_fold, y_val_pred))\n",
    "\n",
    "        # Calculate confidence intervals\n",
    "        cv_results[metric] = (np.mean(cv_scores), np.std(cv_scores))\n",
    "\n",
    "    cv_results = pd.DataFrame(cv_results, columns=metrics_list).T\n",
    "    cv_results.columns = ['Mean', 'Standard Deviation',]\n",
    "    cv_results = cv_results.T\n",
    "\n",
    "    # Compute the average optimal threshold from cross-validation\n",
    "    avg_threshold = np.mean(thresholds) if thresholds else 0.5\n",
    "    print('Average optimal threshold = ' + str(round(avg_threshold, 3)))\n",
    "\n",
    "    # Fit the model on the full training set\n",
    "    pipeline.fit(X_train, y_train)\n",
    "\n",
    "    # Feature importances\n",
    "    if importances:\n",
    "        feature_importances = []\n",
    "        for train_index, test_index in cv.split(X_train, y_train):\n",
    "            X_train_fold, X_test_fold = X_train.iloc[train_index], X_train.iloc[test_index]\n",
    "            y_train_fold, y_test_fold = y_train.iloc[train_index], y_train.iloc[test_index]\n",
    "\n",
    "            pipeline.fit(X_train_fold, y_train_fold)\n",
    "            fitted_model = pipeline.named_steps['model']\n",
    "\n",
    "            if hasattr(fitted_model, 'feature_importances_'):\n",
    "                fold_importance = fitted_model.feature_importances_\n",
    "            elif hasattr(fitted_model, 'coef_'):\n",
    "                fold_importance = np.abs(fitted_model.coef_[0])\n",
    "            else:\n",
    "                perm_importance = permutation_importance(fitted_model, X_test_fold, y_test_fold)\n",
    "                fold_importance = perm_importance.importances_mean\n",
    "\n",
    "            feature_importances.append(fold_importance)\n",
    "\n",
    "        # Compute mean and standard deviation of feature importances\n",
    "        feature_importances_mean = np.mean(feature_importances, axis=0)\n",
    "        feature_importances_std = np.std(feature_importances, axis=0)\n",
    "        \n",
    "        importances_df = pd.DataFrame({\n",
    "            'feature': X_train.columns,\n",
    "            'importance_mean': feature_importances_mean,\n",
    "            'importance_std': feature_importances_std\n",
    "            })\n",
    "        \n",
    "        # Sort by importance_mean in descending order\n",
    "        importances_df = importances_df.sort_values(by='importance_mean', ascending=False)\n",
    "    \n",
    "    else:\n",
    "        importances_df = pd.DataFrame()\n",
    "\n",
    "    # Compute the specified metrics on the test set\n",
    "    test_results = {}\n",
    "    for metric in metrics_list:\n",
    "        scorer = metrics[metric]\n",
    "        y_test_proba = pipeline.predict_proba(X_test)[:, 1]\n",
    "        if metric == 'auc':\n",
    "            test_score = scorer(y_test, y_test_proba)\n",
    "        else:\n",
    "            y_test_pred = (y_test_proba >= avg_threshold).astype(int)\n",
    "            test_score = scorer(y_test, y_test_pred)\n",
    "        test_results[metric] = test_score\n",
    "\n",
    "    test_results = pd.DataFrame(test_results, index=['Value'], columns=metrics_list).T\n",
    "    test_results = test_results.T\n",
    "\n",
    "    # Compute the confusion matrix on the test set\n",
    "    conf_matrix = confusion_matrix(y_test, y_test_pred) \n",
    "\n",
    "    # Output mean and std of cross-validation scores and test set scores\n",
    "    output = {\n",
    "        'cv_results': cv_results,\n",
    "        'test_results': test_results,\n",
    "        'y_test_pred': y_test_pred,\n",
    "        'y_test_proba': y_test_proba, \n",
    "    }\n",
    "\n",
    "    if AIC:\n",
    "        y_pred_train_prob = pipeline.predict_proba(X_train)[:, 1] # Get predicted probabilities for the positive class\n",
    "        n = X_train.shape[0] # Number of observations\n",
    "        k = len(pipeline.named_steps['model'].coef_[0]) + 1 # Number of parameters in the model, adding 1 for intercept\n",
    "        logL = log_likelihood(y_train, y_pred_train_prob)\n",
    "        aic = 2 * k - 2 * logL\n",
    "        bic = np.log(n) * k - 2 * logL\n",
    "        output['aic'] = aic\n",
    "        print('AIC: '+str(round(aic, 3)))\n",
    "        output['bic'] = bic\n",
    "        print('BIC: '+str(round(bic, 3)))\n",
    "\n",
    "    output['feature_importances'] = importances_df\n",
    "\n",
    "    # Print CV results\n",
    "    print('')\n",
    "    print('CV RESULTS')\n",
    "    display(cv_results)\n",
    "    print('')\n",
    "\n",
    "    #Print Test results\n",
    "    print('TEST RESULTS')\n",
    "    display(test_results)\n",
    "    disp = ConfusionMatrixDisplay(confusion_matrix=conf_matrix, display_labels=['No Live Birth', 'Live Birth'])\n",
    "    disp.plot(cmap=\"Greens\",  colorbar=False)\n",
    "    plt.title('Test Set Confusion Matrix')\n",
    "    plt.grid(False)\n",
    "    plt.tight_layout()\n",
    "    plt.savefig('confusion_matrix.png', bbox_inches='tight', dpi=600)\n",
    "    plt.show()\n",
    "    print('')\n",
    "\n",
    "    #Print Features analysis\n",
    "    if importances:\n",
    "        print('FEATURES ANALYSIS')\n",
    "        display(importances_df.head(20))\n",
    "\n",
    "    if SHAP:\n",
    "        # Compute SHAP values\n",
    "        if hasattr(pipeline.named_steps['model'], 'feature_importances_'):\n",
    "            explainer = shap.TreeExplainer(pipeline.named_steps['model'])\n",
    "            shap_values = explainer.shap_values(X_train)\n",
    "\n",
    "            # Create a SHAP summary plot\n",
    "            shap.summary_plot(shap_values, X_train, plot_size=[20,10], max_display=20)\n",
    "\n",
    "        elif hasattr(pipeline.named_steps['model'], 'coef_'):\n",
    "            explainer = shap.LinearExplainer(pipeline.named_steps['model'], X_train)\n",
    "            shap_values = explainer.shap_values(X_train)\n",
    "\n",
    "            # Create a SHAP summary plot\n",
    "            shap.summary_plot(shap_values, X_train, plot_size=[20,10], max_display=20)\n",
    "\n",
    "    return output"
   ]
  },
  {
   "cell_type": "code",
   "execution_count": 10,
   "metadata": {},
   "outputs": [],
   "source": [
    "def compute_grid_search(model, param_grid, X_train, y_train):\n",
    "    \"\"\"\n",
    "    Perform a grid search on a model using Stratified K-Fold cross-validation.\n",
    "    \n",
    "    Parameters:\n",
    "    - model: Estimator or model to be used.\n",
    "    - param_grid: Dictionary of parameters for grid search.\n",
    "    - X_train: Training data features.\n",
    "    - y_train: Training data labels.\n",
    "    \n",
    "    Returns:\n",
    "    - grid_search: Fitted GridSearchCV object.\n",
    "    \"\"\"\n",
    "\n",
    "    # Create StratifiedKFold instance\n",
    "    skf = StratifiedKFold(n_splits=10, shuffle=True, random_state=42)\n",
    "    \n",
    "    # Set up the grid search with 'balanced_accuracy' as the scoring metric\n",
    "    grid_search = GridSearchCV(\n",
    "        estimator=model, \n",
    "        param_grid=param_grid, \n",
    "        cv=skf, \n",
    "        scoring='balanced_accuracy',  # Using balanced accuracy directly as the scoring metric\n",
    "        verbose=1,  \n",
    "        n_jobs=-1   \n",
    "    )\n",
    "    \n",
    "    # Fit the grid search to the data\n",
    "    grid_search.fit(X_train, y_train)\n",
    "\n",
    "    print(grid_search.best_params_)\n",
    "    \n",
    "    return grid_search\n"
   ]
  },
  {
   "cell_type": "markdown",
   "metadata": {},
   "source": [
    "## Sensitivity to SPECIFIC_TREATMENT_TYPE"
   ]
  },
  {
   "cell_type": "code",
   "execution_count": 102,
   "metadata": {},
   "outputs": [],
   "source": [
    "TRAIN = pd.read_parquet('TRAIN_2016.parquet')\n",
    "TEST = pd.read_parquet('TEST_2016.parquet')"
   ]
  },
  {
   "cell_type": "code",
   "execution_count": 107,
   "metadata": {},
   "outputs": [],
   "source": [
    "# Separate the targets from the data\n",
    "y_train_live_birth = TRAIN['LIVE_BIRTH_OCCURRENCE']\n",
    "y_test_live_birth = TEST['LIVE_BIRTH_OCCURRENCE']\n",
    "\n",
    "# Remove SPECIFIC_TREATMENT_TYPE_IVF variable\n",
    "X_train = TRAIN.drop(['FRESH_EGGS_COLLECTED', 'TOTAL_EMBRYOS_CREATED', 'LIVE_BIRTH_OCCURRENCE', 'SPECIFIC_TREATMENT_TYPE_IVF'], axis=1)\n",
    "X_test = TEST.drop(['FRESH_EGGS_COLLECTED', 'TOTAL_EMBRYOS_CREATED', 'LIVE_BIRTH_OCCURRENCE', 'SPECIFIC_TREATMENT_TYPE_IVF'], axis=1)"
   ]
  },
  {
   "cell_type": "code",
   "execution_count": 108,
   "metadata": {},
   "outputs": [],
   "source": [
    "X_train_poly = create_poly_features(X_train)\n",
    "X_test_poly = create_poly_features(X_test)"
   ]
  },
  {
   "cell_type": "code",
   "execution_count": 110,
   "metadata": {},
   "outputs": [
    {
     "name": "stdout",
     "output_type": "stream",
     "text": [
      "Average optimal threshold = 0.515\n",
      "AIC: -43988.081\n",
      "BIC: -43406.954\n",
      "\n",
      "CV RESULTS\n"
     ]
    },
    {
     "data": {
      "text/html": [
       "<div>\n",
       "<style scoped>\n",
       "    .dataframe tbody tr th:only-of-type {\n",
       "        vertical-align: middle;\n",
       "    }\n",
       "\n",
       "    .dataframe tbody tr th {\n",
       "        vertical-align: top;\n",
       "    }\n",
       "\n",
       "    .dataframe thead th {\n",
       "        text-align: right;\n",
       "    }\n",
       "</style>\n",
       "<table border=\"1\" class=\"dataframe\">\n",
       "  <thead>\n",
       "    <tr style=\"text-align: right;\">\n",
       "      <th></th>\n",
       "      <th>accuracy</th>\n",
       "      <th>precision</th>\n",
       "      <th>recall</th>\n",
       "      <th>f1_score</th>\n",
       "      <th>auc</th>\n",
       "    </tr>\n",
       "  </thead>\n",
       "  <tbody>\n",
       "    <tr>\n",
       "      <th>Mean</th>\n",
       "      <td>0.606044</td>\n",
       "      <td>0.341246</td>\n",
       "      <td>0.738657</td>\n",
       "      <td>0.466782</td>\n",
       "      <td>0.640050</td>\n",
       "    </tr>\n",
       "    <tr>\n",
       "      <th>Standard Deviation</th>\n",
       "      <td>0.008690</td>\n",
       "      <td>0.006943</td>\n",
       "      <td>0.010587</td>\n",
       "      <td>0.007421</td>\n",
       "      <td>0.009671</td>\n",
       "    </tr>\n",
       "  </tbody>\n",
       "</table>\n",
       "</div>"
      ],
      "text/plain": [
       "                    accuracy  precision    recall  f1_score       auc\n",
       "Mean                0.606044   0.341246  0.738657  0.466782  0.640050\n",
       "Standard Deviation  0.008690   0.006943  0.010587  0.007421  0.009671"
      ]
     },
     "metadata": {},
     "output_type": "display_data"
    },
    {
     "name": "stdout",
     "output_type": "stream",
     "text": [
      "\n",
      "TEST RESULTS\n"
     ]
    },
    {
     "data": {
      "text/html": [
       "<div>\n",
       "<style scoped>\n",
       "    .dataframe tbody tr th:only-of-type {\n",
       "        vertical-align: middle;\n",
       "    }\n",
       "\n",
       "    .dataframe tbody tr th {\n",
       "        vertical-align: top;\n",
       "    }\n",
       "\n",
       "    .dataframe thead th {\n",
       "        text-align: right;\n",
       "    }\n",
       "</style>\n",
       "<table border=\"1\" class=\"dataframe\">\n",
       "  <thead>\n",
       "    <tr style=\"text-align: right;\">\n",
       "      <th></th>\n",
       "      <th>accuracy</th>\n",
       "      <th>precision</th>\n",
       "      <th>recall</th>\n",
       "      <th>f1_score</th>\n",
       "      <th>auc</th>\n",
       "    </tr>\n",
       "  </thead>\n",
       "  <tbody>\n",
       "    <tr>\n",
       "      <th>Value</th>\n",
       "      <td>0.602908</td>\n",
       "      <td>0.339786</td>\n",
       "      <td>0.728477</td>\n",
       "      <td>0.463418</td>\n",
       "      <td>0.633088</td>\n",
       "    </tr>\n",
       "  </tbody>\n",
       "</table>\n",
       "</div>"
      ],
      "text/plain": [
       "       accuracy  precision    recall  f1_score       auc\n",
       "Value  0.602908   0.339786  0.728477  0.463418  0.633088"
      ]
     },
     "metadata": {},
     "output_type": "display_data"
    },
    {
     "data": {
      "image/png": "[encoded data removed]",
      "text/plain": [
       "<Figure size 640x480 with 1 Axes>"
      ]
     },
     "metadata": {},
     "output_type": "display_data"
    },
    {
     "name": "stdout",
     "output_type": "stream",
     "text": [
      "\n",
      "FEATURES ANALYSIS\n"
     ]
    },
    {
     "data": {
      "text/html": [
       "<div>\n",
       "<style scoped>\n",
       "    .dataframe tbody tr th:only-of-type {\n",
       "        vertical-align: middle;\n",
       "    }\n",
       "\n",
       "    .dataframe tbody tr th {\n",
       "        vertical-align: top;\n",
       "    }\n",
       "\n",
       "    .dataframe thead th {\n",
       "        text-align: right;\n",
       "    }\n",
       "</style>\n",
       "<table border=\"1\" class=\"dataframe\">\n",
       "  <thead>\n",
       "    <tr style=\"text-align: right;\">\n",
       "      <th></th>\n",
       "      <th>feature</th>\n",
       "      <th>importance_mean</th>\n",
       "      <th>importance_std</th>\n",
       "    </tr>\n",
       "  </thead>\n",
       "  <tbody>\n",
       "    <tr>\n",
       "      <th>7</th>\n",
       "      <td>STIMULATION_USED</td>\n",
       "      <td>0.538500</td>\n",
       "      <td>0.100213</td>\n",
       "    </tr>\n",
       "    <tr>\n",
       "      <th>62</th>\n",
       "      <td>STIMULATION_USED SPERM_FROM</td>\n",
       "      <td>0.392601</td>\n",
       "      <td>0.032934</td>\n",
       "    </tr>\n",
       "    <tr>\n",
       "      <th>54</th>\n",
       "      <td>CAUSE_OF_INFERTILITY__PATIENT_UNEXPLAINED STIM...</td>\n",
       "      <td>0.257726</td>\n",
       "      <td>0.013367</td>\n",
       "    </tr>\n",
       "    <tr>\n",
       "      <th>47</th>\n",
       "      <td>CAUSE_OF_INFERTILITY__MALE_FACTOR CAUSE_OF_INF...</td>\n",
       "      <td>0.206840</td>\n",
       "      <td>0.027098</td>\n",
       "    </tr>\n",
       "    <tr>\n",
       "      <th>6</th>\n",
       "      <td>CAUSE_OF_INFERTILITY__ENDOMETRIOSIS</td>\n",
       "      <td>0.166470</td>\n",
       "      <td>0.039916</td>\n",
       "    </tr>\n",
       "    <tr>\n",
       "      <th>43</th>\n",
       "      <td>CAUSE_OF_INFERTILITY__OVULATORY_DISORDER STIMU...</td>\n",
       "      <td>0.157786</td>\n",
       "      <td>0.020647</td>\n",
       "    </tr>\n",
       "    <tr>\n",
       "      <th>36</th>\n",
       "      <td>CAUSE__OF_INFERTILITY__TUBAL_DISEASE STIMULATI...</td>\n",
       "      <td>0.122620</td>\n",
       "      <td>0.024425</td>\n",
       "    </tr>\n",
       "    <tr>\n",
       "      <th>64</th>\n",
       "      <td>STIMULATION_USED PREVIOUS_LIVE_BIRTH_IVF_OR_DI</td>\n",
       "      <td>0.118290</td>\n",
       "      <td>0.093535</td>\n",
       "    </tr>\n",
       "    <tr>\n",
       "      <th>1</th>\n",
       "      <td>TOTAL_NUMBER_OF_PREVIOUS_CYCLES_BOTH_IVF_AND_DI</td>\n",
       "      <td>0.114841</td>\n",
       "      <td>0.027105</td>\n",
       "    </tr>\n",
       "    <tr>\n",
       "      <th>57</th>\n",
       "      <td>CAUSE_OF_INFERTILITY__PATIENT_UNEXPLAINED PREV...</td>\n",
       "      <td>0.101432</td>\n",
       "      <td>0.039095</td>\n",
       "    </tr>\n",
       "    <tr>\n",
       "      <th>10</th>\n",
       "      <td>PREVIOUS_LIVE_BIRTH_IVF_OR_DI</td>\n",
       "      <td>0.098684</td>\n",
       "      <td>0.071837</td>\n",
       "    </tr>\n",
       "    <tr>\n",
       "      <th>61</th>\n",
       "      <td>CAUSE_OF_INFERTILITY__ENDOMETRIOSIS PREVIOUS_L...</td>\n",
       "      <td>0.090473</td>\n",
       "      <td>0.047988</td>\n",
       "    </tr>\n",
       "    <tr>\n",
       "      <th>11</th>\n",
       "      <td>PATIENT_AGE_AT_TREATMENT^2</td>\n",
       "      <td>0.086152</td>\n",
       "      <td>0.001892</td>\n",
       "    </tr>\n",
       "    <tr>\n",
       "      <th>33</th>\n",
       "      <td>CAUSE__OF_INFERTILITY__TUBAL_DISEASE CAUSE_OF_...</td>\n",
       "      <td>0.074368</td>\n",
       "      <td>0.026355</td>\n",
       "    </tr>\n",
       "    <tr>\n",
       "      <th>49</th>\n",
       "      <td>CAUSE_OF_INFERTILITY__MALE_FACTOR STIMULATION_...</td>\n",
       "      <td>0.068549</td>\n",
       "      <td>0.021552</td>\n",
       "    </tr>\n",
       "    <tr>\n",
       "      <th>31</th>\n",
       "      <td>TOTAL_NUMBER_OF_PREVIOUS_CYCLES_BOTH_IVF_AND_D...</td>\n",
       "      <td>0.039372</td>\n",
       "      <td>0.009029</td>\n",
       "    </tr>\n",
       "    <tr>\n",
       "      <th>29</th>\n",
       "      <td>TOTAL_NUMBER_OF_PREVIOUS_CYCLES_BOTH_IVF_AND_D...</td>\n",
       "      <td>0.037884</td>\n",
       "      <td>0.006107</td>\n",
       "    </tr>\n",
       "    <tr>\n",
       "      <th>0</th>\n",
       "      <td>PATIENT_AGE_AT_TREATMENT</td>\n",
       "      <td>0.036382</td>\n",
       "      <td>0.031103</td>\n",
       "    </tr>\n",
       "    <tr>\n",
       "      <th>15</th>\n",
       "      <td>PATIENT_AGE_AT_TREATMENT CAUSE_OF_INFERTILITY_...</td>\n",
       "      <td>0.036236</td>\n",
       "      <td>0.008670</td>\n",
       "    </tr>\n",
       "    <tr>\n",
       "      <th>66</th>\n",
       "      <td>SPERM_FROM PREVIOUS_LIVE_BIRTH_IVF_OR_DI</td>\n",
       "      <td>0.033657</td>\n",
       "      <td>0.040839</td>\n",
       "    </tr>\n",
       "  </tbody>\n",
       "</table>\n",
       "</div>"
      ],
      "text/plain": [
       "                                              feature  importance_mean  \\\n",
       "7                                    STIMULATION_USED         0.538500   \n",
       "62                        STIMULATION_USED SPERM_FROM         0.392601   \n",
       "54  CAUSE_OF_INFERTILITY__PATIENT_UNEXPLAINED STIM...         0.257726   \n",
       "47  CAUSE_OF_INFERTILITY__MALE_FACTOR CAUSE_OF_INF...         0.206840   \n",
       "6                 CAUSE_OF_INFERTILITY__ENDOMETRIOSIS         0.166470   \n",
       "43  CAUSE_OF_INFERTILITY__OVULATORY_DISORDER STIMU...         0.157786   \n",
       "36  CAUSE__OF_INFERTILITY__TUBAL_DISEASE STIMULATI...         0.122620   \n",
       "64     STIMULATION_USED PREVIOUS_LIVE_BIRTH_IVF_OR_DI         0.118290   \n",
       "1     TOTAL_NUMBER_OF_PREVIOUS_CYCLES_BOTH_IVF_AND_DI         0.114841   \n",
       "57  CAUSE_OF_INFERTILITY__PATIENT_UNEXPLAINED PREV...         0.101432   \n",
       "10                      PREVIOUS_LIVE_BIRTH_IVF_OR_DI         0.098684   \n",
       "61  CAUSE_OF_INFERTILITY__ENDOMETRIOSIS PREVIOUS_L...         0.090473   \n",
       "11                         PATIENT_AGE_AT_TREATMENT^2         0.086152   \n",
       "33  CAUSE__OF_INFERTILITY__TUBAL_DISEASE CAUSE_OF_...         0.074368   \n",
       "49  CAUSE_OF_INFERTILITY__MALE_FACTOR STIMULATION_...         0.068549   \n",
       "31  TOTAL_NUMBER_OF_PREVIOUS_CYCLES_BOTH_IVF_AND_D...         0.039372   \n",
       "29  TOTAL_NUMBER_OF_PREVIOUS_CYCLES_BOTH_IVF_AND_D...         0.037884   \n",
       "0                            PATIENT_AGE_AT_TREATMENT         0.036382   \n",
       "15  PATIENT_AGE_AT_TREATMENT CAUSE_OF_INFERTILITY_...         0.036236   \n",
       "66           SPERM_FROM PREVIOUS_LIVE_BIRTH_IVF_OR_DI         0.033657   \n",
       "\n",
       "    importance_std  \n",
       "7         0.100213  \n",
       "62        0.032934  \n",
       "54        0.013367  \n",
       "47        0.027098  \n",
       "6         0.039916  \n",
       "43        0.020647  \n",
       "36        0.024425  \n",
       "64        0.093535  \n",
       "1         0.027105  \n",
       "57        0.039095  \n",
       "10        0.071837  \n",
       "61        0.047988  \n",
       "11        0.001892  \n",
       "33        0.026355  \n",
       "49        0.021552  \n",
       "31        0.009029  \n",
       "29        0.006107  \n",
       "0         0.031103  \n",
       "15        0.008670  \n",
       "66        0.040839  "
      ]
     },
     "metadata": {},
     "output_type": "display_data"
    }
   ],
   "source": [
    "# Optimal Squared Logistic Regression\n",
    "X_train_poly = create_poly_features(X_train)\n",
    "X_test_poly = create_poly_features(X_test)\n",
    "model = LogisticRegression\n",
    "metrics_list = ['accuracy', 'precision', 'recall', 'f1_score', 'auc']\n",
    "params = {'max_iter':4000, 'random_state': 42, 'class_weight': 'balanced', 'penalty':'l1', 'solver':'saga', 'C':0.1}\n",
    "results_C_01 = model_pipeline(X_train_poly, y_train_live_birth, X_test_poly, y_test_live_birth, model, metrics_list, params, \n",
    "k=10, stratified=True, AIC=True, smote=False, SHAP=False, optimal_threshold=True, importances=True)"
   ]
  },
  {
   "cell_type": "markdown",
   "metadata": {},
   "source": [
    "## ADDING FROZEN CYCLES"
   ]
  },
  {
   "cell_type": "code",
   "execution_count": 108,
   "metadata": {},
   "outputs": [],
   "source": [
    "FRESH_FROZEN_2016 = pd.read_parquet('FRESH_FROZEN_2016.parquet')\n",
    "y = FRESH_FROZEN_2016['LIVE_BIRTH_OCCURRENCE']\n",
    "FRESH_FROZEN_2016 = FRESH_FROZEN_2016.drop(['FRESH_EGGS_COLLECTED', 'TOTAL_EMBRYOS_CREATED', 'LIVE_BIRTH_OCCURRENCE'], axis=1)\n",
    "X_train_frozen, X_test_frozen, y_train_frozen, y_test_frozen = train_test_split(FRESH_FROZEN_2016, y, test_size=0.2, random_state=42, stratify=y)"
   ]
  },
  {
   "cell_type": "code",
   "execution_count": 109,
   "metadata": {},
   "outputs": [
    {
     "data": {
      "text/plain": [
       "1    33497\n",
       "0     3989\n",
       "Name: FRESH_CYCLE, dtype: int64"
      ]
     },
     "execution_count": 109,
     "metadata": {},
     "output_type": "execute_result"
    }
   ],
   "source": [
    "X_train_frozen['FRESH_CYCLE'].value_counts()"
   ]
  },
  {
   "cell_type": "code",
   "execution_count": 110,
   "metadata": {},
   "outputs": [
    {
     "data": {
      "text/plain": [
       "1    8378\n",
       "0     994\n",
       "Name: FRESH_CYCLE, dtype: int64"
      ]
     },
     "execution_count": 110,
     "metadata": {},
     "output_type": "execute_result"
    }
   ],
   "source": [
    "X_test_frozen['FRESH_CYCLE'].value_counts()"
   ]
  },
  {
   "cell_type": "code",
   "execution_count": 103,
   "metadata": {},
   "outputs": [
    {
     "name": "stdout",
     "output_type": "stream",
     "text": [
      "Average optimal threshold = 0.494\n",
      "AIC: -49045.477\n",
      "BIC: -48149.646\n",
      "\n",
      "CV RESULTS\n"
     ]
    },
    {
     "data": {
      "text/html": [
       "<div>\n",
       "<style scoped>\n",
       "    .dataframe tbody tr th:only-of-type {\n",
       "        vertical-align: middle;\n",
       "    }\n",
       "\n",
       "    .dataframe tbody tr th {\n",
       "        vertical-align: top;\n",
       "    }\n",
       "\n",
       "    .dataframe thead th {\n",
       "        text-align: right;\n",
       "    }\n",
       "</style>\n",
       "<table border=\"1\" class=\"dataframe\">\n",
       "  <thead>\n",
       "    <tr style=\"text-align: right;\">\n",
       "      <th></th>\n",
       "      <th>accuracy</th>\n",
       "      <th>precision</th>\n",
       "      <th>recall</th>\n",
       "      <th>f1_score</th>\n",
       "      <th>auc</th>\n",
       "    </tr>\n",
       "  </thead>\n",
       "  <tbody>\n",
       "    <tr>\n",
       "      <th>Mean</th>\n",
       "      <td>0.604524</td>\n",
       "      <td>0.339167</td>\n",
       "      <td>0.752246</td>\n",
       "      <td>0.467511</td>\n",
       "      <td>0.635746</td>\n",
       "    </tr>\n",
       "    <tr>\n",
       "      <th>Standard Deviation</th>\n",
       "      <td>0.009856</td>\n",
       "      <td>0.006727</td>\n",
       "      <td>0.015621</td>\n",
       "      <td>0.008792</td>\n",
       "      <td>0.008101</td>\n",
       "    </tr>\n",
       "  </tbody>\n",
       "</table>\n",
       "</div>"
      ],
      "text/plain": [
       "                    accuracy  precision    recall  f1_score       auc\n",
       "Mean                0.604524   0.339167  0.752246  0.467511  0.635746\n",
       "Standard Deviation  0.009856   0.006727  0.015621  0.008792  0.008101"
      ]
     },
     "metadata": {},
     "output_type": "display_data"
    },
    {
     "name": "stdout",
     "output_type": "stream",
     "text": [
      "\n",
      "TEST RESULTS\n"
     ]
    },
    {
     "data": {
      "text/html": [
       "<div>\n",
       "<style scoped>\n",
       "    .dataframe tbody tr th:only-of-type {\n",
       "        vertical-align: middle;\n",
       "    }\n",
       "\n",
       "    .dataframe tbody tr th {\n",
       "        vertical-align: top;\n",
       "    }\n",
       "\n",
       "    .dataframe thead th {\n",
       "        text-align: right;\n",
       "    }\n",
       "</style>\n",
       "<table border=\"1\" class=\"dataframe\">\n",
       "  <thead>\n",
       "    <tr style=\"text-align: right;\">\n",
       "      <th></th>\n",
       "      <th>accuracy</th>\n",
       "      <th>precision</th>\n",
       "      <th>recall</th>\n",
       "      <th>f1_score</th>\n",
       "      <th>auc</th>\n",
       "    </tr>\n",
       "  </thead>\n",
       "  <tbody>\n",
       "    <tr>\n",
       "      <th>Value</th>\n",
       "      <td>0.603277</td>\n",
       "      <td>0.337555</td>\n",
       "      <td>0.757301</td>\n",
       "      <td>0.466967</td>\n",
       "      <td>0.639834</td>\n",
       "    </tr>\n",
       "  </tbody>\n",
       "</table>\n",
       "</div>"
      ],
      "text/plain": [
       "       accuracy  precision    recall  f1_score       auc\n",
       "Value  0.603277   0.337555  0.757301  0.466967  0.639834"
      ]
     },
     "metadata": {},
     "output_type": "display_data"
    },
    {
     "data": {
      "image/png": "[encoded data removed]",
      "text/plain": [
       "<Figure size 640x480 with 1 Axes>"
      ]
     },
     "metadata": {},
     "output_type": "display_data"
    },
    {
     "name": "stdout",
     "output_type": "stream",
     "text": [
      "\n"
     ]
    }
   ],
   "source": [
    "# Squared Logistic Regression\n",
    "X_train_frozen_poly = create_poly_features(X_train_frozen)\n",
    "X_test_frozen_poly = create_poly_features(X_test_frozen)\n",
    "model = LogisticRegression\n",
    "metrics_list = ['accuracy', 'precision', 'recall', 'f1_score', 'auc']\n",
    "params = {'max_iter':4000, 'random_state': 42, 'class_weight': 'balanced'}\n",
    "results_LR2 = model_pipeline(X_train_frozen_poly, y_train_frozen, X_test_frozen_poly, y_test_frozen, model, metrics_list, params, \n",
    "k=10, stratified=True, AIC=True, smote=False, SHAP=False, optimal_threshold=True)"
   ]
  },
  {
   "cell_type": "code",
   "execution_count": 104,
   "metadata": {},
   "outputs": [
    {
     "name": "stdout",
     "output_type": "stream",
     "text": [
      "Balanced Accuracy: 0.5352\n",
      "ROC AUC: 0.5352\n",
      "F1 Score: 0.3986\n",
      "\n",
      "Confusion Matrix:\n",
      "[[303 429]\n",
      " [ 90 172]]\n"
     ]
    }
   ],
   "source": [
    "# Further investigation\n",
    "\n",
    "# Add model predictions and ground truths back to dataframe\n",
    "X_test_frozen_investigation = X_test_frozen.copy()\n",
    "X_test_frozen_investigation['GT'] = y_test_frozen\n",
    "X_test_frozen_investigation['PREDS'] = results_LR2['y_test_pred']\n",
    "\n",
    "# Filter to only keep frozen cycles\n",
    "X_test_frozen_investigation = X_test_frozen_investigation[X_test_frozen_investigation['FRESH_CYCLE']==0]\n",
    "\n",
    "# Extract predictions and ground truths\n",
    "frozen_preds = X_test_frozen_investigation['PREDS']\n",
    "frozen_gt = X_test_frozen_investigation['GT']\n",
    "\n",
    "# Compute metrics for the sub-population\n",
    "balanced_acc = balanced_accuracy_score(frozen_gt, frozen_preds)\n",
    "roc_auc = roc_auc_score(frozen_gt, frozen_preds)\n",
    "f1 = f1_score(frozen_gt, frozen_preds)\n",
    "conf_matrix = confusion_matrix(frozen_gt, frozen_preds)\n",
    "\n",
    "# Print metrics and confusion matrix\n",
    "print(f\"Balanced Accuracy: {balanced_acc:.4f}\")\n",
    "print(f\"ROC AUC: {roc_auc:.4f}\")\n",
    "print(f\"F1 Score: {f1:.4f}\")\n",
    "print(\"\\nConfusion Matrix:\")\n",
    "print(conf_matrix)\n"
   ]
  },
  {
   "cell_type": "code",
   "execution_count": 117,
   "metadata": {},
   "outputs": [
    {
     "data": {
      "text/plain": [
       "0.26959368953713353"
      ]
     },
     "execution_count": 117,
     "metadata": {},
     "output_type": "execute_result"
    }
   ],
   "source": [
    "y_train_live_birth.value_counts()[1]/(y_train_live_birth.value_counts()[0]+y_train_live_birth.value_counts()[1])"
   ]
  },
  {
   "cell_type": "markdown",
   "metadata": {},
   "source": [
    "## COMPARING PERFORMANCE OVER THE YEARS"
   ]
  },
  {
   "cell_type": "code",
   "execution_count": 10,
   "metadata": {},
   "outputs": [],
   "source": [
    "def year_iterator(data_list, X_test, y_test):\n",
    "    \"\"\"\n",
    "    Iterates over a list of datasets and trains squared logistic regression models for them.\n",
    "    These models are all evalauted on the same test set. The function prints various metrics \n",
    "    and results for each dataset.\n",
    "\n",
    "    Args:\n",
    "        data_list (list of str): A list of paths to dataset files in parquet format.\n",
    "        X_test (pandas.DataFrame): Features for the test set.\n",
    "        y_test (pandas.Series): Target variable for the test set.\n",
    "\n",
    "    Returns:\n",
    "        None: This function only prints results and does not return a value.\n",
    "    \"\"\"\n",
    "\n",
    "    for dataset in data_list:\n",
    "\n",
    "        print('COMPUTING FOR '+str(dataset))\n",
    "\n",
    "        DATA = pd.read_parquet(dataset)\n",
    "        y_train = DATA['LIVE_BIRTH_OCCURRENCE']\n",
    "        X_train = DATA.drop(['FRESH_CYCLE', 'FRESH_EGGS_COLLECTED', 'TOTAL_EMBRYOS_CREATED', 'LIVE_BIRTH_OCCURRENCE'], axis=1)\n",
    "\n",
    "        # Squared Logistic Regression\n",
    "        X_train_poly = create_poly_features(X_train)\n",
    "        X_test_poly = create_poly_features(X_test)\n",
    "        model = LogisticRegression\n",
    "        metrics_list = ['accuracy', 'precision', 'recall', 'f1_score', 'auc']\n",
    "        params = {'max_iter':4000, 'random_state': 42, 'class_weight': 'balanced'}\n",
    "        results_LR2 = model_pipeline(X_train_poly, y_train, X_test_poly, y_test, model, metrics_list, params, \n",
    "        k=10, stratified=True, AIC=True, smote=False, SHAP=False, optimal_threshold=True)\n",
    "        print('')\n",
    "        print('')\n",
    "\n",
    "    return None\n"
   ]
  },
  {
   "cell_type": "code",
   "execution_count": 11,
   "metadata": {},
   "outputs": [
    {
     "name": "stdout",
     "output_type": "stream",
     "text": [
      "COMPUTING FOR HFEA_2006.parquet\n",
      "Average optimal threshold = 0.518\n",
      "AIC: -42301.177\n",
      "BIC: -41538.123\n",
      "\n",
      "CV RESULTS\n"
     ]
    },
    {
     "data": {
      "text/html": [
       "<div>\n",
       "<style scoped>\n",
       "    .dataframe tbody tr th:only-of-type {\n",
       "        vertical-align: middle;\n",
       "    }\n",
       "\n",
       "    .dataframe tbody tr th {\n",
       "        vertical-align: top;\n",
       "    }\n",
       "\n",
       "    .dataframe thead th {\n",
       "        text-align: right;\n",
       "    }\n",
       "</style>\n",
       "<table border=\"1\" class=\"dataframe\">\n",
       "  <thead>\n",
       "    <tr style=\"text-align: right;\">\n",
       "      <th></th>\n",
       "      <th>accuracy</th>\n",
       "      <th>precision</th>\n",
       "      <th>recall</th>\n",
       "      <th>f1_score</th>\n",
       "      <th>auc</th>\n",
       "    </tr>\n",
       "  </thead>\n",
       "  <tbody>\n",
       "    <tr>\n",
       "      <th>Mean</th>\n",
       "      <td>0.604093</td>\n",
       "      <td>0.324316</td>\n",
       "      <td>0.661580</td>\n",
       "      <td>0.435126</td>\n",
       "      <td>0.641805</td>\n",
       "    </tr>\n",
       "    <tr>\n",
       "      <th>Standard Deviation</th>\n",
       "      <td>0.009663</td>\n",
       "      <td>0.006662</td>\n",
       "      <td>0.028467</td>\n",
       "      <td>0.010418</td>\n",
       "      <td>0.010745</td>\n",
       "    </tr>\n",
       "  </tbody>\n",
       "</table>\n",
       "</div>"
      ],
      "text/plain": [
       "                    accuracy  precision    recall  f1_score       auc\n",
       "Mean                0.604093   0.324316  0.661580  0.435126  0.641805\n",
       "Standard Deviation  0.009663   0.006662  0.028467  0.010418  0.010745"
      ]
     },
     "metadata": {},
     "output_type": "display_data"
    },
    {
     "name": "stdout",
     "output_type": "stream",
     "text": [
      "\n",
      "TEST RESULTS\n"
     ]
    },
    {
     "data": {
      "text/html": [
       "<div>\n",
       "<style scoped>\n",
       "    .dataframe tbody tr th:only-of-type {\n",
       "        vertical-align: middle;\n",
       "    }\n",
       "\n",
       "    .dataframe tbody tr th {\n",
       "        vertical-align: top;\n",
       "    }\n",
       "\n",
       "    .dataframe thead th {\n",
       "        text-align: right;\n",
       "    }\n",
       "</style>\n",
       "<table border=\"1\" class=\"dataframe\">\n",
       "  <thead>\n",
       "    <tr style=\"text-align: right;\">\n",
       "      <th></th>\n",
       "      <th>accuracy</th>\n",
       "      <th>precision</th>\n",
       "      <th>recall</th>\n",
       "      <th>f1_score</th>\n",
       "      <th>auc</th>\n",
       "    </tr>\n",
       "  </thead>\n",
       "  <tbody>\n",
       "    <tr>\n",
       "      <th>Value</th>\n",
       "      <td>0.598253</td>\n",
       "      <td>0.342607</td>\n",
       "      <td>0.674172</td>\n",
       "      <td>0.454329</td>\n",
       "      <td>0.635336</td>\n",
       "    </tr>\n",
       "  </tbody>\n",
       "</table>\n",
       "</div>"
      ],
      "text/plain": [
       "       accuracy  precision    recall  f1_score       auc\n",
       "Value  0.598253   0.342607  0.674172  0.454329  0.635336"
      ]
     },
     "metadata": {},
     "output_type": "display_data"
    },
    {
     "data": {
      "image/png": "[encoded data removed]",
      "text/plain": [
       "<Figure size 640x480 with 1 Axes>"
      ]
     },
     "metadata": {},
     "output_type": "display_data"
    },
    {
     "name": "stdout",
     "output_type": "stream",
     "text": [
      "\n",
      "\n",
      "\n",
      "COMPUTING FOR HFEA_2007.parquet\n",
      "Average optimal threshold = 0.496\n",
      "AIC: -43736.5\n",
      "BIC: -42970.192\n",
      "\n",
      "CV RESULTS\n"
     ]
    },
    {
     "data": {
      "text/html": [
       "<div>\n",
       "<style scoped>\n",
       "    .dataframe tbody tr th:only-of-type {\n",
       "        vertical-align: middle;\n",
       "    }\n",
       "\n",
       "    .dataframe tbody tr th {\n",
       "        vertical-align: top;\n",
       "    }\n",
       "\n",
       "    .dataframe thead th {\n",
       "        text-align: right;\n",
       "    }\n",
       "</style>\n",
       "<table border=\"1\" class=\"dataframe\">\n",
       "  <thead>\n",
       "    <tr style=\"text-align: right;\">\n",
       "      <th></th>\n",
       "      <th>accuracy</th>\n",
       "      <th>precision</th>\n",
       "      <th>recall</th>\n",
       "      <th>f1_score</th>\n",
       "      <th>auc</th>\n",
       "    </tr>\n",
       "  </thead>\n",
       "  <tbody>\n",
       "    <tr>\n",
       "      <th>Mean</th>\n",
       "      <td>0.604919</td>\n",
       "      <td>0.324317</td>\n",
       "      <td>0.720719</td>\n",
       "      <td>0.447075</td>\n",
       "      <td>0.645349</td>\n",
       "    </tr>\n",
       "    <tr>\n",
       "      <th>Standard Deviation</th>\n",
       "      <td>0.005430</td>\n",
       "      <td>0.006050</td>\n",
       "      <td>0.027047</td>\n",
       "      <td>0.004591</td>\n",
       "      <td>0.006767</td>\n",
       "    </tr>\n",
       "  </tbody>\n",
       "</table>\n",
       "</div>"
      ],
      "text/plain": [
       "                    accuracy  precision    recall  f1_score       auc\n",
       "Mean                0.604919   0.324317  0.720719  0.447075  0.645349\n",
       "Standard Deviation  0.005430   0.006050  0.027047  0.004591  0.006767"
      ]
     },
     "metadata": {},
     "output_type": "display_data"
    },
    {
     "name": "stdout",
     "output_type": "stream",
     "text": [
      "\n",
      "TEST RESULTS\n"
     ]
    },
    {
     "data": {
      "text/html": [
       "<div>\n",
       "<style scoped>\n",
       "    .dataframe tbody tr th:only-of-type {\n",
       "        vertical-align: middle;\n",
       "    }\n",
       "\n",
       "    .dataframe tbody tr th {\n",
       "        vertical-align: top;\n",
       "    }\n",
       "\n",
       "    .dataframe thead th {\n",
       "        text-align: right;\n",
       "    }\n",
       "</style>\n",
       "<table border=\"1\" class=\"dataframe\">\n",
       "  <thead>\n",
       "    <tr style=\"text-align: right;\">\n",
       "      <th></th>\n",
       "      <th>accuracy</th>\n",
       "      <th>precision</th>\n",
       "      <th>recall</th>\n",
       "      <th>f1_score</th>\n",
       "      <th>auc</th>\n",
       "    </tr>\n",
       "  </thead>\n",
       "  <tbody>\n",
       "    <tr>\n",
       "      <th>Value</th>\n",
       "      <td>0.609357</td>\n",
       "      <td>0.343859</td>\n",
       "      <td>0.740397</td>\n",
       "      <td>0.469616</td>\n",
       "      <td>0.640537</td>\n",
       "    </tr>\n",
       "  </tbody>\n",
       "</table>\n",
       "</div>"
      ],
      "text/plain": [
       "       accuracy  precision    recall  f1_score       auc\n",
       "Value  0.609357   0.343859  0.740397  0.469616  0.640537"
      ]
     },
     "metadata": {},
     "output_type": "display_data"
    },
    {
     "data": {
      "image/png": "[encoded data removed]",
      "text/plain": [
       "<Figure size 640x480 with 1 Axes>"
      ]
     },
     "metadata": {},
     "output_type": "display_data"
    },
    {
     "name": "stdout",
     "output_type": "stream",
     "text": [
      "\n",
      "\n",
      "\n",
      "COMPUTING FOR HFEA_2008.parquet\n",
      "Average optimal threshold = 0.501\n",
      "AIC: -48088.578\n",
      "BIC: -47313.734\n",
      "\n",
      "CV RESULTS\n"
     ]
    },
    {
     "data": {
      "text/html": [
       "<div>\n",
       "<style scoped>\n",
       "    .dataframe tbody tr th:only-of-type {\n",
       "        vertical-align: middle;\n",
       "    }\n",
       "\n",
       "    .dataframe tbody tr th {\n",
       "        vertical-align: top;\n",
       "    }\n",
       "\n",
       "    .dataframe thead th {\n",
       "        text-align: right;\n",
       "    }\n",
       "</style>\n",
       "<table border=\"1\" class=\"dataframe\">\n",
       "  <thead>\n",
       "    <tr style=\"text-align: right;\">\n",
       "      <th></th>\n",
       "      <th>accuracy</th>\n",
       "      <th>precision</th>\n",
       "      <th>recall</th>\n",
       "      <th>f1_score</th>\n",
       "      <th>auc</th>\n",
       "    </tr>\n",
       "  </thead>\n",
       "  <tbody>\n",
       "    <tr>\n",
       "      <th>Mean</th>\n",
       "      <td>0.609439</td>\n",
       "      <td>0.333536</td>\n",
       "      <td>0.712028</td>\n",
       "      <td>0.454221</td>\n",
       "      <td>0.645963</td>\n",
       "    </tr>\n",
       "    <tr>\n",
       "      <th>Standard Deviation</th>\n",
       "      <td>0.006934</td>\n",
       "      <td>0.004249</td>\n",
       "      <td>0.019973</td>\n",
       "      <td>0.007019</td>\n",
       "      <td>0.004922</td>\n",
       "    </tr>\n",
       "  </tbody>\n",
       "</table>\n",
       "</div>"
      ],
      "text/plain": [
       "                    accuracy  precision    recall  f1_score       auc\n",
       "Mean                0.609439   0.333536  0.712028  0.454221  0.645963\n",
       "Standard Deviation  0.006934   0.004249  0.019973  0.007019  0.004922"
      ]
     },
     "metadata": {},
     "output_type": "display_data"
    },
    {
     "name": "stdout",
     "output_type": "stream",
     "text": [
      "\n",
      "TEST RESULTS\n"
     ]
    },
    {
     "data": {
      "text/html": [
       "<div>\n",
       "<style scoped>\n",
       "    .dataframe tbody tr th:only-of-type {\n",
       "        vertical-align: middle;\n",
       "    }\n",
       "\n",
       "    .dataframe tbody tr th {\n",
       "        vertical-align: top;\n",
       "    }\n",
       "\n",
       "    .dataframe thead th {\n",
       "        text-align: right;\n",
       "    }\n",
       "</style>\n",
       "<table border=\"1\" class=\"dataframe\">\n",
       "  <thead>\n",
       "    <tr style=\"text-align: right;\">\n",
       "      <th></th>\n",
       "      <th>accuracy</th>\n",
       "      <th>precision</th>\n",
       "      <th>recall</th>\n",
       "      <th>f1_score</th>\n",
       "      <th>auc</th>\n",
       "    </tr>\n",
       "  </thead>\n",
       "  <tbody>\n",
       "    <tr>\n",
       "      <th>Value</th>\n",
       "      <td>0.610652</td>\n",
       "      <td>0.346566</td>\n",
       "      <td>0.728477</td>\n",
       "      <td>0.469684</td>\n",
       "      <td>0.640305</td>\n",
       "    </tr>\n",
       "  </tbody>\n",
       "</table>\n",
       "</div>"
      ],
      "text/plain": [
       "       accuracy  precision    recall  f1_score       auc\n",
       "Value  0.610652   0.346566  0.728477  0.469684  0.640305"
      ]
     },
     "metadata": {},
     "output_type": "display_data"
    },
    {
     "data": {
      "image/png": "[encoded data removed]",
      "text/plain": [
       "<Figure size 640x480 with 1 Axes>"
      ]
     },
     "metadata": {},
     "output_type": "display_data"
    },
    {
     "name": "stdout",
     "output_type": "stream",
     "text": [
      "\n",
      "\n",
      "\n",
      "COMPUTING FOR HFEA_2009.parquet\n",
      "Average optimal threshold = 0.505\n",
      "AIC: -52030.967\n",
      "BIC: -51249.533\n",
      "\n",
      "CV RESULTS\n"
     ]
    },
    {
     "data": {
      "text/html": [
       "<div>\n",
       "<style scoped>\n",
       "    .dataframe tbody tr th:only-of-type {\n",
       "        vertical-align: middle;\n",
       "    }\n",
       "\n",
       "    .dataframe tbody tr th {\n",
       "        vertical-align: top;\n",
       "    }\n",
       "\n",
       "    .dataframe thead th {\n",
       "        text-align: right;\n",
       "    }\n",
       "</style>\n",
       "<table border=\"1\" class=\"dataframe\">\n",
       "  <thead>\n",
       "    <tr style=\"text-align: right;\">\n",
       "      <th></th>\n",
       "      <th>accuracy</th>\n",
       "      <th>precision</th>\n",
       "      <th>recall</th>\n",
       "      <th>f1_score</th>\n",
       "      <th>auc</th>\n",
       "    </tr>\n",
       "  </thead>\n",
       "  <tbody>\n",
       "    <tr>\n",
       "      <th>Mean</th>\n",
       "      <td>0.602642</td>\n",
       "      <td>0.320858</td>\n",
       "      <td>0.723472</td>\n",
       "      <td>0.444523</td>\n",
       "      <td>0.635617</td>\n",
       "    </tr>\n",
       "    <tr>\n",
       "      <th>Standard Deviation</th>\n",
       "      <td>0.009632</td>\n",
       "      <td>0.006609</td>\n",
       "      <td>0.016991</td>\n",
       "      <td>0.008744</td>\n",
       "      <td>0.010386</td>\n",
       "    </tr>\n",
       "  </tbody>\n",
       "</table>\n",
       "</div>"
      ],
      "text/plain": [
       "                    accuracy  precision    recall  f1_score       auc\n",
       "Mean                0.602642   0.320858  0.723472  0.444523  0.635617\n",
       "Standard Deviation  0.009632   0.006609  0.016991  0.008744  0.010386"
      ]
     },
     "metadata": {},
     "output_type": "display_data"
    },
    {
     "name": "stdout",
     "output_type": "stream",
     "text": [
      "\n",
      "TEST RESULTS\n"
     ]
    },
    {
     "data": {
      "text/html": [
       "<div>\n",
       "<style scoped>\n",
       "    .dataframe tbody tr th:only-of-type {\n",
       "        vertical-align: middle;\n",
       "    }\n",
       "\n",
       "    .dataframe tbody tr th {\n",
       "        vertical-align: top;\n",
       "    }\n",
       "\n",
       "    .dataframe thead th {\n",
       "        text-align: right;\n",
       "    }\n",
       "</style>\n",
       "<table border=\"1\" class=\"dataframe\">\n",
       "  <thead>\n",
       "    <tr style=\"text-align: right;\">\n",
       "      <th></th>\n",
       "      <th>accuracy</th>\n",
       "      <th>precision</th>\n",
       "      <th>recall</th>\n",
       "      <th>f1_score</th>\n",
       "      <th>auc</th>\n",
       "    </tr>\n",
       "  </thead>\n",
       "  <tbody>\n",
       "    <tr>\n",
       "      <th>Value</th>\n",
       "      <td>0.613457</td>\n",
       "      <td>0.346091</td>\n",
       "      <td>0.750552</td>\n",
       "      <td>0.473736</td>\n",
       "      <td>0.639761</td>\n",
       "    </tr>\n",
       "  </tbody>\n",
       "</table>\n",
       "</div>"
      ],
      "text/plain": [
       "       accuracy  precision    recall  f1_score       auc\n",
       "Value  0.613457   0.346091  0.750552  0.473736  0.639761"
      ]
     },
     "metadata": {},
     "output_type": "display_data"
    },
    {
     "data": {
      "image/png": "[encoded data removed]",
      "text/plain": [
       "<Figure size 640x480 with 1 Axes>"
      ]
     },
     "metadata": {},
     "output_type": "display_data"
    },
    {
     "name": "stdout",
     "output_type": "stream",
     "text": [
      "\n",
      "\n",
      "\n",
      "COMPUTING FOR HFEA_2010.parquet\n",
      "Average optimal threshold = 0.517\n",
      "AIC: -54392.922\n",
      "BIC: -53607.629\n",
      "\n",
      "CV RESULTS\n"
     ]
    },
    {
     "data": {
      "text/html": [
       "<div>\n",
       "<style scoped>\n",
       "    .dataframe tbody tr th:only-of-type {\n",
       "        vertical-align: middle;\n",
       "    }\n",
       "\n",
       "    .dataframe tbody tr th {\n",
       "        vertical-align: top;\n",
       "    }\n",
       "\n",
       "    .dataframe thead th {\n",
       "        text-align: right;\n",
       "    }\n",
       "</style>\n",
       "<table border=\"1\" class=\"dataframe\">\n",
       "  <thead>\n",
       "    <tr style=\"text-align: right;\">\n",
       "      <th></th>\n",
       "      <th>accuracy</th>\n",
       "      <th>precision</th>\n",
       "      <th>recall</th>\n",
       "      <th>f1_score</th>\n",
       "      <th>auc</th>\n",
       "    </tr>\n",
       "  </thead>\n",
       "  <tbody>\n",
       "    <tr>\n",
       "      <th>Mean</th>\n",
       "      <td>0.598914</td>\n",
       "      <td>0.327543</td>\n",
       "      <td>0.680171</td>\n",
       "      <td>0.442019</td>\n",
       "      <td>0.632578</td>\n",
       "    </tr>\n",
       "    <tr>\n",
       "      <th>Standard Deviation</th>\n",
       "      <td>0.007060</td>\n",
       "      <td>0.003360</td>\n",
       "      <td>0.029602</td>\n",
       "      <td>0.008127</td>\n",
       "      <td>0.010703</td>\n",
       "    </tr>\n",
       "  </tbody>\n",
       "</table>\n",
       "</div>"
      ],
      "text/plain": [
       "                    accuracy  precision    recall  f1_score       auc\n",
       "Mean                0.598914   0.327543  0.680171  0.442019  0.632578\n",
       "Standard Deviation  0.007060   0.003360  0.029602  0.008127  0.010703"
      ]
     },
     "metadata": {},
     "output_type": "display_data"
    },
    {
     "name": "stdout",
     "output_type": "stream",
     "text": [
      "\n",
      "TEST RESULTS\n"
     ]
    },
    {
     "data": {
      "text/html": [
       "<div>\n",
       "<style scoped>\n",
       "    .dataframe tbody tr th:only-of-type {\n",
       "        vertical-align: middle;\n",
       "    }\n",
       "\n",
       "    .dataframe tbody tr th {\n",
       "        vertical-align: top;\n",
       "    }\n",
       "\n",
       "    .dataframe thead th {\n",
       "        text-align: right;\n",
       "    }\n",
       "</style>\n",
       "<table border=\"1\" class=\"dataframe\">\n",
       "  <thead>\n",
       "    <tr style=\"text-align: right;\">\n",
       "      <th></th>\n",
       "      <th>accuracy</th>\n",
       "      <th>precision</th>\n",
       "      <th>recall</th>\n",
       "      <th>f1_score</th>\n",
       "      <th>auc</th>\n",
       "    </tr>\n",
       "  </thead>\n",
       "  <tbody>\n",
       "    <tr>\n",
       "      <th>Value</th>\n",
       "      <td>0.612863</td>\n",
       "      <td>0.351434</td>\n",
       "      <td>0.708609</td>\n",
       "      <td>0.469848</td>\n",
       "      <td>0.639109</td>\n",
       "    </tr>\n",
       "  </tbody>\n",
       "</table>\n",
       "</div>"
      ],
      "text/plain": [
       "       accuracy  precision    recall  f1_score       auc\n",
       "Value  0.612863   0.351434  0.708609  0.469848  0.639109"
      ]
     },
     "metadata": {},
     "output_type": "display_data"
    },
    {
     "data": {
      "image/png": "[encoded data removed]",
      "text/plain": [
       "<Figure size 640x480 with 1 Axes>"
      ]
     },
     "metadata": {},
     "output_type": "display_data"
    },
    {
     "name": "stdout",
     "output_type": "stream",
     "text": [
      "\n",
      "\n",
      "\n",
      "COMPUTING FOR HFEA_2011.parquet\n",
      "Average optimal threshold = 0.511\n",
      "AIC: -56385.669\n",
      "BIC: -55597.1\n",
      "\n",
      "CV RESULTS\n"
     ]
    },
    {
     "data": {
      "text/html": [
       "<div>\n",
       "<style scoped>\n",
       "    .dataframe tbody tr th:only-of-type {\n",
       "        vertical-align: middle;\n",
       "    }\n",
       "\n",
       "    .dataframe tbody tr th {\n",
       "        vertical-align: top;\n",
       "    }\n",
       "\n",
       "    .dataframe thead th {\n",
       "        text-align: right;\n",
       "    }\n",
       "</style>\n",
       "<table border=\"1\" class=\"dataframe\">\n",
       "  <thead>\n",
       "    <tr style=\"text-align: right;\">\n",
       "      <th></th>\n",
       "      <th>accuracy</th>\n",
       "      <th>precision</th>\n",
       "      <th>recall</th>\n",
       "      <th>f1_score</th>\n",
       "      <th>auc</th>\n",
       "    </tr>\n",
       "  </thead>\n",
       "  <tbody>\n",
       "    <tr>\n",
       "      <th>Mean</th>\n",
       "      <td>0.599782</td>\n",
       "      <td>0.323143</td>\n",
       "      <td>0.713518</td>\n",
       "      <td>0.444728</td>\n",
       "      <td>0.632706</td>\n",
       "    </tr>\n",
       "    <tr>\n",
       "      <th>Standard Deviation</th>\n",
       "      <td>0.006073</td>\n",
       "      <td>0.004618</td>\n",
       "      <td>0.020746</td>\n",
       "      <td>0.005906</td>\n",
       "      <td>0.007281</td>\n",
       "    </tr>\n",
       "  </tbody>\n",
       "</table>\n",
       "</div>"
      ],
      "text/plain": [
       "                    accuracy  precision    recall  f1_score       auc\n",
       "Mean                0.599782   0.323143  0.713518  0.444728  0.632706\n",
       "Standard Deviation  0.006073   0.004618  0.020746  0.005906  0.007281"
      ]
     },
     "metadata": {},
     "output_type": "display_data"
    },
    {
     "name": "stdout",
     "output_type": "stream",
     "text": [
      "\n",
      "TEST RESULTS\n"
     ]
    },
    {
     "data": {
      "text/html": [
       "<div>\n",
       "<style scoped>\n",
       "    .dataframe tbody tr th:only-of-type {\n",
       "        vertical-align: middle;\n",
       "    }\n",
       "\n",
       "    .dataframe tbody tr th {\n",
       "        vertical-align: top;\n",
       "    }\n",
       "\n",
       "    .dataframe thead th {\n",
       "        text-align: right;\n",
       "    }\n",
       "</style>\n",
       "<table border=\"1\" class=\"dataframe\">\n",
       "  <thead>\n",
       "    <tr style=\"text-align: right;\">\n",
       "      <th></th>\n",
       "      <th>accuracy</th>\n",
       "      <th>precision</th>\n",
       "      <th>recall</th>\n",
       "      <th>f1_score</th>\n",
       "      <th>auc</th>\n",
       "    </tr>\n",
       "  </thead>\n",
       "  <tbody>\n",
       "    <tr>\n",
       "      <th>Value</th>\n",
       "      <td>0.610224</td>\n",
       "      <td>0.345127</td>\n",
       "      <td>0.736424</td>\n",
       "      <td>0.469992</td>\n",
       "      <td>0.637772</td>\n",
       "    </tr>\n",
       "  </tbody>\n",
       "</table>\n",
       "</div>"
      ],
      "text/plain": [
       "       accuracy  precision    recall  f1_score       auc\n",
       "Value  0.610224   0.345127  0.736424  0.469992  0.637772"
      ]
     },
     "metadata": {},
     "output_type": "display_data"
    },
    {
     "data": {
      "image/png": "[encoded data removed]",
      "text/plain": [
       "<Figure size 640x480 with 1 Axes>"
      ]
     },
     "metadata": {},
     "output_type": "display_data"
    },
    {
     "name": "stdout",
     "output_type": "stream",
     "text": [
      "\n",
      "\n",
      "\n",
      "COMPUTING FOR HFEA_2012.parquet\n",
      "Average optimal threshold = 0.501\n",
      "AIC: -57793.38\n",
      "BIC: -57002.484\n",
      "\n",
      "CV RESULTS\n"
     ]
    },
    {
     "data": {
      "text/html": [
       "<div>\n",
       "<style scoped>\n",
       "    .dataframe tbody tr th:only-of-type {\n",
       "        vertical-align: middle;\n",
       "    }\n",
       "\n",
       "    .dataframe tbody tr th {\n",
       "        vertical-align: top;\n",
       "    }\n",
       "\n",
       "    .dataframe thead th {\n",
       "        text-align: right;\n",
       "    }\n",
       "</style>\n",
       "<table border=\"1\" class=\"dataframe\">\n",
       "  <thead>\n",
       "    <tr style=\"text-align: right;\">\n",
       "      <th></th>\n",
       "      <th>accuracy</th>\n",
       "      <th>precision</th>\n",
       "      <th>recall</th>\n",
       "      <th>f1_score</th>\n",
       "      <th>auc</th>\n",
       "    </tr>\n",
       "  </thead>\n",
       "  <tbody>\n",
       "    <tr>\n",
       "      <th>Mean</th>\n",
       "      <td>0.600299</td>\n",
       "      <td>0.330588</td>\n",
       "      <td>0.728312</td>\n",
       "      <td>0.454599</td>\n",
       "      <td>0.633754</td>\n",
       "    </tr>\n",
       "    <tr>\n",
       "      <th>Standard Deviation</th>\n",
       "      <td>0.005365</td>\n",
       "      <td>0.004197</td>\n",
       "      <td>0.025135</td>\n",
       "      <td>0.005630</td>\n",
       "      <td>0.005480</td>\n",
       "    </tr>\n",
       "  </tbody>\n",
       "</table>\n",
       "</div>"
      ],
      "text/plain": [
       "                    accuracy  precision    recall  f1_score       auc\n",
       "Mean                0.600299   0.330588  0.728312  0.454599  0.633754\n",
       "Standard Deviation  0.005365   0.004197  0.025135  0.005630  0.005480"
      ]
     },
     "metadata": {},
     "output_type": "display_data"
    },
    {
     "name": "stdout",
     "output_type": "stream",
     "text": [
      "\n",
      "TEST RESULTS\n"
     ]
    },
    {
     "data": {
      "text/html": [
       "<div>\n",
       "<style scoped>\n",
       "    .dataframe tbody tr th:only-of-type {\n",
       "        vertical-align: middle;\n",
       "    }\n",
       "\n",
       "    .dataframe tbody tr th {\n",
       "        vertical-align: top;\n",
       "    }\n",
       "\n",
       "    .dataframe thead th {\n",
       "        text-align: right;\n",
       "    }\n",
       "</style>\n",
       "<table border=\"1\" class=\"dataframe\">\n",
       "  <thead>\n",
       "    <tr style=\"text-align: right;\">\n",
       "      <th></th>\n",
       "      <th>accuracy</th>\n",
       "      <th>precision</th>\n",
       "      <th>recall</th>\n",
       "      <th>f1_score</th>\n",
       "      <th>auc</th>\n",
       "    </tr>\n",
       "  </thead>\n",
       "  <tbody>\n",
       "    <tr>\n",
       "      <th>Value</th>\n",
       "      <td>0.613912</td>\n",
       "      <td>0.346601</td>\n",
       "      <td>0.749669</td>\n",
       "      <td>0.474037</td>\n",
       "      <td>0.640523</td>\n",
       "    </tr>\n",
       "  </tbody>\n",
       "</table>\n",
       "</div>"
      ],
      "text/plain": [
       "       accuracy  precision    recall  f1_score       auc\n",
       "Value  0.613912   0.346601  0.749669  0.474037  0.640523"
      ]
     },
     "metadata": {},
     "output_type": "display_data"
    },
    {
     "data": {
      "image/png": "[encoded data removed]",
      "text/plain": [
       "<Figure size 640x480 with 1 Axes>"
      ]
     },
     "metadata": {},
     "output_type": "display_data"
    },
    {
     "name": "stdout",
     "output_type": "stream",
     "text": [
      "\n",
      "\n",
      "\n",
      "COMPUTING FOR HFEA_2013.parquet\n",
      "Average optimal threshold = 0.52\n",
      "AIC: -57499.275\n",
      "BIC: -56708.727\n",
      "\n",
      "CV RESULTS\n"
     ]
    },
    {
     "data": {
      "text/html": [
       "<div>\n",
       "<style scoped>\n",
       "    .dataframe tbody tr th:only-of-type {\n",
       "        vertical-align: middle;\n",
       "    }\n",
       "\n",
       "    .dataframe tbody tr th {\n",
       "        vertical-align: top;\n",
       "    }\n",
       "\n",
       "    .dataframe thead th {\n",
       "        text-align: right;\n",
       "    }\n",
       "</style>\n",
       "<table border=\"1\" class=\"dataframe\">\n",
       "  <thead>\n",
       "    <tr style=\"text-align: right;\">\n",
       "      <th></th>\n",
       "      <th>accuracy</th>\n",
       "      <th>precision</th>\n",
       "      <th>recall</th>\n",
       "      <th>f1_score</th>\n",
       "      <th>auc</th>\n",
       "    </tr>\n",
       "  </thead>\n",
       "  <tbody>\n",
       "    <tr>\n",
       "      <th>Mean</th>\n",
       "      <td>0.602258</td>\n",
       "      <td>0.343087</td>\n",
       "      <td>0.718472</td>\n",
       "      <td>0.464345</td>\n",
       "      <td>0.630567</td>\n",
       "    </tr>\n",
       "    <tr>\n",
       "      <th>Standard Deviation</th>\n",
       "      <td>0.007553</td>\n",
       "      <td>0.005896</td>\n",
       "      <td>0.016513</td>\n",
       "      <td>0.007078</td>\n",
       "      <td>0.008290</td>\n",
       "    </tr>\n",
       "  </tbody>\n",
       "</table>\n",
       "</div>"
      ],
      "text/plain": [
       "                    accuracy  precision    recall  f1_score       auc\n",
       "Mean                0.602258   0.343087  0.718472  0.464345  0.630567\n",
       "Standard Deviation  0.007553   0.005896  0.016513  0.007078  0.008290"
      ]
     },
     "metadata": {},
     "output_type": "display_data"
    },
    {
     "name": "stdout",
     "output_type": "stream",
     "text": [
      "\n",
      "TEST RESULTS\n"
     ]
    },
    {
     "data": {
      "text/html": [
       "<div>\n",
       "<style scoped>\n",
       "    .dataframe tbody tr th:only-of-type {\n",
       "        vertical-align: middle;\n",
       "    }\n",
       "\n",
       "    .dataframe tbody tr th {\n",
       "        vertical-align: top;\n",
       "    }\n",
       "\n",
       "    .dataframe thead th {\n",
       "        text-align: right;\n",
       "    }\n",
       "</style>\n",
       "<table border=\"1\" class=\"dataframe\">\n",
       "  <thead>\n",
       "    <tr style=\"text-align: right;\">\n",
       "      <th></th>\n",
       "      <th>accuracy</th>\n",
       "      <th>precision</th>\n",
       "      <th>recall</th>\n",
       "      <th>f1_score</th>\n",
       "      <th>auc</th>\n",
       "    </tr>\n",
       "  </thead>\n",
       "  <tbody>\n",
       "    <tr>\n",
       "      <th>Value</th>\n",
       "      <td>0.612696</td>\n",
       "      <td>0.34779</td>\n",
       "      <td>0.732892</td>\n",
       "      <td>0.471725</td>\n",
       "      <td>0.636992</td>\n",
       "    </tr>\n",
       "  </tbody>\n",
       "</table>\n",
       "</div>"
      ],
      "text/plain": [
       "       accuracy  precision    recall  f1_score       auc\n",
       "Value  0.612696    0.34779  0.732892  0.471725  0.636992"
      ]
     },
     "metadata": {},
     "output_type": "display_data"
    },
    {
     "data": {
      "image/png": "[encoded data removed]",
      "text/plain": [
       "<Figure size 640x480 with 1 Axes>"
      ]
     },
     "metadata": {},
     "output_type": "display_data"
    },
    {
     "name": "stdout",
     "output_type": "stream",
     "text": [
      "\n",
      "\n",
      "\n",
      "COMPUTING FOR HFEA_2014.parquet\n",
      "Average optimal threshold = 0.511\n",
      "AIC: -57036.232\n",
      "BIC: -56245.681\n",
      "\n",
      "CV RESULTS\n"
     ]
    },
    {
     "data": {
      "text/html": [
       "<div>\n",
       "<style scoped>\n",
       "    .dataframe tbody tr th:only-of-type {\n",
       "        vertical-align: middle;\n",
       "    }\n",
       "\n",
       "    .dataframe tbody tr th {\n",
       "        vertical-align: top;\n",
       "    }\n",
       "\n",
       "    .dataframe thead th {\n",
       "        text-align: right;\n",
       "    }\n",
       "</style>\n",
       "<table border=\"1\" class=\"dataframe\">\n",
       "  <thead>\n",
       "    <tr style=\"text-align: right;\">\n",
       "      <th></th>\n",
       "      <th>accuracy</th>\n",
       "      <th>precision</th>\n",
       "      <th>recall</th>\n",
       "      <th>f1_score</th>\n",
       "      <th>auc</th>\n",
       "    </tr>\n",
       "  </thead>\n",
       "  <tbody>\n",
       "    <tr>\n",
       "      <th>Mean</th>\n",
       "      <td>0.608808</td>\n",
       "      <td>0.354250</td>\n",
       "      <td>0.72572</td>\n",
       "      <td>0.475939</td>\n",
       "      <td>0.643627</td>\n",
       "    </tr>\n",
       "    <tr>\n",
       "      <th>Standard Deviation</th>\n",
       "      <td>0.011687</td>\n",
       "      <td>0.008998</td>\n",
       "      <td>0.02553</td>\n",
       "      <td>0.010870</td>\n",
       "      <td>0.011012</td>\n",
       "    </tr>\n",
       "  </tbody>\n",
       "</table>\n",
       "</div>"
      ],
      "text/plain": [
       "                    accuracy  precision   recall  f1_score       auc\n",
       "Mean                0.608808   0.354250  0.72572  0.475939  0.643627\n",
       "Standard Deviation  0.011687   0.008998  0.02553  0.010870  0.011012"
      ]
     },
     "metadata": {},
     "output_type": "display_data"
    },
    {
     "name": "stdout",
     "output_type": "stream",
     "text": [
      "\n",
      "TEST RESULTS\n"
     ]
    },
    {
     "data": {
      "text/html": [
       "<div>\n",
       "<style scoped>\n",
       "    .dataframe tbody tr th:only-of-type {\n",
       "        vertical-align: middle;\n",
       "    }\n",
       "\n",
       "    .dataframe tbody tr th {\n",
       "        vertical-align: top;\n",
       "    }\n",
       "\n",
       "    .dataframe thead th {\n",
       "        text-align: right;\n",
       "    }\n",
       "</style>\n",
       "<table border=\"1\" class=\"dataframe\">\n",
       "  <thead>\n",
       "    <tr style=\"text-align: right;\">\n",
       "      <th></th>\n",
       "      <th>accuracy</th>\n",
       "      <th>precision</th>\n",
       "      <th>recall</th>\n",
       "      <th>f1_score</th>\n",
       "      <th>auc</th>\n",
       "    </tr>\n",
       "  </thead>\n",
       "  <tbody>\n",
       "    <tr>\n",
       "      <th>Value</th>\n",
       "      <td>0.613963</td>\n",
       "      <td>0.348618</td>\n",
       "      <td>0.735099</td>\n",
       "      <td>0.472944</td>\n",
       "      <td>0.641135</td>\n",
       "    </tr>\n",
       "  </tbody>\n",
       "</table>\n",
       "</div>"
      ],
      "text/plain": [
       "       accuracy  precision    recall  f1_score       auc\n",
       "Value  0.613963   0.348618  0.735099  0.472944  0.641135"
      ]
     },
     "metadata": {},
     "output_type": "display_data"
    },
    {
     "data": {
      "image/png": "[encoded data removed]",
      "text/plain": [
       "<Figure size 640x480 with 1 Axes>"
      ]
     },
     "metadata": {},
     "output_type": "display_data"
    },
    {
     "name": "stdout",
     "output_type": "stream",
     "text": [
      "\n",
      "\n",
      "\n",
      "COMPUTING FOR HFEA_2015.parquet\n",
      "Average optimal threshold = 0.505\n",
      "AIC: -55841.645\n",
      "BIC: -55052.665\n",
      "\n",
      "CV RESULTS\n"
     ]
    },
    {
     "data": {
      "text/html": [
       "<div>\n",
       "<style scoped>\n",
       "    .dataframe tbody tr th:only-of-type {\n",
       "        vertical-align: middle;\n",
       "    }\n",
       "\n",
       "    .dataframe tbody tr th {\n",
       "        vertical-align: top;\n",
       "    }\n",
       "\n",
       "    .dataframe thead th {\n",
       "        text-align: right;\n",
       "    }\n",
       "</style>\n",
       "<table border=\"1\" class=\"dataframe\">\n",
       "  <thead>\n",
       "    <tr style=\"text-align: right;\">\n",
       "      <th></th>\n",
       "      <th>accuracy</th>\n",
       "      <th>precision</th>\n",
       "      <th>recall</th>\n",
       "      <th>f1_score</th>\n",
       "      <th>auc</th>\n",
       "    </tr>\n",
       "  </thead>\n",
       "  <tbody>\n",
       "    <tr>\n",
       "      <th>Mean</th>\n",
       "      <td>0.614795</td>\n",
       "      <td>0.360709</td>\n",
       "      <td>0.732394</td>\n",
       "      <td>0.483250</td>\n",
       "      <td>0.652726</td>\n",
       "    </tr>\n",
       "    <tr>\n",
       "      <th>Standard Deviation</th>\n",
       "      <td>0.007628</td>\n",
       "      <td>0.007057</td>\n",
       "      <td>0.017118</td>\n",
       "      <td>0.006934</td>\n",
       "      <td>0.007588</td>\n",
       "    </tr>\n",
       "  </tbody>\n",
       "</table>\n",
       "</div>"
      ],
      "text/plain": [
       "                    accuracy  precision    recall  f1_score       auc\n",
       "Mean                0.614795   0.360709  0.732394  0.483250  0.652726\n",
       "Standard Deviation  0.007628   0.007057  0.017118  0.006934  0.007588"
      ]
     },
     "metadata": {},
     "output_type": "display_data"
    },
    {
     "name": "stdout",
     "output_type": "stream",
     "text": [
      "\n",
      "TEST RESULTS\n"
     ]
    },
    {
     "data": {
      "text/html": [
       "<div>\n",
       "<style scoped>\n",
       "    .dataframe tbody tr th:only-of-type {\n",
       "        vertical-align: middle;\n",
       "    }\n",
       "\n",
       "    .dataframe tbody tr th {\n",
       "        vertical-align: top;\n",
       "    }\n",
       "\n",
       "    .dataframe thead th {\n",
       "        text-align: right;\n",
       "    }\n",
       "</style>\n",
       "<table border=\"1\" class=\"dataframe\">\n",
       "  <thead>\n",
       "    <tr style=\"text-align: right;\">\n",
       "      <th></th>\n",
       "      <th>accuracy</th>\n",
       "      <th>precision</th>\n",
       "      <th>recall</th>\n",
       "      <th>f1_score</th>\n",
       "      <th>auc</th>\n",
       "    </tr>\n",
       "  </thead>\n",
       "  <tbody>\n",
       "    <tr>\n",
       "      <th>Value</th>\n",
       "      <td>0.611729</td>\n",
       "      <td>0.348205</td>\n",
       "      <td>0.72362</td>\n",
       "      <td>0.470166</td>\n",
       "      <td>0.640809</td>\n",
       "    </tr>\n",
       "  </tbody>\n",
       "</table>\n",
       "</div>"
      ],
      "text/plain": [
       "       accuracy  precision   recall  f1_score       auc\n",
       "Value  0.611729   0.348205  0.72362  0.470166  0.640809"
      ]
     },
     "metadata": {},
     "output_type": "display_data"
    },
    {
     "data": {
      "image/png": "[encoded data removed]",
      "text/plain": [
       "<Figure size 640x480 with 1 Axes>"
      ]
     },
     "metadata": {},
     "output_type": "display_data"
    },
    {
     "name": "stdout",
     "output_type": "stream",
     "text": [
      "\n",
      "\n",
      "\n"
     ]
    }
   ],
   "source": [
    "data_list = ['HFEA_2006.parquet', 'HFEA_2007.parquet', 'HFEA_2008.parquet', 'HFEA_2009.parquet', 'HFEA_2010.parquet',\n",
    "'HFEA_2011.parquet', 'HFEA_2012.parquet', 'HFEA_2013.parquet', 'HFEA_2014.parquet', 'HFEA_2015.parquet']\n",
    "TEST = pd.read_parquet('TEST_2016.parquet')\n",
    "y_test = TEST['LIVE_BIRTH_OCCURRENCE']\n",
    "X_test = TEST.drop(['FRESH_EGGS_COLLECTED', 'TOTAL_EMBRYOS_CREATED', 'LIVE_BIRTH_OCCURRENCE'], axis=1)\n",
    "\n",
    "year_iterator(data_list, X_test, y_test)"
   ]
  },
  {
   "cell_type": "code",
   "execution_count": 120,
   "metadata": {},
   "outputs": [
    {
     "data": {
      "application/vnd.plotly.v1+json": {
       "config": {
        "plotlyServerURL": "https://plot.ly"
       },
       "data": [
        {
         "line": {
          "color": "#FF9249"
         },
         "mode": "lines",
         "name": "Avg AUC",
         "type": "scatter",
         "x": [
          "2006",
          "2007",
          "2008",
          "2009",
          "2010",
          "2011",
          "2012",
          "2013",
          "2014",
          "2015",
          "2016"
         ],
         "y": [
          0.642,
          0.645,
          0.646,
          0.636,
          0.633,
          0.633,
          0.634,
          0.631,
          0.644,
          0.653,
          0.647
         ]
        },
        {
         "line": {
          "width": 0
         },
         "marker": {
          "color": "#444"
         },
         "mode": "lines",
         "name": "AUC + 1 std",
         "showlegend": false,
         "type": "scatter",
         "x": [
          "2006",
          "2007",
          "2008",
          "2009",
          "2010",
          "2011",
          "2012",
          "2013",
          "2014",
          "2015",
          "2016"
         ],
         "y": [
          0.653,
          0.652,
          0.651,
          0.646,
          0.644,
          0.641,
          0.639,
          0.639,
          0.655,
          0.661,
          0.656
         ]
        },
        {
         "fill": "tonexty",
         "fillcolor": "rgba(250, 199, 164, 0.4)",
         "line": {
          "width": 0
         },
         "marker": {
          "color": "#444"
         },
         "mode": "lines",
         "name": "AUC - 1 std",
         "showlegend": false,
         "type": "scatter",
         "x": [
          "2006",
          "2007",
          "2008",
          "2009",
          "2010",
          "2011",
          "2012",
          "2013",
          "2014",
          "2015",
          "2016"
         ],
         "y": [
          0.631,
          0.638,
          0.641,
          0.626,
          0.622,
          0.625,
          0.629,
          0.623,
          0.633,
          0.645,
          0.638
         ]
        },
        {
         "line": {
          "color": "#82ADAE"
         },
         "mode": "lines",
         "name": "Avg F1",
         "type": "scatter",
         "x": [
          "2006",
          "2007",
          "2008",
          "2009",
          "2010",
          "2011",
          "2012",
          "2013",
          "2014",
          "2015",
          "2016"
         ],
         "y": [
          0.435,
          0.447,
          0.452,
          0.445,
          0.442,
          0.442,
          0.455,
          0.464,
          0.476,
          0.483,
          0.473
         ]
        },
        {
         "line": {
          "width": 0
         },
         "marker": {
          "color": "#444"
         },
         "mode": "lines",
         "name": "F1 + 1 std",
         "showlegend": false,
         "type": "scatter",
         "x": [
          "2006",
          "2007",
          "2008",
          "2009",
          "2010",
          "2011",
          "2012",
          "2013",
          "2014",
          "2015",
          "2016"
         ],
         "y": [
          0.445,
          0.452,
          0.459,
          0.454,
          0.45,
          0.45,
          0.461,
          0.47100000000000003,
          0.487,
          0.49,
          0.48
         ]
        },
        {
         "fill": "tonexty",
         "fillcolor": "rgba(130, 173, 174, 0.4)",
         "line": {
          "width": 0
         },
         "marker": {
          "color": "#444"
         },
         "mode": "lines",
         "name": "F1 - 1 std",
         "showlegend": false,
         "type": "scatter",
         "x": [
          "2006",
          "2007",
          "2008",
          "2009",
          "2010",
          "2011",
          "2012",
          "2013",
          "2014",
          "2015",
          "2016"
         ],
         "y": [
          0.425,
          0.442,
          0.445,
          0.436,
          0.434,
          0.434,
          0.449,
          0.457,
          0.46499999999999997,
          0.476,
          0.46599999999999997
         ]
        },
        {
         "marker": {
          "color": "#FF9249",
          "symbol": "x"
         },
         "mode": "markers",
         "name": "Test AUC",
         "type": "scatter",
         "x": [
          "2006",
          "2007",
          "2008",
          "2009",
          "2010",
          "2011",
          "2012",
          "2013",
          "2014",
          "2015",
          "2016"
         ],
         "y": [
          0.635,
          0.641,
          0.64,
          0.64,
          0.639,
          0.639,
          0.641,
          0.637,
          0.641,
          0.641,
          0.638
         ]
        },
        {
         "marker": {
          "color": "#82ADAE",
          "symbol": "x"
         },
         "mode": "markers",
         "name": "Test F1",
         "type": "scatter",
         "x": [
          "2006",
          "2007",
          "2008",
          "2009",
          "2010",
          "2011",
          "2012",
          "2013",
          "2014",
          "2015",
          "2016"
         ],
         "y": [
          0.454,
          0.47,
          0.47,
          0.474,
          0.47,
          0.47,
          0.474,
          0.472,
          0.473,
          0.47,
          0.472
         ]
        },
        {
         "line": {
          "color": "#302C2E"
         },
         "mode": "lines",
         "name": "LBR",
         "type": "scatter",
         "x": [
          "2006",
          "2007",
          "2008",
          "2009",
          "2010",
          "2011",
          "2012",
          "2013",
          "2014",
          "2015",
          "2016"
         ],
         "y": [
          24.75,
          25.36,
          25.74,
          25.28,
          25.68,
          25.58,
          26.35,
          27.19,
          27.74,
          27.91,
          27
         ],
         "yaxis": "y2"
        }
       ],
       "layout": {
        "font": {
         "color": "black",
         "family": "Didot",
         "size": 14
        },
        "height": 500,
        "legend": {
         "x": 1.1,
         "y": 1
        },
        "paper_bgcolor": "white",
        "plot_bgcolor": "white",
        "showlegend": true,
        "template": {
         "data": {
          "bar": [
           {
            "error_x": {
             "color": "#2a3f5f"
            },
            "error_y": {
             "color": "#2a3f5f"
            },
            "marker": {
             "line": {
              "color": "#E5ECF6",
              "width": 0.5
             },
             "pattern": {
              "fillmode": "overlay",
              "size": 10,
              "solidity": 0.2
             }
            },
            "type": "bar"
           }
          ],
          "barpolar": [
           {
            "marker": {
             "line": {
              "color": "#E5ECF6",
              "width": 0.5
             },
             "pattern": {
              "fillmode": "overlay",
              "size": 10,
              "solidity": 0.2
             }
            },
            "type": "barpolar"
           }
          ],
          "carpet": [
           {
            "aaxis": {
             "endlinecolor": "#2a3f5f",
             "gridcolor": "white",
             "linecolor": "white",
             "minorgridcolor": "white",
             "startlinecolor": "#2a3f5f"
            },
            "baxis": {
             "endlinecolor": "#2a3f5f",
             "gridcolor": "white",
             "linecolor": "white",
             "minorgridcolor": "white",
             "startlinecolor": "#2a3f5f"
            },
            "type": "carpet"
           }
          ],
          "choropleth": [
           {
            "colorbar": {
             "outlinewidth": 0,
             "ticks": ""
            },
            "type": "choropleth"
           }
          ],
          "contour": [
           {
            "colorbar": {
             "outlinewidth": 0,
             "ticks": ""
            },
            "colorscale": [
             [
              0,
              "#0d0887"
             ],
             [
              0.1111111111111111,
              "#46039f"
             ],
             [
              0.2222222222222222,
              "#7201a8"
             ],
             [
              0.3333333333333333,
              "#9c179e"
             ],
             [
              0.4444444444444444,
              "#bd3786"
             ],
             [
              0.5555555555555556,
              "#d8576b"
             ],
             [
              0.6666666666666666,
              "#ed7953"
             ],
             [
              0.7777777777777778,
              "#fb9f3a"
             ],
             [
              0.8888888888888888,
              "#fdca26"
             ],
             [
              1,
              "#f0f921"
             ]
            ],
            "type": "contour"
           }
          ],
          "contourcarpet": [
           {
            "colorbar": {
             "outlinewidth": 0,
             "ticks": ""
            },
            "type": "contourcarpet"
           }
          ],
          "heatmap": [
           {
            "colorbar": {
             "outlinewidth": 0,
             "ticks": ""
            },
            "colorscale": [
             [
              0,
              "#0d0887"
             ],
             [
              0.1111111111111111,
              "#46039f"
             ],
             [
              0.2222222222222222,
              "#7201a8"
             ],
             [
              0.3333333333333333,
              "#9c179e"
             ],
             [
              0.4444444444444444,
              "#bd3786"
             ],
             [
              0.5555555555555556,
              "#d8576b"
             ],
             [
              0.6666666666666666,
              "#ed7953"
             ],
             [
              0.7777777777777778,
              "#fb9f3a"
             ],
             [
              0.8888888888888888,
              "#fdca26"
             ],
             [
              1,
              "#f0f921"
             ]
            ],
            "type": "heatmap"
           }
          ],
          "heatmapgl": [
           {
            "colorbar": {
             "outlinewidth": 0,
             "ticks": ""
            },
            "colorscale": [
             [
              0,
              "#0d0887"
             ],
             [
              0.1111111111111111,
              "#46039f"
             ],
             [
              0.2222222222222222,
              "#7201a8"
             ],
             [
              0.3333333333333333,
              "#9c179e"
             ],
             [
              0.4444444444444444,
              "#bd3786"
             ],
             [
              0.5555555555555556,
              "#d8576b"
             ],
             [
              0.6666666666666666,
              "#ed7953"
             ],
             [
              0.7777777777777778,
              "#fb9f3a"
             ],
             [
              0.8888888888888888,
              "#fdca26"
             ],
             [
              1,
              "#f0f921"
             ]
            ],
            "type": "heatmapgl"
           }
          ],
          "histogram": [
           {
            "marker": {
             "pattern": {
              "fillmode": "overlay",
              "size": 10,
              "solidity": 0.2
             }
            },
            "type": "histogram"
           }
          ],
          "histogram2d": [
           {
            "colorbar": {
             "outlinewidth": 0,
             "ticks": ""
            },
            "colorscale": [
             [
              0,
              "#0d0887"
             ],
             [
              0.1111111111111111,
              "#46039f"
             ],
             [
              0.2222222222222222,
              "#7201a8"
             ],
             [
              0.3333333333333333,
              "#9c179e"
             ],
             [
              0.4444444444444444,
              "#bd3786"
             ],
             [
              0.5555555555555556,
              "#d8576b"
             ],
             [
              0.6666666666666666,
              "#ed7953"
             ],
             [
              0.7777777777777778,
              "#fb9f3a"
             ],
             [
              0.8888888888888888,
              "#fdca26"
             ],
             [
              1,
              "#f0f921"
             ]
            ],
            "type": "histogram2d"
           }
          ],
          "histogram2dcontour": [
           {
            "colorbar": {
             "outlinewidth": 0,
             "ticks": ""
            },
            "colorscale": [
             [
              0,
              "#0d0887"
             ],
             [
              0.1111111111111111,
              "#46039f"
             ],
             [
              0.2222222222222222,
              "#7201a8"
             ],
             [
              0.3333333333333333,
              "#9c179e"
             ],
             [
              0.4444444444444444,
              "#bd3786"
             ],
             [
              0.5555555555555556,
              "#d8576b"
             ],
             [
              0.6666666666666666,
              "#ed7953"
             ],
             [
              0.7777777777777778,
              "#fb9f3a"
             ],
             [
              0.8888888888888888,
              "#fdca26"
             ],
             [
              1,
              "#f0f921"
             ]
            ],
            "type": "histogram2dcontour"
           }
          ],
          "mesh3d": [
           {
            "colorbar": {
             "outlinewidth": 0,
             "ticks": ""
            },
            "type": "mesh3d"
           }
          ],
          "parcoords": [
           {
            "line": {
             "colorbar": {
              "outlinewidth": 0,
              "ticks": ""
             }
            },
            "type": "parcoords"
           }
          ],
          "pie": [
           {
            "automargin": true,
            "type": "pie"
           }
          ],
          "scatter": [
           {
            "fillpattern": {
             "fillmode": "overlay",
             "size": 10,
             "solidity": 0.2
            },
            "type": "scatter"
           }
          ],
          "scatter3d": [
           {
            "line": {
             "colorbar": {
              "outlinewidth": 0,
              "ticks": ""
             }
            },
            "marker": {
             "colorbar": {
              "outlinewidth": 0,
              "ticks": ""
             }
            },
            "type": "scatter3d"
           }
          ],
          "scattercarpet": [
           {
            "marker": {
             "colorbar": {
              "outlinewidth": 0,
              "ticks": ""
             }
            },
            "type": "scattercarpet"
           }
          ],
          "scattergeo": [
           {
            "marker": {
             "colorbar": {
              "outlinewidth": 0,
              "ticks": ""
             }
            },
            "type": "scattergeo"
           }
          ],
          "scattergl": [
           {
            "marker": {
             "colorbar": {
              "outlinewidth": 0,
              "ticks": ""
             }
            },
            "type": "scattergl"
           }
          ],
          "scattermapbox": [
           {
            "marker": {
             "colorbar": {
              "outlinewidth": 0,
              "ticks": ""
             }
            },
            "type": "scattermapbox"
           }
          ],
          "scatterpolar": [
           {
            "marker": {
             "colorbar": {
              "outlinewidth": 0,
              "ticks": ""
             }
            },
            "type": "scatterpolar"
           }
          ],
          "scatterpolargl": [
           {
            "marker": {
             "colorbar": {
              "outlinewidth": 0,
              "ticks": ""
             }
            },
            "type": "scatterpolargl"
           }
          ],
          "scatterternary": [
           {
            "marker": {
             "colorbar": {
              "outlinewidth": 0,
              "ticks": ""
             }
            },
            "type": "scatterternary"
           }
          ],
          "surface": [
           {
            "colorbar": {
             "outlinewidth": 0,
             "ticks": ""
            },
            "colorscale": [
             [
              0,
              "#0d0887"
             ],
             [
              0.1111111111111111,
              "#46039f"
             ],
             [
              0.2222222222222222,
              "#7201a8"
             ],
             [
              0.3333333333333333,
              "#9c179e"
             ],
             [
              0.4444444444444444,
              "#bd3786"
             ],
             [
              0.5555555555555556,
              "#d8576b"
             ],
             [
              0.6666666666666666,
              "#ed7953"
             ],
             [
              0.7777777777777778,
              "#fb9f3a"
             ],
             [
              0.8888888888888888,
              "#fdca26"
             ],
             [
              1,
              "#f0f921"
             ]
            ],
            "type": "surface"
           }
          ],
          "table": [
           {
            "cells": {
             "fill": {
              "color": "#EBF0F8"
             },
             "line": {
              "color": "white"
             }
            },
            "header": {
             "fill": {
              "color": "#C8D4E3"
             },
             "line": {
              "color": "white"
             }
            },
            "type": "table"
           }
          ]
         },
         "layout": {
          "annotationdefaults": {
           "arrowcolor": "#2a3f5f",
           "arrowhead": 0,
           "arrowwidth": 1
          },
          "autotypenumbers": "strict",
          "coloraxis": {
           "colorbar": {
            "outlinewidth": 0,
            "ticks": ""
           }
          },
          "colorscale": {
           "diverging": [
            [
             0,
             "#8e0152"
            ],
            [
             0.1,
             "#c51b7d"
            ],
            [
             0.2,
             "#de77ae"
            ],
            [
             0.3,
             "#f1b6da"
            ],
            [
             0.4,
             "#fde0ef"
            ],
            [
             0.5,
             "#f7f7f7"
            ],
            [
             0.6,
             "#e6f5d0"
            ],
            [
             0.7,
             "#b8e186"
            ],
            [
             0.8,
             "#7fbc41"
            ],
            [
             0.9,
             "#4d9221"
            ],
            [
             1,
             "#276419"
            ]
           ],
           "sequential": [
            [
             0,
             "#0d0887"
            ],
            [
             0.1111111111111111,
             "#46039f"
            ],
            [
             0.2222222222222222,
             "#7201a8"
            ],
            [
             0.3333333333333333,
             "#9c179e"
            ],
            [
             0.4444444444444444,
             "#bd3786"
            ],
            [
             0.5555555555555556,
             "#d8576b"
            ],
            [
             0.6666666666666666,
             "#ed7953"
            ],
            [
             0.7777777777777778,
             "#fb9f3a"
            ],
            [
             0.8888888888888888,
             "#fdca26"
            ],
            [
             1,
             "#f0f921"
            ]
           ],
           "sequentialminus": [
            [
             0,
             "#0d0887"
            ],
            [
             0.1111111111111111,
             "#46039f"
            ],
            [
             0.2222222222222222,
             "#7201a8"
            ],
            [
             0.3333333333333333,
             "#9c179e"
            ],
            [
             0.4444444444444444,
             "#bd3786"
            ],
            [
             0.5555555555555556,
             "#d8576b"
            ],
            [
             0.6666666666666666,
             "#ed7953"
            ],
            [
             0.7777777777777778,
             "#fb9f3a"
            ],
            [
             0.8888888888888888,
             "#fdca26"
            ],
            [
             1,
             "#f0f921"
            ]
           ]
          },
          "colorway": [
           "#636efa",
           "#EF553B",
           "#00cc96",
           "#ab63fa",
           "#FFA15A",
           "#19d3f3",
           "#FF6692",
           "#B6E880",
           "#FF97FF",
           "#FECB52"
          ],
          "font": {
           "color": "#2a3f5f"
          },
          "geo": {
           "bgcolor": "white",
           "lakecolor": "white",
           "landcolor": "#E5ECF6",
           "showlakes": true,
           "showland": true,
           "subunitcolor": "white"
          },
          "hoverlabel": {
           "align": "left"
          },
          "hovermode": "closest",
          "mapbox": {
           "style": "light"
          },
          "paper_bgcolor": "white",
          "plot_bgcolor": "#E5ECF6",
          "polar": {
           "angularaxis": {
            "gridcolor": "white",
            "linecolor": "white",
            "ticks": ""
           },
           "bgcolor": "#E5ECF6",
           "radialaxis": {
            "gridcolor": "white",
            "linecolor": "white",
            "ticks": ""
           }
          },
          "scene": {
           "xaxis": {
            "backgroundcolor": "#E5ECF6",
            "gridcolor": "white",
            "gridwidth": 2,
            "linecolor": "white",
            "showbackground": true,
            "ticks": "",
            "zerolinecolor": "white"
           },
           "yaxis": {
            "backgroundcolor": "#E5ECF6",
            "gridcolor": "white",
            "gridwidth": 2,
            "linecolor": "white",
            "showbackground": true,
            "ticks": "",
            "zerolinecolor": "white"
           },
           "zaxis": {
            "backgroundcolor": "#E5ECF6",
            "gridcolor": "white",
            "gridwidth": 2,
            "linecolor": "white",
            "showbackground": true,
            "ticks": "",
            "zerolinecolor": "white"
           }
          },
          "shapedefaults": {
           "line": {
            "color": "#2a3f5f"
           }
          },
          "ternary": {
           "aaxis": {
            "gridcolor": "white",
            "linecolor": "white",
            "ticks": ""
           },
           "baxis": {
            "gridcolor": "white",
            "linecolor": "white",
            "ticks": ""
           },
           "bgcolor": "#E5ECF6",
           "caxis": {
            "gridcolor": "white",
            "linecolor": "white",
            "ticks": ""
           }
          },
          "title": {
           "x": 0.05
          },
          "xaxis": {
           "automargin": true,
           "gridcolor": "white",
           "linecolor": "white",
           "ticks": "",
           "title": {
            "standoff": 15
           },
           "zerolinecolor": "white",
           "zerolinewidth": 2
          },
          "yaxis": {
           "automargin": true,
           "gridcolor": "white",
           "linecolor": "white",
           "ticks": "",
           "title": {
            "standoff": 15
           },
           "zerolinecolor": "white",
           "zerolinewidth": 2
          }
         }
        },
        "title": {
         "text": "Model Performance per Year and Live Birth Rate",
         "x": 0.5,
         "xanchor": "center"
        },
        "width": 1100,
        "xaxis": {
         "gridcolor": "lightgrey",
         "showgrid": true,
         "showline": true,
         "title": {
          "text": "Year"
         }
        },
        "yaxis": {
         "gridcolor": "lightgrey",
         "showgrid": true,
         "showline": true,
         "title": {
          "text": "Score"
         }
        },
        "yaxis2": {
         "overlaying": "y",
         "showgrid": false,
         "side": "right",
         "title": {
          "text": "Live Birth Rate (%)"
         }
        }
       }
      }
     },
     "metadata": {},
     "output_type": "display_data"
    }
   ],
   "source": [
    "models = ['2006', '2007', '2008', '2009', '2010', '2011', '2012', '2013', '2014', '2015', '2016']\n",
    "\n",
    "avg_auc = [0.642, 0.645, 0.646, 0.636, 0.633, 0.633, 0.634, 0.631, 0.644, 0.653, 0.647]\n",
    "std_auc = [0.011, 0.007, 0.005, 0.010, 0.011, 0.008, 0.005, 0.008, 0.011, 0.008, 0.009]\n",
    "test_auc = [0.635, 0.641, 0.640, 0.640, 0.639, 0.639, 0.641, 0.637, 0.641, 0.641, 0.638]\n",
    "\n",
    "avg_f1 = [0.435, 0.447, 0.452, 0.445, 0.442, 0.442, 0.455, 0.464, 0.476, 0.483, 0.473]\n",
    "std_f1 = [0.010, 0.005, 0.007, 0.009, 0.008, 0.008, 0.006, 0.007, 0.011, 0.007, 0.007]\n",
    "test_f1 = [0.454, 0.470, 0.470, 0.474, 0.470, 0.470, 0.474, 0.472, 0.473, 0.470, 0.472]\n",
    "\n",
    "live_birth_rate = [24.75, 25.36, 25.74, 25.28, 25.68, 25.58, 26.35, 27.19, 27.74, 27.91, 27.0]\n",
    "\n",
    "\n",
    "# Create figure\n",
    "fig = go.Figure()\n",
    "\n",
    "# AUC Scores\n",
    "fig.add_trace(go.Scatter(\n",
    "    x=models, y=avg_auc, \n",
    "    mode='lines',\n",
    "    name='Avg AUC',\n",
    "    line=dict(color='#FF9249')))\n",
    "fig.add_trace(go.Scatter(\n",
    "    x=models, y=[avg + std for avg, std in zip(avg_auc, std_auc)], \n",
    "    mode='lines',\n",
    "    name='AUC + 1 std',\n",
    "    marker=dict(color=\"#444\"),\n",
    "    line=dict(width=0),\n",
    "    showlegend=False))\n",
    "fig.add_trace(go.Scatter(\n",
    "    x=models, y=[avg - std for avg, std in zip(avg_auc, std_auc)], \n",
    "    mode='lines',\n",
    "    name='AUC - 1 std',\n",
    "    marker=dict(color=\"#444\"),\n",
    "    line=dict(width=0),\n",
    "    fillcolor='rgba(250, 199, 164, 0.4)',\n",
    "    fill='tonexty',\n",
    "    showlegend=False))\n",
    "\n",
    "# F1 Scores\n",
    "fig.add_trace(go.Scatter(\n",
    "    x=models, y=avg_f1, \n",
    "    mode='lines',\n",
    "    name='Avg F1',\n",
    "    line=dict(color='#82ADAE')))\n",
    "fig.add_trace(go.Scatter(\n",
    "    x=models, y=[avg + std for avg, std in zip(avg_f1, std_f1)], \n",
    "    mode='lines',\n",
    "    name='F1 + 1 std',\n",
    "    marker=dict(color=\"#444\"),\n",
    "    line=dict(width=0),\n",
    "    showlegend=False))\n",
    "fig.add_trace(go.Scatter(\n",
    "    x=models, y=[avg - std for avg, std in zip(avg_f1, std_f1)], \n",
    "    mode='lines',\n",
    "    name='F1 - 1 std',\n",
    "    marker=dict(color=\"#444\"),\n",
    "    line=dict(width=0),\n",
    "    fillcolor='rgba(130, 173, 174, 0.4)',\n",
    "    fill='tonexty',\n",
    "    showlegend=False))\n",
    "\n",
    "# Test Scores\n",
    "fig.add_trace(go.Scatter(\n",
    "    x=models, y=test_auc, \n",
    "    mode='markers',\n",
    "    name='Test AUC',\n",
    "    marker=dict(color='#FF9249', symbol='x')))\n",
    "fig.add_trace(go.Scatter(\n",
    "    x=models, y=test_f1, \n",
    "    mode='markers',\n",
    "    name='Test F1',\n",
    "    marker=dict(color='#82ADAE', symbol='x')))\n",
    "\n",
    "\n",
    "# LBR\n",
    "fig.add_trace(go.Scatter(\n",
    "    x=models, y=live_birth_rate, \n",
    "    mode='lines',\n",
    "    name='LBR',\n",
    "    yaxis='y2', \n",
    "    line=dict(color='#302C2E'),\n",
    "))\n",
    "\n",
    "# Update layout with yaxis2 and other formatting\n",
    "fig.update_layout(\n",
    "    title={\n",
    "        'text': 'Model Performance per Year and Live Birth Rate',\n",
    "        'x': 0.5,\n",
    "        'xanchor': 'center'\n",
    "    },\n",
    "    legend=dict(\n",
    "        x=1.1,  # Move the legend further to the right\n",
    "        y=1), \n",
    "    xaxis_title='Year',\n",
    "    yaxis_title='Score',\n",
    "    yaxis2=dict(\n",
    "        title='Live Birth Rate (%)',\n",
    "        overlaying='y',\n",
    "        side='right',\n",
    "        showgrid=False\n",
    "    ),\n",
    "    font=dict(\n",
    "        family=\"Didot\",\n",
    "        size=14,\n",
    "        color=\"black\"\n",
    "    ),\n",
    "    width=1100,  \n",
    "    height=500,\n",
    "    plot_bgcolor='white',\n",
    "    paper_bgcolor='white',\n",
    "    xaxis=dict(showline=True, showgrid=True, gridcolor='lightgrey'),\n",
    "    yaxis=dict(showline=True, showgrid=True, gridcolor='lightgrey'),\n",
    "    showlegend=True\n",
    ")\n",
    "\n",
    "fig.show()\n"
   ]
  },
  {
   "cell_type": "code",
   "execution_count": 121,
   "metadata": {},
   "outputs": [],
   "source": [
    "pio.write_image(fig, 'year.png', scale=4)"
   ]
  },
  {
   "cell_type": "markdown",
   "metadata": {},
   "source": [
    "## Analysing which instances the model classifies properly"
   ]
  },
  {
   "cell_type": "code",
   "execution_count": 29,
   "metadata": {},
   "outputs": [
    {
     "name": "stdout",
     "output_type": "stream",
     "text": [
      "Average optimal threshold = 0.507\n",
      "AIC: -43755.4\n",
      "BIC: -42988.986\n",
      "\n",
      "CV RESULTS\n"
     ]
    },
    {
     "data": {
      "text/html": [
       "<div>\n",
       "<style scoped>\n",
       "    .dataframe tbody tr th:only-of-type {\n",
       "        vertical-align: middle;\n",
       "    }\n",
       "\n",
       "    .dataframe tbody tr th {\n",
       "        vertical-align: top;\n",
       "    }\n",
       "\n",
       "    .dataframe thead th {\n",
       "        text-align: right;\n",
       "    }\n",
       "</style>\n",
       "<table border=\"1\" class=\"dataframe\">\n",
       "  <thead>\n",
       "    <tr style=\"text-align: right;\">\n",
       "      <th></th>\n",
       "      <th>accuracy</th>\n",
       "      <th>precision</th>\n",
       "      <th>recall</th>\n",
       "      <th>f1_score</th>\n",
       "      <th>auc</th>\n",
       "    </tr>\n",
       "  </thead>\n",
       "  <tbody>\n",
       "    <tr>\n",
       "      <th>Mean</th>\n",
       "      <td>0.610851</td>\n",
       "      <td>0.345231</td>\n",
       "      <td>0.739429</td>\n",
       "      <td>0.470619</td>\n",
       "      <td>0.646619</td>\n",
       "    </tr>\n",
       "    <tr>\n",
       "      <th>Standard Deviation</th>\n",
       "      <td>0.006410</td>\n",
       "      <td>0.004565</td>\n",
       "      <td>0.019497</td>\n",
       "      <td>0.006230</td>\n",
       "      <td>0.008995</td>\n",
       "    </tr>\n",
       "  </tbody>\n",
       "</table>\n",
       "</div>"
      ],
      "text/plain": [
       "                    accuracy  precision    recall  f1_score       auc\n",
       "Mean                0.610851   0.345231  0.739429  0.470619  0.646619\n",
       "Standard Deviation  0.006410   0.004565  0.019497  0.006230  0.008995"
      ]
     },
     "metadata": {},
     "output_type": "display_data"
    },
    {
     "name": "stdout",
     "output_type": "stream",
     "text": [
      "\n",
      "TEST RESULTS\n"
     ]
    },
    {
     "data": {
      "text/html": [
       "<div>\n",
       "<style scoped>\n",
       "    .dataframe tbody tr th:only-of-type {\n",
       "        vertical-align: middle;\n",
       "    }\n",
       "\n",
       "    .dataframe tbody tr th {\n",
       "        vertical-align: top;\n",
       "    }\n",
       "\n",
       "    .dataframe thead th {\n",
       "        text-align: right;\n",
       "    }\n",
       "</style>\n",
       "<table border=\"1\" class=\"dataframe\">\n",
       "  <thead>\n",
       "    <tr style=\"text-align: right;\">\n",
       "      <th></th>\n",
       "      <th>accuracy</th>\n",
       "      <th>precision</th>\n",
       "      <th>recall</th>\n",
       "      <th>f1_score</th>\n",
       "      <th>auc</th>\n",
       "    </tr>\n",
       "  </thead>\n",
       "  <tbody>\n",
       "    <tr>\n",
       "      <th>Value</th>\n",
       "      <td>0.612452</td>\n",
       "      <td>0.347571</td>\n",
       "      <td>0.732892</td>\n",
       "      <td>0.471524</td>\n",
       "      <td>0.638383</td>\n",
       "    </tr>\n",
       "  </tbody>\n",
       "</table>\n",
       "</div>"
      ],
      "text/plain": [
       "       accuracy  precision    recall  f1_score       auc\n",
       "Value  0.612452   0.347571  0.732892  0.471524  0.638383"
      ]
     },
     "metadata": {},
     "output_type": "display_data"
    },
    {
     "data": {
      "image/png": "[encoded data removed]",
      "text/plain": [
       "<Figure size 640x480 with 1 Axes>"
      ]
     },
     "metadata": {},
     "output_type": "display_data"
    },
    {
     "name": "stdout",
     "output_type": "stream",
     "text": [
      "\n",
      "FEATURES ANALYSIS\n"
     ]
    },
    {
     "data": {
      "text/html": [
       "<div>\n",
       "<style scoped>\n",
       "    .dataframe tbody tr th:only-of-type {\n",
       "        vertical-align: middle;\n",
       "    }\n",
       "\n",
       "    .dataframe tbody tr th {\n",
       "        vertical-align: top;\n",
       "    }\n",
       "\n",
       "    .dataframe thead th {\n",
       "        text-align: right;\n",
       "    }\n",
       "</style>\n",
       "<table border=\"1\" class=\"dataframe\">\n",
       "  <thead>\n",
       "    <tr style=\"text-align: right;\">\n",
       "      <th></th>\n",
       "      <th>feature</th>\n",
       "      <th>importance_mean</th>\n",
       "      <th>importance_std</th>\n",
       "    </tr>\n",
       "  </thead>\n",
       "  <tbody>\n",
       "    <tr>\n",
       "      <th>82</th>\n",
       "      <td>SPERM_FROM SPECIFIC_TREATMENT_TYPE_IVF</td>\n",
       "      <td>0.625686</td>\n",
       "      <td>0.040686</td>\n",
       "    </tr>\n",
       "    <tr>\n",
       "      <th>60</th>\n",
       "      <td>CAUSE_OF_INFERTILITY__MALE_FACTOR SPECIFIC_TRE...</td>\n",
       "      <td>0.438918</td>\n",
       "      <td>0.016810</td>\n",
       "    </tr>\n",
       "    <tr>\n",
       "      <th>7</th>\n",
       "      <td>STIMULATION_USED</td>\n",
       "      <td>0.298251</td>\n",
       "      <td>0.054099</td>\n",
       "    </tr>\n",
       "    <tr>\n",
       "      <th>75</th>\n",
       "      <td>STIMULATION_USED^2</td>\n",
       "      <td>0.298251</td>\n",
       "      <td>0.054099</td>\n",
       "    </tr>\n",
       "    <tr>\n",
       "      <th>58</th>\n",
       "      <td>CAUSE_OF_INFERTILITY__MALE_FACTOR SPERM_FROM</td>\n",
       "      <td>0.273410</td>\n",
       "      <td>0.042620</td>\n",
       "    </tr>\n",
       "    <tr>\n",
       "      <th>49</th>\n",
       "      <td>CAUSE_OF_INFERTILITY__OVULATORY_DISORDER STIMU...</td>\n",
       "      <td>0.200810</td>\n",
       "      <td>0.019141</td>\n",
       "    </tr>\n",
       "    <tr>\n",
       "      <th>64</th>\n",
       "      <td>CAUSE_OF_INFERTILITY__PATIENT_UNEXPLAINED STIM...</td>\n",
       "      <td>0.194009</td>\n",
       "      <td>0.020033</td>\n",
       "    </tr>\n",
       "    <tr>\n",
       "      <th>43</th>\n",
       "      <td>CAUSE__OF_INFERTILITY__TUBAL_DISEASE SPECIFIC_...</td>\n",
       "      <td>0.191604</td>\n",
       "      <td>0.015780</td>\n",
       "    </tr>\n",
       "    <tr>\n",
       "      <th>67</th>\n",
       "      <td>CAUSE_OF_INFERTILITY__PATIENT_UNEXPLAINED SPEC...</td>\n",
       "      <td>0.151455</td>\n",
       "      <td>0.020784</td>\n",
       "    </tr>\n",
       "    <tr>\n",
       "      <th>74</th>\n",
       "      <td>CAUSE_OF_INFERTILITY__ENDOMETRIOSIS PREVIOUS_L...</td>\n",
       "      <td>0.136633</td>\n",
       "      <td>0.047689</td>\n",
       "    </tr>\n",
       "    <tr>\n",
       "      <th>1</th>\n",
       "      <td>TOTAL_NUMBER_OF_PREVIOUS_CYCLES_BOTH_IVF_AND_DI</td>\n",
       "      <td>0.126754</td>\n",
       "      <td>0.027984</td>\n",
       "    </tr>\n",
       "    <tr>\n",
       "      <th>55</th>\n",
       "      <td>CAUSE_OF_INFERTILITY__MALE_FACTOR CAUSE_OF_INF...</td>\n",
       "      <td>0.122650</td>\n",
       "      <td>0.032376</td>\n",
       "    </tr>\n",
       "    <tr>\n",
       "      <th>10</th>\n",
       "      <td>SPECIFIC_TREATMENT_TYPE_IVF</td>\n",
       "      <td>0.111926</td>\n",
       "      <td>0.007151</td>\n",
       "    </tr>\n",
       "    <tr>\n",
       "      <th>87</th>\n",
       "      <td>SPECIFIC_TREATMENT_TYPE_IVF^2</td>\n",
       "      <td>0.111926</td>\n",
       "      <td>0.007151</td>\n",
       "    </tr>\n",
       "    <tr>\n",
       "      <th>68</th>\n",
       "      <td>CAUSE_OF_INFERTILITY__PATIENT_UNEXPLAINED PREV...</td>\n",
       "      <td>0.106379</td>\n",
       "      <td>0.038932</td>\n",
       "    </tr>\n",
       "    <tr>\n",
       "      <th>6</th>\n",
       "      <td>CAUSE_OF_INFERTILITY__ENDOMETRIOSIS</td>\n",
       "      <td>0.100131</td>\n",
       "      <td>0.021442</td>\n",
       "    </tr>\n",
       "    <tr>\n",
       "      <th>69</th>\n",
       "      <td>CAUSE_OF_INFERTILITY__ENDOMETRIOSIS^2</td>\n",
       "      <td>0.100131</td>\n",
       "      <td>0.021442</td>\n",
       "    </tr>\n",
       "    <tr>\n",
       "      <th>79</th>\n",
       "      <td>STIMULATION_USED PREVIOUS_LIVE_BIRTH_IVF_OR_DI</td>\n",
       "      <td>0.097615</td>\n",
       "      <td>0.091589</td>\n",
       "    </tr>\n",
       "    <tr>\n",
       "      <th>12</th>\n",
       "      <td>PATIENT_AGE_AT_TREATMENT^2</td>\n",
       "      <td>0.085674</td>\n",
       "      <td>0.001961</td>\n",
       "    </tr>\n",
       "    <tr>\n",
       "      <th>76</th>\n",
       "      <td>STIMULATION_USED SPERM_FROM</td>\n",
       "      <td>0.074756</td>\n",
       "      <td>0.040759</td>\n",
       "    </tr>\n",
       "  </tbody>\n",
       "</table>\n",
       "</div>"
      ],
      "text/plain": [
       "                                              feature  importance_mean  \\\n",
       "82             SPERM_FROM SPECIFIC_TREATMENT_TYPE_IVF         0.625686   \n",
       "60  CAUSE_OF_INFERTILITY__MALE_FACTOR SPECIFIC_TRE...         0.438918   \n",
       "7                                    STIMULATION_USED         0.298251   \n",
       "75                                 STIMULATION_USED^2         0.298251   \n",
       "58       CAUSE_OF_INFERTILITY__MALE_FACTOR SPERM_FROM         0.273410   \n",
       "49  CAUSE_OF_INFERTILITY__OVULATORY_DISORDER STIMU...         0.200810   \n",
       "64  CAUSE_OF_INFERTILITY__PATIENT_UNEXPLAINED STIM...         0.194009   \n",
       "43  CAUSE__OF_INFERTILITY__TUBAL_DISEASE SPECIFIC_...         0.191604   \n",
       "67  CAUSE_OF_INFERTILITY__PATIENT_UNEXPLAINED SPEC...         0.151455   \n",
       "74  CAUSE_OF_INFERTILITY__ENDOMETRIOSIS PREVIOUS_L...         0.136633   \n",
       "1     TOTAL_NUMBER_OF_PREVIOUS_CYCLES_BOTH_IVF_AND_DI         0.126754   \n",
       "55  CAUSE_OF_INFERTILITY__MALE_FACTOR CAUSE_OF_INF...         0.122650   \n",
       "10                        SPECIFIC_TREATMENT_TYPE_IVF         0.111926   \n",
       "87                      SPECIFIC_TREATMENT_TYPE_IVF^2         0.111926   \n",
       "68  CAUSE_OF_INFERTILITY__PATIENT_UNEXPLAINED PREV...         0.106379   \n",
       "6                 CAUSE_OF_INFERTILITY__ENDOMETRIOSIS         0.100131   \n",
       "69              CAUSE_OF_INFERTILITY__ENDOMETRIOSIS^2         0.100131   \n",
       "79     STIMULATION_USED PREVIOUS_LIVE_BIRTH_IVF_OR_DI         0.097615   \n",
       "12                         PATIENT_AGE_AT_TREATMENT^2         0.085674   \n",
       "76                        STIMULATION_USED SPERM_FROM         0.074756   \n",
       "\n",
       "    importance_std  \n",
       "82        0.040686  \n",
       "60        0.016810  \n",
       "7         0.054099  \n",
       "75        0.054099  \n",
       "58        0.042620  \n",
       "49        0.019141  \n",
       "64        0.020033  \n",
       "43        0.015780  \n",
       "67        0.020784  \n",
       "74        0.047689  \n",
       "1         0.027984  \n",
       "55        0.032376  \n",
       "10        0.007151  \n",
       "87        0.007151  \n",
       "68        0.038932  \n",
       "6         0.021442  \n",
       "69        0.021442  \n",
       "79        0.091589  \n",
       "12        0.001961  \n",
       "76        0.040759  "
      ]
     },
     "metadata": {},
     "output_type": "display_data"
    }
   ],
   "source": [
    "TRAIN = pd.read_parquet('TRAIN_2016.parquet')\n",
    "TEST = pd.read_parquet('TEST_2016.parquet')\n",
    "\n",
    "# Separate the targets from the data\n",
    "y_train_live_birth = TRAIN['LIVE_BIRTH_OCCURRENCE']\n",
    "y_test_live_birth = TEST['LIVE_BIRTH_OCCURRENCE']\n",
    "\n",
    "# Remove SPECIFIC_TREATMENT_TYPE_IVF variable\n",
    "X_train = TRAIN.drop(['FRESH_EGGS_COLLECTED', 'TOTAL_EMBRYOS_CREATED', 'LIVE_BIRTH_OCCURRENCE'], axis=1)\n",
    "X_test = TEST.drop(['FRESH_EGGS_COLLECTED', 'TOTAL_EMBRYOS_CREATED', 'LIVE_BIRTH_OCCURRENCE'], axis=1)\n",
    "\n",
    "# Optimal Squared Logistic Regression\n",
    "X_train_poly = create_poly_features(X_train)\n",
    "X_test_poly = create_poly_features(X_test)\n",
    "model = LogisticRegression\n",
    "metrics_list = ['accuracy', 'precision', 'recall', 'f1_score', 'auc']\n",
    "params = {'max_iter':4000, 'random_state': 42, 'class_weight': 'balanced', 'penalty':'l1', 'solver':'saga', 'C':0.1}\n",
    "results_C_01 = model_pipeline(X_train_poly, y_train_live_birth, X_test_poly, y_test_live_birth, model, metrics_list, params, \n",
    "k=10, stratified=True, AIC=True, smote=False, SHAP=False, optimal_threshold=True, importances=True)"
   ]
  },
  {
   "cell_type": "code",
   "execution_count": 96,
   "metadata": {},
   "outputs": [
    {
     "name": "stdout",
     "output_type": "stream",
     "text": [
      "RESULTS FOR DONOR SPERM AND IVF\n",
      "Balanced Accuracy: 0.6739\n",
      "ROC AUC: 0.6739\n",
      "F1 Score: 0.5564\n",
      "\n",
      "Confusion Matrix:\n",
      "[[125  98]\n",
      " [ 20  74]]\n",
      "RESULTS FOR DONOR SPERM\n",
      "Balanced Accuracy: 0.6465\n",
      "ROC AUC: 0.6465\n",
      "F1 Score: 0.5229\n",
      "\n",
      "Confusion Matrix:\n",
      "[[207 181]\n",
      " [ 38 120]]\n",
      "0.2893772893772894\n",
      "0.2794759825327511\n"
     ]
    }
   ],
   "source": [
    "# Add model predictions and ground truths back to dataframe\n",
    "\n",
    "X_test_analysis = X_test.copy()\n",
    "X_test_analysis['GT'] = y_test\n",
    "X_test_analysis['PREDS'] = results_C_01['y_test_pred']\n",
    "\n",
    "# Filter to only keep Donor Sperm with IVF\n",
    "X_test_analysis_donor_IVF = X_test_analysis[(X_test_analysis['SPERM_FROM']==1) & (X_test_analysis['SPECIFIC_TREATMENT_TYPE_IVF']==1)]\n",
    "\n",
    "# Compute metrics for the sub-population\n",
    "balanced_acc = balanced_accuracy_score(X_test_analysis_donor_IVF['GT'], X_test_analysis_donor_IVF['PREDS'])\n",
    "roc_auc = roc_auc_score(X_test_analysis_donor_IVF['GT'], X_test_analysis_donor_IVF['PREDS'])\n",
    "f1 = f1_score(X_test_analysis_donor_IVF['GT'], X_test_analysis_donor_IVF['PREDS'])\n",
    "conf_matrix = confusion_matrix(X_test_analysis_donor_IVF['GT'], X_test_analysis_donor_IVF['PREDS'])\n",
    "\n",
    "# Print metrics and confusion matrix\n",
    "print('RESULTS FOR DONOR SPERM AND IVF')\n",
    "print(f\"Balanced Accuracy: {balanced_acc:.4f}\")\n",
    "print(f\"ROC AUC: {roc_auc:.4f}\")\n",
    "print(f\"F1 Score: {f1:.4f}\")\n",
    "print(\"\\nConfusion Matrix:\")\n",
    "print(conf_matrix)\n",
    "\n",
    "# Filter to only keep Donor Sperm with IVF\n",
    "X_test_analysis_donor_IVF = X_test_analysis[(X_test_analysis['SPERM_FROM']==1)]\n",
    "\n",
    "# Compute metrics for the sub-population\n",
    "balanced_acc = balanced_accuracy_score(X_test_analysis_donor_IVF['GT'], X_test_analysis_donor_IVF['PREDS'])\n",
    "roc_auc = roc_auc_score(X_test_analysis_donor_IVF['GT'], X_test_analysis_donor_IVF['PREDS'])\n",
    "f1 = f1_score(X_test_analysis_donor_IVF['GT'], X_test_analysis_donor_IVF['PREDS'])\n",
    "conf_matrix = confusion_matrix(X_test_analysis_donor_IVF['GT'], X_test_analysis_donor_IVF['PREDS'])\n",
    "\n",
    "# Print metrics and confusion matrix\n",
    "print('RESULTS FOR DONOR SPERM')\n",
    "print(f\"Balanced Accuracy: {balanced_acc:.4f}\")\n",
    "print(f\"ROC AUC: {roc_auc:.4f}\")\n",
    "print(f\"F1 Score: {f1:.4f}\")\n",
    "print(\"\\nConfusion Matrix:\")\n",
    "print(conf_matrix)\n",
    "\n",
    "print(X_test_analysis_donor_IVF['GT'].mean())\n",
    "\n",
    "# Filter to only keep Donor Sperm with IVF\n",
    "X_test_analysis_donor_IVF = X_test_analysis[(X_test_analysis['SPERM_FROM']==1) & (X_test_analysis['SPECIFIC_TREATMENT_TYPE_IVF']==0)]\n",
    "\n",
    "\n",
    "print(X_test_analysis_donor_IVF['GT'].mean())\n"
   ]
  },
  {
   "cell_type": "markdown",
   "metadata": {},
   "source": [
    "## Multilayer Perceptron with increasing training data volume"
   ]
  },
  {
   "cell_type": "code",
   "execution_count": 15,
   "metadata": {},
   "outputs": [],
   "source": [
    "def year_augmentor(data_list, X_test, y_test):\n",
    "    \"\"\"\n",
    "    Iterates over a list of datasets in reverse order and cumulatively augments the training data.\n",
    "    For each augmented training set, the function computes metrics using a Multilayer Perceptron \n",
    "    classifier and then prints the results obtained on cross-validation sets but also on a constant\n",
    "    test set.\n",
    "\n",
    "    Args:\n",
    "        data_list (list of str): A list of paths to dataset files in parquet format, which will be \n",
    "                                 processed in reversed order.\n",
    "        X_test (pandas.DataFrame): Features for the test set.\n",
    "        y_test (pandas.Series): Target variable for the test set.\n",
    "\n",
    "    Returns:\n",
    "        None: This function only prints results and does not return a value.\n",
    "    \"\"\"\n",
    "\n",
    "    y_train_full = pd.Series([], dtype='int64')\n",
    "    X_train_full = pd.DataFrame()\n",
    "\n",
    "    for dataset in reversed(data_list):\n",
    "\n",
    "        print('COMPUTING FOR '+str(dataset))\n",
    "\n",
    "        DATA = pd.read_parquet(dataset)\n",
    "        y_train = DATA['LIVE_BIRTH_OCCURRENCE']\n",
    "\n",
    "        if dataset != 'TRAIN_2016.parquet':\n",
    "            X_train = DATA.drop(['FRESH_CYCLE', 'FRESH_EGGS_COLLECTED', 'TOTAL_EMBRYOS_CREATED', 'LIVE_BIRTH_OCCURRENCE'], axis=1)\n",
    "        else:\n",
    "            X_train = DATA.drop(['FRESH_EGGS_COLLECTED', 'TOTAL_EMBRYOS_CREATED', 'LIVE_BIRTH_OCCURRENCE'], axis=1)\n",
    "\n",
    "        y_train_full = pd.concat([y_train_full, y_train], ignore_index=True)\n",
    "        X_train_full = pd.concat([X_train_full, X_train], ignore_index=True)\n",
    "\n",
    "        # Multilayer Perceptron\n",
    "        model = MLPClassifier\n",
    "        metrics_list = ['accuracy', 'precision', 'recall', 'f1_score', 'auc']\n",
    "        params = {'random_state': 42, 'max_iter': 10000}\n",
    "        results_MLP = model_pipeline(X_train_full, y_train_full, X_test, y_test, model, metrics_list, params, \n",
    "        k=10, stratified=True, AIC=False, smote=False, SHAP=False, optimal_threshold=True)\n",
    "        print('')\n",
    "        print('')\n",
    "\n",
    "    return None"
   ]
  },
  {
   "cell_type": "code",
   "execution_count": 16,
   "metadata": {},
   "outputs": [
    {
     "name": "stdout",
     "output_type": "stream",
     "text": [
      "COMPUTING FOR TRAIN_2016.parquet\n",
      "Average optimal threshold = 0.272\n",
      "\n",
      "CV RESULTS\n"
     ]
    },
    {
     "data": {
      "text/html": [
       "<div>\n",
       "<style scoped>\n",
       "    .dataframe tbody tr th:only-of-type {\n",
       "        vertical-align: middle;\n",
       "    }\n",
       "\n",
       "    .dataframe tbody tr th {\n",
       "        vertical-align: top;\n",
       "    }\n",
       "\n",
       "    .dataframe thead th {\n",
       "        text-align: right;\n",
       "    }\n",
       "</style>\n",
       "<table border=\"1\" class=\"dataframe\">\n",
       "  <thead>\n",
       "    <tr style=\"text-align: right;\">\n",
       "      <th></th>\n",
       "      <th>accuracy</th>\n",
       "      <th>precision</th>\n",
       "      <th>recall</th>\n",
       "      <th>f1_score</th>\n",
       "      <th>auc</th>\n",
       "    </tr>\n",
       "  </thead>\n",
       "  <tbody>\n",
       "    <tr>\n",
       "      <th>Mean</th>\n",
       "      <td>0.610205</td>\n",
       "      <td>0.346075</td>\n",
       "      <td>0.729051</td>\n",
       "      <td>0.469249</td>\n",
       "      <td>0.645987</td>\n",
       "    </tr>\n",
       "    <tr>\n",
       "      <th>Standard Deviation</th>\n",
       "      <td>0.005350</td>\n",
       "      <td>0.004512</td>\n",
       "      <td>0.019649</td>\n",
       "      <td>0.005276</td>\n",
       "      <td>0.007668</td>\n",
       "    </tr>\n",
       "  </tbody>\n",
       "</table>\n",
       "</div>"
      ],
      "text/plain": [
       "                    accuracy  precision    recall  f1_score       auc\n",
       "Mean                0.610205   0.346075  0.729051  0.469249  0.645987\n",
       "Standard Deviation  0.005350   0.004512  0.019649  0.005276  0.007668"
      ]
     },
     "metadata": {},
     "output_type": "display_data"
    },
    {
     "name": "stdout",
     "output_type": "stream",
     "text": [
      "\n",
      "TEST RESULTS\n"
     ]
    },
    {
     "data": {
      "text/html": [
       "<div>\n",
       "<style scoped>\n",
       "    .dataframe tbody tr th:only-of-type {\n",
       "        vertical-align: middle;\n",
       "    }\n",
       "\n",
       "    .dataframe tbody tr th {\n",
       "        vertical-align: top;\n",
       "    }\n",
       "\n",
       "    .dataframe thead th {\n",
       "        text-align: right;\n",
       "    }\n",
       "</style>\n",
       "<table border=\"1\" class=\"dataframe\">\n",
       "  <thead>\n",
       "    <tr style=\"text-align: right;\">\n",
       "      <th></th>\n",
       "      <th>accuracy</th>\n",
       "      <th>precision</th>\n",
       "      <th>recall</th>\n",
       "      <th>f1_score</th>\n",
       "      <th>auc</th>\n",
       "    </tr>\n",
       "  </thead>\n",
       "  <tbody>\n",
       "    <tr>\n",
       "      <th>Value</th>\n",
       "      <td>0.608041</td>\n",
       "      <td>0.346693</td>\n",
       "      <td>0.710375</td>\n",
       "      <td>0.465972</td>\n",
       "      <td>0.63694</td>\n",
       "    </tr>\n",
       "  </tbody>\n",
       "</table>\n",
       "</div>"
      ],
      "text/plain": [
       "       accuracy  precision    recall  f1_score      auc\n",
       "Value  0.608041   0.346693  0.710375  0.465972  0.63694"
      ]
     },
     "metadata": {},
     "output_type": "display_data"
    },
    {
     "data": {
      "image/png": "[encoded data removed]",
      "text/plain": [
       "<Figure size 640x480 with 1 Axes>"
      ]
     },
     "metadata": {},
     "output_type": "display_data"
    },
    {
     "name": "stdout",
     "output_type": "stream",
     "text": [
      "\n",
      "\n",
      "\n",
      "COMPUTING FOR HFEA_2015.parquet\n",
      "Average optimal threshold = 0.288\n",
      "\n",
      "CV RESULTS\n"
     ]
    },
    {
     "data": {
      "text/html": [
       "<div>\n",
       "<style scoped>\n",
       "    .dataframe tbody tr th:only-of-type {\n",
       "        vertical-align: middle;\n",
       "    }\n",
       "\n",
       "    .dataframe tbody tr th {\n",
       "        vertical-align: top;\n",
       "    }\n",
       "\n",
       "    .dataframe thead th {\n",
       "        text-align: right;\n",
       "    }\n",
       "</style>\n",
       "<table border=\"1\" class=\"dataframe\">\n",
       "  <thead>\n",
       "    <tr style=\"text-align: right;\">\n",
       "      <th></th>\n",
       "      <th>accuracy</th>\n",
       "      <th>precision</th>\n",
       "      <th>recall</th>\n",
       "      <th>f1_score</th>\n",
       "      <th>auc</th>\n",
       "    </tr>\n",
       "  </thead>\n",
       "  <tbody>\n",
       "    <tr>\n",
       "      <th>Mean</th>\n",
       "      <td>0.611054</td>\n",
       "      <td>0.354871</td>\n",
       "      <td>0.715486</td>\n",
       "      <td>0.474338</td>\n",
       "      <td>0.649588</td>\n",
       "    </tr>\n",
       "    <tr>\n",
       "      <th>Standard Deviation</th>\n",
       "      <td>0.006146</td>\n",
       "      <td>0.005432</td>\n",
       "      <td>0.016683</td>\n",
       "      <td>0.005721</td>\n",
       "      <td>0.007322</td>\n",
       "    </tr>\n",
       "  </tbody>\n",
       "</table>\n",
       "</div>"
      ],
      "text/plain": [
       "                    accuracy  precision    recall  f1_score       auc\n",
       "Mean                0.611054   0.354871  0.715486  0.474338  0.649588\n",
       "Standard Deviation  0.006146   0.005432  0.016683  0.005721  0.007322"
      ]
     },
     "metadata": {},
     "output_type": "display_data"
    },
    {
     "name": "stdout",
     "output_type": "stream",
     "text": [
      "\n",
      "TEST RESULTS\n"
     ]
    },
    {
     "data": {
      "text/html": [
       "<div>\n",
       "<style scoped>\n",
       "    .dataframe tbody tr th:only-of-type {\n",
       "        vertical-align: middle;\n",
       "    }\n",
       "\n",
       "    .dataframe tbody tr th {\n",
       "        vertical-align: top;\n",
       "    }\n",
       "\n",
       "    .dataframe thead th {\n",
       "        text-align: right;\n",
       "    }\n",
       "</style>\n",
       "<table border=\"1\" class=\"dataframe\">\n",
       "  <thead>\n",
       "    <tr style=\"text-align: right;\">\n",
       "      <th></th>\n",
       "      <th>accuracy</th>\n",
       "      <th>precision</th>\n",
       "      <th>recall</th>\n",
       "      <th>f1_score</th>\n",
       "      <th>auc</th>\n",
       "    </tr>\n",
       "  </thead>\n",
       "  <tbody>\n",
       "    <tr>\n",
       "      <th>Value</th>\n",
       "      <td>0.610595</td>\n",
       "      <td>0.351147</td>\n",
       "      <td>0.696247</td>\n",
       "      <td>0.466844</td>\n",
       "      <td>0.64325</td>\n",
       "    </tr>\n",
       "  </tbody>\n",
       "</table>\n",
       "</div>"
      ],
      "text/plain": [
       "       accuracy  precision    recall  f1_score      auc\n",
       "Value  0.610595   0.351147  0.696247  0.466844  0.64325"
      ]
     },
     "metadata": {},
     "output_type": "display_data"
    },
    {
     "data": {
      "image/png": "[encoded data removed]",
      "text/plain": [
       "<Figure size 640x480 with 1 Axes>"
      ]
     },
     "metadata": {},
     "output_type": "display_data"
    },
    {
     "name": "stdout",
     "output_type": "stream",
     "text": [
      "\n",
      "\n",
      "\n",
      "COMPUTING FOR HFEA_2014.parquet\n",
      "Average optimal threshold = 0.283\n",
      "\n",
      "CV RESULTS\n"
     ]
    },
    {
     "data": {
      "text/html": [
       "<div>\n",
       "<style scoped>\n",
       "    .dataframe tbody tr th:only-of-type {\n",
       "        vertical-align: middle;\n",
       "    }\n",
       "\n",
       "    .dataframe tbody tr th {\n",
       "        vertical-align: top;\n",
       "    }\n",
       "\n",
       "    .dataframe thead th {\n",
       "        text-align: right;\n",
       "    }\n",
       "</style>\n",
       "<table border=\"1\" class=\"dataframe\">\n",
       "  <thead>\n",
       "    <tr style=\"text-align: right;\">\n",
       "      <th></th>\n",
       "      <th>accuracy</th>\n",
       "      <th>precision</th>\n",
       "      <th>recall</th>\n",
       "      <th>f1_score</th>\n",
       "      <th>auc</th>\n",
       "    </tr>\n",
       "  </thead>\n",
       "  <tbody>\n",
       "    <tr>\n",
       "      <th>Mean</th>\n",
       "      <td>0.612354</td>\n",
       "      <td>0.356548</td>\n",
       "      <td>0.718625</td>\n",
       "      <td>0.476588</td>\n",
       "      <td>0.648844</td>\n",
       "    </tr>\n",
       "    <tr>\n",
       "      <th>Standard Deviation</th>\n",
       "      <td>0.005339</td>\n",
       "      <td>0.003697</td>\n",
       "      <td>0.014144</td>\n",
       "      <td>0.005446</td>\n",
       "      <td>0.006201</td>\n",
       "    </tr>\n",
       "  </tbody>\n",
       "</table>\n",
       "</div>"
      ],
      "text/plain": [
       "                    accuracy  precision    recall  f1_score       auc\n",
       "Mean                0.612354   0.356548  0.718625  0.476588  0.648844\n",
       "Standard Deviation  0.005339   0.003697  0.014144  0.005446  0.006201"
      ]
     },
     "metadata": {},
     "output_type": "display_data"
    },
    {
     "name": "stdout",
     "output_type": "stream",
     "text": [
      "\n",
      "TEST RESULTS\n"
     ]
    },
    {
     "data": {
      "text/html": [
       "<div>\n",
       "<style scoped>\n",
       "    .dataframe tbody tr th:only-of-type {\n",
       "        vertical-align: middle;\n",
       "    }\n",
       "\n",
       "    .dataframe tbody tr th {\n",
       "        vertical-align: top;\n",
       "    }\n",
       "\n",
       "    .dataframe thead th {\n",
       "        text-align: right;\n",
       "    }\n",
       "</style>\n",
       "<table border=\"1\" class=\"dataframe\">\n",
       "  <thead>\n",
       "    <tr style=\"text-align: right;\">\n",
       "      <th></th>\n",
       "      <th>accuracy</th>\n",
       "      <th>precision</th>\n",
       "      <th>recall</th>\n",
       "      <th>f1_score</th>\n",
       "      <th>auc</th>\n",
       "    </tr>\n",
       "  </thead>\n",
       "  <tbody>\n",
       "    <tr>\n",
       "      <th>Value</th>\n",
       "      <td>0.609305</td>\n",
       "      <td>0.351806</td>\n",
       "      <td>0.683885</td>\n",
       "      <td>0.464607</td>\n",
       "      <td>0.64214</td>\n",
       "    </tr>\n",
       "  </tbody>\n",
       "</table>\n",
       "</div>"
      ],
      "text/plain": [
       "       accuracy  precision    recall  f1_score      auc\n",
       "Value  0.609305   0.351806  0.683885  0.464607  0.64214"
      ]
     },
     "metadata": {},
     "output_type": "display_data"
    },
    {
     "data": {
      "image/png": "[encoded data removed]",
      "text/plain": [
       "<Figure size 640x480 with 1 Axes>"
      ]
     },
     "metadata": {},
     "output_type": "display_data"
    },
    {
     "name": "stdout",
     "output_type": "stream",
     "text": [
      "\n",
      "\n",
      "\n",
      "COMPUTING FOR HFEA_2013.parquet\n",
      "Average optimal threshold = 0.277\n",
      "\n",
      "CV RESULTS\n"
     ]
    },
    {
     "data": {
      "text/html": [
       "<div>\n",
       "<style scoped>\n",
       "    .dataframe tbody tr th:only-of-type {\n",
       "        vertical-align: middle;\n",
       "    }\n",
       "\n",
       "    .dataframe tbody tr th {\n",
       "        vertical-align: top;\n",
       "    }\n",
       "\n",
       "    .dataframe thead th {\n",
       "        text-align: right;\n",
       "    }\n",
       "</style>\n",
       "<table border=\"1\" class=\"dataframe\">\n",
       "  <thead>\n",
       "    <tr style=\"text-align: right;\">\n",
       "      <th></th>\n",
       "      <th>accuracy</th>\n",
       "      <th>precision</th>\n",
       "      <th>recall</th>\n",
       "      <th>f1_score</th>\n",
       "      <th>auc</th>\n",
       "    </tr>\n",
       "  </thead>\n",
       "  <tbody>\n",
       "    <tr>\n",
       "      <th>Mean</th>\n",
       "      <td>0.609622</td>\n",
       "      <td>0.350748</td>\n",
       "      <td>0.734251</td>\n",
       "      <td>0.474697</td>\n",
       "      <td>0.644581</td>\n",
       "    </tr>\n",
       "    <tr>\n",
       "      <th>Standard Deviation</th>\n",
       "      <td>0.003196</td>\n",
       "      <td>0.002779</td>\n",
       "      <td>0.009097</td>\n",
       "      <td>0.002885</td>\n",
       "      <td>0.003781</td>\n",
       "    </tr>\n",
       "  </tbody>\n",
       "</table>\n",
       "</div>"
      ],
      "text/plain": [
       "                    accuracy  precision    recall  f1_score       auc\n",
       "Mean                0.609622   0.350748  0.734251  0.474697  0.644581\n",
       "Standard Deviation  0.003196   0.002779  0.009097  0.002885  0.003781"
      ]
     },
     "metadata": {},
     "output_type": "display_data"
    },
    {
     "name": "stdout",
     "output_type": "stream",
     "text": [
      "\n",
      "TEST RESULTS\n"
     ]
    },
    {
     "data": {
      "text/html": [
       "<div>\n",
       "<style scoped>\n",
       "    .dataframe tbody tr th:only-of-type {\n",
       "        vertical-align: middle;\n",
       "    }\n",
       "\n",
       "    .dataframe tbody tr th {\n",
       "        vertical-align: top;\n",
       "    }\n",
       "\n",
       "    .dataframe thead th {\n",
       "        text-align: right;\n",
       "    }\n",
       "</style>\n",
       "<table border=\"1\" class=\"dataframe\">\n",
       "  <thead>\n",
       "    <tr style=\"text-align: right;\">\n",
       "      <th></th>\n",
       "      <th>accuracy</th>\n",
       "      <th>precision</th>\n",
       "      <th>recall</th>\n",
       "      <th>f1_score</th>\n",
       "      <th>auc</th>\n",
       "    </tr>\n",
       "  </thead>\n",
       "  <tbody>\n",
       "    <tr>\n",
       "      <th>Value</th>\n",
       "      <td>0.613131</td>\n",
       "      <td>0.34867</td>\n",
       "      <td>0.72936</td>\n",
       "      <td>0.471798</td>\n",
       "      <td>0.641343</td>\n",
       "    </tr>\n",
       "  </tbody>\n",
       "</table>\n",
       "</div>"
      ],
      "text/plain": [
       "       accuracy  precision   recall  f1_score       auc\n",
       "Value  0.613131    0.34867  0.72936  0.471798  0.641343"
      ]
     },
     "metadata": {},
     "output_type": "display_data"
    },
    {
     "data": {
      "image/png": "[encoded data removed]",
      "text/plain": [
       "<Figure size 640x480 with 1 Axes>"
      ]
     },
     "metadata": {},
     "output_type": "display_data"
    },
    {
     "name": "stdout",
     "output_type": "stream",
     "text": [
      "\n",
      "\n",
      "\n",
      "COMPUTING FOR HFEA_2012.parquet\n",
      "Average optimal threshold = 0.276\n",
      "\n",
      "CV RESULTS\n"
     ]
    },
    {
     "data": {
      "text/html": [
       "<div>\n",
       "<style scoped>\n",
       "    .dataframe tbody tr th:only-of-type {\n",
       "        vertical-align: middle;\n",
       "    }\n",
       "\n",
       "    .dataframe tbody tr th {\n",
       "        vertical-align: top;\n",
       "    }\n",
       "\n",
       "    .dataframe thead th {\n",
       "        text-align: right;\n",
       "    }\n",
       "</style>\n",
       "<table border=\"1\" class=\"dataframe\">\n",
       "  <thead>\n",
       "    <tr style=\"text-align: right;\">\n",
       "      <th></th>\n",
       "      <th>accuracy</th>\n",
       "      <th>precision</th>\n",
       "      <th>recall</th>\n",
       "      <th>f1_score</th>\n",
       "      <th>auc</th>\n",
       "    </tr>\n",
       "  </thead>\n",
       "  <tbody>\n",
       "    <tr>\n",
       "      <th>Mean</th>\n",
       "      <td>0.608146</td>\n",
       "      <td>0.347832</td>\n",
       "      <td>0.726002</td>\n",
       "      <td>0.470284</td>\n",
       "      <td>0.643636</td>\n",
       "    </tr>\n",
       "    <tr>\n",
       "      <th>Standard Deviation</th>\n",
       "      <td>0.006423</td>\n",
       "      <td>0.005212</td>\n",
       "      <td>0.012055</td>\n",
       "      <td>0.005762</td>\n",
       "      <td>0.007569</td>\n",
       "    </tr>\n",
       "  </tbody>\n",
       "</table>\n",
       "</div>"
      ],
      "text/plain": [
       "                    accuracy  precision    recall  f1_score       auc\n",
       "Mean                0.608146   0.347832  0.726002  0.470284  0.643636\n",
       "Standard Deviation  0.006423   0.005212  0.012055  0.005762  0.007569"
      ]
     },
     "metadata": {},
     "output_type": "display_data"
    },
    {
     "name": "stdout",
     "output_type": "stream",
     "text": [
      "\n",
      "TEST RESULTS\n"
     ]
    },
    {
     "data": {
      "text/html": [
       "<div>\n",
       "<style scoped>\n",
       "    .dataframe tbody tr th:only-of-type {\n",
       "        vertical-align: middle;\n",
       "    }\n",
       "\n",
       "    .dataframe tbody tr th {\n",
       "        vertical-align: top;\n",
       "    }\n",
       "\n",
       "    .dataframe thead th {\n",
       "        text-align: right;\n",
       "    }\n",
       "</style>\n",
       "<table border=\"1\" class=\"dataframe\">\n",
       "  <thead>\n",
       "    <tr style=\"text-align: right;\">\n",
       "      <th></th>\n",
       "      <th>accuracy</th>\n",
       "      <th>precision</th>\n",
       "      <th>recall</th>\n",
       "      <th>f1_score</th>\n",
       "      <th>auc</th>\n",
       "    </tr>\n",
       "  </thead>\n",
       "  <tbody>\n",
       "    <tr>\n",
       "      <th>Value</th>\n",
       "      <td>0.611633</td>\n",
       "      <td>0.346426</td>\n",
       "      <td>0.735982</td>\n",
       "      <td>0.471104</td>\n",
       "      <td>0.64247</td>\n",
       "    </tr>\n",
       "  </tbody>\n",
       "</table>\n",
       "</div>"
      ],
      "text/plain": [
       "       accuracy  precision    recall  f1_score      auc\n",
       "Value  0.611633   0.346426  0.735982  0.471104  0.64247"
      ]
     },
     "metadata": {},
     "output_type": "display_data"
    },
    {
     "data": {
      "image/png": "[encoded data removed]",
      "text/plain": [
       "<Figure size 640x480 with 1 Axes>"
      ]
     },
     "metadata": {},
     "output_type": "display_data"
    },
    {
     "name": "stdout",
     "output_type": "stream",
     "text": [
      "\n",
      "\n",
      "\n",
      "COMPUTING FOR HFEA_2011.parquet\n",
      "Average optimal threshold = 0.271\n",
      "\n",
      "CV RESULTS\n"
     ]
    },
    {
     "data": {
      "text/html": [
       "<div>\n",
       "<style scoped>\n",
       "    .dataframe tbody tr th:only-of-type {\n",
       "        vertical-align: middle;\n",
       "    }\n",
       "\n",
       "    .dataframe tbody tr th {\n",
       "        vertical-align: top;\n",
       "    }\n",
       "\n",
       "    .dataframe thead th {\n",
       "        text-align: right;\n",
       "    }\n",
       "</style>\n",
       "<table border=\"1\" class=\"dataframe\">\n",
       "  <thead>\n",
       "    <tr style=\"text-align: right;\">\n",
       "      <th></th>\n",
       "      <th>accuracy</th>\n",
       "      <th>precision</th>\n",
       "      <th>recall</th>\n",
       "      <th>f1_score</th>\n",
       "      <th>auc</th>\n",
       "    </tr>\n",
       "  </thead>\n",
       "  <tbody>\n",
       "    <tr>\n",
       "      <th>Mean</th>\n",
       "      <td>0.607452</td>\n",
       "      <td>0.343840</td>\n",
       "      <td>0.726639</td>\n",
       "      <td>0.466790</td>\n",
       "      <td>0.641766</td>\n",
       "    </tr>\n",
       "    <tr>\n",
       "      <th>Standard Deviation</th>\n",
       "      <td>0.004054</td>\n",
       "      <td>0.002893</td>\n",
       "      <td>0.007292</td>\n",
       "      <td>0.003837</td>\n",
       "      <td>0.003495</td>\n",
       "    </tr>\n",
       "  </tbody>\n",
       "</table>\n",
       "</div>"
      ],
      "text/plain": [
       "                    accuracy  precision    recall  f1_score       auc\n",
       "Mean                0.607452   0.343840  0.726639  0.466790  0.641766\n",
       "Standard Deviation  0.004054   0.002893  0.007292  0.003837  0.003495"
      ]
     },
     "metadata": {},
     "output_type": "display_data"
    },
    {
     "name": "stdout",
     "output_type": "stream",
     "text": [
      "\n",
      "TEST RESULTS\n"
     ]
    },
    {
     "data": {
      "text/html": [
       "<div>\n",
       "<style scoped>\n",
       "    .dataframe tbody tr th:only-of-type {\n",
       "        vertical-align: middle;\n",
       "    }\n",
       "\n",
       "    .dataframe tbody tr th {\n",
       "        vertical-align: top;\n",
       "    }\n",
       "\n",
       "    .dataframe thead th {\n",
       "        text-align: right;\n",
       "    }\n",
       "</style>\n",
       "<table border=\"1\" class=\"dataframe\">\n",
       "  <thead>\n",
       "    <tr style=\"text-align: right;\">\n",
       "      <th></th>\n",
       "      <th>accuracy</th>\n",
       "      <th>precision</th>\n",
       "      <th>recall</th>\n",
       "      <th>f1_score</th>\n",
       "      <th>auc</th>\n",
       "    </tr>\n",
       "  </thead>\n",
       "  <tbody>\n",
       "    <tr>\n",
       "      <th>Value</th>\n",
       "      <td>0.611117</td>\n",
       "      <td>0.346922</td>\n",
       "      <td>0.728918</td>\n",
       "      <td>0.470103</td>\n",
       "      <td>0.640952</td>\n",
       "    </tr>\n",
       "  </tbody>\n",
       "</table>\n",
       "</div>"
      ],
      "text/plain": [
       "       accuracy  precision    recall  f1_score       auc\n",
       "Value  0.611117   0.346922  0.728918  0.470103  0.640952"
      ]
     },
     "metadata": {},
     "output_type": "display_data"
    },
    {
     "data": {
      "image/png": "[encoded data removed]",
      "text/plain": [
       "<Figure size 640x480 with 1 Axes>"
      ]
     },
     "metadata": {},
     "output_type": "display_data"
    },
    {
     "name": "stdout",
     "output_type": "stream",
     "text": [
      "\n",
      "\n",
      "\n",
      "COMPUTING FOR HFEA_2010.parquet\n",
      "Average optimal threshold = 0.266\n",
      "\n",
      "CV RESULTS\n"
     ]
    },
    {
     "data": {
      "text/html": [
       "<div>\n",
       "<style scoped>\n",
       "    .dataframe tbody tr th:only-of-type {\n",
       "        vertical-align: middle;\n",
       "    }\n",
       "\n",
       "    .dataframe tbody tr th {\n",
       "        vertical-align: top;\n",
       "    }\n",
       "\n",
       "    .dataframe thead th {\n",
       "        text-align: right;\n",
       "    }\n",
       "</style>\n",
       "<table border=\"1\" class=\"dataframe\">\n",
       "  <thead>\n",
       "    <tr style=\"text-align: right;\">\n",
       "      <th></th>\n",
       "      <th>accuracy</th>\n",
       "      <th>precision</th>\n",
       "      <th>recall</th>\n",
       "      <th>f1_score</th>\n",
       "      <th>auc</th>\n",
       "    </tr>\n",
       "  </thead>\n",
       "  <tbody>\n",
       "    <tr>\n",
       "      <th>Mean</th>\n",
       "      <td>0.606239</td>\n",
       "      <td>0.341104</td>\n",
       "      <td>0.723647</td>\n",
       "      <td>0.463616</td>\n",
       "      <td>0.641353</td>\n",
       "    </tr>\n",
       "    <tr>\n",
       "      <th>Standard Deviation</th>\n",
       "      <td>0.003229</td>\n",
       "      <td>0.002424</td>\n",
       "      <td>0.012914</td>\n",
       "      <td>0.003334</td>\n",
       "      <td>0.003482</td>\n",
       "    </tr>\n",
       "  </tbody>\n",
       "</table>\n",
       "</div>"
      ],
      "text/plain": [
       "                    accuracy  precision    recall  f1_score       auc\n",
       "Mean                0.606239   0.341104  0.723647  0.463616  0.641353\n",
       "Standard Deviation  0.003229   0.002424  0.012914  0.003334  0.003482"
      ]
     },
     "metadata": {},
     "output_type": "display_data"
    },
    {
     "name": "stdout",
     "output_type": "stream",
     "text": [
      "\n",
      "TEST RESULTS\n"
     ]
    },
    {
     "data": {
      "text/html": [
       "<div>\n",
       "<style scoped>\n",
       "    .dataframe tbody tr th:only-of-type {\n",
       "        vertical-align: middle;\n",
       "    }\n",
       "\n",
       "    .dataframe tbody tr th {\n",
       "        vertical-align: top;\n",
       "    }\n",
       "\n",
       "    .dataframe thead th {\n",
       "        text-align: right;\n",
       "    }\n",
       "</style>\n",
       "<table border=\"1\" class=\"dataframe\">\n",
       "  <thead>\n",
       "    <tr style=\"text-align: right;\">\n",
       "      <th></th>\n",
       "      <th>accuracy</th>\n",
       "      <th>precision</th>\n",
       "      <th>recall</th>\n",
       "      <th>f1_score</th>\n",
       "      <th>auc</th>\n",
       "    </tr>\n",
       "  </thead>\n",
       "  <tbody>\n",
       "    <tr>\n",
       "      <th>Value</th>\n",
       "      <td>0.612948</td>\n",
       "      <td>0.34741</td>\n",
       "      <td>0.737307</td>\n",
       "      <td>0.472285</td>\n",
       "      <td>0.641945</td>\n",
       "    </tr>\n",
       "  </tbody>\n",
       "</table>\n",
       "</div>"
      ],
      "text/plain": [
       "       accuracy  precision    recall  f1_score       auc\n",
       "Value  0.612948    0.34741  0.737307  0.472285  0.641945"
      ]
     },
     "metadata": {},
     "output_type": "display_data"
    },
    {
     "data": {
      "image/png": "[encoded data removed]",
      "text/plain": [
       "<Figure size 640x480 with 1 Axes>"
      ]
     },
     "metadata": {},
     "output_type": "display_data"
    },
    {
     "name": "stdout",
     "output_type": "stream",
     "text": [
      "\n",
      "\n",
      "\n",
      "COMPUTING FOR HFEA_2009.parquet\n",
      "Average optimal threshold = 0.267\n",
      "\n",
      "CV RESULTS\n"
     ]
    },
    {
     "data": {
      "text/html": [
       "<div>\n",
       "<style scoped>\n",
       "    .dataframe tbody tr th:only-of-type {\n",
       "        vertical-align: middle;\n",
       "    }\n",
       "\n",
       "    .dataframe tbody tr th {\n",
       "        vertical-align: top;\n",
       "    }\n",
       "\n",
       "    .dataframe thead th {\n",
       "        text-align: right;\n",
       "    }\n",
       "</style>\n",
       "<table border=\"1\" class=\"dataframe\">\n",
       "  <thead>\n",
       "    <tr style=\"text-align: right;\">\n",
       "      <th></th>\n",
       "      <th>accuracy</th>\n",
       "      <th>precision</th>\n",
       "      <th>recall</th>\n",
       "      <th>f1_score</th>\n",
       "      <th>auc</th>\n",
       "    </tr>\n",
       "  </thead>\n",
       "  <tbody>\n",
       "    <tr>\n",
       "      <th>Mean</th>\n",
       "      <td>0.606024</td>\n",
       "      <td>0.338506</td>\n",
       "      <td>0.726355</td>\n",
       "      <td>0.461785</td>\n",
       "      <td>0.641068</td>\n",
       "    </tr>\n",
       "    <tr>\n",
       "      <th>Standard Deviation</th>\n",
       "      <td>0.003468</td>\n",
       "      <td>0.002313</td>\n",
       "      <td>0.009232</td>\n",
       "      <td>0.003419</td>\n",
       "      <td>0.002609</td>\n",
       "    </tr>\n",
       "  </tbody>\n",
       "</table>\n",
       "</div>"
      ],
      "text/plain": [
       "                    accuracy  precision    recall  f1_score       auc\n",
       "Mean                0.606024   0.338506  0.726355  0.461785  0.641068\n",
       "Standard Deviation  0.003468   0.002313  0.009232  0.003419  0.002609"
      ]
     },
     "metadata": {},
     "output_type": "display_data"
    },
    {
     "name": "stdout",
     "output_type": "stream",
     "text": [
      "\n",
      "TEST RESULTS\n"
     ]
    },
    {
     "data": {
      "text/html": [
       "<div>\n",
       "<style scoped>\n",
       "    .dataframe tbody tr th:only-of-type {\n",
       "        vertical-align: middle;\n",
       "    }\n",
       "\n",
       "    .dataframe tbody tr th {\n",
       "        vertical-align: top;\n",
       "    }\n",
       "\n",
       "    .dataframe thead th {\n",
       "        text-align: right;\n",
       "    }\n",
       "</style>\n",
       "<table border=\"1\" class=\"dataframe\">\n",
       "  <thead>\n",
       "    <tr style=\"text-align: right;\">\n",
       "      <th></th>\n",
       "      <th>accuracy</th>\n",
       "      <th>precision</th>\n",
       "      <th>recall</th>\n",
       "      <th>f1_score</th>\n",
       "      <th>auc</th>\n",
       "    </tr>\n",
       "  </thead>\n",
       "  <tbody>\n",
       "    <tr>\n",
       "      <th>Value</th>\n",
       "      <td>0.614187</td>\n",
       "      <td>0.34919</td>\n",
       "      <td>0.73245</td>\n",
       "      <td>0.472919</td>\n",
       "      <td>0.642003</td>\n",
       "    </tr>\n",
       "  </tbody>\n",
       "</table>\n",
       "</div>"
      ],
      "text/plain": [
       "       accuracy  precision   recall  f1_score       auc\n",
       "Value  0.614187    0.34919  0.73245  0.472919  0.642003"
      ]
     },
     "metadata": {},
     "output_type": "display_data"
    },
    {
     "data": {
      "image/png": "[encoded data removed]",
      "text/plain": [
       "<Figure size 640x480 with 1 Axes>"
      ]
     },
     "metadata": {},
     "output_type": "display_data"
    },
    {
     "name": "stdout",
     "output_type": "stream",
     "text": [
      "\n",
      "\n",
      "\n",
      "COMPUTING FOR HFEA_2008.parquet\n",
      "Average optimal threshold = 0.27\n",
      "\n",
      "CV RESULTS\n"
     ]
    },
    {
     "data": {
      "text/html": [
       "<div>\n",
       "<style scoped>\n",
       "    .dataframe tbody tr th:only-of-type {\n",
       "        vertical-align: middle;\n",
       "    }\n",
       "\n",
       "    .dataframe tbody tr th {\n",
       "        vertical-align: top;\n",
       "    }\n",
       "\n",
       "    .dataframe thead th {\n",
       "        text-align: right;\n",
       "    }\n",
       "</style>\n",
       "<table border=\"1\" class=\"dataframe\">\n",
       "  <thead>\n",
       "    <tr style=\"text-align: right;\">\n",
       "      <th></th>\n",
       "      <th>accuracy</th>\n",
       "      <th>precision</th>\n",
       "      <th>recall</th>\n",
       "      <th>f1_score</th>\n",
       "      <th>auc</th>\n",
       "    </tr>\n",
       "  </thead>\n",
       "  <tbody>\n",
       "    <tr>\n",
       "      <th>Mean</th>\n",
       "      <td>0.606652</td>\n",
       "      <td>0.339006</td>\n",
       "      <td>0.719157</td>\n",
       "      <td>0.460759</td>\n",
       "      <td>0.641481</td>\n",
       "    </tr>\n",
       "    <tr>\n",
       "      <th>Standard Deviation</th>\n",
       "      <td>0.002758</td>\n",
       "      <td>0.001440</td>\n",
       "      <td>0.013854</td>\n",
       "      <td>0.003286</td>\n",
       "      <td>0.002275</td>\n",
       "    </tr>\n",
       "  </tbody>\n",
       "</table>\n",
       "</div>"
      ],
      "text/plain": [
       "                    accuracy  precision    recall  f1_score       auc\n",
       "Mean                0.606652   0.339006  0.719157  0.460759  0.641481\n",
       "Standard Deviation  0.002758   0.001440  0.013854  0.003286  0.002275"
      ]
     },
     "metadata": {},
     "output_type": "display_data"
    },
    {
     "name": "stdout",
     "output_type": "stream",
     "text": [
      "\n",
      "TEST RESULTS\n"
     ]
    },
    {
     "data": {
      "text/html": [
       "<div>\n",
       "<style scoped>\n",
       "    .dataframe tbody tr th:only-of-type {\n",
       "        vertical-align: middle;\n",
       "    }\n",
       "\n",
       "    .dataframe tbody tr th {\n",
       "        vertical-align: top;\n",
       "    }\n",
       "\n",
       "    .dataframe thead th {\n",
       "        text-align: right;\n",
       "    }\n",
       "</style>\n",
       "<table border=\"1\" class=\"dataframe\">\n",
       "  <thead>\n",
       "    <tr style=\"text-align: right;\">\n",
       "      <th></th>\n",
       "      <th>accuracy</th>\n",
       "      <th>precision</th>\n",
       "      <th>recall</th>\n",
       "      <th>f1_score</th>\n",
       "      <th>auc</th>\n",
       "    </tr>\n",
       "  </thead>\n",
       "  <tbody>\n",
       "    <tr>\n",
       "      <th>Value</th>\n",
       "      <td>0.607502</td>\n",
       "      <td>0.351908</td>\n",
       "      <td>0.671965</td>\n",
       "      <td>0.461912</td>\n",
       "      <td>0.641641</td>\n",
       "    </tr>\n",
       "  </tbody>\n",
       "</table>\n",
       "</div>"
      ],
      "text/plain": [
       "       accuracy  precision    recall  f1_score       auc\n",
       "Value  0.607502   0.351908  0.671965  0.461912  0.641641"
      ]
     },
     "metadata": {},
     "output_type": "display_data"
    },
    {
     "data": {
      "image/png": "[encoded data removed]",
      "text/plain": [
       "<Figure size 640x480 with 1 Axes>"
      ]
     },
     "metadata": {},
     "output_type": "display_data"
    },
    {
     "name": "stdout",
     "output_type": "stream",
     "text": [
      "\n",
      "\n",
      "\n",
      "COMPUTING FOR HFEA_2007.parquet\n",
      "Average optimal threshold = 0.266\n",
      "\n",
      "CV RESULTS\n"
     ]
    },
    {
     "data": {
      "text/html": [
       "<div>\n",
       "<style scoped>\n",
       "    .dataframe tbody tr th:only-of-type {\n",
       "        vertical-align: middle;\n",
       "    }\n",
       "\n",
       "    .dataframe tbody tr th {\n",
       "        vertical-align: top;\n",
       "    }\n",
       "\n",
       "    .dataframe thead th {\n",
       "        text-align: right;\n",
       "    }\n",
       "</style>\n",
       "<table border=\"1\" class=\"dataframe\">\n",
       "  <thead>\n",
       "    <tr style=\"text-align: right;\">\n",
       "      <th></th>\n",
       "      <th>accuracy</th>\n",
       "      <th>precision</th>\n",
       "      <th>recall</th>\n",
       "      <th>f1_score</th>\n",
       "      <th>auc</th>\n",
       "    </tr>\n",
       "  </thead>\n",
       "  <tbody>\n",
       "    <tr>\n",
       "      <th>Mean</th>\n",
       "      <td>0.606988</td>\n",
       "      <td>0.337449</td>\n",
       "      <td>0.725049</td>\n",
       "      <td>0.460524</td>\n",
       "      <td>0.642206</td>\n",
       "    </tr>\n",
       "    <tr>\n",
       "      <th>Standard Deviation</th>\n",
       "      <td>0.002144</td>\n",
       "      <td>0.001838</td>\n",
       "      <td>0.010079</td>\n",
       "      <td>0.002200</td>\n",
       "      <td>0.002808</td>\n",
       "    </tr>\n",
       "  </tbody>\n",
       "</table>\n",
       "</div>"
      ],
      "text/plain": [
       "                    accuracy  precision    recall  f1_score       auc\n",
       "Mean                0.606988   0.337449  0.725049  0.460524  0.642206\n",
       "Standard Deviation  0.002144   0.001838  0.010079  0.002200  0.002808"
      ]
     },
     "metadata": {},
     "output_type": "display_data"
    },
    {
     "name": "stdout",
     "output_type": "stream",
     "text": [
      "\n",
      "TEST RESULTS\n"
     ]
    },
    {
     "data": {
      "text/html": [
       "<div>\n",
       "<style scoped>\n",
       "    .dataframe tbody tr th:only-of-type {\n",
       "        vertical-align: middle;\n",
       "    }\n",
       "\n",
       "    .dataframe tbody tr th {\n",
       "        vertical-align: top;\n",
       "    }\n",
       "\n",
       "    .dataframe thead th {\n",
       "        text-align: right;\n",
       "    }\n",
       "</style>\n",
       "<table border=\"1\" class=\"dataframe\">\n",
       "  <thead>\n",
       "    <tr style=\"text-align: right;\">\n",
       "      <th></th>\n",
       "      <th>accuracy</th>\n",
       "      <th>precision</th>\n",
       "      <th>recall</th>\n",
       "      <th>f1_score</th>\n",
       "      <th>auc</th>\n",
       "    </tr>\n",
       "  </thead>\n",
       "  <tbody>\n",
       "    <tr>\n",
       "      <th>Value</th>\n",
       "      <td>0.614058</td>\n",
       "      <td>0.347494</td>\n",
       "      <td>0.743929</td>\n",
       "      <td>0.473714</td>\n",
       "      <td>0.641355</td>\n",
       "    </tr>\n",
       "  </tbody>\n",
       "</table>\n",
       "</div>"
      ],
      "text/plain": [
       "       accuracy  precision    recall  f1_score       auc\n",
       "Value  0.614058   0.347494  0.743929  0.473714  0.641355"
      ]
     },
     "metadata": {},
     "output_type": "display_data"
    },
    {
     "data": {
      "image/png": "[encoded data removed]",
      "text/plain": [
       "<Figure size 640x480 with 1 Axes>"
      ]
     },
     "metadata": {},
     "output_type": "display_data"
    },
    {
     "name": "stdout",
     "output_type": "stream",
     "text": [
      "\n",
      "\n",
      "\n",
      "COMPUTING FOR HFEA_2006.parquet\n",
      "Average optimal threshold = 0.265\n",
      "\n",
      "CV RESULTS\n"
     ]
    },
    {
     "data": {
      "text/html": [
       "<div>\n",
       "<style scoped>\n",
       "    .dataframe tbody tr th:only-of-type {\n",
       "        vertical-align: middle;\n",
       "    }\n",
       "\n",
       "    .dataframe tbody tr th {\n",
       "        vertical-align: top;\n",
       "    }\n",
       "\n",
       "    .dataframe thead th {\n",
       "        text-align: right;\n",
       "    }\n",
       "</style>\n",
       "<table border=\"1\" class=\"dataframe\">\n",
       "  <thead>\n",
       "    <tr style=\"text-align: right;\">\n",
       "      <th></th>\n",
       "      <th>accuracy</th>\n",
       "      <th>precision</th>\n",
       "      <th>recall</th>\n",
       "      <th>f1_score</th>\n",
       "      <th>auc</th>\n",
       "    </tr>\n",
       "  </thead>\n",
       "  <tbody>\n",
       "    <tr>\n",
       "      <th>Mean</th>\n",
       "      <td>0.606624</td>\n",
       "      <td>0.336172</td>\n",
       "      <td>0.721492</td>\n",
       "      <td>0.458606</td>\n",
       "      <td>0.642296</td>\n",
       "    </tr>\n",
       "    <tr>\n",
       "      <th>Standard Deviation</th>\n",
       "      <td>0.002709</td>\n",
       "      <td>0.002246</td>\n",
       "      <td>0.011973</td>\n",
       "      <td>0.002757</td>\n",
       "      <td>0.003190</td>\n",
       "    </tr>\n",
       "  </tbody>\n",
       "</table>\n",
       "</div>"
      ],
      "text/plain": [
       "                    accuracy  precision    recall  f1_score       auc\n",
       "Mean                0.606624   0.336172  0.721492  0.458606  0.642296\n",
       "Standard Deviation  0.002709   0.002246  0.011973  0.002757  0.003190"
      ]
     },
     "metadata": {},
     "output_type": "display_data"
    },
    {
     "name": "stdout",
     "output_type": "stream",
     "text": [
      "\n",
      "TEST RESULTS\n"
     ]
    },
    {
     "data": {
      "text/html": [
       "<div>\n",
       "<style scoped>\n",
       "    .dataframe tbody tr th:only-of-type {\n",
       "        vertical-align: middle;\n",
       "    }\n",
       "\n",
       "    .dataframe tbody tr th {\n",
       "        vertical-align: top;\n",
       "    }\n",
       "\n",
       "    .dataframe thead th {\n",
       "        text-align: right;\n",
       "    }\n",
       "</style>\n",
       "<table border=\"1\" class=\"dataframe\">\n",
       "  <thead>\n",
       "    <tr style=\"text-align: right;\">\n",
       "      <th></th>\n",
       "      <th>accuracy</th>\n",
       "      <th>precision</th>\n",
       "      <th>recall</th>\n",
       "      <th>f1_score</th>\n",
       "      <th>auc</th>\n",
       "    </tr>\n",
       "  </thead>\n",
       "  <tbody>\n",
       "    <tr>\n",
       "      <th>Value</th>\n",
       "      <td>0.61145</td>\n",
       "      <td>0.348076</td>\n",
       "      <td>0.722737</td>\n",
       "      <td>0.469862</td>\n",
       "      <td>0.642199</td>\n",
       "    </tr>\n",
       "  </tbody>\n",
       "</table>\n",
       "</div>"
      ],
      "text/plain": [
       "       accuracy  precision    recall  f1_score       auc\n",
       "Value   0.61145   0.348076  0.722737  0.469862  0.642199"
      ]
     },
     "metadata": {},
     "output_type": "display_data"
    },
    {
     "data": {
      "image/png": "[encoded data removed]",
      "text/plain": [
       "<Figure size 640x480 with 1 Axes>"
      ]
     },
     "metadata": {},
     "output_type": "display_data"
    },
    {
     "name": "stdout",
     "output_type": "stream",
     "text": [
      "\n",
      "\n",
      "\n"
     ]
    }
   ],
   "source": [
    "data_list = ['HFEA_2006.parquet', 'HFEA_2007.parquet', 'HFEA_2008.parquet', 'HFEA_2009.parquet', 'HFEA_2010.parquet',\n",
    "'HFEA_2011.parquet', 'HFEA_2012.parquet', 'HFEA_2013.parquet', 'HFEA_2014.parquet', 'HFEA_2015.parquet', 'TRAIN_2016.parquet']\n",
    "TEST = pd.read_parquet('TEST_2016.parquet', )\n",
    "y_test = TEST['LIVE_BIRTH_OCCURRENCE']\n",
    "X_test = TEST.drop(['FRESH_EGGS_COLLECTED', 'TOTAL_EMBRYOS_CREATED', 'LIVE_BIRTH_OCCURRENCE'], axis=1)\n",
    "year_augmentor(data_list, X_test, y_test)"
   ]
  },
  {
   "cell_type": "code",
   "execution_count": 114,
   "metadata": {},
   "outputs": [
    {
     "data": {
      "application/vnd.plotly.v1+json": {
       "config": {
        "plotlyServerURL": "https://plot.ly"
       },
       "data": [
        {
         "line": {
          "color": "#FF9249"
         },
         "mode": "lines",
         "name": "Avg AUC",
         "type": "scatter",
         "x": [
          "2016",
          "+2015",
          "+2014",
          "+2013",
          "+2012",
          "+2011",
          "+2010",
          "+2009",
          "+2008",
          "+2007",
          "+2006"
         ],
         "y": [
          0.646,
          0.65,
          0.649,
          0.645,
          0.644,
          0.642,
          0.641,
          0.641,
          0.641,
          0.642,
          0.642
         ]
        },
        {
         "line": {
          "width": 0
         },
         "marker": {
          "color": "#444"
         },
         "mode": "lines",
         "name": "AUC + 1 std",
         "showlegend": false,
         "type": "scatter",
         "x": [
          "2016",
          "+2015",
          "+2014",
          "+2013",
          "+2012",
          "+2011",
          "+2010",
          "+2009",
          "+2008",
          "+2007",
          "+2006"
         ],
         "y": [
          0.654,
          0.657,
          0.655,
          0.648,
          0.652,
          0.645,
          0.644,
          0.644,
          0.643,
          0.645,
          0.645
         ]
        },
        {
         "fill": "tonexty",
         "fillcolor": "rgba(250, 199, 164, 0.4)",
         "line": {
          "width": 0
         },
         "marker": {
          "color": "#444"
         },
         "mode": "lines",
         "name": "AUC - 1 std",
         "showlegend": false,
         "type": "scatter",
         "x": [
          "2016",
          "+2015",
          "+2014",
          "+2013",
          "+2012",
          "+2011",
          "+2010",
          "+2009",
          "+2008",
          "+2007",
          "+2006"
         ],
         "y": [
          0.638,
          0.643,
          0.643,
          0.642,
          0.636,
          0.639,
          0.638,
          0.638,
          0.639,
          0.639,
          0.639
         ]
        },
        {
         "line": {
          "color": "#82ADAE"
         },
         "mode": "lines",
         "name": "Avg F1",
         "type": "scatter",
         "x": [
          "2016",
          "+2015",
          "+2014",
          "+2013",
          "+2012",
          "+2011",
          "+2010",
          "+2009",
          "+2008",
          "+2007",
          "+2006"
         ],
         "y": [
          0.469,
          0.474,
          0.477,
          0.475,
          0.47,
          0.467,
          0.464,
          0.462,
          0.461,
          0.461,
          0.459
         ]
        },
        {
         "line": {
          "width": 0
         },
         "marker": {
          "color": "#444"
         },
         "mode": "lines",
         "name": "F1 + 1 std",
         "showlegend": false,
         "type": "scatter",
         "x": [
          "2016",
          "+2015",
          "+2014",
          "+2013",
          "+2012",
          "+2011",
          "+2010",
          "+2009",
          "+2008",
          "+2007",
          "+2006"
         ],
         "y": [
          0.474,
          0.48,
          0.482,
          0.478,
          0.476,
          0.47100000000000003,
          0.467,
          0.465,
          0.464,
          0.463,
          0.462
         ]
        },
        {
         "fill": "tonexty",
         "fillcolor": "rgba(130, 173, 174, 0.4)",
         "line": {
          "width": 0
         },
         "marker": {
          "color": "#444"
         },
         "mode": "lines",
         "name": "F1 - 1 std",
         "showlegend": false,
         "type": "scatter",
         "x": [
          "2016",
          "+2015",
          "+2014",
          "+2013",
          "+2012",
          "+2011",
          "+2010",
          "+2009",
          "+2008",
          "+2007",
          "+2006"
         ],
         "y": [
          0.46399999999999997,
          0.46799999999999997,
          0.472,
          0.472,
          0.46399999999999997,
          0.463,
          0.461,
          0.459,
          0.458,
          0.459,
          0.456
         ]
        },
        {
         "marker": {
          "color": "#FF9249",
          "symbol": "x"
         },
         "mode": "markers",
         "name": "Test AUC",
         "type": "scatter",
         "x": [
          "2016",
          "+2015",
          "+2014",
          "+2013",
          "+2012",
          "+2011",
          "+2010",
          "+2009",
          "+2008",
          "+2007",
          "+2006"
         ],
         "y": [
          0.637,
          0.643,
          0.642,
          0.641,
          0.642,
          0.641,
          0.642,
          0.642,
          0.642,
          0.641,
          0.642
         ]
        },
        {
         "marker": {
          "color": "#82ADAE",
          "symbol": "x"
         },
         "mode": "markers",
         "name": "Test F1",
         "type": "scatter",
         "x": [
          "2016",
          "+2015",
          "+2014",
          "+2013",
          "+2012",
          "+2011",
          "+2010",
          "+2009",
          "+2008",
          "+2007",
          "+2006"
         ],
         "y": [
          0.466,
          0.467,
          0.465,
          0.472,
          0.471,
          0.47,
          0.472,
          0.473,
          0.462,
          0.474,
          0.47
         ]
        },
        {
         "line": {
          "color": "#302C2E"
         },
         "mode": "lines",
         "name": "Volume",
         "type": "scatter",
         "x": [
          "2016",
          "+2015",
          "+2014",
          "+2013",
          "+2012",
          "+2011",
          "+2010",
          "+2009",
          "+2008",
          "+2007",
          "+2006"
         ],
         "y": [
          33595,
          76645,
          120444,
          164242,
          208208,
          251064,
          292404,
          332028,
          368884,
          402440,
          434817
         ],
         "yaxis": "y2"
        }
       ],
       "layout": {
        "font": {
         "color": "black",
         "family": "Didot",
         "size": 14
        },
        "height": 500,
        "legend": {
         "x": 1.1,
         "y": 1
        },
        "paper_bgcolor": "white",
        "plot_bgcolor": "white",
        "showlegend": true,
        "template": {
         "data": {
          "bar": [
           {
            "error_x": {
             "color": "#2a3f5f"
            },
            "error_y": {
             "color": "#2a3f5f"
            },
            "marker": {
             "line": {
              "color": "#E5ECF6",
              "width": 0.5
             },
             "pattern": {
              "fillmode": "overlay",
              "size": 10,
              "solidity": 0.2
             }
            },
            "type": "bar"
           }
          ],
          "barpolar": [
           {
            "marker": {
             "line": {
              "color": "#E5ECF6",
              "width": 0.5
             },
             "pattern": {
              "fillmode": "overlay",
              "size": 10,
              "solidity": 0.2
             }
            },
            "type": "barpolar"
           }
          ],
          "carpet": [
           {
            "aaxis": {
             "endlinecolor": "#2a3f5f",
             "gridcolor": "white",
             "linecolor": "white",
             "minorgridcolor": "white",
             "startlinecolor": "#2a3f5f"
            },
            "baxis": {
             "endlinecolor": "#2a3f5f",
             "gridcolor": "white",
             "linecolor": "white",
             "minorgridcolor": "white",
             "startlinecolor": "#2a3f5f"
            },
            "type": "carpet"
           }
          ],
          "choropleth": [
           {
            "colorbar": {
             "outlinewidth": 0,
             "ticks": ""
            },
            "type": "choropleth"
           }
          ],
          "contour": [
           {
            "colorbar": {
             "outlinewidth": 0,
             "ticks": ""
            },
            "colorscale": [
             [
              0,
              "#0d0887"
             ],
             [
              0.1111111111111111,
              "#46039f"
             ],
             [
              0.2222222222222222,
              "#7201a8"
             ],
             [
              0.3333333333333333,
              "#9c179e"
             ],
             [
              0.4444444444444444,
              "#bd3786"
             ],
             [
              0.5555555555555556,
              "#d8576b"
             ],
             [
              0.6666666666666666,
              "#ed7953"
             ],
             [
              0.7777777777777778,
              "#fb9f3a"
             ],
             [
              0.8888888888888888,
              "#fdca26"
             ],
             [
              1,
              "#f0f921"
             ]
            ],
            "type": "contour"
           }
          ],
          "contourcarpet": [
           {
            "colorbar": {
             "outlinewidth": 0,
             "ticks": ""
            },
            "type": "contourcarpet"
           }
          ],
          "heatmap": [
           {
            "colorbar": {
             "outlinewidth": 0,
             "ticks": ""
            },
            "colorscale": [
             [
              0,
              "#0d0887"
             ],
             [
              0.1111111111111111,
              "#46039f"
             ],
             [
              0.2222222222222222,
              "#7201a8"
             ],
             [
              0.3333333333333333,
              "#9c179e"
             ],
             [
              0.4444444444444444,
              "#bd3786"
             ],
             [
              0.5555555555555556,
              "#d8576b"
             ],
             [
              0.6666666666666666,
              "#ed7953"
             ],
             [
              0.7777777777777778,
              "#fb9f3a"
             ],
             [
              0.8888888888888888,
              "#fdca26"
             ],
             [
              1,
              "#f0f921"
             ]
            ],
            "type": "heatmap"
           }
          ],
          "heatmapgl": [
           {
            "colorbar": {
             "outlinewidth": 0,
             "ticks": ""
            },
            "colorscale": [
             [
              0,
              "#0d0887"
             ],
             [
              0.1111111111111111,
              "#46039f"
             ],
             [
              0.2222222222222222,
              "#7201a8"
             ],
             [
              0.3333333333333333,
              "#9c179e"
             ],
             [
              0.4444444444444444,
              "#bd3786"
             ],
             [
              0.5555555555555556,
              "#d8576b"
             ],
             [
              0.6666666666666666,
              "#ed7953"
             ],
             [
              0.7777777777777778,
              "#fb9f3a"
             ],
             [
              0.8888888888888888,
              "#fdca26"
             ],
             [
              1,
              "#f0f921"
             ]
            ],
            "type": "heatmapgl"
           }
          ],
          "histogram": [
           {
            "marker": {
             "pattern": {
              "fillmode": "overlay",
              "size": 10,
              "solidity": 0.2
             }
            },
            "type": "histogram"
           }
          ],
          "histogram2d": [
           {
            "colorbar": {
             "outlinewidth": 0,
             "ticks": ""
            },
            "colorscale": [
             [
              0,
              "#0d0887"
             ],
             [
              0.1111111111111111,
              "#46039f"
             ],
             [
              0.2222222222222222,
              "#7201a8"
             ],
             [
              0.3333333333333333,
              "#9c179e"
             ],
             [
              0.4444444444444444,
              "#bd3786"
             ],
             [
              0.5555555555555556,
              "#d8576b"
             ],
             [
              0.6666666666666666,
              "#ed7953"
             ],
             [
              0.7777777777777778,
              "#fb9f3a"
             ],
             [
              0.8888888888888888,
              "#fdca26"
             ],
             [
              1,
              "#f0f921"
             ]
            ],
            "type": "histogram2d"
           }
          ],
          "histogram2dcontour": [
           {
            "colorbar": {
             "outlinewidth": 0,
             "ticks": ""
            },
            "colorscale": [
             [
              0,
              "#0d0887"
             ],
             [
              0.1111111111111111,
              "#46039f"
             ],
             [
              0.2222222222222222,
              "#7201a8"
             ],
             [
              0.3333333333333333,
              "#9c179e"
             ],
             [
              0.4444444444444444,
              "#bd3786"
             ],
             [
              0.5555555555555556,
              "#d8576b"
             ],
             [
              0.6666666666666666,
              "#ed7953"
             ],
             [
              0.7777777777777778,
              "#fb9f3a"
             ],
             [
              0.8888888888888888,
              "#fdca26"
             ],
             [
              1,
              "#f0f921"
             ]
            ],
            "type": "histogram2dcontour"
           }
          ],
          "mesh3d": [
           {
            "colorbar": {
             "outlinewidth": 0,
             "ticks": ""
            },
            "type": "mesh3d"
           }
          ],
          "parcoords": [
           {
            "line": {
             "colorbar": {
              "outlinewidth": 0,
              "ticks": ""
             }
            },
            "type": "parcoords"
           }
          ],
          "pie": [
           {
            "automargin": true,
            "type": "pie"
           }
          ],
          "scatter": [
           {
            "fillpattern": {
             "fillmode": "overlay",
             "size": 10,
             "solidity": 0.2
            },
            "type": "scatter"
           }
          ],
          "scatter3d": [
           {
            "line": {
             "colorbar": {
              "outlinewidth": 0,
              "ticks": ""
             }
            },
            "marker": {
             "colorbar": {
              "outlinewidth": 0,
              "ticks": ""
             }
            },
            "type": "scatter3d"
           }
          ],
          "scattercarpet": [
           {
            "marker": {
             "colorbar": {
              "outlinewidth": 0,
              "ticks": ""
             }
            },
            "type": "scattercarpet"
           }
          ],
          "scattergeo": [
           {
            "marker": {
             "colorbar": {
              "outlinewidth": 0,
              "ticks": ""
             }
            },
            "type": "scattergeo"
           }
          ],
          "scattergl": [
           {
            "marker": {
             "colorbar": {
              "outlinewidth": 0,
              "ticks": ""
             }
            },
            "type": "scattergl"
           }
          ],
          "scattermapbox": [
           {
            "marker": {
             "colorbar": {
              "outlinewidth": 0,
              "ticks": ""
             }
            },
            "type": "scattermapbox"
           }
          ],
          "scatterpolar": [
           {
            "marker": {
             "colorbar": {
              "outlinewidth": 0,
              "ticks": ""
             }
            },
            "type": "scatterpolar"
           }
          ],
          "scatterpolargl": [
           {
            "marker": {
             "colorbar": {
              "outlinewidth": 0,
              "ticks": ""
             }
            },
            "type": "scatterpolargl"
           }
          ],
          "scatterternary": [
           {
            "marker": {
             "colorbar": {
              "outlinewidth": 0,
              "ticks": ""
             }
            },
            "type": "scatterternary"
           }
          ],
          "surface": [
           {
            "colorbar": {
             "outlinewidth": 0,
             "ticks": ""
            },
            "colorscale": [
             [
              0,
              "#0d0887"
             ],
             [
              0.1111111111111111,
              "#46039f"
             ],
             [
              0.2222222222222222,
              "#7201a8"
             ],
             [
              0.3333333333333333,
              "#9c179e"
             ],
             [
              0.4444444444444444,
              "#bd3786"
             ],
             [
              0.5555555555555556,
              "#d8576b"
             ],
             [
              0.6666666666666666,
              "#ed7953"
             ],
             [
              0.7777777777777778,
              "#fb9f3a"
             ],
             [
              0.8888888888888888,
              "#fdca26"
             ],
             [
              1,
              "#f0f921"
             ]
            ],
            "type": "surface"
           }
          ],
          "table": [
           {
            "cells": {
             "fill": {
              "color": "#EBF0F8"
             },
             "line": {
              "color": "white"
             }
            },
            "header": {
             "fill": {
              "color": "#C8D4E3"
             },
             "line": {
              "color": "white"
             }
            },
            "type": "table"
           }
          ]
         },
         "layout": {
          "annotationdefaults": {
           "arrowcolor": "#2a3f5f",
           "arrowhead": 0,
           "arrowwidth": 1
          },
          "autotypenumbers": "strict",
          "coloraxis": {
           "colorbar": {
            "outlinewidth": 0,
            "ticks": ""
           }
          },
          "colorscale": {
           "diverging": [
            [
             0,
             "#8e0152"
            ],
            [
             0.1,
             "#c51b7d"
            ],
            [
             0.2,
             "#de77ae"
            ],
            [
             0.3,
             "#f1b6da"
            ],
            [
             0.4,
             "#fde0ef"
            ],
            [
             0.5,
             "#f7f7f7"
            ],
            [
             0.6,
             "#e6f5d0"
            ],
            [
             0.7,
             "#b8e186"
            ],
            [
             0.8,
             "#7fbc41"
            ],
            [
             0.9,
             "#4d9221"
            ],
            [
             1,
             "#276419"
            ]
           ],
           "sequential": [
            [
             0,
             "#0d0887"
            ],
            [
             0.1111111111111111,
             "#46039f"
            ],
            [
             0.2222222222222222,
             "#7201a8"
            ],
            [
             0.3333333333333333,
             "#9c179e"
            ],
            [
             0.4444444444444444,
             "#bd3786"
            ],
            [
             0.5555555555555556,
             "#d8576b"
            ],
            [
             0.6666666666666666,
             "#ed7953"
            ],
            [
             0.7777777777777778,
             "#fb9f3a"
            ],
            [
             0.8888888888888888,
             "#fdca26"
            ],
            [
             1,
             "#f0f921"
            ]
           ],
           "sequentialminus": [
            [
             0,
             "#0d0887"
            ],
            [
             0.1111111111111111,
             "#46039f"
            ],
            [
             0.2222222222222222,
             "#7201a8"
            ],
            [
             0.3333333333333333,
             "#9c179e"
            ],
            [
             0.4444444444444444,
             "#bd3786"
            ],
            [
             0.5555555555555556,
             "#d8576b"
            ],
            [
             0.6666666666666666,
             "#ed7953"
            ],
            [
             0.7777777777777778,
             "#fb9f3a"
            ],
            [
             0.8888888888888888,
             "#fdca26"
            ],
            [
             1,
             "#f0f921"
            ]
           ]
          },
          "colorway": [
           "#636efa",
           "#EF553B",
           "#00cc96",
           "#ab63fa",
           "#FFA15A",
           "#19d3f3",
           "#FF6692",
           "#B6E880",
           "#FF97FF",
           "#FECB52"
          ],
          "font": {
           "color": "#2a3f5f"
          },
          "geo": {
           "bgcolor": "white",
           "lakecolor": "white",
           "landcolor": "#E5ECF6",
           "showlakes": true,
           "showland": true,
           "subunitcolor": "white"
          },
          "hoverlabel": {
           "align": "left"
          },
          "hovermode": "closest",
          "mapbox": {
           "style": "light"
          },
          "paper_bgcolor": "white",
          "plot_bgcolor": "#E5ECF6",
          "polar": {
           "angularaxis": {
            "gridcolor": "white",
            "linecolor": "white",
            "ticks": ""
           },
           "bgcolor": "#E5ECF6",
           "radialaxis": {
            "gridcolor": "white",
            "linecolor": "white",
            "ticks": ""
           }
          },
          "scene": {
           "xaxis": {
            "backgroundcolor": "#E5ECF6",
            "gridcolor": "white",
            "gridwidth": 2,
            "linecolor": "white",
            "showbackground": true,
            "ticks": "",
            "zerolinecolor": "white"
           },
           "yaxis": {
            "backgroundcolor": "#E5ECF6",
            "gridcolor": "white",
            "gridwidth": 2,
            "linecolor": "white",
            "showbackground": true,
            "ticks": "",
            "zerolinecolor": "white"
           },
           "zaxis": {
            "backgroundcolor": "#E5ECF6",
            "gridcolor": "white",
            "gridwidth": 2,
            "linecolor": "white",
            "showbackground": true,
            "ticks": "",
            "zerolinecolor": "white"
           }
          },
          "shapedefaults": {
           "line": {
            "color": "#2a3f5f"
           }
          },
          "ternary": {
           "aaxis": {
            "gridcolor": "white",
            "linecolor": "white",
            "ticks": ""
           },
           "baxis": {
            "gridcolor": "white",
            "linecolor": "white",
            "ticks": ""
           },
           "bgcolor": "#E5ECF6",
           "caxis": {
            "gridcolor": "white",
            "linecolor": "white",
            "ticks": ""
           }
          },
          "title": {
           "x": 0.05
          },
          "xaxis": {
           "automargin": true,
           "gridcolor": "white",
           "linecolor": "white",
           "ticks": "",
           "title": {
            "standoff": 15
           },
           "zerolinecolor": "white",
           "zerolinewidth": 2
          },
          "yaxis": {
           "automargin": true,
           "gridcolor": "white",
           "linecolor": "white",
           "ticks": "",
           "title": {
            "standoff": 15
           },
           "zerolinecolor": "white",
           "zerolinewidth": 2
          }
         }
        },
        "title": {
         "text": "Model Performance with Increasing Training Volume",
         "x": 0.5,
         "xanchor": "center"
        },
        "width": 1100,
        "xaxis": {
         "gridcolor": "lightgrey",
         "showgrid": true,
         "showline": true,
         "title": {
          "text": "Cumulative Year"
         }
        },
        "yaxis": {
         "gridcolor": "lightgrey",
         "showgrid": true,
         "showline": true,
         "title": {
          "text": "Score"
         }
        },
        "yaxis2": {
         "overlaying": "y",
         "showgrid": false,
         "side": "right",
         "title": {
          "text": "Live Birth Rate (%)"
         }
        }
       }
      }
     },
     "metadata": {},
     "output_type": "display_data"
    }
   ],
   "source": [
    "models = ['2016', '+2015', '+2014', '+2013', '+2012', '+2011', '+2010', '+2009', '+2008', '+2007', '+2006']\n",
    "\n",
    "avg_auc = [0.646, 0.650, 0.649, 0.645, 0.644, 0.642, 0.641, 0.641, 0.641, 0.642, 0.642]\n",
    "std_auc = [0.008, 0.007, 0.006, 0.003, 0.008, 0.003, 0.003, 0.003, 0.002, 0.003, 0.003]\n",
    "test_auc = [0.637, 0.643, 0.642, 0.641, 0.642, 0.641, 0.642, 0.642, 0.642, 0.641, 0.642]\n",
    "\n",
    "avg_f1 = [0.469, 0.474, 0.477, 0.475, 0.470, 0.467, 0.464, 0.462, 0.461, 0.461, 0.459]\n",
    "std_f1 = [0.005, 0.006, 0.005, 0.003, 0.006, 0.004, 0.003, 0.003, 0.003, 0.002, 0.003]\n",
    "test_f1 = [0.466, 0.467, 0.465, 0.472, 0.471, 0.470, 0.472, 0.473, 0.462, 0.474, 0.470]\n",
    "\n",
    "volume = [33595, 76645, 120444, 164242, 208208, 251064, 292404, 332028, 368884, 402440, 434817]\n",
    "\n",
    "\n",
    "# Create figure\n",
    "fig = go.Figure()\n",
    "\n",
    "# AUC Scores\n",
    "fig.add_trace(go.Scatter(\n",
    "    x=models, y=avg_auc, \n",
    "    mode='lines',\n",
    "    name='Avg AUC',\n",
    "    line=dict(color='#FF9249')))\n",
    "fig.add_trace(go.Scatter(\n",
    "    x=models, y=[avg + std for avg, std in zip(avg_auc, std_auc)], \n",
    "    mode='lines',\n",
    "    name='AUC + 1 std',\n",
    "    marker=dict(color=\"#444\"),\n",
    "    line=dict(width=0),\n",
    "    showlegend=False))\n",
    "fig.add_trace(go.Scatter(\n",
    "    x=models, y=[avg - std for avg, std in zip(avg_auc, std_auc)], \n",
    "    mode='lines',\n",
    "    name='AUC - 1 std',\n",
    "    marker=dict(color=\"#444\"),\n",
    "    line=dict(width=0),\n",
    "    fillcolor='rgba(250, 199, 164, 0.4)',\n",
    "    fill='tonexty',\n",
    "    showlegend=False))\n",
    "\n",
    "# F1 Scores\n",
    "fig.add_trace(go.Scatter(\n",
    "    x=models, y=avg_f1, \n",
    "    mode='lines',\n",
    "    name='Avg F1',\n",
    "    line=dict(color='#82ADAE')))\n",
    "fig.add_trace(go.Scatter(\n",
    "    x=models, y=[avg + std for avg, std in zip(avg_f1, std_f1)], \n",
    "    mode='lines',\n",
    "    name='F1 + 1 std',\n",
    "    marker=dict(color=\"#444\"),\n",
    "    line=dict(width=0),\n",
    "    showlegend=False))\n",
    "fig.add_trace(go.Scatter(\n",
    "    x=models, y=[avg - std for avg, std in zip(avg_f1, std_f1)], \n",
    "    mode='lines',\n",
    "    name='F1 - 1 std',\n",
    "    marker=dict(color=\"#444\"),\n",
    "    line=dict(width=0),\n",
    "    fillcolor='rgba(130, 173, 174, 0.4)',\n",
    "    fill='tonexty',\n",
    "    showlegend=False))\n",
    "\n",
    "# Test Scores\n",
    "fig.add_trace(go.Scatter(\n",
    "    x=models, y=test_auc, \n",
    "    mode='markers',\n",
    "    name='Test AUC',\n",
    "    marker=dict(color='#FF9249', symbol='x')))\n",
    "fig.add_trace(go.Scatter(\n",
    "    x=models, y=test_f1, \n",
    "    mode='markers',\n",
    "    name='Test F1',\n",
    "    marker=dict(color='#82ADAE', symbol='x')))\n",
    "\n",
    "\n",
    "# LBR\n",
    "fig.add_trace(go.Scatter(\n",
    "    x=models, y=volume, \n",
    "    mode='lines',\n",
    "    name='Volume',\n",
    "    yaxis='y2', \n",
    "    line=dict(color='#302C2E'),\n",
    "))\n",
    "\n",
    "# Update layout with yaxis2 and other formatting\n",
    "fig.update_layout(\n",
    "    title={\n",
    "        'text': 'Model Performance with Increasing Training Volume',\n",
    "        'x': 0.5,\n",
    "        'xanchor': 'center'\n",
    "    },\n",
    "    legend=dict(\n",
    "        x=1.1,  # Move the legend further to the right\n",
    "        y=1), \n",
    "    xaxis_title='Cumulative Year',\n",
    "    yaxis_title='Score',\n",
    "    yaxis2=dict(\n",
    "        title='Live Birth Rate (%)',\n",
    "        overlaying='y',\n",
    "        side='right',\n",
    "        showgrid=False\n",
    "    ),\n",
    "    font=dict(\n",
    "        family=\"Didot\",\n",
    "        size=14,\n",
    "        color=\"black\"\n",
    "    ),\n",
    "    width=1100,  \n",
    "    height=500,\n",
    "    plot_bgcolor='white',\n",
    "    paper_bgcolor='white',\n",
    "    xaxis=dict(showline=True, showgrid=True, gridcolor='lightgrey'),\n",
    "    yaxis=dict(showline=True, showgrid=True, gridcolor='lightgrey'),\n",
    "    showlegend=True\n",
    ")\n",
    "\n",
    "fig.show()\n"
   ]
  },
  {
   "cell_type": "code",
   "execution_count": 115,
   "metadata": {},
   "outputs": [],
   "source": [
    "pio.write_image(fig, 'more_data.png', scale=4)"
   ]
  },
  {
   "cell_type": "markdown",
   "metadata": {},
   "source": [
    "## Stacked Ensemble Classifier"
   ]
  },
  {
   "cell_type": "code",
   "execution_count": 11,
   "metadata": {},
   "outputs": [],
   "source": [
    "def read_list_from_file(filename):\n",
    "    # Try to open and read the file\n",
    "\n",
    "    with open(filename, 'r') as f:\n",
    "        list_from_file = f.readlines()\n",
    "\n",
    "    # Remove newline characters\n",
    "    list_from_file = [item.strip() for item in list_from_file]\n",
    "\n",
    "    # Convert strings to floats\n",
    "    list_from_file = [float(item) for item in list_from_file]\n",
    "\n",
    "    return list_from_file"
   ]
  },
  {
   "cell_type": "code",
   "execution_count": 12,
   "metadata": {},
   "outputs": [],
   "source": [
    "TEST = pd.read_parquet('TEST_2016.parquet')"
   ]
  },
  {
   "cell_type": "code",
   "execution_count": 58,
   "metadata": {},
   "outputs": [],
   "source": [
    "# Retrieved the cascade 1 train predictions\n",
    "# Stage 1 predicitons\n",
    "X_test_embryos = TEST.copy()\n",
    "STAGE_1_PREDICTIONS = read_list_from_file('STAGE_1_PREDICTIONS.txt')\n",
    "X_test_embryos['EGGS_COLLECTED_BINARY'] = STAGE_1_PREDICTIONS\n",
    "X_test_embryos = X_test_embryos[X_test_embryos['EGGS_COLLECTED_BINARY'] != 0]\n",
    "# Stage 2 predicitons\n",
    "X_test_live_birth = X_test_embryos.copy()\n",
    "STAGE_2_PREDICTIONS = read_list_from_file('STAGE_2_PREDICTIONS.txt')\n",
    "X_test_live_birth['EMBRYOS_CREATED_BINARY'] = STAGE_2_PREDICTIONS\n",
    "X_test_live_birth = X_test_live_birth[X_test_live_birth['EMBRYOS_CREATED_BINARY'] != 0]\n",
    "# Stage 3 predicitons\n",
    "X_test_meta = X_test_live_birth.copy()\n",
    "STAGE_3_PREDICTIONS = read_list_from_file('STAGE_3_PREDICTIONS.txt')\n",
    "X_test_meta['LIVE_BIRTH_PRED'] = STAGE_3_PREDICTIONS\n",
    "# Full set of predictions\n",
    "X_test_meta_full = TEST.copy()\n",
    "X_test_meta_full['CASCADE_PRED'] = X_test_meta['LIVE_BIRTH_PRED']\n",
    "X_test_meta_full = X_test_meta_full.fillna(0)\n",
    "X_test_meta_full = X_test_meta_full.drop(columns=['FRESH_EGGS_COLLECTED', 'TOTAL_EMBRYOS_CREATED'], axis=1)\n",
    "\n",
    "# Retrieve the baseline SLR predictions and convert to binary using optimal threshold\n",
    "SLR_PREDICTIONS = read_list_from_file('probas_best_baseline.txt')\n",
    "X_test_meta_full['SLR_PRED'] = SLR_PREDICTIONS\n",
    "X_test_meta_full['SLR_PRED'] = (X_test_meta_full['SLR_PRED'] >= 0.506).astype(int)"
   ]
  },
  {
   "cell_type": "code",
   "execution_count": 59,
   "metadata": {},
   "outputs": [],
   "source": [
    "# Split into further train and test sets\n",
    "y = X_test_meta_full['LIVE_BIRTH_OCCURRENCE']\n",
    "X_test_meta_full = X_test_meta_full.drop(columns=['LIVE_BIRTH_OCCURRENCE'], axis=1)\n",
    "X_train_meta, X_test_meta, y_train_meta, y_test_meta = train_test_split(X_test_meta_full, y, test_size=0.2, random_state=42, stratify=y)"
   ]
  },
  {
   "cell_type": "code",
   "execution_count": 61,
   "metadata": {},
   "outputs": [
    {
     "name": "stdout",
     "output_type": "stream",
     "text": [
      "Average optimal threshold = 0.497\n",
      "AIC: -8432.999\n",
      "BIC: -7697.228\n",
      "\n",
      "CV RESULTS\n"
     ]
    },
    {
     "data": {
      "text/html": [
       "<div>\n",
       "<style scoped>\n",
       "    .dataframe tbody tr th:only-of-type {\n",
       "        vertical-align: middle;\n",
       "    }\n",
       "\n",
       "    .dataframe tbody tr th {\n",
       "        vertical-align: top;\n",
       "    }\n",
       "\n",
       "    .dataframe thead th {\n",
       "        text-align: right;\n",
       "    }\n",
       "</style>\n",
       "<table border=\"1\" class=\"dataframe\">\n",
       "  <thead>\n",
       "    <tr style=\"text-align: right;\">\n",
       "      <th></th>\n",
       "      <th>accuracy</th>\n",
       "      <th>precision</th>\n",
       "      <th>recall</th>\n",
       "      <th>f1_score</th>\n",
       "      <th>auc</th>\n",
       "    </tr>\n",
       "  </thead>\n",
       "  <tbody>\n",
       "    <tr>\n",
       "      <th>Mean</th>\n",
       "      <td>0.604844</td>\n",
       "      <td>0.341274</td>\n",
       "      <td>0.734026</td>\n",
       "      <td>0.465541</td>\n",
       "      <td>0.636576</td>\n",
       "    </tr>\n",
       "    <tr>\n",
       "      <th>Standard Deviation</th>\n",
       "      <td>0.018254</td>\n",
       "      <td>0.014102</td>\n",
       "      <td>0.036766</td>\n",
       "      <td>0.015787</td>\n",
       "      <td>0.012133</td>\n",
       "    </tr>\n",
       "  </tbody>\n",
       "</table>\n",
       "</div>"
      ],
      "text/plain": [
       "                    accuracy  precision    recall  f1_score       auc\n",
       "Mean                0.604844   0.341274  0.734026  0.465541  0.636576\n",
       "Standard Deviation  0.018254   0.014102  0.036766  0.015787  0.012133"
      ]
     },
     "metadata": {},
     "output_type": "display_data"
    },
    {
     "name": "stdout",
     "output_type": "stream",
     "text": [
      "\n",
      "TEST RESULTS\n"
     ]
    },
    {
     "data": {
      "text/html": [
       "<div>\n",
       "<style scoped>\n",
       "    .dataframe tbody tr th:only-of-type {\n",
       "        vertical-align: middle;\n",
       "    }\n",
       "\n",
       "    .dataframe tbody tr th {\n",
       "        vertical-align: top;\n",
       "    }\n",
       "\n",
       "    .dataframe thead th {\n",
       "        text-align: right;\n",
       "    }\n",
       "</style>\n",
       "<table border=\"1\" class=\"dataframe\">\n",
       "  <thead>\n",
       "    <tr style=\"text-align: right;\">\n",
       "      <th></th>\n",
       "      <th>accuracy</th>\n",
       "      <th>precision</th>\n",
       "      <th>recall</th>\n",
       "      <th>f1_score</th>\n",
       "      <th>auc</th>\n",
       "    </tr>\n",
       "  </thead>\n",
       "  <tbody>\n",
       "    <tr>\n",
       "      <th>Value</th>\n",
       "      <td>0.60215</td>\n",
       "      <td>0.338057</td>\n",
       "      <td>0.737307</td>\n",
       "      <td>0.463567</td>\n",
       "      <td>0.619451</td>\n",
       "    </tr>\n",
       "  </tbody>\n",
       "</table>\n",
       "</div>"
      ],
      "text/plain": [
       "       accuracy  precision    recall  f1_score       auc\n",
       "Value   0.60215   0.338057  0.737307  0.463567  0.619451"
      ]
     },
     "metadata": {},
     "output_type": "display_data"
    },
    {
     "data": {
      "image/png": "[encoded data removed]",
      "text/plain": [
       "<Figure size 640x480 with 1 Axes>"
      ]
     },
     "metadata": {},
     "output_type": "display_data"
    },
    {
     "name": "stdout",
     "output_type": "stream",
     "text": [
      "\n",
      "FEATURES ANALYSIS\n"
     ]
    },
    {
     "data": {
      "text/html": [
       "<div>\n",
       "<style scoped>\n",
       "    .dataframe tbody tr th:only-of-type {\n",
       "        vertical-align: middle;\n",
       "    }\n",
       "\n",
       "    .dataframe tbody tr th {\n",
       "        vertical-align: top;\n",
       "    }\n",
       "\n",
       "    .dataframe thead th {\n",
       "        text-align: right;\n",
       "    }\n",
       "</style>\n",
       "<table border=\"1\" class=\"dataframe\">\n",
       "  <thead>\n",
       "    <tr style=\"text-align: right;\">\n",
       "      <th></th>\n",
       "      <th>feature</th>\n",
       "      <th>importance_mean</th>\n",
       "      <th>importance_std</th>\n",
       "    </tr>\n",
       "  </thead>\n",
       "  <tbody>\n",
       "    <tr>\n",
       "      <th>21</th>\n",
       "      <td>PATIENT_AGE_AT_TREATMENT STIMULATION_USED</td>\n",
       "      <td>0.871132</td>\n",
       "      <td>0.072057</td>\n",
       "    </tr>\n",
       "    <tr>\n",
       "      <th>73</th>\n",
       "      <td>CAUSE_OF_INFERTILITY__PATIENT_UNEXPLAINED SPER...</td>\n",
       "      <td>0.792741</td>\n",
       "      <td>0.085878</td>\n",
       "    </tr>\n",
       "    <tr>\n",
       "      <th>23</th>\n",
       "      <td>PATIENT_AGE_AT_TREATMENT SCREENING</td>\n",
       "      <td>0.780903</td>\n",
       "      <td>0.101908</td>\n",
       "    </tr>\n",
       "    <tr>\n",
       "      <th>4</th>\n",
       "      <td>CAUSE_OF_INFERTILITY__MALE_FACTOR</td>\n",
       "      <td>0.729168</td>\n",
       "      <td>0.168980</td>\n",
       "    </tr>\n",
       "    <tr>\n",
       "      <th>7</th>\n",
       "      <td>STIMULATION_USED</td>\n",
       "      <td>0.709824</td>\n",
       "      <td>0.219889</td>\n",
       "    </tr>\n",
       "    <tr>\n",
       "      <th>5</th>\n",
       "      <td>CAUSE_OF_INFERTILITY__PATIENT_UNEXPLAINED</td>\n",
       "      <td>0.629659</td>\n",
       "      <td>0.170155</td>\n",
       "    </tr>\n",
       "    <tr>\n",
       "      <th>65</th>\n",
       "      <td>CAUSE_OF_INFERTILITY__MALE_FACTOR SPERM_FROM</td>\n",
       "      <td>0.608268</td>\n",
       "      <td>0.076064</td>\n",
       "    </tr>\n",
       "    <tr>\n",
       "      <th>66</th>\n",
       "      <td>CAUSE_OF_INFERTILITY__MALE_FACTOR SCREENING</td>\n",
       "      <td>0.602327</td>\n",
       "      <td>0.152506</td>\n",
       "    </tr>\n",
       "    <tr>\n",
       "      <th>104</th>\n",
       "      <td>PREVIOUS_LIVE_BIRTH_IVF_OR_DI CASCADE_PRED</td>\n",
       "      <td>0.540331</td>\n",
       "      <td>0.051240</td>\n",
       "    </tr>\n",
       "    <tr>\n",
       "      <th>72</th>\n",
       "      <td>CAUSE_OF_INFERTILITY__PATIENT_UNEXPLAINED STIM...</td>\n",
       "      <td>0.532988</td>\n",
       "      <td>0.166298</td>\n",
       "    </tr>\n",
       "    <tr>\n",
       "      <th>106</th>\n",
       "      <td>CASCADE_PRED SLR_PRED</td>\n",
       "      <td>0.494496</td>\n",
       "      <td>0.133076</td>\n",
       "    </tr>\n",
       "    <tr>\n",
       "      <th>45</th>\n",
       "      <td>CAUSE__OF_INFERTILITY__TUBAL_DISEASE STIMULATI...</td>\n",
       "      <td>0.489281</td>\n",
       "      <td>0.090557</td>\n",
       "    </tr>\n",
       "    <tr>\n",
       "      <th>11</th>\n",
       "      <td>PREVIOUS_LIVE_BIRTH_IVF_OR_DI</td>\n",
       "      <td>0.483666</td>\n",
       "      <td>0.092624</td>\n",
       "    </tr>\n",
       "    <tr>\n",
       "      <th>91</th>\n",
       "      <td>STIMULATION_USED SLR_PRED</td>\n",
       "      <td>0.483290</td>\n",
       "      <td>0.116961</td>\n",
       "    </tr>\n",
       "    <tr>\n",
       "      <th>13</th>\n",
       "      <td>SLR_PRED</td>\n",
       "      <td>0.483290</td>\n",
       "      <td>0.116961</td>\n",
       "    </tr>\n",
       "    <tr>\n",
       "      <th>10</th>\n",
       "      <td>SPECIFIC_TREATMENT_TYPE_IVF</td>\n",
       "      <td>0.483255</td>\n",
       "      <td>0.187039</td>\n",
       "    </tr>\n",
       "    <tr>\n",
       "      <th>96</th>\n",
       "      <td>SPERM_FROM SLR_PRED</td>\n",
       "      <td>0.479364</td>\n",
       "      <td>0.083121</td>\n",
       "    </tr>\n",
       "    <tr>\n",
       "      <th>55</th>\n",
       "      <td>CAUSE_OF_INFERTILITY__OVULATORY_DISORDER STIMU...</td>\n",
       "      <td>0.432589</td>\n",
       "      <td>0.150567</td>\n",
       "    </tr>\n",
       "    <tr>\n",
       "      <th>71</th>\n",
       "      <td>CAUSE_OF_INFERTILITY__PATIENT_UNEXPLAINED CAUS...</td>\n",
       "      <td>0.415262</td>\n",
       "      <td>0.198573</td>\n",
       "    </tr>\n",
       "    <tr>\n",
       "      <th>100</th>\n",
       "      <td>SCREENING SLR_PRED</td>\n",
       "      <td>0.394008</td>\n",
       "      <td>0.096029</td>\n",
       "    </tr>\n",
       "  </tbody>\n",
       "</table>\n",
       "</div>"
      ],
      "text/plain": [
       "                                               feature  importance_mean  \\\n",
       "21           PATIENT_AGE_AT_TREATMENT STIMULATION_USED         0.871132   \n",
       "73   CAUSE_OF_INFERTILITY__PATIENT_UNEXPLAINED SPER...         0.792741   \n",
       "23                  PATIENT_AGE_AT_TREATMENT SCREENING         0.780903   \n",
       "4                    CAUSE_OF_INFERTILITY__MALE_FACTOR         0.729168   \n",
       "7                                     STIMULATION_USED         0.709824   \n",
       "5            CAUSE_OF_INFERTILITY__PATIENT_UNEXPLAINED         0.629659   \n",
       "65        CAUSE_OF_INFERTILITY__MALE_FACTOR SPERM_FROM         0.608268   \n",
       "66         CAUSE_OF_INFERTILITY__MALE_FACTOR SCREENING         0.602327   \n",
       "104         PREVIOUS_LIVE_BIRTH_IVF_OR_DI CASCADE_PRED         0.540331   \n",
       "72   CAUSE_OF_INFERTILITY__PATIENT_UNEXPLAINED STIM...         0.532988   \n",
       "106                              CASCADE_PRED SLR_PRED         0.494496   \n",
       "45   CAUSE__OF_INFERTILITY__TUBAL_DISEASE STIMULATI...         0.489281   \n",
       "11                       PREVIOUS_LIVE_BIRTH_IVF_OR_DI         0.483666   \n",
       "91                           STIMULATION_USED SLR_PRED         0.483290   \n",
       "13                                            SLR_PRED         0.483290   \n",
       "10                         SPECIFIC_TREATMENT_TYPE_IVF         0.483255   \n",
       "96                                 SPERM_FROM SLR_PRED         0.479364   \n",
       "55   CAUSE_OF_INFERTILITY__OVULATORY_DISORDER STIMU...         0.432589   \n",
       "71   CAUSE_OF_INFERTILITY__PATIENT_UNEXPLAINED CAUS...         0.415262   \n",
       "100                                 SCREENING SLR_PRED         0.394008   \n",
       "\n",
       "     importance_std  \n",
       "21         0.072057  \n",
       "73         0.085878  \n",
       "23         0.101908  \n",
       "4          0.168980  \n",
       "7          0.219889  \n",
       "5          0.170155  \n",
       "65         0.076064  \n",
       "66         0.152506  \n",
       "104        0.051240  \n",
       "72         0.166298  \n",
       "106        0.133076  \n",
       "45         0.090557  \n",
       "11         0.092624  \n",
       "91         0.116961  \n",
       "13         0.116961  \n",
       "10         0.187039  \n",
       "96         0.083121  \n",
       "55         0.150567  \n",
       "71         0.198573  \n",
       "100        0.096029  "
      ]
     },
     "metadata": {},
     "output_type": "display_data"
    }
   ],
   "source": [
    "# Squared Logistic Regression Meta Learner\n",
    "X_train_meta_poly = create_poly_features(X_train_meta)\n",
    "X_test_meta_poly = create_poly_features(X_test_meta)\n",
    "model = LogisticRegression\n",
    "metrics_list = ['accuracy', 'precision', 'recall', 'f1_score', 'auc']\n",
    "params = {'max_iter':4000, 'random_state': 42, 'class_weight': 'balanced'}\n",
    "results_C_01 = model_pipeline(X_train_meta_poly, y_train_meta, X_test_meta_poly, y_test_meta, model, metrics_list, params, \n",
    "k=10, stratified=True, AIC=True, smote=False, SHAP=False, optimal_threshold=True, importances=True)"
   ]
  },
  {
   "cell_type": "code",
   "execution_count": 62,
   "metadata": {},
   "outputs": [
    {
     "name": "stdout",
     "output_type": "stream",
     "text": [
      "Average optimal threshold = 0.504\n",
      "AIC: -8522.029\n",
      "BIC: -7970.201\n",
      "\n",
      "CV RESULTS\n"
     ]
    },
    {
     "data": {
      "text/html": [
       "<div>\n",
       "<style scoped>\n",
       "    .dataframe tbody tr th:only-of-type {\n",
       "        vertical-align: middle;\n",
       "    }\n",
       "\n",
       "    .dataframe tbody tr th {\n",
       "        vertical-align: top;\n",
       "    }\n",
       "\n",
       "    .dataframe thead th {\n",
       "        text-align: right;\n",
       "    }\n",
       "</style>\n",
       "<table border=\"1\" class=\"dataframe\">\n",
       "  <thead>\n",
       "    <tr style=\"text-align: right;\">\n",
       "      <th></th>\n",
       "      <th>accuracy</th>\n",
       "      <th>precision</th>\n",
       "      <th>recall</th>\n",
       "      <th>f1_score</th>\n",
       "      <th>auc</th>\n",
       "    </tr>\n",
       "  </thead>\n",
       "  <tbody>\n",
       "    <tr>\n",
       "      <th>Mean</th>\n",
       "      <td>0.611426</td>\n",
       "      <td>0.345193</td>\n",
       "      <td>0.749441</td>\n",
       "      <td>0.472158</td>\n",
       "      <td>0.633502</td>\n",
       "    </tr>\n",
       "    <tr>\n",
       "      <th>Standard Deviation</th>\n",
       "      <td>0.014922</td>\n",
       "      <td>0.013302</td>\n",
       "      <td>0.037995</td>\n",
       "      <td>0.012717</td>\n",
       "      <td>0.011646</td>\n",
       "    </tr>\n",
       "  </tbody>\n",
       "</table>\n",
       "</div>"
      ],
      "text/plain": [
       "                    accuracy  precision    recall  f1_score       auc\n",
       "Mean                0.611426   0.345193  0.749441  0.472158  0.633502\n",
       "Standard Deviation  0.014922   0.013302  0.037995  0.012717  0.011646"
      ]
     },
     "metadata": {},
     "output_type": "display_data"
    },
    {
     "name": "stdout",
     "output_type": "stream",
     "text": [
      "\n",
      "TEST RESULTS\n"
     ]
    },
    {
     "data": {
      "text/html": [
       "<div>\n",
       "<style scoped>\n",
       "    .dataframe tbody tr th:only-of-type {\n",
       "        vertical-align: middle;\n",
       "    }\n",
       "\n",
       "    .dataframe tbody tr th {\n",
       "        vertical-align: top;\n",
       "    }\n",
       "\n",
       "    .dataframe thead th {\n",
       "        text-align: right;\n",
       "    }\n",
       "</style>\n",
       "<table border=\"1\" class=\"dataframe\">\n",
       "  <thead>\n",
       "    <tr style=\"text-align: right;\">\n",
       "      <th></th>\n",
       "      <th>accuracy</th>\n",
       "      <th>precision</th>\n",
       "      <th>recall</th>\n",
       "      <th>f1_score</th>\n",
       "      <th>auc</th>\n",
       "    </tr>\n",
       "  </thead>\n",
       "  <tbody>\n",
       "    <tr>\n",
       "      <th>Value</th>\n",
       "      <td>0.605496</td>\n",
       "      <td>0.337549</td>\n",
       "      <td>0.766004</td>\n",
       "      <td>0.468602</td>\n",
       "      <td>0.627694</td>\n",
       "    </tr>\n",
       "  </tbody>\n",
       "</table>\n",
       "</div>"
      ],
      "text/plain": [
       "       accuracy  precision    recall  f1_score       auc\n",
       "Value  0.605496   0.337549  0.766004  0.468602  0.627694"
      ]
     },
     "metadata": {},
     "output_type": "display_data"
    },
    {
     "data": {
      "image/png": "[encoded data removed]",
      "text/plain": [
       "<Figure size 640x480 with 1 Axes>"
      ]
     },
     "metadata": {},
     "output_type": "display_data"
    },
    {
     "name": "stdout",
     "output_type": "stream",
     "text": [
      "\n",
      "FEATURES ANALYSIS\n"
     ]
    },
    {
     "data": {
      "text/html": [
       "<div>\n",
       "<style scoped>\n",
       "    .dataframe tbody tr th:only-of-type {\n",
       "        vertical-align: middle;\n",
       "    }\n",
       "\n",
       "    .dataframe tbody tr th {\n",
       "        vertical-align: top;\n",
       "    }\n",
       "\n",
       "    .dataframe thead th {\n",
       "        text-align: right;\n",
       "    }\n",
       "</style>\n",
       "<table border=\"1\" class=\"dataframe\">\n",
       "  <thead>\n",
       "    <tr style=\"text-align: right;\">\n",
       "      <th></th>\n",
       "      <th>feature</th>\n",
       "      <th>importance_mean</th>\n",
       "      <th>importance_std</th>\n",
       "    </tr>\n",
       "  </thead>\n",
       "  <tbody>\n",
       "    <tr>\n",
       "      <th>61</th>\n",
       "      <td>CAUSE_OF_INFERTILITY__PATIENT_UNEXPLAINED SPER...</td>\n",
       "      <td>0.967569</td>\n",
       "      <td>0.101711</td>\n",
       "    </tr>\n",
       "    <tr>\n",
       "      <th>21</th>\n",
       "      <td>PATIENT_AGE_AT_TREATMENT SCREENING</td>\n",
       "      <td>0.861671</td>\n",
       "      <td>0.119589</td>\n",
       "    </tr>\n",
       "    <tr>\n",
       "      <th>19</th>\n",
       "      <td>PATIENT_AGE_AT_TREATMENT STIMULATION_USED</td>\n",
       "      <td>0.714907</td>\n",
       "      <td>0.067415</td>\n",
       "    </tr>\n",
       "    <tr>\n",
       "      <th>37</th>\n",
       "      <td>CAUSE__OF_INFERTILITY__TUBAL_DISEASE CAUSE_OF_...</td>\n",
       "      <td>0.608426</td>\n",
       "      <td>0.174080</td>\n",
       "    </tr>\n",
       "    <tr>\n",
       "      <th>60</th>\n",
       "      <td>CAUSE_OF_INFERTILITY__PATIENT_UNEXPLAINED STIM...</td>\n",
       "      <td>0.584131</td>\n",
       "      <td>0.149153</td>\n",
       "    </tr>\n",
       "    <tr>\n",
       "      <th>56</th>\n",
       "      <td>CAUSE_OF_INFERTILITY__MALE_FACTOR SCREENING</td>\n",
       "      <td>0.583764</td>\n",
       "      <td>0.166622</td>\n",
       "    </tr>\n",
       "    <tr>\n",
       "      <th>59</th>\n",
       "      <td>CAUSE_OF_INFERTILITY__PATIENT_UNEXPLAINED CAUS...</td>\n",
       "      <td>0.542755</td>\n",
       "      <td>0.185083</td>\n",
       "    </tr>\n",
       "    <tr>\n",
       "      <th>55</th>\n",
       "      <td>CAUSE_OF_INFERTILITY__MALE_FACTOR SPERM_FROM</td>\n",
       "      <td>0.528303</td>\n",
       "      <td>0.065681</td>\n",
       "    </tr>\n",
       "    <tr>\n",
       "      <th>75</th>\n",
       "      <td>SPERM_FROM SPECIFIC_TREATMENT_TYPE_IVF</td>\n",
       "      <td>0.525602</td>\n",
       "      <td>0.091504</td>\n",
       "    </tr>\n",
       "    <tr>\n",
       "      <th>73</th>\n",
       "      <td>STIMULATION_USED PREVIOUS_LIVE_BIRTH_IVF_OR_DI</td>\n",
       "      <td>0.501854</td>\n",
       "      <td>0.077940</td>\n",
       "    </tr>\n",
       "    <tr>\n",
       "      <th>5</th>\n",
       "      <td>CAUSE_OF_INFERTILITY__PATIENT_UNEXPLAINED</td>\n",
       "      <td>0.464978</td>\n",
       "      <td>0.164725</td>\n",
       "    </tr>\n",
       "    <tr>\n",
       "      <th>10</th>\n",
       "      <td>SPECIFIC_TREATMENT_TYPE_IVF</td>\n",
       "      <td>0.438542</td>\n",
       "      <td>0.127500</td>\n",
       "    </tr>\n",
       "    <tr>\n",
       "      <th>79</th>\n",
       "      <td>SPECIFIC_TREATMENT_TYPE_IVF PREVIOUS_LIVE_BIRT...</td>\n",
       "      <td>0.429779</td>\n",
       "      <td>0.040969</td>\n",
       "    </tr>\n",
       "    <tr>\n",
       "      <th>57</th>\n",
       "      <td>CAUSE_OF_INFERTILITY__MALE_FACTOR SPECIFIC_TRE...</td>\n",
       "      <td>0.424291</td>\n",
       "      <td>0.052304</td>\n",
       "    </tr>\n",
       "    <tr>\n",
       "      <th>36</th>\n",
       "      <td>CAUSE__OF_INFERTILITY__TUBAL_DISEASE CAUSE_OF_...</td>\n",
       "      <td>0.417369</td>\n",
       "      <td>0.066341</td>\n",
       "    </tr>\n",
       "    <tr>\n",
       "      <th>0</th>\n",
       "      <td>PATIENT_AGE_AT_TREATMENT</td>\n",
       "      <td>0.413406</td>\n",
       "      <td>0.075113</td>\n",
       "    </tr>\n",
       "    <tr>\n",
       "      <th>4</th>\n",
       "      <td>CAUSE_OF_INFERTILITY__MALE_FACTOR</td>\n",
       "      <td>0.412559</td>\n",
       "      <td>0.137328</td>\n",
       "    </tr>\n",
       "    <tr>\n",
       "      <th>72</th>\n",
       "      <td>STIMULATION_USED SPECIFIC_TREATMENT_TYPE_IVF</td>\n",
       "      <td>0.386325</td>\n",
       "      <td>0.146673</td>\n",
       "    </tr>\n",
       "    <tr>\n",
       "      <th>11</th>\n",
       "      <td>PREVIOUS_LIVE_BIRTH_IVF_OR_DI</td>\n",
       "      <td>0.382785</td>\n",
       "      <td>0.072535</td>\n",
       "    </tr>\n",
       "    <tr>\n",
       "      <th>39</th>\n",
       "      <td>CAUSE__OF_INFERTILITY__TUBAL_DISEASE STIMULATI...</td>\n",
       "      <td>0.381132</td>\n",
       "      <td>0.068188</td>\n",
       "    </tr>\n",
       "  </tbody>\n",
       "</table>\n",
       "</div>"
      ],
      "text/plain": [
       "                                              feature  importance_mean  \\\n",
       "61  CAUSE_OF_INFERTILITY__PATIENT_UNEXPLAINED SPER...         0.967569   \n",
       "21                 PATIENT_AGE_AT_TREATMENT SCREENING         0.861671   \n",
       "19          PATIENT_AGE_AT_TREATMENT STIMULATION_USED         0.714907   \n",
       "37  CAUSE__OF_INFERTILITY__TUBAL_DISEASE CAUSE_OF_...         0.608426   \n",
       "60  CAUSE_OF_INFERTILITY__PATIENT_UNEXPLAINED STIM...         0.584131   \n",
       "56        CAUSE_OF_INFERTILITY__MALE_FACTOR SCREENING         0.583764   \n",
       "59  CAUSE_OF_INFERTILITY__PATIENT_UNEXPLAINED CAUS...         0.542755   \n",
       "55       CAUSE_OF_INFERTILITY__MALE_FACTOR SPERM_FROM         0.528303   \n",
       "75             SPERM_FROM SPECIFIC_TREATMENT_TYPE_IVF         0.525602   \n",
       "73     STIMULATION_USED PREVIOUS_LIVE_BIRTH_IVF_OR_DI         0.501854   \n",
       "5           CAUSE_OF_INFERTILITY__PATIENT_UNEXPLAINED         0.464978   \n",
       "10                        SPECIFIC_TREATMENT_TYPE_IVF         0.438542   \n",
       "79  SPECIFIC_TREATMENT_TYPE_IVF PREVIOUS_LIVE_BIRT...         0.429779   \n",
       "57  CAUSE_OF_INFERTILITY__MALE_FACTOR SPECIFIC_TRE...         0.424291   \n",
       "36  CAUSE__OF_INFERTILITY__TUBAL_DISEASE CAUSE_OF_...         0.417369   \n",
       "0                            PATIENT_AGE_AT_TREATMENT         0.413406   \n",
       "4                   CAUSE_OF_INFERTILITY__MALE_FACTOR         0.412559   \n",
       "72       STIMULATION_USED SPECIFIC_TREATMENT_TYPE_IVF         0.386325   \n",
       "11                      PREVIOUS_LIVE_BIRTH_IVF_OR_DI         0.382785   \n",
       "39  CAUSE__OF_INFERTILITY__TUBAL_DISEASE STIMULATI...         0.381132   \n",
       "\n",
       "    importance_std  \n",
       "61        0.101711  \n",
       "21        0.119589  \n",
       "19        0.067415  \n",
       "37        0.174080  \n",
       "60        0.149153  \n",
       "56        0.166622  \n",
       "59        0.185083  \n",
       "55        0.065681  \n",
       "75        0.091504  \n",
       "73        0.077940  \n",
       "5         0.164725  \n",
       "10        0.127500  \n",
       "79        0.040969  \n",
       "57        0.052304  \n",
       "36        0.066341  \n",
       "0         0.075113  \n",
       "4         0.137328  \n",
       "72        0.146673  \n",
       "11        0.072535  \n",
       "39        0.068188  "
      ]
     },
     "metadata": {},
     "output_type": "display_data"
    }
   ],
   "source": [
    "# Squared Logistic Regression trained on 80% of test set\n",
    "X_train_meta_poly = create_poly_features(X_train_meta.drop(columns=['CASCADE_PRED', 'SLR_PRED'] , axis=1))\n",
    "X_test_meta_poly = create_poly_features(X_test_meta.drop(columns=['CASCADE_PRED', 'SLR_PRED'] , axis=1))\n",
    "model = LogisticRegression\n",
    "metrics_list = ['accuracy', 'precision', 'recall', 'f1_score', 'auc']\n",
    "params = {'max_iter':4000, 'random_state': 42, 'class_weight': 'balanced'}\n",
    "results_C_01 = model_pipeline(X_train_meta_poly, y_train_meta, X_test_meta_poly, y_test_meta, model, metrics_list, params, \n",
    "k=10, stratified=True, AIC=True, smote=False, SHAP=False, optimal_threshold=True, importances=True)"
   ]
  },
  {
   "cell_type": "code",
   "execution_count": null,
   "metadata": {},
   "outputs": [],
   "source": []
  }
 ],
 "metadata": {
  "kernelspec": {
   "display_name": "Python 3",
   "language": "python",
   "name": "python3"
  },
  "language_info": {
   "codemirror_mode": {
    "name": "ipython",
    "version": 3
   },
   "file_extension": ".py",
   "mimetype": "text/x-python",
   "name": "python",
   "nbconvert_exporter": "python",
   "pygments_lexer": "ipython3",
   "version": "3.10.7"
  },
  "orig_nbformat": 4
 },
 "nbformat": 4,
 "nbformat_minor": 2
}
