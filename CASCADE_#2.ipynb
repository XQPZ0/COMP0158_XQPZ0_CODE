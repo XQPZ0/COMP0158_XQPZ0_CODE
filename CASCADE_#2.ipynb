{
 "cells": [
  {
   "cell_type": "markdown",
   "metadata": {},
   "source": [
    "# **CASCADE 2**"
   ]
  },
  {
   "cell_type": "code",
   "execution_count": 2,
   "metadata": {},
   "outputs": [],
   "source": [
    "import pandas as pd\n",
    "import numpy as np\n",
    "import seaborn as sns\n",
    "import matplotlib.pyplot as plt\n",
    "import matplotlib.patches as mpatches\n",
    "import plotly.graph_objects as go\n",
    "import plotly.offline as pyo\n",
    "import plotly.express as px\n",
    "import scipy.stats\n",
    "from scipy.stats import mannwhitneyu\n",
    "from scipy.stats import ks_2samp\n",
    "from sklearn import preprocessing\n",
    "from sklearn.preprocessing import PolynomialFeatures\n",
    "from sklearn.decomposition import PCA\n",
    "from sklearn.model_selection import train_test_split\n",
    "from sklearn.model_selection import GridSearchCV, StratifiedKFold, learning_curve, KFold, cross_val_score\n",
    "from sklearn.metrics import make_scorer, accuracy_score, precision_score, recall_score, roc_auc_score, f1_score, confusion_matrix, auc\n",
    "from sklearn.pipeline import Pipeline\n",
    "from scipy.stats import sem\n",
    "from sklearn.linear_model import LogisticRegression\n",
    "from imblearn.over_sampling import SMOTE\n",
    "from imblearn.pipeline import Pipeline as ImbPipeline\n",
    "from sklearn.tree import DecisionTreeClassifier, plot_tree\n",
    "from sklearn.ensemble import RandomForestClassifier, ExtraTreesClassifier\n",
    "from sklearn.neighbors import KNeighborsClassifier\n",
    "from xgboost import XGBClassifier, XGBRegressor\n",
    "from sklearn.svm import SVC\n",
    "from catboost import CatBoostClassifier\n",
    "from collections import Counter\n",
    "from sklearn.inspection import permutation_importance\n",
    "import shap\n",
    "import warnings\n",
    "from sklearn.metrics import ConfusionMatrixDisplay, roc_curve, silhouette_score, calinski_harabasz_score\n",
    "from itertools import combinations_with_replacement\n",
    "from copy import deepcopy\n",
    "from sklearn.neural_network import MLPClassifier, MLPRegressor\n",
    "from kneed import KneeLocator\n",
    "from sklearn.cluster import KMeans\n",
    "from matplotlib.pyplot import figure\n",
    "from kmodes.kmodes import KModes\n",
    "from pyclustering.cluster.kmedoids import kmedoids\n",
    "from pyclustering.cluster.encoder import cluster_encoder\n",
    "from sklearn.metrics import pairwise_distances\n",
    "from sklearn.metrics import balanced_accuracy_score\n",
    "from sklearn.feature_selection import RFECV\n",
    "from scipy.spatial.distance import cdist\n",
    "from sklearn.metrics import mean_absolute_error, mean_squared_error\n",
    "import statsmodels.api as sm\n",
    "from sklearn.base import BaseEstimator, RegressorMixin\n",
    "from math import sqrt\n",
    "from tqdm import tqdm\n",
    "from sklearn.ensemble import RandomForestRegressor\n",
    "from sklearn.svm import SVR\n",
    "from sklearn.preprocessing import StandardScaler\n",
    "from sklearn.compose import ColumnTransformer\n",
    "\n",
    "warnings.filterwarnings(\"ignore\", message=\".*The 'nopython' keyword.*\")"
   ]
  },
  {
   "cell_type": "code",
   "execution_count": 10,
   "metadata": {},
   "outputs": [],
   "source": [
    "def compute_grid_search_regression(model, param_grid, X_train, y_train):\n",
    "    \"\"\"\n",
    "    Perform a grid search on a model using K-Fold cross-validation for regression.\n",
    "    \n",
    "    Parameters:\n",
    "    - model: Estimator or model to be used.\n",
    "    - param_grid: Dictionary of parameters for grid search.\n",
    "    - X_train: Training data features.\n",
    "    - y_train: Training data targets.\n",
    "    \n",
    "    Returns:\n",
    "    - grid_search: Fitted GridSearchCV object.\n",
    "    \"\"\"\n",
    "\n",
    "    # Create KFold instance\n",
    "    kf = KFold(n_splits=10, shuffle=True, random_state=42)\n",
    "    \n",
    "    # Set up the grid search with 'neg_mean_squared_error' as the scoring metric\n",
    "    grid_search = GridSearchCV(\n",
    "        estimator=model, \n",
    "        param_grid=param_grid, \n",
    "        cv=kf, \n",
    "        scoring='neg_mean_squared_error',  # Using negative mean squared error for regression\n",
    "        verbose=1,  \n",
    "        n_jobs=-1   \n",
    "    )\n",
    "    \n",
    "    # Fit the grid search to the data\n",
    "    grid_search.fit(X_train, y_train)\n",
    "\n",
    "    print(grid_search.best_params_)\n",
    "    \n",
    "    return grid_search\n"
   ]
  },
  {
   "cell_type": "code",
   "execution_count": 11,
   "metadata": {},
   "outputs": [],
   "source": [
    "def regressor_model_pipeline(X_train, y_train, X_test, y_test, model, metrics_list, params={}, \n",
    "                   k=10, SHAP=False, importances=False, standardize=False, columns_to_standardize=None):\n",
    "    \"\"\"\n",
    "    Creates a regression model pipeline, computes cross-validation and test metrics, and optionally \n",
    "    provides feature importance and SHAP value analysis.\n",
    "\n",
    "    Args:\n",
    "        X_train (pd.DataFrame): Training data features.\n",
    "        y_train (pd.Series or array-like): Training data labels.\n",
    "        X_test (pd.DataFrame): Test data features.\n",
    "        y_test (pd.Series or array-like): Test data labels.\n",
    "        model (estimator class): Estimator class (uninitialized) to be used.\n",
    "        metrics_list (list of str): List of metrics ('mae', 'mse', 'rmse') to compute.\n",
    "        params (dict, optional): Dictionary of parameters to initialize the model with. Defaults to {}.\n",
    "        k (int, optional): Number of folds in KFold cross-validation. Defaults to 10.\n",
    "        SHAP (bool, optional): Whether to compute and display SHAP values. Defaults to False.\n",
    "        importances (bool, optional): Whether to compute feature importances. Defaults to False.\n",
    "        standardize (bool, optional): Whether to standardize certain columns in the data. Defaults to False.\n",
    "        columns_to_standardize (list of str, optional): Columns in the data to standardize. Only used if `standardize` is True. Defaults to None.\n",
    "\n",
    "    Returns:\n",
    "        dict: Dictionary containing a DataFrame with the cross-validation results ('cv_results'), a  DataFrame with test results ('test_results'),\n",
    "        the predicted values for the test set ('y_test_pred'), and a DataFrame containing the feature importance analysis ('feature_importances') \n",
    "        if `importances` is True.\n",
    "    \"\"\"\n",
    "     \n",
    "    # Map metric names to functions\n",
    "    metrics = {\n",
    "        'mae': mean_absolute_error,\n",
    "        'mse': mean_squared_error,\n",
    "        'rmse': lambda y_true, y_pred: sqrt(mean_squared_error(y_true, y_pred))\n",
    "    }\n",
    "\n",
    "    # Check if we necessary to standardize a subset of columns\n",
    "    if standardize and columns_to_standardize:\n",
    "        preprocessor = ColumnTransformer(\n",
    "            transformers=[\n",
    "                ('num', StandardScaler(), columns_to_standardize)\n",
    "            ],\n",
    "            remainder='passthrough'  # leave remaining columns untouched\n",
    "        )\n",
    "        \n",
    "        pipeline = Pipeline([\n",
    "            ('preprocessor', preprocessor),\n",
    "            ('model', model(**params))\n",
    "        ])\n",
    "    else:\n",
    "        pipeline = Pipeline([\n",
    "            ('model', model(**params))\n",
    "        ])\n",
    "\n",
    "    # Initialize KFold cross-validation\n",
    "    cv = KFold(n_splits=k, shuffle=True, random_state=1)\n",
    "\n",
    "    # Compute the specified metrics using cross-validation\n",
    "    cv_results = {}\n",
    "    for metric in metrics_list:\n",
    "        scorer = make_scorer(metrics[metric])\n",
    "\n",
    "        #def custom_scorer(pipe, X, y, scorer=scorer):\n",
    "        #    y_pred = pipe.predict(X)\n",
    "        #    return scorer._score_func(y, np.maximum(np.round(y_pred), 0))\n",
    "        \n",
    "        def custom_scorer(pipe, X, y, scorer=scorer):\n",
    "            y_pred = pipe.predict(X)\n",
    "            if not np.all(np.isfinite(y_pred)):\n",
    "                print('There is a problem and infinite values are present')\n",
    "                return np.inf  # Return large error if predictions are not finite\n",
    "            return scorer._score_func(y, np.maximum(np.round(y_pred), 0))\n",
    "\n",
    "\n",
    "        cv_scores = cross_val_score(pipeline, X_train, y_train, scoring=custom_scorer, cv=cv)\n",
    "        cv_results[metric] = (np.mean(cv_scores), np.std(cv_scores))\n",
    "\n",
    "    cv_results = pd.DataFrame(cv_results, columns=metrics_list).T\n",
    "    cv_results.columns = ['Mean', 'Standard Deviation']\n",
    "    cv_results = cv_results.T\n",
    "\n",
    "    # Fit the model on the full training set\n",
    "    pipeline.fit(X_train, y_train)\n",
    "\n",
    "    # Feature importances\n",
    "    if importances:\n",
    "        feature_importances = []\n",
    "        for train_index, test_index in cv.split(X_train, y_train):\n",
    "            X_train_fold, X_test_fold = X_train.iloc[train_index], X_train.iloc[test_index]\n",
    "            y_train_fold, y_test_fold = y_train.iloc[train_index], y_train.iloc[test_index]\n",
    "\n",
    "            pipeline.fit(X_train_fold, y_train_fold)\n",
    "            fitted_model = pipeline.named_steps['model']\n",
    "\n",
    "            if hasattr(fitted_model, 'feature_importances_'):\n",
    "                fold_importance = fitted_model.feature_importances_\n",
    "            elif hasattr(fitted_model, 'coef_'):\n",
    "                fold_importance = np.abs(fitted_model.coef_[0])\n",
    "            else:\n",
    "                perm_importance = permutation_importance(fitted_model, X_test_fold, y_test_fold)\n",
    "                fold_importance = perm_importance.importances_mean\n",
    "\n",
    "            feature_importances.append(fold_importance)\n",
    "\n",
    "        # Compute mean and standard deviation of feature importances\n",
    "        feature_importances_mean = np.mean(feature_importances, axis=0)\n",
    "        feature_importances_std = np.std(feature_importances, axis=0)\n",
    "        \n",
    "        importances_df = pd.DataFrame({\n",
    "            'feature': X_train.columns,\n",
    "            'importance_mean': feature_importances_mean,\n",
    "            'importance_std': feature_importances_std\n",
    "            })\n",
    "        \n",
    "        # Sort by importance_mean in descending order\n",
    "        importances_df = importances_df.sort_values(by='importance_mean', ascending=False)\n",
    "    \n",
    "    else:\n",
    "        importances_df = pd.DataFrame()\n",
    "\n",
    "    # Compute the specified metrics on the test set\n",
    "    test_results = {}\n",
    "    y_test_pred = pipeline.predict(X_test)\n",
    "    y_test_pred_rounded = np.maximum(np.round(y_test_pred), 0)\n",
    "    for metric in metrics_list:\n",
    "        scorer = metrics[metric]\n",
    "        test_score = scorer(y_test, y_test_pred_rounded)\n",
    "        test_results[metric] = test_score\n",
    "\n",
    "    test_results = pd.DataFrame(test_results, index=['Value'], columns=metrics_list).T\n",
    "    test_results = test_results.T\n",
    "\n",
    "    # Output mean and std of cross-validation scores and test set scores\n",
    "    output = {\n",
    "        'cv_results': cv_results,\n",
    "        'test_results': test_results,\n",
    "        'y_test_pred': y_test_pred_rounded,\n",
    "    }\n",
    "\n",
    "    output['feature_importances'] = importances_df\n",
    "\n",
    "    # Print CV results\n",
    "    print('')\n",
    "    print('CV RESULTS')\n",
    "    display(cv_results)\n",
    "    print('')\n",
    "\n",
    "    #Print Test results\n",
    "    print('TEST RESULTS')\n",
    "    display(test_results)\n",
    "    print('')\n",
    "\n",
    "    #Print Features analysis\n",
    "    if importances:\n",
    "        print('FEATURES ANALYSIS')\n",
    "        display(importances_df.head(20))\n",
    "\n",
    "    if SHAP:\n",
    "        # Compute SHAP values\n",
    "        if hasattr(pipeline.named_steps['model'], 'feature_importances_'):\n",
    "            explainer = shap.TreeExplainer(pipeline.named_steps['model'])\n",
    "            shap_values = explainer.shap_values(X_train)\n",
    "\n",
    "            # Create a SHAP summary plot\n",
    "            shap.summary_plot(shap_values, X_train, plot_size=[20,10], max_display=20)\n",
    "\n",
    "        elif hasattr(pipeline.named_steps['model'], 'coef_'):\n",
    "            explainer = shap.LinearExplainer(pipeline.named_steps['model'], X_train)\n",
    "            shap_values = explainer.shap_values(X_train)\n",
    "\n",
    "            # Create a SHAP summary plot\n",
    "            shap.summary_plot(shap_values, X_train, plot_size=[20,10], max_display=20)\n",
    "\n",
    "    return output"
   ]
  },
  {
   "cell_type": "code",
   "execution_count": 12,
   "metadata": {},
   "outputs": [],
   "source": [
    "class ZINBWrapper(BaseEstimator, RegressorMixin):\n",
    "    \"\"\"\n",
    "    A wrapper for the Zero-Inflated Negative Binomial (ZINB) model from the statsmodels library.\n",
    "    \n",
    "    This wrapper allows easy integration with scikit-learn pipelines and utilities, and\n",
    "    adds functionality for controlling the exogenous variables used for inflation modeling.\n",
    "    \n",
    "    Attributes:\n",
    "        params (dict): Parameters for controlling the behavior of the model. Accepted keys include:\n",
    "            - 'use_all_covariates_for_inflation' (bool): If True, uses all covariates for the inflation model. Defaults to False.\n",
    "            - 'maxiter' (int): Maximum number of iterations for model fitting. Default behavior is determined by the underlying statsmodels method.\n",
    "    \"\"\"\n",
    "\n",
    "    def __init__(self, **params):\n",
    "        self.params = params\n",
    "        \n",
    "    def fit(self, X, y):\n",
    "        \"\"\"\n",
    "        Fits the ZINB model on provided data.\n",
    "        \n",
    "        Args:\n",
    "            X (pd.DataFrame or array-like): Exogenous variables.\n",
    "            y (pd.Series or array-like): Endogenous variable (target).\n",
    "            \n",
    "        Returns:\n",
    "            self: Returns an instance of the model.\n",
    "        \"\"\"\n",
    "        # Check if the 'use_all_covariates_for_inflation' parameter is True\n",
    "        if self.params.get('use_all_covariates_for_inflation', False):\n",
    "            self.model_ = sm.ZeroInflatedNegativeBinomialP(endog=y, exog=X, exog_infl=X)\n",
    "        else:\n",
    "            self.model_ = sm.ZeroInflatedNegativeBinomialP(endog=y, exog=X)\n",
    "\n",
    "        self.result_ = self.model_.fit(maxiter=self.params.get('maxiter'))\n",
    "        return self\n",
    "\n",
    "    def predict(self, X):\n",
    "        \"\"\"\n",
    "        Makes predictions using the fitted ZINB model.\n",
    "        \n",
    "        Args:\n",
    "            X (pd.DataFrame or array-like): Exogenous variables for prediction.\n",
    "            \n",
    "        Returns:\n",
    "            array-like: Predicted values.\n",
    "            \n",
    "        Raises:\n",
    "            RuntimeError: If the model has not been trained before making predictions.\n",
    "        \"\"\"\n",
    "        if not hasattr(self, 'result_'):\n",
    "            raise RuntimeError(\"You must train the model before making predictions!\")\n",
    "        \n",
    "        # Decide the exog_infl based on parameters\n",
    "        exog_infl = X if self.params.get('use_all_covariates_for_inflation', False) else None\n",
    "        \n",
    "        return self.result_.predict(exog=X, exog_infl=exog_infl)"
   ]
  },
  {
   "cell_type": "markdown",
   "metadata": {},
   "source": [
    "## **Data**"
   ]
  },
  {
   "cell_type": "code",
   "execution_count": 13,
   "metadata": {},
   "outputs": [],
   "source": [
    "TRAIN = pd.read_parquet('TRAIN_2016.parquet')\n",
    "TEST = pd.read_parquet('TEST_2016.parquet')"
   ]
  },
  {
   "cell_type": "code",
   "execution_count": 14,
   "metadata": {},
   "outputs": [
    {
     "data": {
      "text/plain": [
       "Index(['PATIENT_AGE_AT_TREATMENT',\n",
       "       'TOTAL_NUMBER_OF_PREVIOUS_CYCLES_BOTH_IVF_AND_DI',\n",
       "       'CAUSE__OF_INFERTILITY__TUBAL_DISEASE',\n",
       "       'CAUSE_OF_INFERTILITY__OVULATORY_DISORDER',\n",
       "       'CAUSE_OF_INFERTILITY__MALE_FACTOR',\n",
       "       'CAUSE_OF_INFERTILITY__PATIENT_UNEXPLAINED',\n",
       "       'CAUSE_OF_INFERTILITY__ENDOMETRIOSIS', 'STIMULATION_USED', 'SPERM_FROM',\n",
       "       'FRESH_EGGS_COLLECTED', 'TOTAL_EMBRYOS_CREATED',\n",
       "       'LIVE_BIRTH_OCCURRENCE', 'SCREENING', 'SPECIFIC_TREATMENT_TYPE_IVF',\n",
       "       'PREVIOUS_LIVE_BIRTH_IVF_OR_DI'],\n",
       "      dtype='object')"
      ]
     },
     "execution_count": 14,
     "metadata": {},
     "output_type": "execute_result"
    }
   ],
   "source": [
    "TRAIN.columns"
   ]
  },
  {
   "cell_type": "code",
   "execution_count": 15,
   "metadata": {},
   "outputs": [],
   "source": [
    "# Oocytes Retrieved\n",
    "X_train_eggs = TRAIN.drop(['FRESH_EGGS_COLLECTED', 'TOTAL_EMBRYOS_CREATED', 'LIVE_BIRTH_OCCURRENCE', 'SPECIFIC_TREATMENT_TYPE_IVF'], axis=1)\n",
    "y_train_eggs = TRAIN['FRESH_EGGS_COLLECTED']\n",
    "X_test_eggs = TEST.drop(['FRESH_EGGS_COLLECTED', 'TOTAL_EMBRYOS_CREATED', 'LIVE_BIRTH_OCCURRENCE', 'SPECIFIC_TREATMENT_TYPE_IVF'], axis=1)\n",
    "y_test_eggs = TEST['FRESH_EGGS_COLLECTED']\n",
    "\n",
    "# Embryos Created\n",
    "X_train_embryos = TRAIN.drop(['TOTAL_EMBRYOS_CREATED', 'LIVE_BIRTH_OCCURRENCE'], axis=1)\n",
    "y_train_embryos = TRAIN['TOTAL_EMBRYOS_CREATED']\n",
    "# X_test will be made later to include predictions\n",
    "y_test_embryos = TEST['TOTAL_EMBRYOS_CREATED']\n",
    "\n",
    "# Live Birth\n",
    "X_train_live_birth = TRAIN.drop(['LIVE_BIRTH_OCCURRENCE'], axis=1)\n",
    "y_train_live_birth = TRAIN['LIVE_BIRTH_OCCURRENCE']\n",
    "# X_test will be made later to include predictions\n",
    "y_test_live_birth = TEST['LIVE_BIRTH_OCCURRENCE']"
   ]
  },
  {
   "cell_type": "markdown",
   "metadata": {},
   "source": [
    "## **STAGE 1 MODELS**"
   ]
  },
  {
   "cell_type": "markdown",
   "metadata": {},
   "source": [
    "### Zero-inflated Negative binomial (ZINB)"
   ]
  },
  {
   "cell_type": "code",
   "execution_count": 71,
   "metadata": {},
   "outputs": [
    {
     "name": "stdout",
     "output_type": "stream",
     "text": [
      "Optimization terminated successfully.\n",
      "         Current function value: 3.041499\n",
      "         Iterations: 35\n",
      "         Function evaluations: 37\n",
      "         Gradient evaluations: 37\n",
      "Optimization terminated successfully.\n",
      "         Current function value: 3.041566\n",
      "         Iterations: 32\n",
      "         Function evaluations: 35\n",
      "         Gradient evaluations: 35\n",
      "Optimization terminated successfully.\n",
      "         Current function value: 3.041138\n",
      "         Iterations: 32\n",
      "         Function evaluations: 35\n",
      "         Gradient evaluations: 35\n",
      "Optimization terminated successfully.\n",
      "         Current function value: 3.039230\n",
      "         Iterations: 32\n",
      "         Function evaluations: 35\n",
      "         Gradient evaluations: 35\n",
      "Optimization terminated successfully.\n",
      "         Current function value: 3.039676\n",
      "         Iterations: 33\n",
      "         Function evaluations: 35\n",
      "         Gradient evaluations: 35\n",
      "Optimization terminated successfully.\n",
      "         Current function value: 3.039500\n",
      "         Iterations: 32\n",
      "         Function evaluations: 35\n",
      "         Gradient evaluations: 35\n",
      "Optimization terminated successfully.\n",
      "         Current function value: 3.043290\n",
      "         Iterations: 32\n",
      "         Function evaluations: 35\n",
      "         Gradient evaluations: 35\n",
      "Optimization terminated successfully.\n",
      "         Current function value: 3.037170\n",
      "         Iterations: 32\n",
      "         Function evaluations: 35\n",
      "         Gradient evaluations: 35\n",
      "Optimization terminated successfully.\n",
      "         Current function value: 3.038952\n",
      "         Iterations: 32\n",
      "         Function evaluations: 35\n",
      "         Gradient evaluations: 35\n",
      "Optimization terminated successfully.\n",
      "         Current function value: 3.041909\n",
      "         Iterations: 33\n",
      "         Function evaluations: 36\n",
      "         Gradient evaluations: 36\n",
      "Optimization terminated successfully.\n",
      "         Current function value: 3.041499\n",
      "         Iterations: 35\n",
      "         Function evaluations: 37\n",
      "         Gradient evaluations: 37\n",
      "Optimization terminated successfully.\n",
      "         Current function value: 3.041566\n",
      "         Iterations: 32\n",
      "         Function evaluations: 35\n",
      "         Gradient evaluations: 35\n",
      "Optimization terminated successfully.\n",
      "         Current function value: 3.041138\n",
      "         Iterations: 32\n",
      "         Function evaluations: 35\n",
      "         Gradient evaluations: 35\n",
      "Optimization terminated successfully.\n",
      "         Current function value: 3.039230\n",
      "         Iterations: 32\n",
      "         Function evaluations: 35\n",
      "         Gradient evaluations: 35\n",
      "Optimization terminated successfully.\n",
      "         Current function value: 3.039676\n",
      "         Iterations: 33\n",
      "         Function evaluations: 35\n",
      "         Gradient evaluations: 35\n",
      "Optimization terminated successfully.\n",
      "         Current function value: 3.039500\n",
      "         Iterations: 32\n",
      "         Function evaluations: 35\n",
      "         Gradient evaluations: 35\n",
      "Optimization terminated successfully.\n",
      "         Current function value: 3.043290\n",
      "         Iterations: 32\n",
      "         Function evaluations: 35\n",
      "         Gradient evaluations: 35\n",
      "Optimization terminated successfully.\n",
      "         Current function value: 3.037170\n",
      "         Iterations: 32\n",
      "         Function evaluations: 35\n",
      "         Gradient evaluations: 35\n",
      "Optimization terminated successfully.\n",
      "         Current function value: 3.038952\n",
      "         Iterations: 32\n",
      "         Function evaluations: 35\n",
      "         Gradient evaluations: 35\n",
      "Optimization terminated successfully.\n",
      "         Current function value: 3.041909\n",
      "         Iterations: 33\n",
      "         Function evaluations: 36\n",
      "         Gradient evaluations: 36\n",
      "Optimization terminated successfully.\n",
      "         Current function value: 3.041499\n",
      "         Iterations: 35\n",
      "         Function evaluations: 37\n",
      "         Gradient evaluations: 37\n",
      "Optimization terminated successfully.\n",
      "         Current function value: 3.041566\n",
      "         Iterations: 32\n",
      "         Function evaluations: 35\n",
      "         Gradient evaluations: 35\n",
      "Optimization terminated successfully.\n",
      "         Current function value: 3.041138\n",
      "         Iterations: 32\n",
      "         Function evaluations: 35\n",
      "         Gradient evaluations: 35\n",
      "Optimization terminated successfully.\n",
      "         Current function value: 3.039230\n",
      "         Iterations: 32\n",
      "         Function evaluations: 35\n",
      "         Gradient evaluations: 35\n",
      "Optimization terminated successfully.\n",
      "         Current function value: 3.039676\n",
      "         Iterations: 33\n",
      "         Function evaluations: 35\n",
      "         Gradient evaluations: 35\n",
      "Optimization terminated successfully.\n",
      "         Current function value: 3.039500\n",
      "         Iterations: 32\n",
      "         Function evaluations: 35\n",
      "         Gradient evaluations: 35\n",
      "Optimization terminated successfully.\n",
      "         Current function value: 3.043290\n",
      "         Iterations: 32\n",
      "         Function evaluations: 35\n",
      "         Gradient evaluations: 35\n",
      "Optimization terminated successfully.\n",
      "         Current function value: 3.037170\n",
      "         Iterations: 32\n",
      "         Function evaluations: 35\n",
      "         Gradient evaluations: 35\n",
      "Optimization terminated successfully.\n",
      "         Current function value: 3.038952\n",
      "         Iterations: 32\n",
      "         Function evaluations: 35\n",
      "         Gradient evaluations: 35\n",
      "Optimization terminated successfully.\n",
      "         Current function value: 3.041909\n",
      "         Iterations: 33\n",
      "         Function evaluations: 36\n",
      "         Gradient evaluations: 36\n",
      "Optimization terminated successfully.\n",
      "         Current function value: 3.039042\n",
      "         Iterations: 131\n",
      "         Function evaluations: 134\n",
      "         Gradient evaluations: 134\n",
      "\n",
      "CV RESULTS\n"
     ]
    },
    {
     "name": "stderr",
     "output_type": "stream",
     "text": [
      "Inverting hessian failed, no bse or cov_params available\n"
     ]
    },
    {
     "data": {
      "text/html": [
       "<div>\n",
       "<style scoped>\n",
       "    .dataframe tbody tr th:only-of-type {\n",
       "        vertical-align: middle;\n",
       "    }\n",
       "\n",
       "    .dataframe tbody tr th {\n",
       "        vertical-align: top;\n",
       "    }\n",
       "\n",
       "    .dataframe thead th {\n",
       "        text-align: right;\n",
       "    }\n",
       "</style>\n",
       "<table border=\"1\" class=\"dataframe\">\n",
       "  <thead>\n",
       "    <tr style=\"text-align: right;\">\n",
       "      <th></th>\n",
       "      <th>mae</th>\n",
       "      <th>mse</th>\n",
       "      <th>rmse</th>\n",
       "    </tr>\n",
       "  </thead>\n",
       "  <tbody>\n",
       "    <tr>\n",
       "      <th>Mean</th>\n",
       "      <td>4.437684</td>\n",
       "      <td>33.120362</td>\n",
       "      <td>5.754172</td>\n",
       "    </tr>\n",
       "    <tr>\n",
       "      <th>Standard Deviation</th>\n",
       "      <td>0.067556</td>\n",
       "      <td>1.143151</td>\n",
       "      <td>0.099314</td>\n",
       "    </tr>\n",
       "  </tbody>\n",
       "</table>\n",
       "</div>"
      ],
      "text/plain": [
       "                         mae        mse      rmse\n",
       "Mean                4.437684  33.120362  5.754172\n",
       "Standard Deviation  0.067556   1.143151  0.099314"
      ]
     },
     "metadata": {},
     "output_type": "display_data"
    },
    {
     "name": "stdout",
     "output_type": "stream",
     "text": [
      "\n",
      "TEST RESULTS\n"
     ]
    },
    {
     "data": {
      "text/html": [
       "<div>\n",
       "<style scoped>\n",
       "    .dataframe tbody tr th:only-of-type {\n",
       "        vertical-align: middle;\n",
       "    }\n",
       "\n",
       "    .dataframe tbody tr th {\n",
       "        vertical-align: top;\n",
       "    }\n",
       "\n",
       "    .dataframe thead th {\n",
       "        text-align: right;\n",
       "    }\n",
       "</style>\n",
       "<table border=\"1\" class=\"dataframe\">\n",
       "  <thead>\n",
       "    <tr style=\"text-align: right;\">\n",
       "      <th></th>\n",
       "      <th>mae</th>\n",
       "      <th>mse</th>\n",
       "      <th>rmse</th>\n",
       "    </tr>\n",
       "  </thead>\n",
       "  <tbody>\n",
       "    <tr>\n",
       "      <th>Value</th>\n",
       "      <td>4.452673</td>\n",
       "      <td>33.438505</td>\n",
       "      <td>5.782604</td>\n",
       "    </tr>\n",
       "  </tbody>\n",
       "</table>\n",
       "</div>"
      ],
      "text/plain": [
       "            mae        mse      rmse\n",
       "Value  4.452673  33.438505  5.782604"
      ]
     },
     "metadata": {},
     "output_type": "display_data"
    },
    {
     "name": "stdout",
     "output_type": "stream",
     "text": [
      "\n"
     ]
    }
   ],
   "source": [
    "model = ZINBWrapper\n",
    "metrics_list = ['mae', 'mse', 'rmse']\n",
    "params = {'use_all_covariates_for_inflation': True, 'maxiter': 1000}\n",
    "results_ZINB = regressor_model_pipeline(X_train_eggs, y_train_eggs, X_test_eggs, y_test_eggs, model, metrics_list, params, \n",
    "k=10)"
   ]
  },
  {
   "cell_type": "markdown",
   "metadata": {},
   "source": [
    "### Random Forest Regressor (RFR)"
   ]
  },
  {
   "cell_type": "code",
   "execution_count": 29,
   "metadata": {},
   "outputs": [
    {
     "name": "stdout",
     "output_type": "stream",
     "text": [
      "\n",
      "CV RESULTS\n"
     ]
    },
    {
     "data": {
      "text/html": [
       "<div>\n",
       "<style scoped>\n",
       "    .dataframe tbody tr th:only-of-type {\n",
       "        vertical-align: middle;\n",
       "    }\n",
       "\n",
       "    .dataframe tbody tr th {\n",
       "        vertical-align: top;\n",
       "    }\n",
       "\n",
       "    .dataframe thead th {\n",
       "        text-align: right;\n",
       "    }\n",
       "</style>\n",
       "<table border=\"1\" class=\"dataframe\">\n",
       "  <thead>\n",
       "    <tr style=\"text-align: right;\">\n",
       "      <th></th>\n",
       "      <th>mae</th>\n",
       "      <th>mse</th>\n",
       "      <th>rmse</th>\n",
       "    </tr>\n",
       "  </thead>\n",
       "  <tbody>\n",
       "    <tr>\n",
       "      <th>Mean</th>\n",
       "      <td>4.475994</td>\n",
       "      <td>33.902838</td>\n",
       "      <td>5.821982</td>\n",
       "    </tr>\n",
       "    <tr>\n",
       "      <th>Standard Deviation</th>\n",
       "      <td>0.054819</td>\n",
       "      <td>1.002251</td>\n",
       "      <td>0.085810</td>\n",
       "    </tr>\n",
       "  </tbody>\n",
       "</table>\n",
       "</div>"
      ],
      "text/plain": [
       "                         mae        mse      rmse\n",
       "Mean                4.475994  33.902838  5.821982\n",
       "Standard Deviation  0.054819   1.002251  0.085810"
      ]
     },
     "metadata": {},
     "output_type": "display_data"
    },
    {
     "name": "stdout",
     "output_type": "stream",
     "text": [
      "\n",
      "TEST RESULTS\n"
     ]
    },
    {
     "data": {
      "text/html": [
       "<div>\n",
       "<style scoped>\n",
       "    .dataframe tbody tr th:only-of-type {\n",
       "        vertical-align: middle;\n",
       "    }\n",
       "\n",
       "    .dataframe tbody tr th {\n",
       "        vertical-align: top;\n",
       "    }\n",
       "\n",
       "    .dataframe thead th {\n",
       "        text-align: right;\n",
       "    }\n",
       "</style>\n",
       "<table border=\"1\" class=\"dataframe\">\n",
       "  <thead>\n",
       "    <tr style=\"text-align: right;\">\n",
       "      <th></th>\n",
       "      <th>mae</th>\n",
       "      <th>mse</th>\n",
       "      <th>rmse</th>\n",
       "    </tr>\n",
       "  </thead>\n",
       "  <tbody>\n",
       "    <tr>\n",
       "      <th>Value</th>\n",
       "      <td>4.469461</td>\n",
       "      <td>34.073937</td>\n",
       "      <td>5.837289</td>\n",
       "    </tr>\n",
       "  </tbody>\n",
       "</table>\n",
       "</div>"
      ],
      "text/plain": [
       "            mae        mse      rmse\n",
       "Value  4.469461  34.073937  5.837289"
      ]
     },
     "metadata": {},
     "output_type": "display_data"
    },
    {
     "name": "stdout",
     "output_type": "stream",
     "text": [
      "\n"
     ]
    }
   ],
   "source": [
    "model = RandomForestRegressor\n",
    "metrics_list = ['mae', 'mse', 'rmse']\n",
    "params = {'random_state': 42}\n",
    "results_RFR = regressor_model_pipeline(X_train_eggs, y_train_eggs, X_test_eggs, y_test_eggs, model, metrics_list, params, \n",
    "k=10)"
   ]
  },
  {
   "cell_type": "markdown",
   "metadata": {},
   "source": [
    "### XGBoost Regressor (XGBR)"
   ]
  },
  {
   "cell_type": "code",
   "execution_count": 30,
   "metadata": {},
   "outputs": [
    {
     "name": "stdout",
     "output_type": "stream",
     "text": [
      "\n",
      "CV RESULTS\n"
     ]
    },
    {
     "data": {
      "text/html": [
       "<div>\n",
       "<style scoped>\n",
       "    .dataframe tbody tr th:only-of-type {\n",
       "        vertical-align: middle;\n",
       "    }\n",
       "\n",
       "    .dataframe tbody tr th {\n",
       "        vertical-align: top;\n",
       "    }\n",
       "\n",
       "    .dataframe thead th {\n",
       "        text-align: right;\n",
       "    }\n",
       "</style>\n",
       "<table border=\"1\" class=\"dataframe\">\n",
       "  <thead>\n",
       "    <tr style=\"text-align: right;\">\n",
       "      <th></th>\n",
       "      <th>mae</th>\n",
       "      <th>mse</th>\n",
       "      <th>rmse</th>\n",
       "    </tr>\n",
       "  </thead>\n",
       "  <tbody>\n",
       "    <tr>\n",
       "      <th>Mean</th>\n",
       "      <td>4.456943</td>\n",
       "      <td>33.619267</td>\n",
       "      <td>5.797464</td>\n",
       "    </tr>\n",
       "    <tr>\n",
       "      <th>Standard Deviation</th>\n",
       "      <td>0.061322</td>\n",
       "      <td>1.082189</td>\n",
       "      <td>0.093132</td>\n",
       "    </tr>\n",
       "  </tbody>\n",
       "</table>\n",
       "</div>"
      ],
      "text/plain": [
       "                         mae        mse      rmse\n",
       "Mean                4.456943  33.619267  5.797464\n",
       "Standard Deviation  0.061322   1.082189  0.093132"
      ]
     },
     "metadata": {},
     "output_type": "display_data"
    },
    {
     "name": "stdout",
     "output_type": "stream",
     "text": [
      "\n",
      "TEST RESULTS\n"
     ]
    },
    {
     "data": {
      "text/html": [
       "<div>\n",
       "<style scoped>\n",
       "    .dataframe tbody tr th:only-of-type {\n",
       "        vertical-align: middle;\n",
       "    }\n",
       "\n",
       "    .dataframe tbody tr th {\n",
       "        vertical-align: top;\n",
       "    }\n",
       "\n",
       "    .dataframe thead th {\n",
       "        text-align: right;\n",
       "    }\n",
       "</style>\n",
       "<table border=\"1\" class=\"dataframe\">\n",
       "  <thead>\n",
       "    <tr style=\"text-align: right;\">\n",
       "      <th></th>\n",
       "      <th>mae</th>\n",
       "      <th>mse</th>\n",
       "      <th>rmse</th>\n",
       "    </tr>\n",
       "  </thead>\n",
       "  <tbody>\n",
       "    <tr>\n",
       "      <th>Value</th>\n",
       "      <td>4.452078</td>\n",
       "      <td>33.7589</td>\n",
       "      <td>5.810241</td>\n",
       "    </tr>\n",
       "  </tbody>\n",
       "</table>\n",
       "</div>"
      ],
      "text/plain": [
       "            mae      mse      rmse\n",
       "Value  4.452078  33.7589  5.810241"
      ]
     },
     "metadata": {},
     "output_type": "display_data"
    },
    {
     "name": "stdout",
     "output_type": "stream",
     "text": [
      "\n"
     ]
    }
   ],
   "source": [
    "model = XGBRegressor\n",
    "metrics_list = ['mae', 'mse', 'rmse']\n",
    "params = {'random_state': 42, 'objective':'reg:squarederror'}\n",
    "results_XGBR = regressor_model_pipeline(X_train_eggs, y_train_eggs, X_test_eggs, y_test_eggs, model, metrics_list, params, \n",
    "k=10)"
   ]
  },
  {
   "cell_type": "markdown",
   "metadata": {},
   "source": [
    "### Support Vector Regressor (SVR)"
   ]
  },
  {
   "cell_type": "code",
   "execution_count": 35,
   "metadata": {},
   "outputs": [
    {
     "name": "stdout",
     "output_type": "stream",
     "text": [
      "\n",
      "CV RESULTS\n"
     ]
    },
    {
     "data": {
      "text/html": [
       "<div>\n",
       "<style scoped>\n",
       "    .dataframe tbody tr th:only-of-type {\n",
       "        vertical-align: middle;\n",
       "    }\n",
       "\n",
       "    .dataframe tbody tr th {\n",
       "        vertical-align: top;\n",
       "    }\n",
       "\n",
       "    .dataframe thead th {\n",
       "        text-align: right;\n",
       "    }\n",
       "</style>\n",
       "<table border=\"1\" class=\"dataframe\">\n",
       "  <thead>\n",
       "    <tr style=\"text-align: right;\">\n",
       "      <th></th>\n",
       "      <th>mae</th>\n",
       "      <th>mse</th>\n",
       "      <th>rmse</th>\n",
       "    </tr>\n",
       "  </thead>\n",
       "  <tbody>\n",
       "    <tr>\n",
       "      <th>Mean</th>\n",
       "      <td>4.380949</td>\n",
       "      <td>33.523024</td>\n",
       "      <td>5.789089</td>\n",
       "    </tr>\n",
       "    <tr>\n",
       "      <th>Standard Deviation</th>\n",
       "      <td>0.065306</td>\n",
       "      <td>1.126322</td>\n",
       "      <td>0.097303</td>\n",
       "    </tr>\n",
       "  </tbody>\n",
       "</table>\n",
       "</div>"
      ],
      "text/plain": [
       "                         mae        mse      rmse\n",
       "Mean                4.380949  33.523024  5.789089\n",
       "Standard Deviation  0.065306   1.126322  0.097303"
      ]
     },
     "metadata": {},
     "output_type": "display_data"
    },
    {
     "name": "stdout",
     "output_type": "stream",
     "text": [
      "\n",
      "TEST RESULTS\n"
     ]
    },
    {
     "data": {
      "text/html": [
       "<div>\n",
       "<style scoped>\n",
       "    .dataframe tbody tr th:only-of-type {\n",
       "        vertical-align: middle;\n",
       "    }\n",
       "\n",
       "    .dataframe tbody tr th {\n",
       "        vertical-align: top;\n",
       "    }\n",
       "\n",
       "    .dataframe thead th {\n",
       "        text-align: right;\n",
       "    }\n",
       "</style>\n",
       "<table border=\"1\" class=\"dataframe\">\n",
       "  <thead>\n",
       "    <tr style=\"text-align: right;\">\n",
       "      <th></th>\n",
       "      <th>mae</th>\n",
       "      <th>mse</th>\n",
       "      <th>rmse</th>\n",
       "    </tr>\n",
       "  </thead>\n",
       "  <tbody>\n",
       "    <tr>\n",
       "      <th>Value</th>\n",
       "      <td>4.383379</td>\n",
       "      <td>33.811644</td>\n",
       "      <td>5.814778</td>\n",
       "    </tr>\n",
       "  </tbody>\n",
       "</table>\n",
       "</div>"
      ],
      "text/plain": [
       "            mae        mse      rmse\n",
       "Value  4.383379  33.811644  5.814778"
      ]
     },
     "metadata": {},
     "output_type": "display_data"
    },
    {
     "name": "stdout",
     "output_type": "stream",
     "text": [
      "\n"
     ]
    }
   ],
   "source": [
    "model = SVR\n",
    "metrics_list = ['mae', 'mse', 'rmse']\n",
    "params = {}\n",
    "results_SVR = regressor_model_pipeline(X_train_eggs, y_train_eggs, X_test_eggs, y_test_eggs, model, metrics_list, params, \n",
    "k=10)"
   ]
  },
  {
   "cell_type": "code",
   "execution_count": 42,
   "metadata": {},
   "outputs": [
    {
     "name": "stdout",
     "output_type": "stream",
     "text": [
      "Fitting 10 folds for each of 20 candidates, totalling 200 fits\n",
      "{'C': 1.0, 'epsilon': 1}\n"
     ]
    },
    {
     "data": {
      "text/html": [
       "<style>#sk-container-id-2 {color: black;background-color: white;}#sk-container-id-2 pre{padding: 0;}#sk-container-id-2 div.sk-toggleable {background-color: white;}#sk-container-id-2 label.sk-toggleable__label {cursor: pointer;display: block;width: 100%;margin-bottom: 0;padding: 0.3em;box-sizing: border-box;text-align: center;}#sk-container-id-2 label.sk-toggleable__label-arrow:before {content: \"▸\";float: left;margin-right: 0.25em;color: #696969;}#sk-container-id-2 label.sk-toggleable__label-arrow:hover:before {color: black;}#sk-container-id-2 div.sk-estimator:hover label.sk-toggleable__label-arrow:before {color: black;}#sk-container-id-2 div.sk-toggleable__content {max-height: 0;max-width: 0;overflow: hidden;text-align: left;background-color: #f0f8ff;}#sk-container-id-2 div.sk-toggleable__content pre {margin: 0.2em;color: black;border-radius: 0.25em;background-color: #f0f8ff;}#sk-container-id-2 input.sk-toggleable__control:checked~div.sk-toggleable__content {max-height: 200px;max-width: 100%;overflow: auto;}#sk-container-id-2 input.sk-toggleable__control:checked~label.sk-toggleable__label-arrow:before {content: \"▾\";}#sk-container-id-2 div.sk-estimator input.sk-toggleable__control:checked~label.sk-toggleable__label {background-color: #d4ebff;}#sk-container-id-2 div.sk-label input.sk-toggleable__control:checked~label.sk-toggleable__label {background-color: #d4ebff;}#sk-container-id-2 input.sk-hidden--visually {border: 0;clip: rect(1px 1px 1px 1px);clip: rect(1px, 1px, 1px, 1px);height: 1px;margin: -1px;overflow: hidden;padding: 0;position: absolute;width: 1px;}#sk-container-id-2 div.sk-estimator {font-family: monospace;background-color: #f0f8ff;border: 1px dotted black;border-radius: 0.25em;box-sizing: border-box;margin-bottom: 0.5em;}#sk-container-id-2 div.sk-estimator:hover {background-color: #d4ebff;}#sk-container-id-2 div.sk-parallel-item::after {content: \"\";width: 100%;border-bottom: 1px solid gray;flex-grow: 1;}#sk-container-id-2 div.sk-label:hover label.sk-toggleable__label {background-color: #d4ebff;}#sk-container-id-2 div.sk-serial::before {content: \"\";position: absolute;border-left: 1px solid gray;box-sizing: border-box;top: 0;bottom: 0;left: 50%;z-index: 0;}#sk-container-id-2 div.sk-serial {display: flex;flex-direction: column;align-items: center;background-color: white;padding-right: 0.2em;padding-left: 0.2em;position: relative;}#sk-container-id-2 div.sk-item {position: relative;z-index: 1;}#sk-container-id-2 div.sk-parallel {display: flex;align-items: stretch;justify-content: center;background-color: white;position: relative;}#sk-container-id-2 div.sk-item::before, #sk-container-id-2 div.sk-parallel-item::before {content: \"\";position: absolute;border-left: 1px solid gray;box-sizing: border-box;top: 0;bottom: 0;left: 50%;z-index: -1;}#sk-container-id-2 div.sk-parallel-item {display: flex;flex-direction: column;z-index: 1;position: relative;background-color: white;}#sk-container-id-2 div.sk-parallel-item:first-child::after {align-self: flex-end;width: 50%;}#sk-container-id-2 div.sk-parallel-item:last-child::after {align-self: flex-start;width: 50%;}#sk-container-id-2 div.sk-parallel-item:only-child::after {width: 0;}#sk-container-id-2 div.sk-dashed-wrapped {border: 1px dashed gray;margin: 0 0.4em 0.5em 0.4em;box-sizing: border-box;padding-bottom: 0.4em;background-color: white;}#sk-container-id-2 div.sk-label label {font-family: monospace;font-weight: bold;display: inline-block;line-height: 1.2em;}#sk-container-id-2 div.sk-label-container {text-align: center;}#sk-container-id-2 div.sk-container {/* jupyter's `normalize.less` sets `[hidden] { display: none; }` but bootstrap.min.css set `[hidden] { display: none !important; }` so we also need the `!important` here to be able to override the default hidden behavior on the sphinx rendered scikit-learn.org. See: https://github.com/scikit-learn/scikit-learn/issues/21755 */display: inline-block !important;position: relative;}#sk-container-id-2 div.sk-text-repr-fallback {display: none;}</style><div id=\"sk-container-id-2\" class=\"sk-top-container\"><div class=\"sk-text-repr-fallback\"><pre>GridSearchCV(cv=KFold(n_splits=10, random_state=42, shuffle=True),\n",
       "             estimator=SVR(), n_jobs=-1,\n",
       "             param_grid={&#x27;C&#x27;: [0.001, 0.01, 0.1, 1.0, 10],\n",
       "                         &#x27;epsilon&#x27;: [0.001, 0.01, 0.1, 1]},\n",
       "             scoring=&#x27;neg_mean_squared_error&#x27;, verbose=1)</pre><b>In a Jupyter environment, please rerun this cell to show the HTML representation or trust the notebook. <br />On GitHub, the HTML representation is unable to render, please try loading this page with nbviewer.org.</b></div><div class=\"sk-container\" hidden><div class=\"sk-item sk-dashed-wrapped\"><div class=\"sk-label-container\"><div class=\"sk-label sk-toggleable\"><input class=\"sk-toggleable__control sk-hidden--visually\" id=\"sk-estimator-id-4\" type=\"checkbox\" ><label for=\"sk-estimator-id-4\" class=\"sk-toggleable__label sk-toggleable__label-arrow\">GridSearchCV</label><div class=\"sk-toggleable__content\"><pre>GridSearchCV(cv=KFold(n_splits=10, random_state=42, shuffle=True),\n",
       "             estimator=SVR(), n_jobs=-1,\n",
       "             param_grid={&#x27;C&#x27;: [0.001, 0.01, 0.1, 1.0, 10],\n",
       "                         &#x27;epsilon&#x27;: [0.001, 0.01, 0.1, 1]},\n",
       "             scoring=&#x27;neg_mean_squared_error&#x27;, verbose=1)</pre></div></div></div><div class=\"sk-parallel\"><div class=\"sk-parallel-item\"><div class=\"sk-item\"><div class=\"sk-label-container\"><div class=\"sk-label sk-toggleable\"><input class=\"sk-toggleable__control sk-hidden--visually\" id=\"sk-estimator-id-5\" type=\"checkbox\" ><label for=\"sk-estimator-id-5\" class=\"sk-toggleable__label sk-toggleable__label-arrow\">estimator: SVR</label><div class=\"sk-toggleable__content\"><pre>SVR()</pre></div></div></div><div class=\"sk-serial\"><div class=\"sk-item\"><div class=\"sk-estimator sk-toggleable\"><input class=\"sk-toggleable__control sk-hidden--visually\" id=\"sk-estimator-id-6\" type=\"checkbox\" ><label for=\"sk-estimator-id-6\" class=\"sk-toggleable__label sk-toggleable__label-arrow\">SVR</label><div class=\"sk-toggleable__content\"><pre>SVR()</pre></div></div></div></div></div></div></div></div></div></div>"
      ],
      "text/plain": [
       "GridSearchCV(cv=KFold(n_splits=10, random_state=42, shuffle=True),\n",
       "             estimator=SVR(), n_jobs=-1,\n",
       "             param_grid={'C': [0.001, 0.01, 0.1, 1.0, 10],\n",
       "                         'epsilon': [0.001, 0.01, 0.1, 1]},\n",
       "             scoring='neg_mean_squared_error', verbose=1)"
      ]
     },
     "execution_count": 42,
     "metadata": {},
     "output_type": "execute_result"
    }
   ],
   "source": [
    "param_grid = params = { 'C':[0.001, 0.01, 0.1, 1.0, 10], 'epsilon':[0.001, 0.01, 0.1, 1]}\n",
    "compute_grid_search_regression(SVR(), param_grid, X_train_eggs, y_train_eggs)"
   ]
  },
  {
   "cell_type": "code",
   "execution_count": 16,
   "metadata": {},
   "outputs": [
    {
     "name": "stdout",
     "output_type": "stream",
     "text": [
      "\n",
      "CV RESULTS\n"
     ]
    },
    {
     "data": {
      "text/html": [
       "<div>\n",
       "<style scoped>\n",
       "    .dataframe tbody tr th:only-of-type {\n",
       "        vertical-align: middle;\n",
       "    }\n",
       "\n",
       "    .dataframe tbody tr th {\n",
       "        vertical-align: top;\n",
       "    }\n",
       "\n",
       "    .dataframe thead th {\n",
       "        text-align: right;\n",
       "    }\n",
       "</style>\n",
       "<table border=\"1\" class=\"dataframe\">\n",
       "  <thead>\n",
       "    <tr style=\"text-align: right;\">\n",
       "      <th></th>\n",
       "      <th>mae</th>\n",
       "      <th>mse</th>\n",
       "      <th>rmse</th>\n",
       "    </tr>\n",
       "  </thead>\n",
       "  <tbody>\n",
       "    <tr>\n",
       "      <th>Mean</th>\n",
       "      <td>4.380562</td>\n",
       "      <td>33.48871</td>\n",
       "      <td>5.786081</td>\n",
       "    </tr>\n",
       "    <tr>\n",
       "      <th>Standard Deviation</th>\n",
       "      <td>0.065451</td>\n",
       "      <td>1.15643</td>\n",
       "      <td>0.099869</td>\n",
       "    </tr>\n",
       "  </tbody>\n",
       "</table>\n",
       "</div>"
      ],
      "text/plain": [
       "                         mae       mse      rmse\n",
       "Mean                4.380562  33.48871  5.786081\n",
       "Standard Deviation  0.065451   1.15643  0.099869"
      ]
     },
     "metadata": {},
     "output_type": "display_data"
    },
    {
     "name": "stdout",
     "output_type": "stream",
     "text": [
      "\n",
      "TEST RESULTS\n"
     ]
    },
    {
     "data": {
      "text/html": [
       "<div>\n",
       "<style scoped>\n",
       "    .dataframe tbody tr th:only-of-type {\n",
       "        vertical-align: middle;\n",
       "    }\n",
       "\n",
       "    .dataframe tbody tr th {\n",
       "        vertical-align: top;\n",
       "    }\n",
       "\n",
       "    .dataframe thead th {\n",
       "        text-align: right;\n",
       "    }\n",
       "</style>\n",
       "<table border=\"1\" class=\"dataframe\">\n",
       "  <thead>\n",
       "    <tr style=\"text-align: right;\">\n",
       "      <th></th>\n",
       "      <th>mae</th>\n",
       "      <th>mse</th>\n",
       "      <th>rmse</th>\n",
       "    </tr>\n",
       "  </thead>\n",
       "  <tbody>\n",
       "    <tr>\n",
       "      <th>Value</th>\n",
       "      <td>4.388261</td>\n",
       "      <td>33.877247</td>\n",
       "      <td>5.820416</td>\n",
       "    </tr>\n",
       "  </tbody>\n",
       "</table>\n",
       "</div>"
      ],
      "text/plain": [
       "            mae        mse      rmse\n",
       "Value  4.388261  33.877247  5.820416"
      ]
     },
     "metadata": {},
     "output_type": "display_data"
    },
    {
     "name": "stdout",
     "output_type": "stream",
     "text": [
      "\n"
     ]
    }
   ],
   "source": [
    "model = SVR\n",
    "metrics_list = ['mae', 'mse', 'rmse']\n",
    "params = {'C':1, 'epsilon':1}\n",
    "results_BEST1 = regressor_model_pipeline(X_train_eggs, y_train_eggs, X_test_eggs, y_test_eggs, model, metrics_list, params, \n",
    "k=10)"
   ]
  },
  {
   "cell_type": "markdown",
   "metadata": {},
   "source": [
    "### Multilayer Perceptron Regressor (MLPR)"
   ]
  },
  {
   "cell_type": "code",
   "execution_count": 34,
   "metadata": {},
   "outputs": [
    {
     "name": "stdout",
     "output_type": "stream",
     "text": [
      "\n",
      "CV RESULTS\n"
     ]
    },
    {
     "data": {
      "text/html": [
       "<div>\n",
       "<style scoped>\n",
       "    .dataframe tbody tr th:only-of-type {\n",
       "        vertical-align: middle;\n",
       "    }\n",
       "\n",
       "    .dataframe tbody tr th {\n",
       "        vertical-align: top;\n",
       "    }\n",
       "\n",
       "    .dataframe thead th {\n",
       "        text-align: right;\n",
       "    }\n",
       "</style>\n",
       "<table border=\"1\" class=\"dataframe\">\n",
       "  <thead>\n",
       "    <tr style=\"text-align: right;\">\n",
       "      <th></th>\n",
       "      <th>mae</th>\n",
       "      <th>mse</th>\n",
       "      <th>rmse</th>\n",
       "    </tr>\n",
       "  </thead>\n",
       "  <tbody>\n",
       "    <tr>\n",
       "      <th>Mean</th>\n",
       "      <td>4.418931</td>\n",
       "      <td>33.028264</td>\n",
       "      <td>5.746250</td>\n",
       "    </tr>\n",
       "    <tr>\n",
       "      <th>Standard Deviation</th>\n",
       "      <td>0.067358</td>\n",
       "      <td>1.084488</td>\n",
       "      <td>0.094198</td>\n",
       "    </tr>\n",
       "  </tbody>\n",
       "</table>\n",
       "</div>"
      ],
      "text/plain": [
       "                         mae        mse      rmse\n",
       "Mean                4.418931  33.028264  5.746250\n",
       "Standard Deviation  0.067358   1.084488  0.094198"
      ]
     },
     "metadata": {},
     "output_type": "display_data"
    },
    {
     "name": "stdout",
     "output_type": "stream",
     "text": [
      "\n",
      "TEST RESULTS\n"
     ]
    },
    {
     "data": {
      "text/html": [
       "<div>\n",
       "<style scoped>\n",
       "    .dataframe tbody tr th:only-of-type {\n",
       "        vertical-align: middle;\n",
       "    }\n",
       "\n",
       "    .dataframe tbody tr th {\n",
       "        vertical-align: top;\n",
       "    }\n",
       "\n",
       "    .dataframe thead th {\n",
       "        text-align: right;\n",
       "    }\n",
       "</style>\n",
       "<table border=\"1\" class=\"dataframe\">\n",
       "  <thead>\n",
       "    <tr style=\"text-align: right;\">\n",
       "      <th></th>\n",
       "      <th>mae</th>\n",
       "      <th>mse</th>\n",
       "      <th>rmse</th>\n",
       "    </tr>\n",
       "  </thead>\n",
       "  <tbody>\n",
       "    <tr>\n",
       "      <th>Value</th>\n",
       "      <td>4.429337</td>\n",
       "      <td>33.19538</td>\n",
       "      <td>5.761543</td>\n",
       "    </tr>\n",
       "  </tbody>\n",
       "</table>\n",
       "</div>"
      ],
      "text/plain": [
       "            mae       mse      rmse\n",
       "Value  4.429337  33.19538  5.761543"
      ]
     },
     "metadata": {},
     "output_type": "display_data"
    },
    {
     "name": "stdout",
     "output_type": "stream",
     "text": [
      "\n"
     ]
    }
   ],
   "source": [
    "model = MLPRegressor\n",
    "metrics_list = ['mae', 'mse', 'rmse']\n",
    "params = {'random_state': 42, 'max_iter':1000}\n",
    "results_MLPR = regressor_model_pipeline(X_train_eggs, y_train_eggs, X_test_eggs, y_test_eggs, model, metrics_list, params, \n",
    "k=10)"
   ]
  },
  {
   "cell_type": "markdown",
   "metadata": {},
   "source": [
    "## **STAGE 2 MODELS**"
   ]
  },
  {
   "cell_type": "code",
   "execution_count": 17,
   "metadata": {},
   "outputs": [],
   "source": [
    "X_test_embryos = TEST.drop(['FRESH_EGGS_COLLECTED', 'TOTAL_EMBRYOS_CREATED', 'LIVE_BIRTH_OCCURRENCE'], axis=1)\n",
    "X_test_embryos['FRESH_EGGS_COLLECTED'] = results_BEST1['y_test_pred'].astype(int)\n",
    "X_test_embryos = X_test_embryos.reindex(columns=X_train_embryos.columns)"
   ]
  },
  {
   "cell_type": "code",
   "execution_count": 18,
   "metadata": {},
   "outputs": [
    {
     "name": "stdout",
     "output_type": "stream",
     "text": [
      "5.100104182169966\n",
      "4.0\n",
      "0    0\n",
      "Name: TOTAL_EMBRYOS_CREATED, dtype: int64\n"
     ]
    }
   ],
   "source": [
    "print(y_train_embryos.mean())\n",
    "print(y_train_embryos.median())\n",
    "print(y_train_embryos.mode())"
   ]
  },
  {
   "cell_type": "code",
   "execution_count": 132,
   "metadata": {},
   "outputs": [
    {
     "data": {
      "text/html": [
       "<div>\n",
       "<style scoped>\n",
       "    .dataframe tbody tr th:only-of-type {\n",
       "        vertical-align: middle;\n",
       "    }\n",
       "\n",
       "    .dataframe tbody tr th {\n",
       "        vertical-align: top;\n",
       "    }\n",
       "\n",
       "    .dataframe thead th {\n",
       "        text-align: right;\n",
       "    }\n",
       "</style>\n",
       "<table border=\"1\" class=\"dataframe\">\n",
       "  <thead>\n",
       "    <tr style=\"text-align: right;\">\n",
       "      <th></th>\n",
       "      <th>Coefficient Type</th>\n",
       "      <th>Variable</th>\n",
       "      <th>Coefficient Value</th>\n",
       "      <th>P Value</th>\n",
       "    </tr>\n",
       "  </thead>\n",
       "  <tbody>\n",
       "    <tr>\n",
       "      <th>10</th>\n",
       "      <td>Spearman</td>\n",
       "      <td>PATIENT_AGE_AT_TREATMENT</td>\n",
       "      <td>-0.278</td>\n",
       "      <td>0.000</td>\n",
       "    </tr>\n",
       "    <tr>\n",
       "      <th>5</th>\n",
       "      <td>Rank-Biserial</td>\n",
       "      <td>STIMULATION_USED</td>\n",
       "      <td>0.166</td>\n",
       "      <td>0.000</td>\n",
       "    </tr>\n",
       "    <tr>\n",
       "      <th>8</th>\n",
       "      <td>Rank-Biserial</td>\n",
       "      <td>SPECIFIC_TREATMENT_TYPE_IVF</td>\n",
       "      <td>-0.136</td>\n",
       "      <td>0.000</td>\n",
       "    </tr>\n",
       "    <tr>\n",
       "      <th>1</th>\n",
       "      <td>Rank-Biserial</td>\n",
       "      <td>CAUSE_OF_INFERTILITY__OVULATORY_DISORDER</td>\n",
       "      <td>0.095</td>\n",
       "      <td>0.000</td>\n",
       "    </tr>\n",
       "    <tr>\n",
       "      <th>11</th>\n",
       "      <td>Spearman</td>\n",
       "      <td>TOTAL_NUMBER_OF_PREVIOUS_CYCLES_BOTH_IVF_AND_DI</td>\n",
       "      <td>-0.056</td>\n",
       "      <td>0.000</td>\n",
       "    </tr>\n",
       "    <tr>\n",
       "      <th>2</th>\n",
       "      <td>Rank-Biserial</td>\n",
       "      <td>CAUSE_OF_INFERTILITY__MALE_FACTOR</td>\n",
       "      <td>0.052</td>\n",
       "      <td>0.000</td>\n",
       "    </tr>\n",
       "    <tr>\n",
       "      <th>4</th>\n",
       "      <td>Rank-Biserial</td>\n",
       "      <td>CAUSE_OF_INFERTILITY__ENDOMETRIOSIS</td>\n",
       "      <td>-0.033</td>\n",
       "      <td>0.000</td>\n",
       "    </tr>\n",
       "    <tr>\n",
       "      <th>7</th>\n",
       "      <td>Rank-Biserial</td>\n",
       "      <td>SCREENING</td>\n",
       "      <td>0.029</td>\n",
       "      <td>0.000</td>\n",
       "    </tr>\n",
       "    <tr>\n",
       "      <th>3</th>\n",
       "      <td>Rank-Biserial</td>\n",
       "      <td>CAUSE_OF_INFERTILITY__PATIENT_UNEXPLAINED</td>\n",
       "      <td>0.012</td>\n",
       "      <td>0.031</td>\n",
       "    </tr>\n",
       "    <tr>\n",
       "      <th>0</th>\n",
       "      <td>Rank-Biserial</td>\n",
       "      <td>CAUSE__OF_INFERTILITY__TUBAL_DISEASE</td>\n",
       "      <td>0.007</td>\n",
       "      <td>0.232</td>\n",
       "    </tr>\n",
       "    <tr>\n",
       "      <th>9</th>\n",
       "      <td>Rank-Biserial</td>\n",
       "      <td>PREVIOUS_LIVE_BIRTH_IVF_OR_DI</td>\n",
       "      <td>0.005</td>\n",
       "      <td>0.368</td>\n",
       "    </tr>\n",
       "    <tr>\n",
       "      <th>6</th>\n",
       "      <td>Rank-Biserial</td>\n",
       "      <td>SPERM_FROM</td>\n",
       "      <td>-0.001</td>\n",
       "      <td>0.883</td>\n",
       "    </tr>\n",
       "  </tbody>\n",
       "</table>\n",
       "</div>"
      ],
      "text/plain": [
       "   Coefficient Type                                         Variable  \\\n",
       "10         Spearman                         PATIENT_AGE_AT_TREATMENT   \n",
       "5     Rank-Biserial                                 STIMULATION_USED   \n",
       "8     Rank-Biserial                      SPECIFIC_TREATMENT_TYPE_IVF   \n",
       "1     Rank-Biserial         CAUSE_OF_INFERTILITY__OVULATORY_DISORDER   \n",
       "11         Spearman  TOTAL_NUMBER_OF_PREVIOUS_CYCLES_BOTH_IVF_AND_DI   \n",
       "2     Rank-Biserial                CAUSE_OF_INFERTILITY__MALE_FACTOR   \n",
       "4     Rank-Biserial              CAUSE_OF_INFERTILITY__ENDOMETRIOSIS   \n",
       "7     Rank-Biserial                                        SCREENING   \n",
       "3     Rank-Biserial        CAUSE_OF_INFERTILITY__PATIENT_UNEXPLAINED   \n",
       "0     Rank-Biserial             CAUSE__OF_INFERTILITY__TUBAL_DISEASE   \n",
       "9     Rank-Biserial                    PREVIOUS_LIVE_BIRTH_IVF_OR_DI   \n",
       "6     Rank-Biserial                                       SPERM_FROM   \n",
       "\n",
       "    Coefficient Value  P Value  \n",
       "10             -0.278    0.000  \n",
       "5               0.166    0.000  \n",
       "8              -0.136    0.000  \n",
       "1               0.095    0.000  \n",
       "11             -0.056    0.000  \n",
       "2               0.052    0.000  \n",
       "4              -0.033    0.000  \n",
       "7               0.029    0.000  \n",
       "3               0.012    0.031  \n",
       "0               0.007    0.232  \n",
       "9               0.005    0.368  \n",
       "6              -0.001    0.883  "
      ]
     },
     "metadata": {},
     "output_type": "display_data"
    }
   ],
   "source": [
    "binary_features = ['CAUSE__OF_INFERTILITY__TUBAL_DISEASE',\n",
    "       'CAUSE_OF_INFERTILITY__OVULATORY_DISORDER',\n",
    "       'CAUSE_OF_INFERTILITY__MALE_FACTOR',\n",
    "       'CAUSE_OF_INFERTILITY__PATIENT_UNEXPLAINED',\n",
    "       'CAUSE_OF_INFERTILITY__ENDOMETRIOSIS', 'STIMULATION_USED', 'SPERM_FROM',\n",
    "       'SCREENING', 'SPECIFIC_TREATMENT_TYPE_IVF',\n",
    "       'PREVIOUS_LIVE_BIRTH_IVF_OR_DI']\n",
    "\n",
    "ordinal_features = ['PATIENT_AGE_AT_TREATMENT']\n",
    "\n",
    "count_features = ['TOTAL_NUMBER_OF_PREVIOUS_CYCLES_BOTH_IVF_AND_DI']\n",
    "\n",
    "# Temporary list to store the dictionaries\n",
    "temp_list = []\n",
    "\n",
    "# For binary predictors (Count X Binary)\n",
    "for feature in binary_features:\n",
    "    corr, p_value = scipy.stats.pointbiserialr(X_train_embryos['FRESH_EGGS_COLLECTED'], X_train_embryos[feature])\n",
    "    temp_list.append({'Coefficient Type': 'Rank-Biserial',\n",
    "                              'Variable': feature, 'Coefficient Value': round(corr,3), 'P Value': round(p_value,3)})\n",
    "\n",
    "# For ordinal predictors (Count X Ordinal)\n",
    "for feature in ordinal_features:\n",
    "    corr, p_value = scipy.stats.spearmanr(X_train_embryos['FRESH_EGGS_COLLECTED'], X_train_embryos[feature])\n",
    "    temp_list.append({'Coefficient Type': 'Spearman', \n",
    "                              'Variable': feature, 'Coefficient Value': round(corr,3), 'P Value': round(p_value,3)})\n",
    "\n",
    "# For count predictors (Count X Count)\n",
    "for feature in count_features:\n",
    "    corr, p_value = scipy.stats.spearmanr(X_train_embryos['FRESH_EGGS_COLLECTED'], X_train_embryos[feature])\n",
    "    temp_list.append({'Coefficient Type': 'Spearman', \n",
    "                              'Variable': feature, 'Coefficient Value': round(corr,3), 'P Value': round(p_value,3)})\n",
    "\n",
    "# Create DataFrame from list of dictionaries\n",
    "embryos_created_corr_df = pd.DataFrame(temp_list)\n",
    "\n",
    "# Sort and display the DataFrame\n",
    "embryos_created_corr_df['abs_coefficient'] = embryos_created_corr_df['Coefficient Value'].abs()\n",
    "embryos_created_corr_df.sort_values(by='abs_coefficient', ascending=False, inplace=True)\n",
    "embryos_created_corr_df.drop(columns='abs_coefficient', inplace=True)\n",
    "#cm = sns.diverging_palette(200, 37, as_cmap=True)\n",
    "#display(embryos_created_corr_df.style.background_gradient(cmap = cm, axis=0, subset='Coefficient Value'))\n",
    "\n",
    "display(embryos_created_corr_df)"
   ]
  },
  {
   "cell_type": "markdown",
   "metadata": {},
   "source": [
    "### Zero-inflated Negative binomial (ZINB)"
   ]
  },
  {
   "cell_type": "code",
   "execution_count": 109,
   "metadata": {},
   "outputs": [],
   "source": [
    "# class ZINBWrapper(BaseEstimator, RegressorMixin):\n",
    "#     def __init__(self, use_all_covariates_for_inflation=False, maxiter=100, method='bfgs'):\n",
    "#         self.use_all_covariates_for_inflation = use_all_covariates_for_inflation\n",
    "#         self.maxiter = maxiter\n",
    "#         self.method = method\n",
    "        \n",
    "#     def fit(self, X, y):\n",
    "#         exog_infl = X if self.use_all_covariates_for_inflation else None\n",
    "#         self.model_ = sm.ZeroInflatedNegativeBinomialP(endog=y, exog=X, exog_infl=exog_infl)\n",
    "#         self.result_ = self.model_.fit(maxiter=self.maxiter, method=self.method)\n",
    "#         return self\n",
    "\n",
    "#     def predict(self, X):\n",
    "#         if not hasattr(self, 'result_'):\n",
    "#             raise RuntimeError(\"You must train the model before making predictions!\")\n",
    "        \n",
    "#         return self.result_.predict(exog=X)\n"
   ]
  },
  {
   "cell_type": "code",
   "execution_count": 117,
   "metadata": {},
   "outputs": [
    {
     "name": "stdout",
     "output_type": "stream",
     "text": [
      "Optimization terminated successfully.\n",
      "         Current function value: 2.623264\n",
      "         Iterations: 38\n",
      "         Function evaluations: 40\n",
      "         Gradient evaluations: 40\n",
      "Optimization terminated successfully.\n",
      "         Current function value: 2.624021\n",
      "         Iterations: 31\n",
      "         Function evaluations: 33\n",
      "         Gradient evaluations: 33\n",
      "Optimization terminated successfully.\n",
      "         Current function value: 2.624764\n",
      "         Iterations: 38\n",
      "         Function evaluations: 40\n",
      "         Gradient evaluations: 40\n",
      "Optimization terminated successfully.\n",
      "         Current function value: 2.623068\n",
      "         Iterations: 38\n",
      "         Function evaluations: 40\n",
      "         Gradient evaluations: 40\n",
      "Optimization terminated successfully.\n",
      "         Current function value: 2.622606\n",
      "         Iterations: 38\n",
      "         Function evaluations: 40\n",
      "         Gradient evaluations: 40\n",
      "Optimization terminated successfully.\n",
      "         Current function value: 2.625456\n",
      "         Iterations: 38\n",
      "         Function evaluations: 40\n",
      "         Gradient evaluations: 40\n",
      "Optimization terminated successfully.\n",
      "         Current function value: 2.625273\n",
      "         Iterations: 38\n",
      "         Function evaluations: 40\n",
      "         Gradient evaluations: 40\n",
      "Optimization terminated successfully.\n",
      "         Current function value: 2.622100\n",
      "         Iterations: 38\n",
      "         Function evaluations: 40\n",
      "         Gradient evaluations: 40\n",
      "Optimization terminated successfully.\n",
      "         Current function value: 2.625709\n",
      "         Iterations: 31\n",
      "         Function evaluations: 33\n",
      "         Gradient evaluations: 33\n",
      "Optimization terminated successfully.\n",
      "         Current function value: 2.626452\n",
      "         Iterations: 31\n",
      "         Function evaluations: 33\n",
      "         Gradient evaluations: 33\n",
      "Optimization terminated successfully.\n",
      "         Current function value: 2.623264\n",
      "         Iterations: 38\n",
      "         Function evaluations: 40\n",
      "         Gradient evaluations: 40\n",
      "Optimization terminated successfully.\n",
      "         Current function value: 2.624021\n",
      "         Iterations: 31\n",
      "         Function evaluations: 33\n",
      "         Gradient evaluations: 33\n",
      "Optimization terminated successfully.\n",
      "         Current function value: 2.624764\n",
      "         Iterations: 38\n",
      "         Function evaluations: 40\n",
      "         Gradient evaluations: 40\n",
      "Optimization terminated successfully.\n",
      "         Current function value: 2.623068\n",
      "         Iterations: 38\n",
      "         Function evaluations: 40\n",
      "         Gradient evaluations: 40\n",
      "Optimization terminated successfully.\n",
      "         Current function value: 2.622606\n",
      "         Iterations: 38\n",
      "         Function evaluations: 40\n",
      "         Gradient evaluations: 40\n",
      "Optimization terminated successfully.\n",
      "         Current function value: 2.625456\n",
      "         Iterations: 38\n",
      "         Function evaluations: 40\n",
      "         Gradient evaluations: 40\n",
      "Optimization terminated successfully.\n",
      "         Current function value: 2.625273\n",
      "         Iterations: 38\n",
      "         Function evaluations: 40\n",
      "         Gradient evaluations: 40\n",
      "Optimization terminated successfully.\n",
      "         Current function value: 2.622100\n",
      "         Iterations: 38\n",
      "         Function evaluations: 40\n",
      "         Gradient evaluations: 40\n",
      "Optimization terminated successfully.\n",
      "         Current function value: 2.625709\n",
      "         Iterations: 31\n",
      "         Function evaluations: 33\n",
      "         Gradient evaluations: 33\n",
      "Optimization terminated successfully.\n",
      "         Current function value: 2.626452\n",
      "         Iterations: 31\n",
      "         Function evaluations: 33\n",
      "         Gradient evaluations: 33\n",
      "Optimization terminated successfully.\n",
      "         Current function value: 2.623264\n",
      "         Iterations: 38\n",
      "         Function evaluations: 40\n",
      "         Gradient evaluations: 40\n",
      "Optimization terminated successfully.\n",
      "         Current function value: 2.624021\n",
      "         Iterations: 31\n",
      "         Function evaluations: 33\n",
      "         Gradient evaluations: 33\n",
      "Optimization terminated successfully.\n",
      "         Current function value: 2.624764\n",
      "         Iterations: 38\n",
      "         Function evaluations: 40\n",
      "         Gradient evaluations: 40\n",
      "Optimization terminated successfully.\n",
      "         Current function value: 2.623068\n",
      "         Iterations: 38\n",
      "         Function evaluations: 40\n",
      "         Gradient evaluations: 40\n",
      "Optimization terminated successfully.\n",
      "         Current function value: 2.622606\n",
      "         Iterations: 38\n",
      "         Function evaluations: 40\n",
      "         Gradient evaluations: 40\n",
      "Optimization terminated successfully.\n",
      "         Current function value: 2.625456\n",
      "         Iterations: 38\n",
      "         Function evaluations: 40\n",
      "         Gradient evaluations: 40\n",
      "Optimization terminated successfully.\n",
      "         Current function value: 2.625273\n",
      "         Iterations: 38\n",
      "         Function evaluations: 40\n",
      "         Gradient evaluations: 40\n",
      "Optimization terminated successfully.\n",
      "         Current function value: 2.622100\n",
      "         Iterations: 38\n",
      "         Function evaluations: 40\n",
      "         Gradient evaluations: 40\n",
      "Optimization terminated successfully.\n",
      "         Current function value: 2.625709\n",
      "         Iterations: 31\n",
      "         Function evaluations: 33\n",
      "         Gradient evaluations: 33\n",
      "Optimization terminated successfully.\n",
      "         Current function value: 2.626452\n",
      "         Iterations: 31\n",
      "         Function evaluations: 33\n",
      "         Gradient evaluations: 33\n",
      "Optimization terminated successfully.\n",
      "         Current function value: 2.592825\n",
      "         Iterations: 148\n",
      "         Function evaluations: 150\n",
      "         Gradient evaluations: 150\n",
      "\n",
      "CV RESULTS\n"
     ]
    },
    {
     "name": "stderr",
     "output_type": "stream",
     "text": [
      "Inverting hessian failed, no bse or cov_params available\n"
     ]
    },
    {
     "data": {
      "text/html": [
       "<div>\n",
       "<style scoped>\n",
       "    .dataframe tbody tr th:only-of-type {\n",
       "        vertical-align: middle;\n",
       "    }\n",
       "\n",
       "    .dataframe tbody tr th {\n",
       "        vertical-align: top;\n",
       "    }\n",
       "\n",
       "    .dataframe thead th {\n",
       "        text-align: right;\n",
       "    }\n",
       "</style>\n",
       "<table border=\"1\" class=\"dataframe\">\n",
       "  <thead>\n",
       "    <tr style=\"text-align: right;\">\n",
       "      <th></th>\n",
       "      <th>mae</th>\n",
       "      <th>mse</th>\n",
       "      <th>rmse</th>\n",
       "    </tr>\n",
       "  </thead>\n",
       "  <tbody>\n",
       "    <tr>\n",
       "      <th>Mean</th>\n",
       "      <td>3.064263</td>\n",
       "      <td>15.886449</td>\n",
       "      <td>3.985031</td>\n",
       "    </tr>\n",
       "    <tr>\n",
       "      <th>Standard Deviation</th>\n",
       "      <td>0.045258</td>\n",
       "      <td>0.618038</td>\n",
       "      <td>0.077323</td>\n",
       "    </tr>\n",
       "  </tbody>\n",
       "</table>\n",
       "</div>"
      ],
      "text/plain": [
       "                         mae        mse      rmse\n",
       "Mean                3.064263  15.886449  3.985031\n",
       "Standard Deviation  0.045258   0.618038  0.077323"
      ]
     },
     "metadata": {},
     "output_type": "display_data"
    },
    {
     "name": "stdout",
     "output_type": "stream",
     "text": [
      "\n",
      "TEST RESULTS\n"
     ]
    },
    {
     "data": {
      "text/html": [
       "<div>\n",
       "<style scoped>\n",
       "    .dataframe tbody tr th:only-of-type {\n",
       "        vertical-align: middle;\n",
       "    }\n",
       "\n",
       "    .dataframe tbody tr th {\n",
       "        vertical-align: top;\n",
       "    }\n",
       "\n",
       "    .dataframe thead th {\n",
       "        text-align: right;\n",
       "    }\n",
       "</style>\n",
       "<table border=\"1\" class=\"dataframe\">\n",
       "  <thead>\n",
       "    <tr style=\"text-align: right;\">\n",
       "      <th></th>\n",
       "      <th>mae</th>\n",
       "      <th>mse</th>\n",
       "      <th>rmse</th>\n",
       "    </tr>\n",
       "  </thead>\n",
       "  <tbody>\n",
       "    <tr>\n",
       "      <th>Value</th>\n",
       "      <td>3.017978</td>\n",
       "      <td>15.483748</td>\n",
       "      <td>3.934939</td>\n",
       "    </tr>\n",
       "  </tbody>\n",
       "</table>\n",
       "</div>"
      ],
      "text/plain": [
       "            mae        mse      rmse\n",
       "Value  3.017978  15.483748  3.934939"
      ]
     },
     "metadata": {},
     "output_type": "display_data"
    },
    {
     "name": "stdout",
     "output_type": "stream",
     "text": [
      "\n"
     ]
    }
   ],
   "source": [
    "# ZINB WITHOUT FRESH_EGGS_COLLECTED\n",
    "model = ZINBWrapper\n",
    "metrics_list = ['mae', 'mse', 'rmse']\n",
    "params = {'use_all_covariates_for_inflation': True, 'maxiter': 3000}\n",
    "results_ZINB = regressor_model_pipeline(X_train_embryos.drop(columns=['FRESH_EGGS_COLLECTED'], axis=1), \n",
    "                                        y_train_embryos, X_test_embryos.drop(columns=['FRESH_EGGS_COLLECTED'], axis=1), \n",
    "                                        y_test_embryos, model, metrics_list, params, \n",
    "k=10, standardize=False, columns_to_standardize=['FRESH_EGGS_COLLECTED'])"
   ]
  },
  {
   "cell_type": "markdown",
   "metadata": {},
   "source": [
    "### Random Forest Regressor (RFR)"
   ]
  },
  {
   "cell_type": "code",
   "execution_count": 134,
   "metadata": {},
   "outputs": [
    {
     "name": "stdout",
     "output_type": "stream",
     "text": [
      "\n",
      "CV RESULTS\n"
     ]
    },
    {
     "data": {
      "text/html": [
       "<div>\n",
       "<style scoped>\n",
       "    .dataframe tbody tr th:only-of-type {\n",
       "        vertical-align: middle;\n",
       "    }\n",
       "\n",
       "    .dataframe tbody tr th {\n",
       "        vertical-align: top;\n",
       "    }\n",
       "\n",
       "    .dataframe thead th {\n",
       "        text-align: right;\n",
       "    }\n",
       "</style>\n",
       "<table border=\"1\" class=\"dataframe\">\n",
       "  <thead>\n",
       "    <tr style=\"text-align: right;\">\n",
       "      <th></th>\n",
       "      <th>mae</th>\n",
       "      <th>mse</th>\n",
       "      <th>rmse</th>\n",
       "    </tr>\n",
       "  </thead>\n",
       "  <tbody>\n",
       "    <tr>\n",
       "      <th>Mean</th>\n",
       "      <td>1.674743</td>\n",
       "      <td>6.061881</td>\n",
       "      <td>2.461666</td>\n",
       "    </tr>\n",
       "    <tr>\n",
       "      <th>Standard Deviation</th>\n",
       "      <td>0.025749</td>\n",
       "      <td>0.224613</td>\n",
       "      <td>0.045630</td>\n",
       "    </tr>\n",
       "  </tbody>\n",
       "</table>\n",
       "</div>"
      ],
      "text/plain": [
       "                         mae       mse      rmse\n",
       "Mean                1.674743  6.061881  2.461666\n",
       "Standard Deviation  0.025749  0.224613  0.045630"
      ]
     },
     "metadata": {},
     "output_type": "display_data"
    },
    {
     "name": "stdout",
     "output_type": "stream",
     "text": [
      "\n",
      "TEST RESULTS\n"
     ]
    },
    {
     "data": {
      "text/html": [
       "<div>\n",
       "<style scoped>\n",
       "    .dataframe tbody tr th:only-of-type {\n",
       "        vertical-align: middle;\n",
       "    }\n",
       "\n",
       "    .dataframe tbody tr th {\n",
       "        vertical-align: top;\n",
       "    }\n",
       "\n",
       "    .dataframe thead th {\n",
       "        text-align: right;\n",
       "    }\n",
       "</style>\n",
       "<table border=\"1\" class=\"dataframe\">\n",
       "  <thead>\n",
       "    <tr style=\"text-align: right;\">\n",
       "      <th></th>\n",
       "      <th>mae</th>\n",
       "      <th>mse</th>\n",
       "      <th>rmse</th>\n",
       "    </tr>\n",
       "  </thead>\n",
       "  <tbody>\n",
       "    <tr>\n",
       "      <th>Value</th>\n",
       "      <td>3.083939</td>\n",
       "      <td>16.636742</td>\n",
       "      <td>4.078816</td>\n",
       "    </tr>\n",
       "  </tbody>\n",
       "</table>\n",
       "</div>"
      ],
      "text/plain": [
       "            mae        mse      rmse\n",
       "Value  3.083939  16.636742  4.078816"
      ]
     },
     "metadata": {},
     "output_type": "display_data"
    },
    {
     "name": "stdout",
     "output_type": "stream",
     "text": [
      "\n"
     ]
    }
   ],
   "source": [
    "model = RandomForestRegressor\n",
    "metrics_list = ['mae', 'mse', 'rmse']\n",
    "params = {'random_state': 42}\n",
    "results_RFR = regressor_model_pipeline(X_train_embryos, y_train_embryos, X_test_embryos, y_test_embryos, model, metrics_list, params, \n",
    "k=10)"
   ]
  },
  {
   "cell_type": "markdown",
   "metadata": {},
   "source": [
    "### XGBoost Regressor (XGBR)"
   ]
  },
  {
   "cell_type": "code",
   "execution_count": 138,
   "metadata": {},
   "outputs": [
    {
     "name": "stdout",
     "output_type": "stream",
     "text": [
      "\n",
      "CV RESULTS\n"
     ]
    },
    {
     "data": {
      "text/html": [
       "<div>\n",
       "<style scoped>\n",
       "    .dataframe tbody tr th:only-of-type {\n",
       "        vertical-align: middle;\n",
       "    }\n",
       "\n",
       "    .dataframe tbody tr th {\n",
       "        vertical-align: top;\n",
       "    }\n",
       "\n",
       "    .dataframe thead th {\n",
       "        text-align: right;\n",
       "    }\n",
       "</style>\n",
       "<table border=\"1\" class=\"dataframe\">\n",
       "  <thead>\n",
       "    <tr style=\"text-align: right;\">\n",
       "      <th></th>\n",
       "      <th>mae</th>\n",
       "      <th>mse</th>\n",
       "      <th>rmse</th>\n",
       "    </tr>\n",
       "  </thead>\n",
       "  <tbody>\n",
       "    <tr>\n",
       "      <th>Mean</th>\n",
       "      <td>1.596815</td>\n",
       "      <td>5.557165</td>\n",
       "      <td>2.356821</td>\n",
       "    </tr>\n",
       "    <tr>\n",
       "      <th>Standard Deviation</th>\n",
       "      <td>0.021165</td>\n",
       "      <td>0.240723</td>\n",
       "      <td>0.050596</td>\n",
       "    </tr>\n",
       "  </tbody>\n",
       "</table>\n",
       "</div>"
      ],
      "text/plain": [
       "                         mae       mse      rmse\n",
       "Mean                1.596815  5.557165  2.356821\n",
       "Standard Deviation  0.021165  0.240723  0.050596"
      ]
     },
     "metadata": {},
     "output_type": "display_data"
    },
    {
     "name": "stdout",
     "output_type": "stream",
     "text": [
      "\n",
      "TEST RESULTS\n"
     ]
    },
    {
     "data": {
      "text/html": [
       "<div>\n",
       "<style scoped>\n",
       "    .dataframe tbody tr th:only-of-type {\n",
       "        vertical-align: middle;\n",
       "    }\n",
       "\n",
       "    .dataframe tbody tr th {\n",
       "        vertical-align: top;\n",
       "    }\n",
       "\n",
       "    .dataframe thead th {\n",
       "        text-align: right;\n",
       "    }\n",
       "</style>\n",
       "<table border=\"1\" class=\"dataframe\">\n",
       "  <thead>\n",
       "    <tr style=\"text-align: right;\">\n",
       "      <th></th>\n",
       "      <th>mae</th>\n",
       "      <th>mse</th>\n",
       "      <th>rmse</th>\n",
       "    </tr>\n",
       "  </thead>\n",
       "  <tbody>\n",
       "    <tr>\n",
       "      <th>Value</th>\n",
       "      <td>3.02036</td>\n",
       "      <td>16.004286</td>\n",
       "      <td>4.000536</td>\n",
       "    </tr>\n",
       "  </tbody>\n",
       "</table>\n",
       "</div>"
      ],
      "text/plain": [
       "           mae        mse      rmse\n",
       "Value  3.02036  16.004286  4.000536"
      ]
     },
     "metadata": {},
     "output_type": "display_data"
    },
    {
     "name": "stdout",
     "output_type": "stream",
     "text": [
      "\n"
     ]
    }
   ],
   "source": [
    "model = XGBRegressor\n",
    "metrics_list = ['mae', 'mse', 'rmse']\n",
    "params = {'random_state': 42, 'objective':'reg:squarederror'}\n",
    "results_XGBR = regressor_model_pipeline(X_train_embryos, y_train_embryos, X_test_embryos, y_test_embryos, model, metrics_list, params, \n",
    "k=10)"
   ]
  },
  {
   "cell_type": "markdown",
   "metadata": {},
   "source": [
    "### Support Vector Regressor (SVR)"
   ]
  },
  {
   "cell_type": "code",
   "execution_count": 139,
   "metadata": {},
   "outputs": [
    {
     "name": "stdout",
     "output_type": "stream",
     "text": [
      "\n",
      "CV RESULTS\n"
     ]
    },
    {
     "data": {
      "text/html": [
       "<div>\n",
       "<style scoped>\n",
       "    .dataframe tbody tr th:only-of-type {\n",
       "        vertical-align: middle;\n",
       "    }\n",
       "\n",
       "    .dataframe tbody tr th {\n",
       "        vertical-align: top;\n",
       "    }\n",
       "\n",
       "    .dataframe thead th {\n",
       "        text-align: right;\n",
       "    }\n",
       "</style>\n",
       "<table border=\"1\" class=\"dataframe\">\n",
       "  <thead>\n",
       "    <tr style=\"text-align: right;\">\n",
       "      <th></th>\n",
       "      <th>mae</th>\n",
       "      <th>mse</th>\n",
       "      <th>rmse</th>\n",
       "    </tr>\n",
       "  </thead>\n",
       "  <tbody>\n",
       "    <tr>\n",
       "      <th>Mean</th>\n",
       "      <td>1.561303</td>\n",
       "      <td>5.335787</td>\n",
       "      <td>2.309551</td>\n",
       "    </tr>\n",
       "    <tr>\n",
       "      <th>Standard Deviation</th>\n",
       "      <td>0.020904</td>\n",
       "      <td>0.196539</td>\n",
       "      <td>0.041978</td>\n",
       "    </tr>\n",
       "  </tbody>\n",
       "</table>\n",
       "</div>"
      ],
      "text/plain": [
       "                         mae       mse      rmse\n",
       "Mean                1.561303  5.335787  2.309551\n",
       "Standard Deviation  0.020904  0.196539  0.041978"
      ]
     },
     "metadata": {},
     "output_type": "display_data"
    },
    {
     "name": "stdout",
     "output_type": "stream",
     "text": [
      "\n",
      "TEST RESULTS\n"
     ]
    },
    {
     "data": {
      "text/html": [
       "<div>\n",
       "<style scoped>\n",
       "    .dataframe tbody tr th:only-of-type {\n",
       "        vertical-align: middle;\n",
       "    }\n",
       "\n",
       "    .dataframe tbody tr th {\n",
       "        vertical-align: top;\n",
       "    }\n",
       "\n",
       "    .dataframe thead th {\n",
       "        text-align: right;\n",
       "    }\n",
       "</style>\n",
       "<table border=\"1\" class=\"dataframe\">\n",
       "  <thead>\n",
       "    <tr style=\"text-align: right;\">\n",
       "      <th></th>\n",
       "      <th>mae</th>\n",
       "      <th>mse</th>\n",
       "      <th>rmse</th>\n",
       "    </tr>\n",
       "  </thead>\n",
       "  <tbody>\n",
       "    <tr>\n",
       "      <th>Value</th>\n",
       "      <td>3.038814</td>\n",
       "      <td>16.020836</td>\n",
       "      <td>4.002604</td>\n",
       "    </tr>\n",
       "  </tbody>\n",
       "</table>\n",
       "</div>"
      ],
      "text/plain": [
       "            mae        mse      rmse\n",
       "Value  3.038814  16.020836  4.002604"
      ]
     },
     "metadata": {},
     "output_type": "display_data"
    },
    {
     "name": "stdout",
     "output_type": "stream",
     "text": [
      "\n"
     ]
    }
   ],
   "source": [
    "model = SVR\n",
    "metrics_list = ['mae', 'mse', 'rmse']\n",
    "params = {}\n",
    "results_MLPR = regressor_model_pipeline(X_train_embryos, y_train_embryos, X_test_embryos, y_test_embryos, model, metrics_list, params, \n",
    "k=10)"
   ]
  },
  {
   "cell_type": "code",
   "execution_count": 21,
   "metadata": {},
   "outputs": [
    {
     "name": "stdout",
     "output_type": "stream",
     "text": [
      "Fitting 10 folds for each of 16 candidates, totalling 160 fits\n",
      "{'C': 1.0, 'epsilon': 1}\n"
     ]
    },
    {
     "data": {
      "text/html": [
       "<style>#sk-container-id-3 {color: black;background-color: white;}#sk-container-id-3 pre{padding: 0;}#sk-container-id-3 div.sk-toggleable {background-color: white;}#sk-container-id-3 label.sk-toggleable__label {cursor: pointer;display: block;width: 100%;margin-bottom: 0;padding: 0.3em;box-sizing: border-box;text-align: center;}#sk-container-id-3 label.sk-toggleable__label-arrow:before {content: \"▸\";float: left;margin-right: 0.25em;color: #696969;}#sk-container-id-3 label.sk-toggleable__label-arrow:hover:before {color: black;}#sk-container-id-3 div.sk-estimator:hover label.sk-toggleable__label-arrow:before {color: black;}#sk-container-id-3 div.sk-toggleable__content {max-height: 0;max-width: 0;overflow: hidden;text-align: left;background-color: #f0f8ff;}#sk-container-id-3 div.sk-toggleable__content pre {margin: 0.2em;color: black;border-radius: 0.25em;background-color: #f0f8ff;}#sk-container-id-3 input.sk-toggleable__control:checked~div.sk-toggleable__content {max-height: 200px;max-width: 100%;overflow: auto;}#sk-container-id-3 input.sk-toggleable__control:checked~label.sk-toggleable__label-arrow:before {content: \"▾\";}#sk-container-id-3 div.sk-estimator input.sk-toggleable__control:checked~label.sk-toggleable__label {background-color: #d4ebff;}#sk-container-id-3 div.sk-label input.sk-toggleable__control:checked~label.sk-toggleable__label {background-color: #d4ebff;}#sk-container-id-3 input.sk-hidden--visually {border: 0;clip: rect(1px 1px 1px 1px);clip: rect(1px, 1px, 1px, 1px);height: 1px;margin: -1px;overflow: hidden;padding: 0;position: absolute;width: 1px;}#sk-container-id-3 div.sk-estimator {font-family: monospace;background-color: #f0f8ff;border: 1px dotted black;border-radius: 0.25em;box-sizing: border-box;margin-bottom: 0.5em;}#sk-container-id-3 div.sk-estimator:hover {background-color: #d4ebff;}#sk-container-id-3 div.sk-parallel-item::after {content: \"\";width: 100%;border-bottom: 1px solid gray;flex-grow: 1;}#sk-container-id-3 div.sk-label:hover label.sk-toggleable__label {background-color: #d4ebff;}#sk-container-id-3 div.sk-serial::before {content: \"\";position: absolute;border-left: 1px solid gray;box-sizing: border-box;top: 0;bottom: 0;left: 50%;z-index: 0;}#sk-container-id-3 div.sk-serial {display: flex;flex-direction: column;align-items: center;background-color: white;padding-right: 0.2em;padding-left: 0.2em;position: relative;}#sk-container-id-3 div.sk-item {position: relative;z-index: 1;}#sk-container-id-3 div.sk-parallel {display: flex;align-items: stretch;justify-content: center;background-color: white;position: relative;}#sk-container-id-3 div.sk-item::before, #sk-container-id-3 div.sk-parallel-item::before {content: \"\";position: absolute;border-left: 1px solid gray;box-sizing: border-box;top: 0;bottom: 0;left: 50%;z-index: -1;}#sk-container-id-3 div.sk-parallel-item {display: flex;flex-direction: column;z-index: 1;position: relative;background-color: white;}#sk-container-id-3 div.sk-parallel-item:first-child::after {align-self: flex-end;width: 50%;}#sk-container-id-3 div.sk-parallel-item:last-child::after {align-self: flex-start;width: 50%;}#sk-container-id-3 div.sk-parallel-item:only-child::after {width: 0;}#sk-container-id-3 div.sk-dashed-wrapped {border: 1px dashed gray;margin: 0 0.4em 0.5em 0.4em;box-sizing: border-box;padding-bottom: 0.4em;background-color: white;}#sk-container-id-3 div.sk-label label {font-family: monospace;font-weight: bold;display: inline-block;line-height: 1.2em;}#sk-container-id-3 div.sk-label-container {text-align: center;}#sk-container-id-3 div.sk-container {/* jupyter's `normalize.less` sets `[hidden] { display: none; }` but bootstrap.min.css set `[hidden] { display: none !important; }` so we also need the `!important` here to be able to override the default hidden behavior on the sphinx rendered scikit-learn.org. See: https://github.com/scikit-learn/scikit-learn/issues/21755 */display: inline-block !important;position: relative;}#sk-container-id-3 div.sk-text-repr-fallback {display: none;}</style><div id=\"sk-container-id-3\" class=\"sk-top-container\"><div class=\"sk-text-repr-fallback\"><pre>GridSearchCV(cv=KFold(n_splits=10, random_state=42, shuffle=True),\n",
       "             estimator=SVR(), n_jobs=-1,\n",
       "             param_grid={&#x27;C&#x27;: [0.001, 0.01, 0.1, 1.0],\n",
       "                         &#x27;epsilon&#x27;: [0.001, 0.01, 0.1, 1]},\n",
       "             scoring=&#x27;neg_mean_squared_error&#x27;, verbose=1)</pre><b>In a Jupyter environment, please rerun this cell to show the HTML representation or trust the notebook. <br />On GitHub, the HTML representation is unable to render, please try loading this page with nbviewer.org.</b></div><div class=\"sk-container\" hidden><div class=\"sk-item sk-dashed-wrapped\"><div class=\"sk-label-container\"><div class=\"sk-label sk-toggleable\"><input class=\"sk-toggleable__control sk-hidden--visually\" id=\"sk-estimator-id-7\" type=\"checkbox\" ><label for=\"sk-estimator-id-7\" class=\"sk-toggleable__label sk-toggleable__label-arrow\">GridSearchCV</label><div class=\"sk-toggleable__content\"><pre>GridSearchCV(cv=KFold(n_splits=10, random_state=42, shuffle=True),\n",
       "             estimator=SVR(), n_jobs=-1,\n",
       "             param_grid={&#x27;C&#x27;: [0.001, 0.01, 0.1, 1.0],\n",
       "                         &#x27;epsilon&#x27;: [0.001, 0.01, 0.1, 1]},\n",
       "             scoring=&#x27;neg_mean_squared_error&#x27;, verbose=1)</pre></div></div></div><div class=\"sk-parallel\"><div class=\"sk-parallel-item\"><div class=\"sk-item\"><div class=\"sk-label-container\"><div class=\"sk-label sk-toggleable\"><input class=\"sk-toggleable__control sk-hidden--visually\" id=\"sk-estimator-id-8\" type=\"checkbox\" ><label for=\"sk-estimator-id-8\" class=\"sk-toggleable__label sk-toggleable__label-arrow\">estimator: SVR</label><div class=\"sk-toggleable__content\"><pre>SVR()</pre></div></div></div><div class=\"sk-serial\"><div class=\"sk-item\"><div class=\"sk-estimator sk-toggleable\"><input class=\"sk-toggleable__control sk-hidden--visually\" id=\"sk-estimator-id-9\" type=\"checkbox\" ><label for=\"sk-estimator-id-9\" class=\"sk-toggleable__label sk-toggleable__label-arrow\">SVR</label><div class=\"sk-toggleable__content\"><pre>SVR()</pre></div></div></div></div></div></div></div></div></div></div>"
      ],
      "text/plain": [
       "GridSearchCV(cv=KFold(n_splits=10, random_state=42, shuffle=True),\n",
       "             estimator=SVR(), n_jobs=-1,\n",
       "             param_grid={'C': [0.001, 0.01, 0.1, 1.0],\n",
       "                         'epsilon': [0.001, 0.01, 0.1, 1]},\n",
       "             scoring='neg_mean_squared_error', verbose=1)"
      ]
     },
     "execution_count": 21,
     "metadata": {},
     "output_type": "execute_result"
    }
   ],
   "source": [
    "param_grid = params = { 'C':[0.001, 0.01, 0.1, 1.0], 'epsilon':[0.001, 0.01, 0.1,]}\n",
    "compute_grid_search_regression(SVR(), param_grid, X_train_embryos, y_train_embryos)"
   ]
  },
  {
   "cell_type": "code",
   "execution_count": 19,
   "metadata": {},
   "outputs": [
    {
     "name": "stdout",
     "output_type": "stream",
     "text": [
      "\n",
      "CV RESULTS\n"
     ]
    },
    {
     "data": {
      "text/html": [
       "<div>\n",
       "<style scoped>\n",
       "    .dataframe tbody tr th:only-of-type {\n",
       "        vertical-align: middle;\n",
       "    }\n",
       "\n",
       "    .dataframe tbody tr th {\n",
       "        vertical-align: top;\n",
       "    }\n",
       "\n",
       "    .dataframe thead th {\n",
       "        text-align: right;\n",
       "    }\n",
       "</style>\n",
       "<table border=\"1\" class=\"dataframe\">\n",
       "  <thead>\n",
       "    <tr style=\"text-align: right;\">\n",
       "      <th></th>\n",
       "      <th>mae</th>\n",
       "      <th>mse</th>\n",
       "      <th>rmse</th>\n",
       "    </tr>\n",
       "  </thead>\n",
       "  <tbody>\n",
       "    <tr>\n",
       "      <th>Mean</th>\n",
       "      <td>1.591248</td>\n",
       "      <td>5.352932</td>\n",
       "      <td>2.313271</td>\n",
       "    </tr>\n",
       "    <tr>\n",
       "      <th>Standard Deviation</th>\n",
       "      <td>0.019674</td>\n",
       "      <td>0.193949</td>\n",
       "      <td>0.041353</td>\n",
       "    </tr>\n",
       "  </tbody>\n",
       "</table>\n",
       "</div>"
      ],
      "text/plain": [
       "                         mae       mse      rmse\n",
       "Mean                1.591248  5.352932  2.313271\n",
       "Standard Deviation  0.019674  0.193949  0.041353"
      ]
     },
     "metadata": {},
     "output_type": "display_data"
    },
    {
     "name": "stdout",
     "output_type": "stream",
     "text": [
      "\n",
      "TEST RESULTS\n"
     ]
    },
    {
     "data": {
      "text/html": [
       "<div>\n",
       "<style scoped>\n",
       "    .dataframe tbody tr th:only-of-type {\n",
       "        vertical-align: middle;\n",
       "    }\n",
       "\n",
       "    .dataframe tbody tr th {\n",
       "        vertical-align: top;\n",
       "    }\n",
       "\n",
       "    .dataframe thead th {\n",
       "        text-align: right;\n",
       "    }\n",
       "</style>\n",
       "<table border=\"1\" class=\"dataframe\">\n",
       "  <thead>\n",
       "    <tr style=\"text-align: right;\">\n",
       "      <th></th>\n",
       "      <th>mae</th>\n",
       "      <th>mse</th>\n",
       "      <th>rmse</th>\n",
       "    </tr>\n",
       "  </thead>\n",
       "  <tbody>\n",
       "    <tr>\n",
       "      <th>Value</th>\n",
       "      <td>3.036671</td>\n",
       "      <td>15.988927</td>\n",
       "      <td>3.998616</td>\n",
       "    </tr>\n",
       "  </tbody>\n",
       "</table>\n",
       "</div>"
      ],
      "text/plain": [
       "            mae        mse      rmse\n",
       "Value  3.036671  15.988927  3.998616"
      ]
     },
     "metadata": {},
     "output_type": "display_data"
    },
    {
     "name": "stdout",
     "output_type": "stream",
     "text": [
      "\n"
     ]
    }
   ],
   "source": [
    "model = SVR\n",
    "metrics_list = ['mae', 'mse', 'rmse']\n",
    "params = {'C':1, 'epsilon': 1}\n",
    "results_BEST2 = regressor_model_pipeline(X_train_embryos, y_train_embryos, X_test_embryos, y_test_embryos, model, metrics_list, params, \n",
    "k=10)"
   ]
  },
  {
   "cell_type": "code",
   "execution_count": 54,
   "metadata": {},
   "outputs": [
    {
     "data": {
      "text/plain": [
       "5.0    2419\n",
       "6.0    2179\n",
       "4.0    1492\n",
       "3.0     985\n",
       "7.0     940\n",
       "2.0     208\n",
       "1.0     156\n",
       "8.0      20\n",
       "dtype: int64"
      ]
     },
     "execution_count": 54,
     "metadata": {},
     "output_type": "execute_result"
    }
   ],
   "source": [
    "pd.DataFrame(results_BEST2['y_test_pred']).value_counts()"
   ]
  },
  {
   "cell_type": "code",
   "execution_count": 50,
   "metadata": {},
   "outputs": [
    {
     "data": {
      "text/plain": [
       "Text(0.5, 0, 'Permutation Importance')"
      ]
     },
     "execution_count": 50,
     "metadata": {},
     "output_type": "execute_result"
    },
    {
     "data": {
      "image/png": "[encoded data removed]",
      "text/plain": [
       "<Figure size 640x480 with 1 Axes>"
      ]
     },
     "metadata": {},
     "output_type": "display_data"
    }
   ],
   "source": [
    "svr =  SVR(kernel='rbf', C=1.0, epsilon=1)\n",
    "svr.fit(X_train_embryos, y_train_embryos)\n",
    "\n",
    "perm_importance = permutation_importance(svr, X_train_embryos, y_train_embryos)\n",
    "\n",
    "feature_names = X_train_embryos.columns\n",
    "features = np.array(feature_names)\n",
    "\n",
    "sorted_idx = perm_importance.importances_mean.argsort()\n",
    "plt.barh(features[sorted_idx], perm_importance.importances_mean[sorted_idx])\n",
    "plt.xlabel(\"Permutation Importance\")"
   ]
  },
  {
   "cell_type": "code",
   "execution_count": 51,
   "metadata": {},
   "outputs": [
    {
     "data": {
      "text/plain": [
       "array([2.52594681e-04, 4.55087596e-04, 2.85728031e-04, 6.16589119e-05,\n",
       "       2.36406203e-04, 8.67544948e-04, 1.24033995e-04, 2.94067631e-04,\n",
       "       5.13878867e-04, 1.43205843e+00, 6.01389337e-05, 1.26368666e-02,\n",
       "       2.09476288e-04])"
      ]
     },
     "execution_count": 51,
     "metadata": {},
     "output_type": "execute_result"
    }
   ],
   "source": [
    "perm_importance.importances_mean"
   ]
  },
  {
   "cell_type": "code",
   "execution_count": 52,
   "metadata": {},
   "outputs": [
    {
     "data": {
      "text/plain": [
       "0.9889524423425017"
      ]
     },
     "execution_count": 52,
     "metadata": {},
     "output_type": "execute_result"
    }
   ],
   "source": [
    "1.43205843/perm_importance.importances_mean.sum()"
   ]
  },
  {
   "cell_type": "code",
   "execution_count": 33,
   "metadata": {},
   "outputs": [
    {
     "name": "stdout",
     "output_type": "stream",
     "text": [
      "\n",
      "CV RESULTS\n"
     ]
    },
    {
     "data": {
      "text/html": [
       "<div>\n",
       "<style scoped>\n",
       "    .dataframe tbody tr th:only-of-type {\n",
       "        vertical-align: middle;\n",
       "    }\n",
       "\n",
       "    .dataframe tbody tr th {\n",
       "        vertical-align: top;\n",
       "    }\n",
       "\n",
       "    .dataframe thead th {\n",
       "        text-align: right;\n",
       "    }\n",
       "</style>\n",
       "<table border=\"1\" class=\"dataframe\">\n",
       "  <thead>\n",
       "    <tr style=\"text-align: right;\">\n",
       "      <th></th>\n",
       "      <th>mae</th>\n",
       "      <th>mse</th>\n",
       "      <th>rmse</th>\n",
       "    </tr>\n",
       "  </thead>\n",
       "  <tbody>\n",
       "    <tr>\n",
       "      <th>Mean</th>\n",
       "      <td>1.562286</td>\n",
       "      <td>5.344212</td>\n",
       "      <td>2.311288</td>\n",
       "    </tr>\n",
       "    <tr>\n",
       "      <th>Standard Deviation</th>\n",
       "      <td>0.023287</td>\n",
       "      <td>0.217986</td>\n",
       "      <td>0.046461</td>\n",
       "    </tr>\n",
       "  </tbody>\n",
       "</table>\n",
       "</div>"
      ],
      "text/plain": [
       "                         mae       mse      rmse\n",
       "Mean                1.562286  5.344212  2.311288\n",
       "Standard Deviation  0.023287  0.217986  0.046461"
      ]
     },
     "metadata": {},
     "output_type": "display_data"
    },
    {
     "name": "stdout",
     "output_type": "stream",
     "text": [
      "\n",
      "TEST RESULTS\n"
     ]
    },
    {
     "data": {
      "text/html": [
       "<div>\n",
       "<style scoped>\n",
       "    .dataframe tbody tr th:only-of-type {\n",
       "        vertical-align: middle;\n",
       "    }\n",
       "\n",
       "    .dataframe tbody tr th {\n",
       "        vertical-align: top;\n",
       "    }\n",
       "\n",
       "    .dataframe thead th {\n",
       "        text-align: right;\n",
       "    }\n",
       "</style>\n",
       "<table border=\"1\" class=\"dataframe\">\n",
       "  <thead>\n",
       "    <tr style=\"text-align: right;\">\n",
       "      <th></th>\n",
       "      <th>mae</th>\n",
       "      <th>mse</th>\n",
       "      <th>rmse</th>\n",
       "    </tr>\n",
       "  </thead>\n",
       "  <tbody>\n",
       "    <tr>\n",
       "      <th>Value</th>\n",
       "      <td>3.037385</td>\n",
       "      <td>16.002738</td>\n",
       "      <td>4.000342</td>\n",
       "    </tr>\n",
       "  </tbody>\n",
       "</table>\n",
       "</div>"
      ],
      "text/plain": [
       "            mae        mse      rmse\n",
       "Value  3.037385  16.002738  4.000342"
      ]
     },
     "metadata": {},
     "output_type": "display_data"
    },
    {
     "name": "stdout",
     "output_type": "stream",
     "text": [
      "\n"
     ]
    }
   ],
   "source": [
    "# SVR WITH FRESH EGGS COLLECTED STANDARDISED\n",
    "model = SVR\n",
    "metrics_list = ['mae', 'mse', 'rmse']\n",
    "params = {}\n",
    "results_SVR = regressor_model_pipeline(X_train_embryos, y_train_embryos, X_test_embryos, y_test_embryos, model, metrics_list, params, \n",
    "                                       k=10, standardize=True, columns_to_standardize=['FRESH_EGGS_COLLECTED'])"
   ]
  },
  {
   "cell_type": "code",
   "execution_count": 16,
   "metadata": {},
   "outputs": [
    {
     "name": "stdout",
     "output_type": "stream",
     "text": [
      "\n",
      "CV RESULTS\n"
     ]
    },
    {
     "data": {
      "text/html": [
       "<div>\n",
       "<style scoped>\n",
       "    .dataframe tbody tr th:only-of-type {\n",
       "        vertical-align: middle;\n",
       "    }\n",
       "\n",
       "    .dataframe tbody tr th {\n",
       "        vertical-align: top;\n",
       "    }\n",
       "\n",
       "    .dataframe thead th {\n",
       "        text-align: right;\n",
       "    }\n",
       "</style>\n",
       "<table border=\"1\" class=\"dataframe\">\n",
       "  <thead>\n",
       "    <tr style=\"text-align: right;\">\n",
       "      <th></th>\n",
       "      <th>mae</th>\n",
       "      <th>mse</th>\n",
       "      <th>rmse</th>\n",
       "    </tr>\n",
       "  </thead>\n",
       "  <tbody>\n",
       "    <tr>\n",
       "      <th>Mean</th>\n",
       "      <td>2.978237</td>\n",
       "      <td>16.198511</td>\n",
       "      <td>4.023803</td>\n",
       "    </tr>\n",
       "    <tr>\n",
       "      <th>Standard Deviation</th>\n",
       "      <td>0.050152</td>\n",
       "      <td>0.700380</td>\n",
       "      <td>0.086709</td>\n",
       "    </tr>\n",
       "  </tbody>\n",
       "</table>\n",
       "</div>"
      ],
      "text/plain": [
       "                         mae        mse      rmse\n",
       "Mean                2.978237  16.198511  4.023803\n",
       "Standard Deviation  0.050152   0.700380  0.086709"
      ]
     },
     "metadata": {},
     "output_type": "display_data"
    },
    {
     "name": "stdout",
     "output_type": "stream",
     "text": [
      "\n",
      "TEST RESULTS\n"
     ]
    },
    {
     "data": {
      "text/html": [
       "<div>\n",
       "<style scoped>\n",
       "    .dataframe tbody tr th:only-of-type {\n",
       "        vertical-align: middle;\n",
       "    }\n",
       "\n",
       "    .dataframe tbody tr th {\n",
       "        vertical-align: top;\n",
       "    }\n",
       "\n",
       "    .dataframe thead th {\n",
       "        text-align: right;\n",
       "    }\n",
       "</style>\n",
       "<table border=\"1\" class=\"dataframe\">\n",
       "  <thead>\n",
       "    <tr style=\"text-align: right;\">\n",
       "      <th></th>\n",
       "      <th>mae</th>\n",
       "      <th>mse</th>\n",
       "      <th>rmse</th>\n",
       "    </tr>\n",
       "  </thead>\n",
       "  <tbody>\n",
       "    <tr>\n",
       "      <th>Value</th>\n",
       "      <td>2.97845</td>\n",
       "      <td>16.144779</td>\n",
       "      <td>4.018057</td>\n",
       "    </tr>\n",
       "  </tbody>\n",
       "</table>\n",
       "</div>"
      ],
      "text/plain": [
       "           mae        mse      rmse\n",
       "Value  2.97845  16.144779  4.018057"
      ]
     },
     "metadata": {},
     "output_type": "display_data"
    },
    {
     "name": "stdout",
     "output_type": "stream",
     "text": [
      "\n"
     ]
    }
   ],
   "source": [
    "# SVR WITHOUT FRESH EGGS COLLECTED\n",
    "model = SVR\n",
    "metrics_list = ['mae', 'mse', 'rmse']\n",
    "params = {}\n",
    "results_SVR_WITHOUT = regressor_model_pipeline(X_train_embryos.drop(columns=['FRESH_EGGS_COLLECTED'], axis=1), \n",
    "                                        y_train_embryos, X_test_embryos.drop(columns=['FRESH_EGGS_COLLECTED'], axis=1), \n",
    "                                        y_test_embryos, model, metrics_list, params, \n",
    "k=10)"
   ]
  },
  {
   "cell_type": "markdown",
   "metadata": {},
   "source": [
    "### Multilayer Perceptron Regressor (MLPR)"
   ]
  },
  {
   "cell_type": "code",
   "execution_count": 140,
   "metadata": {},
   "outputs": [
    {
     "name": "stdout",
     "output_type": "stream",
     "text": [
      "\n",
      "CV RESULTS\n"
     ]
    },
    {
     "data": {
      "text/html": [
       "<div>\n",
       "<style scoped>\n",
       "    .dataframe tbody tr th:only-of-type {\n",
       "        vertical-align: middle;\n",
       "    }\n",
       "\n",
       "    .dataframe tbody tr th {\n",
       "        vertical-align: top;\n",
       "    }\n",
       "\n",
       "    .dataframe thead th {\n",
       "        text-align: right;\n",
       "    }\n",
       "</style>\n",
       "<table border=\"1\" class=\"dataframe\">\n",
       "  <thead>\n",
       "    <tr style=\"text-align: right;\">\n",
       "      <th></th>\n",
       "      <th>mae</th>\n",
       "      <th>mse</th>\n",
       "      <th>rmse</th>\n",
       "    </tr>\n",
       "  </thead>\n",
       "  <tbody>\n",
       "    <tr>\n",
       "      <th>Mean</th>\n",
       "      <td>1.573807</td>\n",
       "      <td>5.269530</td>\n",
       "      <td>2.295151</td>\n",
       "    </tr>\n",
       "    <tr>\n",
       "      <th>Standard Deviation</th>\n",
       "      <td>0.026340</td>\n",
       "      <td>0.197571</td>\n",
       "      <td>0.042568</td>\n",
       "    </tr>\n",
       "  </tbody>\n",
       "</table>\n",
       "</div>"
      ],
      "text/plain": [
       "                         mae       mse      rmse\n",
       "Mean                1.573807  5.269530  2.295151\n",
       "Standard Deviation  0.026340  0.197571  0.042568"
      ]
     },
     "metadata": {},
     "output_type": "display_data"
    },
    {
     "name": "stdout",
     "output_type": "stream",
     "text": [
      "\n",
      "TEST RESULTS\n"
     ]
    },
    {
     "data": {
      "text/html": [
       "<div>\n",
       "<style scoped>\n",
       "    .dataframe tbody tr th:only-of-type {\n",
       "        vertical-align: middle;\n",
       "    }\n",
       "\n",
       "    .dataframe tbody tr th {\n",
       "        vertical-align: top;\n",
       "    }\n",
       "\n",
       "    .dataframe thead th {\n",
       "        text-align: right;\n",
       "    }\n",
       "</style>\n",
       "<table border=\"1\" class=\"dataframe\">\n",
       "  <thead>\n",
       "    <tr style=\"text-align: right;\">\n",
       "      <th></th>\n",
       "      <th>mae</th>\n",
       "      <th>mse</th>\n",
       "      <th>rmse</th>\n",
       "    </tr>\n",
       "  </thead>\n",
       "  <tbody>\n",
       "    <tr>\n",
       "      <th>Value</th>\n",
       "      <td>3.023693</td>\n",
       "      <td>15.955709</td>\n",
       "      <td>3.99446</td>\n",
       "    </tr>\n",
       "  </tbody>\n",
       "</table>\n",
       "</div>"
      ],
      "text/plain": [
       "            mae        mse     rmse\n",
       "Value  3.023693  15.955709  3.99446"
      ]
     },
     "metadata": {},
     "output_type": "display_data"
    },
    {
     "name": "stdout",
     "output_type": "stream",
     "text": [
      "\n"
     ]
    }
   ],
   "source": [
    "model = MLPRegressor\n",
    "metrics_list = ['mae', 'mse', 'rmse']\n",
    "params = {'random_state': 42, 'max_iter':1000}\n",
    "results_MLPR = regressor_model_pipeline(X_train_embryos, y_train_embryos, X_test_embryos, y_test_embryos, model, metrics_list, params, \n",
    "k=10)"
   ]
  },
  {
   "cell_type": "markdown",
   "metadata": {},
   "source": [
    "## **STAGE 3 MODELS**"
   ]
  },
  {
   "cell_type": "code",
   "execution_count": 20,
   "metadata": {},
   "outputs": [],
   "source": [
    "X_test_live_birth = TEST.drop(['FRESH_EGGS_COLLECTED', 'TOTAL_EMBRYOS_CREATED', 'LIVE_BIRTH_OCCURRENCE'], axis=1)\n",
    "X_test_live_birth['FRESH_EGGS_COLLECTED'] = results_BEST1['y_test_pred'].astype(int)\n",
    "X_test_live_birth['TOTAL_EMBRYOS_CREATED'] = results_BEST2['y_test_pred'].astype(int)\n",
    "X_test_live_birth = X_test_live_birth.reindex(columns=X_train_live_birth.columns)"
   ]
  },
  {
   "cell_type": "code",
   "execution_count": 21,
   "metadata": {},
   "outputs": [],
   "source": [
    "def log_likelihood(y_true, y_pred):\n",
    "    \"\"\"Calculate the log-likelihood loss between true labels and predicted labels.\n",
    "    \n",
    "    Args:\n",
    "        y_true (numpy.ndarray): Array of true labels (0 or 1). Shape should be (n_samples,).\n",
    "        y_pred (numpy.ndarray): Array of predicted probabilities for being label 1. Shape should be (n_samples,).\n",
    "    \n",
    "    Returns:\n",
    "        float: Negative log-likelihood loss value.\n",
    "    \"\"\"\n",
    "\n",
    "    # To prevent log(0)\n",
    "    epsilon = 1e-7 \n",
    "    y_pred = np.clip(y_pred, epsilon, 1 - epsilon)\n",
    "\n",
    "    # Compute the log likelihood\n",
    "    log_likelihood = y_true * np.log(y_pred) + (1 - y_true) * np.log(1 - y_pred)\n",
    "    return -np.sum(log_likelihood)"
   ]
  },
  {
   "cell_type": "code",
   "execution_count": 22,
   "metadata": {},
   "outputs": [],
   "source": [
    "def find_optimal_threshold(y_true, y_proba):\n",
    "    \"\"\"Find the optimal threshold for binary classification based on ROC curve.\n",
    "\n",
    "    This function computes the Receiver Operating Characteristic (ROC) curve\n",
    "    and then finds the threshold where the difference between True Positive Rate (TPR)\n",
    "    and False Positive Rate (FPR) is maximized.\n",
    "\n",
    "    Args:\n",
    "        y_true (numpy.ndarray): Array of true labels (0 or 1). Shape should be (n_samples,).\n",
    "        y_proba (numpy.ndarray): Array of predicted probabilities for being label 1. Shape should be (n_samples,).\n",
    "\n",
    "    Returns:\n",
    "        float: The optimal threshold for binary classification.\n",
    "    \"\"\"\n",
    "    fpr, tpr, thresholds = roc_curve(y_true, y_proba)\n",
    "    optimal_idx = np.argmax(tpr - fpr)\n",
    "    optimal_threshold = thresholds[optimal_idx]\n",
    "    return optimal_threshold"
   ]
  },
  {
   "cell_type": "code",
   "execution_count": 23,
   "metadata": {},
   "outputs": [],
   "source": [
    "def apply_smote(X_train, y_train):\n",
    "    \"\"\"Apply Synthetic Minority Over-sampling Technique (SMOTE) to training data.\n",
    "    \n",
    "    This function balances the class distribution in the training set by generating\n",
    "    synthetic samples for the minority class using SMOTE.\n",
    "\n",
    "    Args:\n",
    "        X_train (numpy.ndarray or pandas.DataFrame): Training features. Shape should be (n_samples, n_features).\n",
    "        y_train (numpy.ndarray or pandas.Series): Training labels. Shape should be (n_samples,).\n",
    "\n",
    "    Returns:\n",
    "        Tuple[numpy.ndarray, numpy.ndarray]: Resampled training features and labels.\n",
    "        \n",
    "        - X_train_res (numpy.ndarray): Resampled training features. Shape will be (n_resampled_samples, n_features).\n",
    "        - y_train_res (numpy.ndarray): Resampled training labels. Shape will be (n_resampled_samples,).\n",
    "    \"\"\"\n",
    "    sm = SMOTE(random_state=42)\n",
    "    X_train_res, y_train_res = sm.fit_resample(X_train, y_train)\n",
    "    return X_train_res, y_train_res"
   ]
  },
  {
   "cell_type": "code",
   "execution_count": 24,
   "metadata": {},
   "outputs": [],
   "source": [
    "def create_poly_features(df, include_list=['PATIENT_AGE_AT_TREATMENT',\n",
    "       'TOTAL_NUMBER_OF_PREVIOUS_CYCLES_BOTH_IVF_AND_DI'], degree=2):\n",
    "    \"\"\"\n",
    "    Generates polynomial features with coherent names.\n",
    "\n",
    "    Args:\n",
    "        df (DataFrame): A pandas DataFrame containing the features.\n",
    "        include_list (list): List of original features for which squared terms should be included.\n",
    "        degree (int): The degree of the polynomial features. Default is 2.\n",
    "    \n",
    "    Returns:\n",
    "        DataFrame: A new DataFrame with the polynomial features.\n",
    "    \"\"\"\n",
    "    poly = PolynomialFeatures(degree=degree, include_bias=False)\n",
    "    poly_features = poly.fit_transform(df)\n",
    "\n",
    "    # Generate coherent names\n",
    "    poly_feature_names = []\n",
    "    \n",
    "    for d in range(1, degree+1):\n",
    "        comb = combinations_with_replacement(df.columns, d)\n",
    "        for i in list(comb):\n",
    "            if len(set(i)) == 1:  # all elements in the combination are the same\n",
    "                if d == 1: # no need to show power for d=1\n",
    "                    poly_feature_names.append(i[0])\n",
    "                else:\n",
    "                    poly_feature_names.append(i[0] + \"^\" + str(d))\n",
    "            else:\n",
    "                poly_feature_names.append(\" \".join(i))\n",
    "\n",
    "    # Create a new DataFrame\n",
    "    poly_df = pd.DataFrame(poly_features, columns=poly_feature_names, index=df.index)\n",
    "\n",
    "    if include_list is not None:\n",
    "        # List of columns to drop\n",
    "        drop_columns = [col for col in poly_df.columns if \"^\" in col and col.split(\"^\")[0] not in include_list]\n",
    "        poly_df.drop(columns=drop_columns, inplace=True)\n",
    "    \n",
    "    return poly_df"
   ]
  },
  {
   "cell_type": "code",
   "execution_count": 25,
   "metadata": {},
   "outputs": [],
   "source": [
    "def model_pipeline(X_train, y_train, X_test, y_test, model, metrics_list, params={},\n",
    "k=10, stratified=False, AIC=False, smote=False, SHAP=False,\n",
    "optimal_threshold=True, importances=False):\n",
    "\n",
    "    \"\"\"Runs a machine learning model pipeline with various options.\n",
    "\n",
    "    This function constructs a machine learning pipeline with optional techniques such as SMOTE\n",
    "    and stratified k-fold cross-validation. It trains the model, evaluates it with specified metrics,\n",
    "    and can optionally calculate AIC/BIC - to be used when dealing with parametric models, feature \n",
    "    importances, SHAP values, and optimal thresholds.\n",
    "\n",
    "    Args:\n",
    "        X_train (pandas.DataFrame): Training data.\n",
    "        y_train (pandas.Series): Training labels.\n",
    "        X_test (pandas.DataFrame): Test data.\n",
    "        y_test (pandas.Series): Test labels.\n",
    "        model (object): Uninitialized machine learning model.\n",
    "        metrics_list (list of str): List of metrics to evaluate. Must be keys in the 'metrics' dictionary.\n",
    "        params (dict, optional): Parameters to pass to the model. Default is an empty dictionary.\n",
    "        k (int, optional): Number of folds in KFold cross-validation. Default is 10.\n",
    "        stratified (bool, optional): Whether to use StratifiedKFold. Default is True.\n",
    "        AIC (bool, optional): Whether to compute Akaike Information Criterion. Default is False.\n",
    "        smote (bool, optional): Whether to use SMOTE for oversampling. Default is False.\n",
    "        SHAP (bool, optional): Whether to compute SHAP values. Default is False.\n",
    "        optimal_threshold (bool, optional): Whether to find optimal threshold for classification. Default is True.\n",
    "        importances (bool, optional): Whether to compute feature importances. Default is False.\n",
    "\n",
    "    Returns:\n",
    "        dict: Dictionary containing various evaluation results such as cross-validation scores,\n",
    "            test scores, feature importances, and more. The specific keys depend on the input arguments.\n",
    "    \"\"\"\n",
    "    \n",
    "    # Map metric names to functions\n",
    "    metrics = {\n",
    "        'accuracy': balanced_accuracy_score,\n",
    "        'precision': precision_score,\n",
    "        'recall': recall_score,\n",
    "        'f1_score': f1_score,\n",
    "        'auc': roc_auc_score,\n",
    "        }\n",
    "\n",
    "    # Create a pipeline with the specified model and parameters\n",
    "    steps = []\n",
    "    # Check if polynomial features are requested and add to the pipeline if necessary\n",
    "\n",
    "    if smote:\n",
    "        steps.append(('smote', SMOTE()))\n",
    "        \n",
    "    steps.append(('model', model(**params)))\n",
    "    #pipeline = Pipeline(steps)\n",
    "    pipeline = ImbPipeline(steps)\n",
    "\n",
    "    # Initialize KFold cross-validation or Stratified KFold if stratified=True\n",
    "    if stratified:\n",
    "        cv = StratifiedKFold(n_splits=k, shuffle=True, random_state=1)\n",
    "    else:\n",
    "        cv = KFold(n_splits=k, shuffle=True, random_state=1)\n",
    "\n",
    "    # Compute the specified metrics using cross-validation\n",
    "    cv_results = {}\n",
    "    thresholds = []\n",
    "    for metric in metrics_list:\n",
    "        scorer = make_scorer(metrics[metric])\n",
    "        cv_scores = []\n",
    "        for train_index, test_index in cv.split(X_train, y_train):\n",
    "            X_train_fold, X_val_fold = X_train.iloc[train_index], X_train.iloc[test_index]\n",
    "            y_train_fold, y_val_fold = y_train.iloc[train_index], y_train.iloc[test_index]\n",
    "\n",
    "            pipeline.fit(X_train_fold, y_train_fold)\n",
    "\n",
    "            if optimal_threshold and metric != 'auc':\n",
    "                y_train_proba_fold = pipeline.predict_proba(X_train_fold)[:, 1]\n",
    "                threshold = find_optimal_threshold(y_train_fold, y_train_proba_fold)\n",
    "                thresholds.append(threshold)\n",
    "            else:\n",
    "                threshold = 0.5\n",
    "                \n",
    "            y_val_pred_proba = pipeline.predict_proba(X_val_fold)[:, 1]\n",
    "\n",
    "            if metric == 'auc':\n",
    "                cv_scores.append(scorer._score_func(y_val_fold, y_val_pred_proba))\n",
    "            else:\n",
    "                y_val_pred = (y_val_pred_proba >= threshold).astype(int)\n",
    "                cv_scores.append(scorer._score_func(y_val_fold, y_val_pred))\n",
    "\n",
    "        # Calculate confidence intervals\n",
    "        cv_results[metric] = (np.mean(cv_scores), np.std(cv_scores))\n",
    "\n",
    "    cv_results = pd.DataFrame(cv_results, columns=metrics_list).T\n",
    "    cv_results.columns = ['Mean', 'Standard Deviation',]\n",
    "    cv_results = cv_results.T\n",
    "\n",
    "    # Compute the average optimal threshold from cross-validation\n",
    "    avg_threshold = np.mean(thresholds) if thresholds else 0.5\n",
    "    print('Average optimal threshold = ' + str(round(avg_threshold, 3)))\n",
    "\n",
    "    # Fit the model on the full training set\n",
    "    pipeline.fit(X_train, y_train)\n",
    "\n",
    "    # Feature importances\n",
    "    if importances:\n",
    "        feature_importances = []\n",
    "        for train_index, test_index in cv.split(X_train, y_train):\n",
    "            X_train_fold, X_test_fold = X_train.iloc[train_index], X_train.iloc[test_index]\n",
    "            y_train_fold, y_test_fold = y_train.iloc[train_index], y_train.iloc[test_index]\n",
    "\n",
    "            pipeline.fit(X_train_fold, y_train_fold)\n",
    "            fitted_model = pipeline.named_steps['model']\n",
    "\n",
    "            if hasattr(fitted_model, 'feature_importances_'):\n",
    "                fold_importance = fitted_model.feature_importances_\n",
    "            elif hasattr(fitted_model, 'coef_'):\n",
    "                fold_importance = np.abs(fitted_model.coef_[0])\n",
    "            else:\n",
    "                perm_importance = permutation_importance(fitted_model, X_test_fold, y_test_fold)\n",
    "                fold_importance = perm_importance.importances_mean\n",
    "\n",
    "            feature_importances.append(fold_importance)\n",
    "\n",
    "        # Compute mean and standard deviation of feature importances\n",
    "        feature_importances_mean = np.mean(feature_importances, axis=0)\n",
    "        feature_importances_std = np.std(feature_importances, axis=0)\n",
    "        \n",
    "        importances_df = pd.DataFrame({\n",
    "            'feature': X_train.columns,\n",
    "            'importance_mean': feature_importances_mean,\n",
    "            'importance_std': feature_importances_std\n",
    "            })\n",
    "        \n",
    "        # Sort by importance_mean in descending order\n",
    "        importances_df = importances_df.sort_values(by='importance_mean', ascending=False)\n",
    "    \n",
    "    else:\n",
    "        importances_df = pd.DataFrame()\n",
    "\n",
    "    # Compute the specified metrics on the test set\n",
    "    test_results = {}\n",
    "    for metric in metrics_list:\n",
    "        scorer = metrics[metric]\n",
    "        y_test_proba = pipeline.predict_proba(X_test)[:, 1]\n",
    "        if metric == 'auc':\n",
    "            test_score = scorer(y_test, y_test_proba)\n",
    "        else:\n",
    "            y_test_pred = (y_test_proba >= avg_threshold).astype(int)\n",
    "            test_score = scorer(y_test, y_test_pred)\n",
    "        test_results[metric] = test_score\n",
    "\n",
    "    test_results = pd.DataFrame(test_results, index=['Value'], columns=metrics_list).T\n",
    "    test_results = test_results.T\n",
    "\n",
    "    # Compute the confusion matrix on the test set\n",
    "    conf_matrix = confusion_matrix(y_test, y_test_pred) \n",
    "\n",
    "    # Output mean and std of cross-validation scores and test set scores\n",
    "    output = {\n",
    "        'cv_results': cv_results,\n",
    "        'test_results': test_results,\n",
    "        'y_test_pred': y_test_pred,\n",
    "        'y_test_proba': y_test_proba, \n",
    "    }\n",
    "\n",
    "    if AIC:\n",
    "        y_pred_train_prob = pipeline.predict_proba(X_train)[:, 1] # Get predicted probabilities for the positive class\n",
    "        n = X_train.shape[0] # Number of observations\n",
    "        k = len(pipeline.named_steps['model'].coef_[0]) + 1 # Number of parameters in the model, adding 1 for intercept\n",
    "        logL = log_likelihood(y_train, y_pred_train_prob)\n",
    "        aic = 2 * k - 2 * logL\n",
    "        bic = np.log(n) * k - 2 * logL\n",
    "        output['aic'] = aic\n",
    "        print('AIC: '+str(round(aic, 3)))\n",
    "        output['bic'] = bic\n",
    "        print('BIC: '+str(round(bic, 3)))\n",
    "\n",
    "    output['feature_importances'] = importances_df\n",
    "\n",
    "    # Print CV results\n",
    "    print('')\n",
    "    print('CV RESULTS')\n",
    "    display(cv_results)\n",
    "    print('')\n",
    "\n",
    "    #Print Test results\n",
    "    print('TEST RESULTS')\n",
    "    display(test_results)\n",
    "    disp = ConfusionMatrixDisplay(confusion_matrix=conf_matrix, display_labels=['No Live Birth', 'Live Birth'])\n",
    "    disp.plot(cmap=\"Oranges\",  colorbar=False)\n",
    "    plt.title('Test Set Confusion Matrix')\n",
    "    plt.grid(False)\n",
    "    plt.tight_layout()\n",
    "    plt.savefig('confusion_matrix_final.png', bbox_inches='tight', dpi=600)\n",
    "    plt.show()\n",
    "    print('')\n",
    "\n",
    "    #Print Features analysis\n",
    "    if importances:\n",
    "        print('FEATURES ANALYSIS')\n",
    "        display(importances_df.head(20))\n",
    "\n",
    "    if SHAP:\n",
    "        # Compute SHAP values\n",
    "        if hasattr(pipeline.named_steps['model'], 'feature_importances_'):\n",
    "            explainer = shap.TreeExplainer(pipeline.named_steps['model'])\n",
    "            shap_values = explainer.shap_values(X_train)\n",
    "\n",
    "            # Create a SHAP summary plot\n",
    "            shap.summary_plot(shap_values, X_train, plot_size=[20,10], max_display=20)\n",
    "\n",
    "        elif hasattr(pipeline.named_steps['model'], 'coef_'):\n",
    "            explainer = shap.LinearExplainer(pipeline.named_steps['model'], X_train)\n",
    "            shap_values = explainer.shap_values(X_train)\n",
    "\n",
    "            # Create a SHAP summary plot\n",
    "            shap.summary_plot(shap_values, X_train, plot_size=[20,10], max_display=20)\n",
    "\n",
    "    return output"
   ]
  },
  {
   "cell_type": "code",
   "execution_count": 26,
   "metadata": {},
   "outputs": [],
   "source": [
    "def compute_grid_search(model, param_grid, X_train, y_train):\n",
    "    \"\"\"\n",
    "    Perform a grid search on a model using Stratified K-Fold cross-validation.\n",
    "\n",
    "    Args:\n",
    "        model (estimator object): Estimator or model to be used.\n",
    "        param_grid (dict): Dictionary of parameters for grid search.\n",
    "        X_train (array-like or pd.DataFrame): Training data features.\n",
    "        y_train (array-like or pd.Series): Training data labels.\n",
    "    \n",
    "    Returns:\n",
    "        GridSearchCV: Fitted GridSearchCV object.\n",
    "    \"\"\"\n",
    "\n",
    "    skf = StratifiedKFold(n_splits=10, shuffle=True, random_state=42)\n",
    "    \n",
    "    grid_search = GridSearchCV(\n",
    "        estimator=model, \n",
    "        param_grid=param_grid, \n",
    "        cv=skf, \n",
    "        scoring='roc_auc', \n",
    "        verbose=1,  \n",
    "        n_jobs=-1   \n",
    "    )\n",
    "    \n",
    "    # Fit the grid search to the data\n",
    "    grid_search.fit(X_train, y_train)\n",
    "\n",
    "    print(grid_search.best_params_)\n",
    "    \n",
    "    return grid_search\n"
   ]
  },
  {
   "cell_type": "markdown",
   "metadata": {},
   "source": [
    "### Simple Logistic Regression"
   ]
  },
  {
   "cell_type": "code",
   "execution_count": 39,
   "metadata": {},
   "outputs": [
    {
     "name": "stdout",
     "output_type": "stream",
     "text": [
      "Average optimal threshold = 0.461\n",
      "AIC: -42507.102\n",
      "BIC: -42380.77\n",
      "\n",
      "CV RESULTS\n"
     ]
    },
    {
     "data": {
      "text/html": [
       "<div>\n",
       "<style scoped>\n",
       "    .dataframe tbody tr th:only-of-type {\n",
       "        vertical-align: middle;\n",
       "    }\n",
       "\n",
       "    .dataframe tbody tr th {\n",
       "        vertical-align: top;\n",
       "    }\n",
       "\n",
       "    .dataframe thead th {\n",
       "        text-align: right;\n",
       "    }\n",
       "</style>\n",
       "<table border=\"1\" class=\"dataframe\">\n",
       "  <thead>\n",
       "    <tr style=\"text-align: right;\">\n",
       "      <th></th>\n",
       "      <th>accuracy</th>\n",
       "      <th>precision</th>\n",
       "      <th>recall</th>\n",
       "      <th>f1_score</th>\n",
       "      <th>auc</th>\n",
       "    </tr>\n",
       "  </thead>\n",
       "  <tbody>\n",
       "    <tr>\n",
       "      <th>Mean</th>\n",
       "      <td>0.657611</td>\n",
       "      <td>0.388924</td>\n",
       "      <td>0.750914</td>\n",
       "      <td>0.512295</td>\n",
       "      <td>0.703164</td>\n",
       "    </tr>\n",
       "    <tr>\n",
       "      <th>Standard Deviation</th>\n",
       "      <td>0.004793</td>\n",
       "      <td>0.004882</td>\n",
       "      <td>0.021036</td>\n",
       "      <td>0.004977</td>\n",
       "      <td>0.007127</td>\n",
       "    </tr>\n",
       "  </tbody>\n",
       "</table>\n",
       "</div>"
      ],
      "text/plain": [
       "                    accuracy  precision    recall  f1_score       auc\n",
       "Mean                0.657611   0.388924  0.750914  0.512295  0.703164\n",
       "Standard Deviation  0.004793   0.004882  0.021036  0.004977  0.007127"
      ]
     },
     "metadata": {},
     "output_type": "display_data"
    },
    {
     "name": "stdout",
     "output_type": "stream",
     "text": [
      "\n",
      "TEST RESULTS\n"
     ]
    },
    {
     "data": {
      "text/html": [
       "<div>\n",
       "<style scoped>\n",
       "    .dataframe tbody tr th:only-of-type {\n",
       "        vertical-align: middle;\n",
       "    }\n",
       "\n",
       "    .dataframe tbody tr th {\n",
       "        vertical-align: top;\n",
       "    }\n",
       "\n",
       "    .dataframe thead th {\n",
       "        text-align: right;\n",
       "    }\n",
       "</style>\n",
       "<table border=\"1\" class=\"dataframe\">\n",
       "  <thead>\n",
       "    <tr style=\"text-align: right;\">\n",
       "      <th></th>\n",
       "      <th>accuracy</th>\n",
       "      <th>precision</th>\n",
       "      <th>recall</th>\n",
       "      <th>f1_score</th>\n",
       "      <th>auc</th>\n",
       "    </tr>\n",
       "  </thead>\n",
       "  <tbody>\n",
       "    <tr>\n",
       "      <th>Value</th>\n",
       "      <td>0.60104</td>\n",
       "      <td>0.338927</td>\n",
       "      <td>0.722296</td>\n",
       "      <td>0.461365</td>\n",
       "      <td>0.634273</td>\n",
       "    </tr>\n",
       "  </tbody>\n",
       "</table>\n",
       "</div>"
      ],
      "text/plain": [
       "       accuracy  precision    recall  f1_score       auc\n",
       "Value   0.60104   0.338927  0.722296  0.461365  0.634273"
      ]
     },
     "metadata": {},
     "output_type": "display_data"
    },
    {
     "data": {
      "image/png": "[encoded data removed]",
      "text/plain": [
       "<Figure size 640x480 with 1 Axes>"
      ]
     },
     "metadata": {},
     "output_type": "display_data"
    },
    {
     "name": "stdout",
     "output_type": "stream",
     "text": [
      "\n"
     ]
    }
   ],
   "source": [
    "# Simple Logistic Regression\n",
    "model = LogisticRegression\n",
    "metrics_list = ['accuracy', 'precision', 'recall', 'f1_score', 'auc']\n",
    "params = {'max_iter':1000, 'random_state': 42, 'class_weight': 'balanced'}\n",
    "results_LR = model_pipeline(X_train_live_birth, y_train_live_birth, X_test_live_birth, y_test_live_birth, model, metrics_list, params, \n",
    "k=10, stratified=True, AIC=True, smote=False, SHAP=False, optimal_threshold=True)"
   ]
  },
  {
   "cell_type": "markdown",
   "metadata": {},
   "source": [
    "### Squared Logistic Regression"
   ]
  },
  {
   "cell_type": "code",
   "execution_count": 45,
   "metadata": {},
   "outputs": [
    {
     "name": "stdout",
     "output_type": "stream",
     "text": [
      "Average optimal threshold = 0.44\n",
      "AIC: -41050.659\n",
      "BIC: -40040.003\n",
      "\n",
      "CV RESULTS\n"
     ]
    },
    {
     "data": {
      "text/html": [
       "<div>\n",
       "<style scoped>\n",
       "    .dataframe tbody tr th:only-of-type {\n",
       "        vertical-align: middle;\n",
       "    }\n",
       "\n",
       "    .dataframe tbody tr th {\n",
       "        vertical-align: top;\n",
       "    }\n",
       "\n",
       "    .dataframe thead th {\n",
       "        text-align: right;\n",
       "    }\n",
       "</style>\n",
       "<table border=\"1\" class=\"dataframe\">\n",
       "  <thead>\n",
       "    <tr style=\"text-align: right;\">\n",
       "      <th></th>\n",
       "      <th>accuracy</th>\n",
       "      <th>precision</th>\n",
       "      <th>recall</th>\n",
       "      <th>f1_score</th>\n",
       "      <th>auc</th>\n",
       "    </tr>\n",
       "  </thead>\n",
       "  <tbody>\n",
       "    <tr>\n",
       "      <th>Mean</th>\n",
       "      <td>0.661367</td>\n",
       "      <td>0.381104</td>\n",
       "      <td>0.806556</td>\n",
       "      <td>0.517531</td>\n",
       "      <td>0.711659</td>\n",
       "    </tr>\n",
       "    <tr>\n",
       "      <th>Standard Deviation</th>\n",
       "      <td>0.005426</td>\n",
       "      <td>0.006610</td>\n",
       "      <td>0.011415</td>\n",
       "      <td>0.004782</td>\n",
       "      <td>0.006741</td>\n",
       "    </tr>\n",
       "  </tbody>\n",
       "</table>\n",
       "</div>"
      ],
      "text/plain": [
       "                    accuracy  precision    recall  f1_score       auc\n",
       "Mean                0.661367   0.381104  0.806556  0.517531  0.711659\n",
       "Standard Deviation  0.005426   0.006610  0.011415  0.004782  0.006741"
      ]
     },
     "metadata": {},
     "output_type": "display_data"
    },
    {
     "name": "stdout",
     "output_type": "stream",
     "text": [
      "\n",
      "TEST RESULTS\n"
     ]
    },
    {
     "data": {
      "text/html": [
       "<div>\n",
       "<style scoped>\n",
       "    .dataframe tbody tr th:only-of-type {\n",
       "        vertical-align: middle;\n",
       "    }\n",
       "\n",
       "    .dataframe tbody tr th {\n",
       "        vertical-align: top;\n",
       "    }\n",
       "\n",
       "    .dataframe thead th {\n",
       "        text-align: right;\n",
       "    }\n",
       "</style>\n",
       "<table border=\"1\" class=\"dataframe\">\n",
       "  <thead>\n",
       "    <tr style=\"text-align: right;\">\n",
       "      <th></th>\n",
       "      <th>accuracy</th>\n",
       "      <th>precision</th>\n",
       "      <th>recall</th>\n",
       "      <th>f1_score</th>\n",
       "      <th>auc</th>\n",
       "    </tr>\n",
       "  </thead>\n",
       "  <tbody>\n",
       "    <tr>\n",
       "      <th>Value</th>\n",
       "      <td>0.597178</td>\n",
       "      <td>0.322719</td>\n",
       "      <td>0.863576</td>\n",
       "      <td>0.469853</td>\n",
       "      <td>0.636241</td>\n",
       "    </tr>\n",
       "  </tbody>\n",
       "</table>\n",
       "</div>"
      ],
      "text/plain": [
       "       accuracy  precision    recall  f1_score       auc\n",
       "Value  0.597178   0.322719  0.863576  0.469853  0.636241"
      ]
     },
     "metadata": {},
     "output_type": "display_data"
    },
    {
     "data": {
      "image/png": "[encoded data removed]",
      "text/plain": [
       "<Figure size 640x480 with 1 Axes>"
      ]
     },
     "metadata": {},
     "output_type": "display_data"
    },
    {
     "name": "stdout",
     "output_type": "stream",
     "text": [
      "\n"
     ]
    }
   ],
   "source": [
    "# Squared Logistic Regression\n",
    "X_train_poly = create_poly_features(X_train_live_birth)\n",
    "X_test_poly = create_poly_features(X_test_live_birth)\n",
    "model = LogisticRegression\n",
    "metrics_list = ['accuracy', 'precision', 'recall', 'f1_score', 'auc']\n",
    "params = {'max_iter':6000, 'random_state': 42, 'class_weight': 'balanced'}\n",
    "results_LR2 = model_pipeline(X_train_poly, y_train_live_birth, X_test_poly, y_test_live_birth, model, metrics_list, params, \n",
    "k=10, stratified=True, AIC=True, smote=False, SHAP=False, optimal_threshold=True)"
   ]
  },
  {
   "cell_type": "code",
   "execution_count": 61,
   "metadata": {},
   "outputs": [
    {
     "name": "stderr",
     "output_type": "stream",
     "text": [
      "lbfgs failed to converge (status=1):\n",
      "STOP: TOTAL NO. of ITERATIONS REACHED LIMIT.\n",
      "\n",
      "Increase the number of iterations (max_iter) or scale the data as shown in:\n",
      "    https://scikit-learn.org/stable/modules/preprocessing.html\n",
      "Please also refer to the documentation for alternative solver options:\n",
      "    https://scikit-learn.org/stable/modules/linear_model.html#logistic-regression\n"
     ]
    },
    {
     "name": "stdout",
     "output_type": "stream",
     "text": [
      "Average optimal threshold = 0.435\n",
      "AIC: -41050.862\n",
      "BIC: -40040.206\n",
      "\n",
      "CV RESULTS\n"
     ]
    },
    {
     "data": {
      "text/html": [
       "<div>\n",
       "<style scoped>\n",
       "    .dataframe tbody tr th:only-of-type {\n",
       "        vertical-align: middle;\n",
       "    }\n",
       "\n",
       "    .dataframe tbody tr th {\n",
       "        vertical-align: top;\n",
       "    }\n",
       "\n",
       "    .dataframe thead th {\n",
       "        text-align: right;\n",
       "    }\n",
       "</style>\n",
       "<table border=\"1\" class=\"dataframe\">\n",
       "  <thead>\n",
       "    <tr style=\"text-align: right;\">\n",
       "      <th></th>\n",
       "      <th>accuracy</th>\n",
       "      <th>precision</th>\n",
       "      <th>recall</th>\n",
       "      <th>f1_score</th>\n",
       "      <th>auc</th>\n",
       "    </tr>\n",
       "  </thead>\n",
       "  <tbody>\n",
       "    <tr>\n",
       "      <th>Mean</th>\n",
       "      <td>0.660743</td>\n",
       "      <td>0.379975</td>\n",
       "      <td>0.810865</td>\n",
       "      <td>0.515916</td>\n",
       "      <td>0.709067</td>\n",
       "    </tr>\n",
       "    <tr>\n",
       "      <th>Standard Deviation</th>\n",
       "      <td>0.004263</td>\n",
       "      <td>0.004658</td>\n",
       "      <td>0.015094</td>\n",
       "      <td>0.003348</td>\n",
       "      <td>0.006917</td>\n",
       "    </tr>\n",
       "  </tbody>\n",
       "</table>\n",
       "</div>"
      ],
      "text/plain": [
       "                    accuracy  precision    recall  f1_score       auc\n",
       "Mean                0.660743   0.379975  0.810865  0.515916  0.709067\n",
       "Standard Deviation  0.004263   0.004658  0.015094  0.003348  0.006917"
      ]
     },
     "metadata": {},
     "output_type": "display_data"
    },
    {
     "name": "stdout",
     "output_type": "stream",
     "text": [
      "\n",
      "TEST RESULTS\n"
     ]
    },
    {
     "data": {
      "text/html": [
       "<div>\n",
       "<style scoped>\n",
       "    .dataframe tbody tr th:only-of-type {\n",
       "        vertical-align: middle;\n",
       "    }\n",
       "\n",
       "    .dataframe tbody tr th {\n",
       "        vertical-align: top;\n",
       "    }\n",
       "\n",
       "    .dataframe thead th {\n",
       "        text-align: right;\n",
       "    }\n",
       "</style>\n",
       "<table border=\"1\" class=\"dataframe\">\n",
       "  <thead>\n",
       "    <tr style=\"text-align: right;\">\n",
       "      <th></th>\n",
       "      <th>accuracy</th>\n",
       "      <th>precision</th>\n",
       "      <th>recall</th>\n",
       "      <th>f1_score</th>\n",
       "      <th>auc</th>\n",
       "    </tr>\n",
       "  </thead>\n",
       "  <tbody>\n",
       "    <tr>\n",
       "      <th>Value</th>\n",
       "      <td>0.59514</td>\n",
       "      <td>0.321393</td>\n",
       "      <td>0.863576</td>\n",
       "      <td>0.468447</td>\n",
       "      <td>0.636032</td>\n",
       "    </tr>\n",
       "  </tbody>\n",
       "</table>\n",
       "</div>"
      ],
      "text/plain": [
       "       accuracy  precision    recall  f1_score       auc\n",
       "Value   0.59514   0.321393  0.863576  0.468447  0.636032"
      ]
     },
     "metadata": {},
     "output_type": "display_data"
    },
    {
     "data": {
      "image/png": "[encoded data removed]",
      "text/plain": [
       "<Figure size 640x480 with 1 Axes>"
      ]
     },
     "metadata": {},
     "output_type": "display_data"
    },
    {
     "name": "stdout",
     "output_type": "stream",
     "text": [
      "\n"
     ]
    }
   ],
   "source": [
    "# Squared Logistic Regression with SMOTE - Does not improve performance\n",
    "X_train_poly = create_poly_features(X_train_live_birth)\n",
    "X_test_poly = create_poly_features(X_test_live_birth)\n",
    "model = LogisticRegression\n",
    "metrics_list = ['accuracy', 'precision', 'recall', 'f1_score', 'auc']\n",
    "params = {'max_iter':6000, 'random_state': 42, 'class_weight': 'balanced'}\n",
    "results_LR2 = model_pipeline(X_train_poly, y_train_live_birth, X_test_poly, y_test_live_birth, model, metrics_list, params, \n",
    "k=10, stratified=True, AIC=True, smote=True, SHAP=False, optimal_threshold=True)"
   ]
  },
  {
   "cell_type": "code",
   "execution_count": 26,
   "metadata": {},
   "outputs": [
    {
     "name": "stdout",
     "output_type": "stream",
     "text": [
      "Fitting 10 folds for each of 10 candidates, totalling 100 fits\n",
      "{'C': 0.1, 'penalty': 'l1'}\n"
     ]
    }
   ],
   "source": [
    "model = LogisticRegression(solver='saga', max_iter=10000, random_state = 42, class_weight='balanced')\n",
    "\n",
    "# Define the parameter grid for C\n",
    "param_grid = {\n",
    "    'C': [0.001, 0.01, 0.1, 1, 10],\n",
    "    'penalty': ['l1', 'l2']\n",
    "}\n",
    "\n",
    "# Call the compute_grid_search function\n",
    "grid_search_result = compute_grid_search(model, param_grid, X_train_poly, y_train_live_birth)"
   ]
  },
  {
   "cell_type": "code",
   "execution_count": 27,
   "metadata": {},
   "outputs": [
    {
     "name": "stdout",
     "output_type": "stream",
     "text": [
      "Average optimal threshold = 0.459\n",
      "AIC: -41453.016\n",
      "BIC: -40442.36\n",
      "\n",
      "CV RESULTS\n"
     ]
    },
    {
     "data": {
      "text/html": [
       "<div>\n",
       "<style scoped>\n",
       "    .dataframe tbody tr th:only-of-type {\n",
       "        vertical-align: middle;\n",
       "    }\n",
       "\n",
       "    .dataframe tbody tr th {\n",
       "        vertical-align: top;\n",
       "    }\n",
       "\n",
       "    .dataframe thead th {\n",
       "        text-align: right;\n",
       "    }\n",
       "</style>\n",
       "<table border=\"1\" class=\"dataframe\">\n",
       "  <thead>\n",
       "    <tr style=\"text-align: right;\">\n",
       "      <th></th>\n",
       "      <th>accuracy</th>\n",
       "      <th>precision</th>\n",
       "      <th>recall</th>\n",
       "      <th>f1_score</th>\n",
       "      <th>auc</th>\n",
       "    </tr>\n",
       "  </thead>\n",
       "  <tbody>\n",
       "    <tr>\n",
       "      <th>Mean</th>\n",
       "      <td>0.661097</td>\n",
       "      <td>0.383929</td>\n",
       "      <td>0.791099</td>\n",
       "      <td>0.516808</td>\n",
       "      <td>0.710941</td>\n",
       "    </tr>\n",
       "    <tr>\n",
       "      <th>Standard Deviation</th>\n",
       "      <td>0.005594</td>\n",
       "      <td>0.006147</td>\n",
       "      <td>0.021557</td>\n",
       "      <td>0.005384</td>\n",
       "      <td>0.007208</td>\n",
       "    </tr>\n",
       "  </tbody>\n",
       "</table>\n",
       "</div>"
      ],
      "text/plain": [
       "                    accuracy  precision    recall  f1_score       auc\n",
       "Mean                0.661097   0.383929  0.791099  0.516808  0.710941\n",
       "Standard Deviation  0.005594   0.006147  0.021557  0.005384  0.007208"
      ]
     },
     "metadata": {},
     "output_type": "display_data"
    },
    {
     "name": "stdout",
     "output_type": "stream",
     "text": [
      "\n",
      "TEST RESULTS\n"
     ]
    },
    {
     "data": {
      "text/html": [
       "<div>\n",
       "<style scoped>\n",
       "    .dataframe tbody tr th:only-of-type {\n",
       "        vertical-align: middle;\n",
       "    }\n",
       "\n",
       "    .dataframe tbody tr th {\n",
       "        vertical-align: top;\n",
       "    }\n",
       "\n",
       "    .dataframe thead th {\n",
       "        text-align: right;\n",
       "    }\n",
       "</style>\n",
       "<table border=\"1\" class=\"dataframe\">\n",
       "  <thead>\n",
       "    <tr style=\"text-align: right;\">\n",
       "      <th></th>\n",
       "      <th>accuracy</th>\n",
       "      <th>precision</th>\n",
       "      <th>recall</th>\n",
       "      <th>f1_score</th>\n",
       "      <th>auc</th>\n",
       "    </tr>\n",
       "  </thead>\n",
       "  <tbody>\n",
       "    <tr>\n",
       "      <th>Value</th>\n",
       "      <td>0.609053</td>\n",
       "      <td>0.335273</td>\n",
       "      <td>0.814128</td>\n",
       "      <td>0.474952</td>\n",
       "      <td>0.63458</td>\n",
       "    </tr>\n",
       "  </tbody>\n",
       "</table>\n",
       "</div>"
      ],
      "text/plain": [
       "       accuracy  precision    recall  f1_score      auc\n",
       "Value  0.609053   0.335273  0.814128  0.474952  0.63458"
      ]
     },
     "metadata": {},
     "output_type": "display_data"
    },
    {
     "data": {
      "image/png": "[encoded data removed]",
      "text/plain": [
       "<Figure size 640x480 with 1 Axes>"
      ]
     },
     "metadata": {},
     "output_type": "display_data"
    },
    {
     "name": "stdout",
     "output_type": "stream",
     "text": [
      "\n"
     ]
    }
   ],
   "source": [
    "# Squared Logistic Regression\n",
    "X_train_poly = create_poly_features(X_train_live_birth)\n",
    "X_test_poly = create_poly_features(X_test_live_birth)\n",
    "model = LogisticRegression\n",
    "metrics_list = ['accuracy', 'precision', 'recall', 'f1_score', 'auc']\n",
    "params = {'max_iter':6000, 'random_state': 42, 'class_weight': 'balanced', 'penalty':'l1', 'solver':'saga', 'C':0.1, 'n_jobs':-1}\n",
    "results_LR2 = model_pipeline(X_train_poly, y_train_live_birth, X_test_poly, y_test_live_birth, model, metrics_list, params, \n",
    "k=10, stratified=True, AIC=True, smote=False, SHAP=False, optimal_threshold=True, importances=False)"
   ]
  },
  {
   "cell_type": "code",
   "execution_count": 27,
   "metadata": {},
   "outputs": [
    {
     "name": "stdout",
     "output_type": "stream",
     "text": [
      "Average optimal threshold = 0.455\n",
      "AIC: -41479.901\n",
      "BIC: -40553.467\n",
      "\n",
      "CV RESULTS\n"
     ]
    },
    {
     "data": {
      "text/html": [
       "<div>\n",
       "<style scoped>\n",
       "    .dataframe tbody tr th:only-of-type {\n",
       "        vertical-align: middle;\n",
       "    }\n",
       "\n",
       "    .dataframe tbody tr th {\n",
       "        vertical-align: top;\n",
       "    }\n",
       "\n",
       "    .dataframe thead th {\n",
       "        text-align: right;\n",
       "    }\n",
       "</style>\n",
       "<table border=\"1\" class=\"dataframe\">\n",
       "  <thead>\n",
       "    <tr style=\"text-align: right;\">\n",
       "      <th></th>\n",
       "      <th>accuracy</th>\n",
       "      <th>precision</th>\n",
       "      <th>recall</th>\n",
       "      <th>f1_score</th>\n",
       "      <th>auc</th>\n",
       "    </tr>\n",
       "  </thead>\n",
       "  <tbody>\n",
       "    <tr>\n",
       "      <th>Mean</th>\n",
       "      <td>0.660870</td>\n",
       "      <td>0.382383</td>\n",
       "      <td>0.797167</td>\n",
       "      <td>0.516693</td>\n",
       "      <td>0.710884</td>\n",
       "    </tr>\n",
       "    <tr>\n",
       "      <th>Standard Deviation</th>\n",
       "      <td>0.005255</td>\n",
       "      <td>0.004142</td>\n",
       "      <td>0.025084</td>\n",
       "      <td>0.005324</td>\n",
       "      <td>0.007288</td>\n",
       "    </tr>\n",
       "  </tbody>\n",
       "</table>\n",
       "</div>"
      ],
      "text/plain": [
       "                    accuracy  precision    recall  f1_score       auc\n",
       "Mean                0.660870   0.382383  0.797167  0.516693  0.710884\n",
       "Standard Deviation  0.005255   0.004142  0.025084  0.005324  0.007288"
      ]
     },
     "metadata": {},
     "output_type": "display_data"
    },
    {
     "name": "stdout",
     "output_type": "stream",
     "text": [
      "\n",
      "TEST RESULTS\n"
     ]
    },
    {
     "data": {
      "text/html": [
       "<div>\n",
       "<style scoped>\n",
       "    .dataframe tbody tr th:only-of-type {\n",
       "        vertical-align: middle;\n",
       "    }\n",
       "\n",
       "    .dataframe tbody tr th {\n",
       "        vertical-align: top;\n",
       "    }\n",
       "\n",
       "    .dataframe thead th {\n",
       "        text-align: right;\n",
       "    }\n",
       "</style>\n",
       "<table border=\"1\" class=\"dataframe\">\n",
       "  <thead>\n",
       "    <tr style=\"text-align: right;\">\n",
       "      <th></th>\n",
       "      <th>accuracy</th>\n",
       "      <th>precision</th>\n",
       "      <th>recall</th>\n",
       "      <th>f1_score</th>\n",
       "      <th>auc</th>\n",
       "    </tr>\n",
       "  </thead>\n",
       "  <tbody>\n",
       "    <tr>\n",
       "      <th>Value</th>\n",
       "      <td>0.608071</td>\n",
       "      <td>0.334236</td>\n",
       "      <td>0.817219</td>\n",
       "      <td>0.474433</td>\n",
       "      <td>0.634686</td>\n",
       "    </tr>\n",
       "  </tbody>\n",
       "</table>\n",
       "</div>"
      ],
      "text/plain": [
       "       accuracy  precision    recall  f1_score       auc\n",
       "Value  0.608071   0.334236  0.817219  0.474433  0.634686"
      ]
     },
     "metadata": {},
     "output_type": "display_data"
    },
    {
     "data": {
      "image/png": "[encoded data removed]",
      "text/plain": [
       "<Figure size 640x480 with 1 Axes>"
      ]
     },
     "metadata": {},
     "output_type": "display_data"
    },
    {
     "name": "stdout",
     "output_type": "stream",
     "text": [
      "\n",
      "FEATURES ANALYSIS\n"
     ]
    },
    {
     "data": {
      "text/html": [
       "<div>\n",
       "<style scoped>\n",
       "    .dataframe tbody tr th:only-of-type {\n",
       "        vertical-align: middle;\n",
       "    }\n",
       "\n",
       "    .dataframe tbody tr th {\n",
       "        vertical-align: top;\n",
       "    }\n",
       "\n",
       "    .dataframe thead th {\n",
       "        text-align: right;\n",
       "    }\n",
       "</style>\n",
       "<table border=\"1\" class=\"dataframe\">\n",
       "  <thead>\n",
       "    <tr style=\"text-align: right;\">\n",
       "      <th></th>\n",
       "      <th>feature</th>\n",
       "      <th>importance_mean</th>\n",
       "      <th>importance_std</th>\n",
       "    </tr>\n",
       "  </thead>\n",
       "  <tbody>\n",
       "    <tr>\n",
       "      <th>88</th>\n",
       "      <td>STIMULATION_USED TOTAL_EMBRYOS_CREATED</td>\n",
       "      <td>0.148154</td>\n",
       "      <td>0.003189</td>\n",
       "    </tr>\n",
       "    <tr>\n",
       "      <th>10</th>\n",
       "      <td>TOTAL_EMBRYOS_CREATED</td>\n",
       "      <td>0.117707</td>\n",
       "      <td>0.004488</td>\n",
       "    </tr>\n",
       "    <tr>\n",
       "      <th>0</th>\n",
       "      <td>PATIENT_AGE_AT_TREATMENT</td>\n",
       "      <td>0.113284</td>\n",
       "      <td>0.002453</td>\n",
       "    </tr>\n",
       "    <tr>\n",
       "      <th>7</th>\n",
       "      <td>STIMULATION_USED</td>\n",
       "      <td>0.103790</td>\n",
       "      <td>0.003805</td>\n",
       "    </tr>\n",
       "    <tr>\n",
       "      <th>12</th>\n",
       "      <td>SPECIFIC_TREATMENT_TYPE_IVF</td>\n",
       "      <td>0.100346</td>\n",
       "      <td>0.005296</td>\n",
       "    </tr>\n",
       "    <tr>\n",
       "      <th>90</th>\n",
       "      <td>STIMULATION_USED SPECIFIC_TREATMENT_TYPE_IVF</td>\n",
       "      <td>0.094895</td>\n",
       "      <td>0.004692</td>\n",
       "    </tr>\n",
       "    <tr>\n",
       "      <th>26</th>\n",
       "      <td>PATIENT_AGE_AT_TREATMENT SPECIFIC_TREATMENT_TY...</td>\n",
       "      <td>0.066196</td>\n",
       "      <td>0.005616</td>\n",
       "    </tr>\n",
       "    <tr>\n",
       "      <th>21</th>\n",
       "      <td>PATIENT_AGE_AT_TREATMENT STIMULATION_USED</td>\n",
       "      <td>0.058560</td>\n",
       "      <td>0.003659</td>\n",
       "    </tr>\n",
       "    <tr>\n",
       "      <th>14</th>\n",
       "      <td>PATIENT_AGE_AT_TREATMENT^2</td>\n",
       "      <td>0.058237</td>\n",
       "      <td>0.001219</td>\n",
       "    </tr>\n",
       "    <tr>\n",
       "      <th>1</th>\n",
       "      <td>TOTAL_NUMBER_OF_PREVIOUS_CYCLES_BOTH_IVF_AND_DI</td>\n",
       "      <td>0.049867</td>\n",
       "      <td>0.005528</td>\n",
       "    </tr>\n",
       "    <tr>\n",
       "      <th>69</th>\n",
       "      <td>CAUSE_OF_INFERTILITY__MALE_FACTOR SPECIFIC_TRE...</td>\n",
       "      <td>0.049577</td>\n",
       "      <td>0.002882</td>\n",
       "    </tr>\n",
       "    <tr>\n",
       "      <th>4</th>\n",
       "      <td>CAUSE_OF_INFERTILITY__MALE_FACTOR</td>\n",
       "      <td>0.043446</td>\n",
       "      <td>0.001638</td>\n",
       "    </tr>\n",
       "    <tr>\n",
       "      <th>40</th>\n",
       "      <td>TOTAL_NUMBER_OF_PREVIOUS_CYCLES_BOTH_IVF_AND_D...</td>\n",
       "      <td>0.041765</td>\n",
       "      <td>0.004479</td>\n",
       "    </tr>\n",
       "    <tr>\n",
       "      <th>35</th>\n",
       "      <td>TOTAL_NUMBER_OF_PREVIOUS_CYCLES_BOTH_IVF_AND_D...</td>\n",
       "      <td>0.037906</td>\n",
       "      <td>0.004423</td>\n",
       "    </tr>\n",
       "    <tr>\n",
       "      <th>64</th>\n",
       "      <td>CAUSE_OF_INFERTILITY__MALE_FACTOR STIMULATION_...</td>\n",
       "      <td>0.035453</td>\n",
       "      <td>0.001906</td>\n",
       "    </tr>\n",
       "    <tr>\n",
       "      <th>104</th>\n",
       "      <td>TOTAL_EMBRYOS_CREATED SPECIFIC_TREATMENT_TYPE_IVF</td>\n",
       "      <td>0.032261</td>\n",
       "      <td>0.002942</td>\n",
       "    </tr>\n",
       "    <tr>\n",
       "      <th>67</th>\n",
       "      <td>CAUSE_OF_INFERTILITY__MALE_FACTOR TOTAL_EMBRYO...</td>\n",
       "      <td>0.026943</td>\n",
       "      <td>0.005084</td>\n",
       "    </tr>\n",
       "    <tr>\n",
       "      <th>60</th>\n",
       "      <td>CAUSE_OF_INFERTILITY__OVULATORY_DISORDER SPECI...</td>\n",
       "      <td>0.026586</td>\n",
       "      <td>0.003345</td>\n",
       "    </tr>\n",
       "    <tr>\n",
       "      <th>82</th>\n",
       "      <td>CAUSE_OF_INFERTILITY__ENDOMETRIOSIS TOTAL_EMBR...</td>\n",
       "      <td>0.025397</td>\n",
       "      <td>0.005337</td>\n",
       "    </tr>\n",
       "    <tr>\n",
       "      <th>17</th>\n",
       "      <td>PATIENT_AGE_AT_TREATMENT CAUSE_OF_INFERTILITY_...</td>\n",
       "      <td>0.022239</td>\n",
       "      <td>0.005430</td>\n",
       "    </tr>\n",
       "  </tbody>\n",
       "</table>\n",
       "</div>"
      ],
      "text/plain": [
       "                                               feature  importance_mean  \\\n",
       "88              STIMULATION_USED TOTAL_EMBRYOS_CREATED         0.148154   \n",
       "10                               TOTAL_EMBRYOS_CREATED         0.117707   \n",
       "0                             PATIENT_AGE_AT_TREATMENT         0.113284   \n",
       "7                                     STIMULATION_USED         0.103790   \n",
       "12                         SPECIFIC_TREATMENT_TYPE_IVF         0.100346   \n",
       "90        STIMULATION_USED SPECIFIC_TREATMENT_TYPE_IVF         0.094895   \n",
       "26   PATIENT_AGE_AT_TREATMENT SPECIFIC_TREATMENT_TY...         0.066196   \n",
       "21           PATIENT_AGE_AT_TREATMENT STIMULATION_USED         0.058560   \n",
       "14                          PATIENT_AGE_AT_TREATMENT^2         0.058237   \n",
       "1      TOTAL_NUMBER_OF_PREVIOUS_CYCLES_BOTH_IVF_AND_DI         0.049867   \n",
       "69   CAUSE_OF_INFERTILITY__MALE_FACTOR SPECIFIC_TRE...         0.049577   \n",
       "4                    CAUSE_OF_INFERTILITY__MALE_FACTOR         0.043446   \n",
       "40   TOTAL_NUMBER_OF_PREVIOUS_CYCLES_BOTH_IVF_AND_D...         0.041765   \n",
       "35   TOTAL_NUMBER_OF_PREVIOUS_CYCLES_BOTH_IVF_AND_D...         0.037906   \n",
       "64   CAUSE_OF_INFERTILITY__MALE_FACTOR STIMULATION_...         0.035453   \n",
       "104  TOTAL_EMBRYOS_CREATED SPECIFIC_TREATMENT_TYPE_IVF         0.032261   \n",
       "67   CAUSE_OF_INFERTILITY__MALE_FACTOR TOTAL_EMBRYO...         0.026943   \n",
       "60   CAUSE_OF_INFERTILITY__OVULATORY_DISORDER SPECI...         0.026586   \n",
       "82   CAUSE_OF_INFERTILITY__ENDOMETRIOSIS TOTAL_EMBR...         0.025397   \n",
       "17   PATIENT_AGE_AT_TREATMENT CAUSE_OF_INFERTILITY_...         0.022239   \n",
       "\n",
       "     importance_std  \n",
       "88         0.003189  \n",
       "10         0.004488  \n",
       "0          0.002453  \n",
       "7          0.003805  \n",
       "12         0.005296  \n",
       "90         0.004692  \n",
       "26         0.005616  \n",
       "21         0.003659  \n",
       "14         0.001219  \n",
       "1          0.005528  \n",
       "69         0.002882  \n",
       "4          0.001638  \n",
       "40         0.004479  \n",
       "35         0.004423  \n",
       "64         0.001906  \n",
       "104        0.002942  \n",
       "67         0.005084  \n",
       "60         0.003345  \n",
       "82         0.005337  \n",
       "17         0.005430  "
      ]
     },
     "metadata": {},
     "output_type": "display_data"
    }
   ],
   "source": [
    "# Squared Logistic Regression\n",
    "X_train_poly = create_poly_features(X_train_live_birth, include_list=['PATIENT_AGE_AT_TREATMENT',\n",
    "       'TOTAL_NUMBER_OF_PREVIOUS_CYCLES_BOTH_IVF_AND_DI', 'FRESH_EGGS_COLLECTED', 'TOTAL_EMBRYOS_CREATED'])\n",
    "X_test_poly = create_poly_features(X_test_live_birth, include_list=['PATIENT_AGE_AT_TREATMENT',\n",
    "       'TOTAL_NUMBER_OF_PREVIOUS_CYCLES_BOTH_IVF_AND_DI', 'FRESH_EGGS_COLLECTED', 'TOTAL_EMBRYOS_CREATED'])\n",
    "model = LogisticRegression\n",
    "metrics_list = ['accuracy', 'precision', 'recall', 'f1_score', 'auc']\n",
    "params = {'max_iter':6000, 'random_state': 42, 'class_weight': 'balanced', 'penalty':'l1', 'solver':'saga', 'C':0.1, 'n_jobs':-1}\n",
    "results_LR2 = model_pipeline(X_train_poly, y_train_live_birth, X_test_poly, y_test_live_birth, model, metrics_list, params, \n",
    "k=10, stratified=True, AIC=True, smote=False, SHAP=False, optimal_threshold=True, importances=True)"
   ]
  },
  {
   "cell_type": "code",
   "execution_count": 28,
   "metadata": {},
   "outputs": [],
   "source": [
    "results_LR2['feature_importances'].to_csv('cascade2_importances.csv', index=True)"
   ]
  },
  {
   "cell_type": "code",
   "execution_count": 21,
   "metadata": {},
   "outputs": [],
   "source": [
    "with open('probas_cascade2.txt', 'w') as f:\n",
    "    for item in results_LR2['y_test_proba']:\n",
    "        f.write(\"%s\\n\" % item)"
   ]
  },
  {
   "cell_type": "markdown",
   "metadata": {},
   "source": [
    "### Random Forest"
   ]
  },
  {
   "cell_type": "code",
   "execution_count": 23,
   "metadata": {},
   "outputs": [
    {
     "name": "stdout",
     "output_type": "stream",
     "text": [
      "Average optimal threshold = 0.42\n",
      "\n",
      "CV RESULTS\n"
     ]
    },
    {
     "data": {
      "text/html": [
       "<div>\n",
       "<style scoped>\n",
       "    .dataframe tbody tr th:only-of-type {\n",
       "        vertical-align: middle;\n",
       "    }\n",
       "\n",
       "    .dataframe tbody tr th {\n",
       "        vertical-align: top;\n",
       "    }\n",
       "\n",
       "    .dataframe thead th {\n",
       "        text-align: right;\n",
       "    }\n",
       "</style>\n",
       "<table border=\"1\" class=\"dataframe\">\n",
       "  <thead>\n",
       "    <tr style=\"text-align: right;\">\n",
       "      <th></th>\n",
       "      <th>accuracy</th>\n",
       "      <th>precision</th>\n",
       "      <th>recall</th>\n",
       "      <th>f1_score</th>\n",
       "      <th>auc</th>\n",
       "    </tr>\n",
       "  </thead>\n",
       "  <tbody>\n",
       "    <tr>\n",
       "      <th>Mean</th>\n",
       "      <td>0.593037</td>\n",
       "      <td>0.366311</td>\n",
       "      <td>0.515075</td>\n",
       "      <td>0.428013</td>\n",
       "      <td>0.654411</td>\n",
       "    </tr>\n",
       "    <tr>\n",
       "      <th>Standard Deviation</th>\n",
       "      <td>0.008322</td>\n",
       "      <td>0.008614</td>\n",
       "      <td>0.018872</td>\n",
       "      <td>0.010400</td>\n",
       "      <td>0.007514</td>\n",
       "    </tr>\n",
       "  </tbody>\n",
       "</table>\n",
       "</div>"
      ],
      "text/plain": [
       "                    accuracy  precision    recall  f1_score       auc\n",
       "Mean                0.593037   0.366311  0.515075  0.428013  0.654411\n",
       "Standard Deviation  0.008322   0.008614  0.018872  0.010400  0.007514"
      ]
     },
     "metadata": {},
     "output_type": "display_data"
    },
    {
     "name": "stdout",
     "output_type": "stream",
     "text": [
      "\n",
      "TEST RESULTS\n"
     ]
    },
    {
     "data": {
      "text/html": [
       "<div>\n",
       "<style scoped>\n",
       "    .dataframe tbody tr th:only-of-type {\n",
       "        vertical-align: middle;\n",
       "    }\n",
       "\n",
       "    .dataframe tbody tr th {\n",
       "        vertical-align: top;\n",
       "    }\n",
       "\n",
       "    .dataframe thead th {\n",
       "        text-align: right;\n",
       "    }\n",
       "</style>\n",
       "<table border=\"1\" class=\"dataframe\">\n",
       "  <thead>\n",
       "    <tr style=\"text-align: right;\">\n",
       "      <th></th>\n",
       "      <th>accuracy</th>\n",
       "      <th>precision</th>\n",
       "      <th>recall</th>\n",
       "      <th>f1_score</th>\n",
       "      <th>auc</th>\n",
       "    </tr>\n",
       "  </thead>\n",
       "  <tbody>\n",
       "    <tr>\n",
       "      <th>Value</th>\n",
       "      <td>0.563815</td>\n",
       "      <td>0.314159</td>\n",
       "      <td>0.658278</td>\n",
       "      <td>0.425332</td>\n",
       "      <td>0.574542</td>\n",
       "    </tr>\n",
       "  </tbody>\n",
       "</table>\n",
       "</div>"
      ],
      "text/plain": [
       "       accuracy  precision    recall  f1_score       auc\n",
       "Value  0.563815   0.314159  0.658278  0.425332  0.574542"
      ]
     },
     "metadata": {},
     "output_type": "display_data"
    },
    {
     "data": {
      "image/png": "[encoded data removed]",
      "text/plain": [
       "<Figure size 640x480 with 1 Axes>"
      ]
     },
     "metadata": {},
     "output_type": "display_data"
    },
    {
     "name": "stdout",
     "output_type": "stream",
     "text": [
      "\n",
      "FEATURES ANALYSIS\n"
     ]
    },
    {
     "data": {
      "text/html": [
       "<div>\n",
       "<style scoped>\n",
       "    .dataframe tbody tr th:only-of-type {\n",
       "        vertical-align: middle;\n",
       "    }\n",
       "\n",
       "    .dataframe tbody tr th {\n",
       "        vertical-align: top;\n",
       "    }\n",
       "\n",
       "    .dataframe thead th {\n",
       "        text-align: right;\n",
       "    }\n",
       "</style>\n",
       "<table border=\"1\" class=\"dataframe\">\n",
       "  <thead>\n",
       "    <tr style=\"text-align: right;\">\n",
       "      <th></th>\n",
       "      <th>feature</th>\n",
       "      <th>importance_mean</th>\n",
       "      <th>importance_std</th>\n",
       "    </tr>\n",
       "  </thead>\n",
       "  <tbody>\n",
       "    <tr>\n",
       "      <th>9</th>\n",
       "      <td>FRESH_EGGS_COLLECTED</td>\n",
       "      <td>0.339521</td>\n",
       "      <td>0.003108</td>\n",
       "    </tr>\n",
       "    <tr>\n",
       "      <th>10</th>\n",
       "      <td>TOTAL_EMBRYOS_CREATED</td>\n",
       "      <td>0.301700</td>\n",
       "      <td>0.001506</td>\n",
       "    </tr>\n",
       "    <tr>\n",
       "      <th>0</th>\n",
       "      <td>PATIENT_AGE_AT_TREATMENT</td>\n",
       "      <td>0.106471</td>\n",
       "      <td>0.001173</td>\n",
       "    </tr>\n",
       "    <tr>\n",
       "      <th>1</th>\n",
       "      <td>TOTAL_NUMBER_OF_PREVIOUS_CYCLES_BOTH_IVF_AND_DI</td>\n",
       "      <td>0.099144</td>\n",
       "      <td>0.002454</td>\n",
       "    </tr>\n",
       "    <tr>\n",
       "      <th>12</th>\n",
       "      <td>SPECIFIC_TREATMENT_TYPE_IVF</td>\n",
       "      <td>0.026250</td>\n",
       "      <td>0.000884</td>\n",
       "    </tr>\n",
       "    <tr>\n",
       "      <th>4</th>\n",
       "      <td>CAUSE_OF_INFERTILITY__MALE_FACTOR</td>\n",
       "      <td>0.023421</td>\n",
       "      <td>0.000830</td>\n",
       "    </tr>\n",
       "    <tr>\n",
       "      <th>5</th>\n",
       "      <td>CAUSE_OF_INFERTILITY__PATIENT_UNEXPLAINED</td>\n",
       "      <td>0.019993</td>\n",
       "      <td>0.000522</td>\n",
       "    </tr>\n",
       "    <tr>\n",
       "      <th>2</th>\n",
       "      <td>CAUSE__OF_INFERTILITY__TUBAL_DISEASE</td>\n",
       "      <td>0.017625</td>\n",
       "      <td>0.000607</td>\n",
       "    </tr>\n",
       "    <tr>\n",
       "      <th>3</th>\n",
       "      <td>CAUSE_OF_INFERTILITY__OVULATORY_DISORDER</td>\n",
       "      <td>0.015388</td>\n",
       "      <td>0.000794</td>\n",
       "    </tr>\n",
       "    <tr>\n",
       "      <th>13</th>\n",
       "      <td>PREVIOUS_LIVE_BIRTH_IVF_OR_DI</td>\n",
       "      <td>0.014737</td>\n",
       "      <td>0.000493</td>\n",
       "    </tr>\n",
       "    <tr>\n",
       "      <th>6</th>\n",
       "      <td>CAUSE_OF_INFERTILITY__ENDOMETRIOSIS</td>\n",
       "      <td>0.014592</td>\n",
       "      <td>0.000287</td>\n",
       "    </tr>\n",
       "    <tr>\n",
       "      <th>8</th>\n",
       "      <td>SPERM_FROM</td>\n",
       "      <td>0.013140</td>\n",
       "      <td>0.000388</td>\n",
       "    </tr>\n",
       "    <tr>\n",
       "      <th>7</th>\n",
       "      <td>STIMULATION_USED</td>\n",
       "      <td>0.005189</td>\n",
       "      <td>0.000107</td>\n",
       "    </tr>\n",
       "    <tr>\n",
       "      <th>11</th>\n",
       "      <td>SCREENING</td>\n",
       "      <td>0.002829</td>\n",
       "      <td>0.000147</td>\n",
       "    </tr>\n",
       "  </tbody>\n",
       "</table>\n",
       "</div>"
      ],
      "text/plain": [
       "                                            feature  importance_mean  \\\n",
       "9                              FRESH_EGGS_COLLECTED         0.339521   \n",
       "10                            TOTAL_EMBRYOS_CREATED         0.301700   \n",
       "0                          PATIENT_AGE_AT_TREATMENT         0.106471   \n",
       "1   TOTAL_NUMBER_OF_PREVIOUS_CYCLES_BOTH_IVF_AND_DI         0.099144   \n",
       "12                      SPECIFIC_TREATMENT_TYPE_IVF         0.026250   \n",
       "4                 CAUSE_OF_INFERTILITY__MALE_FACTOR         0.023421   \n",
       "5         CAUSE_OF_INFERTILITY__PATIENT_UNEXPLAINED         0.019993   \n",
       "2              CAUSE__OF_INFERTILITY__TUBAL_DISEASE         0.017625   \n",
       "3          CAUSE_OF_INFERTILITY__OVULATORY_DISORDER         0.015388   \n",
       "13                    PREVIOUS_LIVE_BIRTH_IVF_OR_DI         0.014737   \n",
       "6               CAUSE_OF_INFERTILITY__ENDOMETRIOSIS         0.014592   \n",
       "8                                        SPERM_FROM         0.013140   \n",
       "7                                  STIMULATION_USED         0.005189   \n",
       "11                                        SCREENING         0.002829   \n",
       "\n",
       "    importance_std  \n",
       "9         0.003108  \n",
       "10        0.001506  \n",
       "0         0.001173  \n",
       "1         0.002454  \n",
       "12        0.000884  \n",
       "4         0.000830  \n",
       "5         0.000522  \n",
       "2         0.000607  \n",
       "3         0.000794  \n",
       "13        0.000493  \n",
       "6         0.000287  \n",
       "8         0.000388  \n",
       "7         0.000107  \n",
       "11        0.000147  "
      ]
     },
     "metadata": {},
     "output_type": "display_data"
    }
   ],
   "source": [
    "# Random Forest\n",
    "model = RandomForestClassifier\n",
    "metrics_list = ['accuracy', 'precision', 'recall', 'f1_score', 'auc']\n",
    "params = {'random_state': 42, 'class_weight': 'balanced', 'n_estimators': 100}\n",
    "results_RF = model_pipeline(X_train_live_birth, y_train_live_birth, X_test_live_birth, y_test_live_birth, model, metrics_list, params, \n",
    "k=10, stratified=True, AIC=False, smote=False, SHAP=False, optimal_threshold=True, importances=True)"
   ]
  },
  {
   "cell_type": "markdown",
   "metadata": {},
   "source": [
    "### XGBoost"
   ]
  },
  {
   "cell_type": "code",
   "execution_count": 42,
   "metadata": {},
   "outputs": [
    {
     "name": "stdout",
     "output_type": "stream",
     "text": [
      "Average optimal threshold = 0.52\n",
      "\n",
      "CV RESULTS\n"
     ]
    },
    {
     "data": {
      "text/html": [
       "<div>\n",
       "<style scoped>\n",
       "    .dataframe tbody tr th:only-of-type {\n",
       "        vertical-align: middle;\n",
       "    }\n",
       "\n",
       "    .dataframe tbody tr th {\n",
       "        vertical-align: top;\n",
       "    }\n",
       "\n",
       "    .dataframe thead th {\n",
       "        text-align: right;\n",
       "    }\n",
       "</style>\n",
       "<table border=\"1\" class=\"dataframe\">\n",
       "  <thead>\n",
       "    <tr style=\"text-align: right;\">\n",
       "      <th></th>\n",
       "      <th>accuracy</th>\n",
       "      <th>precision</th>\n",
       "      <th>recall</th>\n",
       "      <th>f1_score</th>\n",
       "      <th>auc</th>\n",
       "    </tr>\n",
       "  </thead>\n",
       "  <tbody>\n",
       "    <tr>\n",
       "      <th>Mean</th>\n",
       "      <td>0.653212</td>\n",
       "      <td>0.392445</td>\n",
       "      <td>0.716684</td>\n",
       "      <td>0.506817</td>\n",
       "      <td>0.703116</td>\n",
       "    </tr>\n",
       "    <tr>\n",
       "      <th>Standard Deviation</th>\n",
       "      <td>0.003399</td>\n",
       "      <td>0.008035</td>\n",
       "      <td>0.026250</td>\n",
       "      <td>0.003310</td>\n",
       "      <td>0.007692</td>\n",
       "    </tr>\n",
       "  </tbody>\n",
       "</table>\n",
       "</div>"
      ],
      "text/plain": [
       "                    accuracy  precision    recall  f1_score       auc\n",
       "Mean                0.653212   0.392445  0.716684  0.506817  0.703116\n",
       "Standard Deviation  0.003399   0.008035  0.026250  0.003310  0.007692"
      ]
     },
     "metadata": {},
     "output_type": "display_data"
    },
    {
     "name": "stdout",
     "output_type": "stream",
     "text": [
      "\n",
      "TEST RESULTS\n"
     ]
    },
    {
     "data": {
      "text/html": [
       "<div>\n",
       "<style scoped>\n",
       "    .dataframe tbody tr th:only-of-type {\n",
       "        vertical-align: middle;\n",
       "    }\n",
       "\n",
       "    .dataframe tbody tr th {\n",
       "        vertical-align: top;\n",
       "    }\n",
       "\n",
       "    .dataframe thead th {\n",
       "        text-align: right;\n",
       "    }\n",
       "</style>\n",
       "<table border=\"1\" class=\"dataframe\">\n",
       "  <thead>\n",
       "    <tr style=\"text-align: right;\">\n",
       "      <th></th>\n",
       "      <th>accuracy</th>\n",
       "      <th>precision</th>\n",
       "      <th>recall</th>\n",
       "      <th>f1_score</th>\n",
       "      <th>auc</th>\n",
       "    </tr>\n",
       "  </thead>\n",
       "  <tbody>\n",
       "    <tr>\n",
       "      <th>Value</th>\n",
       "      <td>0.609176</td>\n",
       "      <td>0.336999</td>\n",
       "      <td>0.798234</td>\n",
       "      <td>0.473919</td>\n",
       "      <td>0.62604</td>\n",
       "    </tr>\n",
       "  </tbody>\n",
       "</table>\n",
       "</div>"
      ],
      "text/plain": [
       "       accuracy  precision    recall  f1_score      auc\n",
       "Value  0.609176   0.336999  0.798234  0.473919  0.62604"
      ]
     },
     "metadata": {},
     "output_type": "display_data"
    },
    {
     "data": {
      "image/png": "[encoded data removed]",
      "text/plain": [
       "<Figure size 640x480 with 1 Axes>"
      ]
     },
     "metadata": {},
     "output_type": "display_data"
    },
    {
     "name": "stdout",
     "output_type": "stream",
     "text": [
      "\n"
     ]
    }
   ],
   "source": [
    "# XGBoost\n",
    "counter = Counter(y_train_live_birth)\n",
    "estimate = counter[0] / counter[1]\n",
    "model = XGBClassifier\n",
    "metrics_list = ['accuracy', 'precision', 'recall', 'f1_score', 'auc']\n",
    "params = {'random_state': 42, 'scale_pos_weight': estimate}\n",
    "results_XGB = model_pipeline(X_train_live_birth, y_train_live_birth, X_test_live_birth, y_test_live_birth, model, metrics_list, params, \n",
    "k=10, stratified=True, AIC=False, smote=False, SHAP=False, optimal_threshold=True)"
   ]
  },
  {
   "cell_type": "markdown",
   "metadata": {},
   "source": [
    "### Multilayer Perceptron"
   ]
  },
  {
   "cell_type": "code",
   "execution_count": 43,
   "metadata": {},
   "outputs": [
    {
     "name": "stdout",
     "output_type": "stream",
     "text": [
      "Average optimal threshold = 0.265\n",
      "\n",
      "CV RESULTS\n"
     ]
    },
    {
     "data": {
      "text/html": [
       "<div>\n",
       "<style scoped>\n",
       "    .dataframe tbody tr th:only-of-type {\n",
       "        vertical-align: middle;\n",
       "    }\n",
       "\n",
       "    .dataframe tbody tr th {\n",
       "        vertical-align: top;\n",
       "    }\n",
       "\n",
       "    .dataframe thead th {\n",
       "        text-align: right;\n",
       "    }\n",
       "</style>\n",
       "<table border=\"1\" class=\"dataframe\">\n",
       "  <thead>\n",
       "    <tr style=\"text-align: right;\">\n",
       "      <th></th>\n",
       "      <th>accuracy</th>\n",
       "      <th>precision</th>\n",
       "      <th>recall</th>\n",
       "      <th>f1_score</th>\n",
       "      <th>auc</th>\n",
       "    </tr>\n",
       "  </thead>\n",
       "  <tbody>\n",
       "    <tr>\n",
       "      <th>Mean</th>\n",
       "      <td>0.660186</td>\n",
       "      <td>0.384691</td>\n",
       "      <td>0.783818</td>\n",
       "      <td>0.515755</td>\n",
       "      <td>0.711033</td>\n",
       "    </tr>\n",
       "    <tr>\n",
       "      <th>Standard Deviation</th>\n",
       "      <td>0.005417</td>\n",
       "      <td>0.007777</td>\n",
       "      <td>0.029022</td>\n",
       "      <td>0.005190</td>\n",
       "      <td>0.006506</td>\n",
       "    </tr>\n",
       "  </tbody>\n",
       "</table>\n",
       "</div>"
      ],
      "text/plain": [
       "                    accuracy  precision    recall  f1_score       auc\n",
       "Mean                0.660186   0.384691  0.783818  0.515755  0.711033\n",
       "Standard Deviation  0.005417   0.007777  0.029022  0.005190  0.006506"
      ]
     },
     "metadata": {},
     "output_type": "display_data"
    },
    {
     "name": "stdout",
     "output_type": "stream",
     "text": [
      "\n",
      "TEST RESULTS\n"
     ]
    },
    {
     "data": {
      "text/html": [
       "<div>\n",
       "<style scoped>\n",
       "    .dataframe tbody tr th:only-of-type {\n",
       "        vertical-align: middle;\n",
       "    }\n",
       "\n",
       "    .dataframe tbody tr th {\n",
       "        vertical-align: top;\n",
       "    }\n",
       "\n",
       "    .dataframe thead th {\n",
       "        text-align: right;\n",
       "    }\n",
       "</style>\n",
       "<table border=\"1\" class=\"dataframe\">\n",
       "  <thead>\n",
       "    <tr style=\"text-align: right;\">\n",
       "      <th></th>\n",
       "      <th>accuracy</th>\n",
       "      <th>precision</th>\n",
       "      <th>recall</th>\n",
       "      <th>f1_score</th>\n",
       "      <th>auc</th>\n",
       "    </tr>\n",
       "  </thead>\n",
       "  <tbody>\n",
       "    <tr>\n",
       "      <th>Value</th>\n",
       "      <td>0.603765</td>\n",
       "      <td>0.33224</td>\n",
       "      <td>0.804857</td>\n",
       "      <td>0.47033</td>\n",
       "      <td>0.627654</td>\n",
       "    </tr>\n",
       "  </tbody>\n",
       "</table>\n",
       "</div>"
      ],
      "text/plain": [
       "       accuracy  precision    recall  f1_score       auc\n",
       "Value  0.603765    0.33224  0.804857   0.47033  0.627654"
      ]
     },
     "metadata": {},
     "output_type": "display_data"
    },
    {
     "data": {
      "image/png": "[encoded data removed]",
      "text/plain": [
       "<Figure size 640x480 with 1 Axes>"
      ]
     },
     "metadata": {},
     "output_type": "display_data"
    },
    {
     "name": "stdout",
     "output_type": "stream",
     "text": [
      "\n"
     ]
    }
   ],
   "source": [
    "# Multilayer Perceptron\n",
    "model = MLPClassifier\n",
    "metrics_list = ['accuracy', 'precision', 'recall', 'f1_score', 'auc']\n",
    "params = {'random_state': 42, 'max_iter': 1000}\n",
    "results_MLP = model_pipeline(X_train_live_birth, y_train_live_birth, X_test_live_birth, y_test_live_birth, model, metrics_list, params, \n",
    "k=10, stratified=True, AIC=False, smote=False, SHAP=False, optimal_threshold=True)"
   ]
  }
 ],
 "metadata": {
  "kernelspec": {
   "display_name": "Python 3",
   "language": "python",
   "name": "python3"
  },
  "language_info": {
   "codemirror_mode": {
    "name": "ipython",
    "version": 3
   },
   "file_extension": ".py",
   "mimetype": "text/x-python",
   "name": "python",
   "nbconvert_exporter": "python",
   "pygments_lexer": "ipython3",
   "version": "3.10.7"
  },
  "orig_nbformat": 4
 },
 "nbformat": 4,
 "nbformat_minor": 2
}
